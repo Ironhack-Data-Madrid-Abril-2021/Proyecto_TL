{
 "cells": [
  {
   "cell_type": "code",
   "execution_count": 1,
   "id": "2de3e23c",
   "metadata": {},
   "outputs": [],
   "source": [
    "import pandas as pd\n",
    "import numpy as np\n",
    "import regex as re\n",
    "import datetime"
   ]
  },
  {
   "cell_type": "code",
   "execution_count": 2,
   "id": "22ac3858",
   "metadata": {},
   "outputs": [],
   "source": [
    "#readfile\n",
    "shark= pd.read_csv(\"attacks.csv\")"
   ]
  },
  {
   "cell_type": "code",
   "execution_count": 3,
   "id": "ee3a3603",
   "metadata": {
    "scrolled": true
   },
   "outputs": [
    {
     "data": {
      "text/plain": [
       "Index(['Case Number', 'Date', 'Year', 'Type', 'Country', 'Area', 'Location',\n",
       "       'Activity', 'Name', 'Sex ', 'Age', 'Injury', 'Fatal (Y/N)', 'Time',\n",
       "       'Species ', 'Investigator or Source', 'pdf', 'href formula', 'href',\n",
       "       'Case Number.1', 'Case Number.2', 'original order', 'Unnamed: 22',\n",
       "       'Unnamed: 23'],\n",
       "      dtype='object')"
      ]
     },
     "execution_count": 3,
     "metadata": {},
     "output_type": "execute_result"
    }
   ],
   "source": [
    "#check column names\n",
    "shark.columns"
   ]
  },
  {
   "cell_type": "code",
   "execution_count": 4,
   "id": "8d8e59ed",
   "metadata": {},
   "outputs": [],
   "source": [
    "shark=shark.rename(columns = {\"Case Number.1\":\"casenumberdup\",\"Case Number.1\":\"casedupl\",\"Case Number.2\":\"casedup2\",\"Unnamed: 22\":\"unnamedf\",\"Unnamed: 23\":\"unnameds\"})"
   ]
  },
  {
   "cell_type": "code",
   "execution_count": 5,
   "id": "50b85f1d",
   "metadata": {},
   "outputs": [],
   "source": [
    "#formating columnnames\n",
    "shark.columns=shark.columns.str.lstrip()\n",
    "shark.columns=shark.columns.str.rstrip()"
   ]
  },
  {
   "cell_type": "code",
   "execution_count": 6,
   "id": "9b5dc30b",
   "metadata": {},
   "outputs": [],
   "source": [
    "#formating columnnames\n",
    "shark.columns=shark.columns.str.lower()\n",
    "shark.columns=shark.columns.str.replace(\" \",\"\")\n",
    "shark.columns=shark.columns.str.split(\":\").str[0]\n",
    "shark.columns=shark.columns.str.split(\"(\").str[0]"
   ]
  },
  {
   "cell_type": "code",
   "execution_count": 7,
   "id": "848e4fd6",
   "metadata": {},
   "outputs": [
    {
     "data": {
      "text/plain": [
       "Index(['casenumber', 'date', 'year', 'type', 'country', 'area', 'location',\n",
       "       'activity', 'name', 'sex', 'age', 'injury', 'fatal', 'time', 'species',\n",
       "       'investigatororsource', 'pdf', 'hrefformula', 'href', 'casedupl',\n",
       "       'casedup2', 'originalorder', 'unnamedf', 'unnameds'],\n",
       "      dtype='object')"
      ]
     },
     "execution_count": 7,
     "metadata": {},
     "output_type": "execute_result"
    }
   ],
   "source": [
    "shark.columns"
   ]
  },
  {
   "cell_type": "code",
   "execution_count": 8,
   "id": "03785bec",
   "metadata": {},
   "outputs": [
    {
     "data": {
      "text/plain": [
       "(6312, 24)"
      ]
     },
     "execution_count": 8,
     "metadata": {},
     "output_type": "execute_result"
    }
   ],
   "source": [
    "#delete %100 duplicated rows\n",
    "shark=shark.drop_duplicates() \n",
    "shark.shape"
   ]
  },
  {
   "cell_type": "code",
   "execution_count": 9,
   "id": "c26af492",
   "metadata": {},
   "outputs": [],
   "source": [
    "#delete all rows that don’ have at least a certain number of non-NaN values:\n",
    "shark=shark.dropna(thresh=8)"
   ]
  },
  {
   "cell_type": "code",
   "execution_count": 10,
   "id": "2ff47d67",
   "metadata": {},
   "outputs": [
    {
     "data": {
      "text/plain": [
       "(6302, 24)"
      ]
     },
     "execution_count": 10,
     "metadata": {},
     "output_type": "execute_result"
    }
   ],
   "source": [
    "#check file szie\n",
    "shark.shape"
   ]
  },
  {
   "cell_type": "code",
   "execution_count": 11,
   "id": "c6468bb9",
   "metadata": {},
   "outputs": [
    {
     "data": {
      "text/plain": [
       "casenumber                 1\n",
       "date                       0\n",
       "year                       2\n",
       "type                       4\n",
       "country                   50\n",
       "area                     455\n",
       "location                 540\n",
       "activity                 544\n",
       "name                     210\n",
       "sex                      565\n",
       "age                     2831\n",
       "injury                    28\n",
       "fatal                    539\n",
       "time                    3354\n",
       "species                 2838\n",
       "investigatororsource      17\n",
       "pdf                        0\n",
       "hrefformula                1\n",
       "href                       0\n",
       "casedupl                   0\n",
       "casedup2                   0\n",
       "originalorder              0\n",
       "unnamedf                6301\n",
       "unnameds                6300\n",
       "dtype: int64"
      ]
     },
     "execution_count": 11,
     "metadata": {},
     "output_type": "execute_result"
    }
   ],
   "source": [
    "#sum of NAN for each column\n",
    "shark.isnull().sum()"
   ]
  },
  {
   "cell_type": "code",
   "execution_count": 12,
   "id": "c584db8a",
   "metadata": {},
   "outputs": [
    {
     "data": {
      "text/plain": [
       "(3417, 24)"
      ]
     },
     "execution_count": 12,
     "metadata": {},
     "output_type": "execute_result"
    }
   ],
   "source": [
    "#delete old registers, taking in to account that has only 2 empty register.\n",
    "shark = shark.drop(shark[shark[\"year\"] < 1970].index)\n",
    "shark.shape"
   ]
  },
  {
   "cell_type": "code",
   "execution_count": 13,
   "id": "b7ed436d",
   "metadata": {},
   "outputs": [
    {
     "name": "stdout",
     "output_type": "stream",
     "text": [
      "<class 'pandas.core.frame.DataFrame'>\n",
      "Int64Index: 3417 entries, 0 to 6079\n",
      "Data columns (total 24 columns):\n",
      " #   Column                Non-Null Count  Dtype  \n",
      "---  ------                --------------  -----  \n",
      " 0   casenumber            3417 non-null   object \n",
      " 1   date                  3417 non-null   object \n",
      " 2   year                  3415 non-null   float64\n",
      " 3   type                  3415 non-null   object \n",
      " 4   country               3409 non-null   object \n",
      " 5   area                  3272 non-null   object \n",
      " 6   location              3238 non-null   object \n",
      " 7   activity              3208 non-null   object \n",
      " 8   name                  3345 non-null   object \n",
      " 9   sex                   3180 non-null   object \n",
      " 10  age                   2434 non-null   object \n",
      " 11  injury                3409 non-null   object \n",
      " 12  fatal                 3160 non-null   object \n",
      " 13  time                  2135 non-null   object \n",
      " 14  species               2223 non-null   object \n",
      " 15  investigatororsource  3407 non-null   object \n",
      " 16  pdf                   3417 non-null   object \n",
      " 17  hrefformula           3416 non-null   object \n",
      " 18  href                  3417 non-null   object \n",
      " 19  casedupl              3417 non-null   object \n",
      " 20  casedup2              3417 non-null   object \n",
      " 21  originalorder         3417 non-null   float64\n",
      " 22  unnamedf              1 non-null      object \n",
      " 23  unnameds              0 non-null      object \n",
      "dtypes: float64(2), object(22)\n",
      "memory usage: 667.4+ KB\n"
     ]
    }
   ],
   "source": [
    "shark.info()"
   ]
  },
  {
   "cell_type": "code",
   "execution_count": 14,
   "id": "9c3b633f",
   "metadata": {},
   "outputs": [],
   "source": [
    "                                  #CASENUM"
   ]
  },
  {
   "cell_type": "code",
   "execution_count": 15,
   "id": "9042c3a4",
   "metadata": {},
   "outputs": [
    {
     "data": {
      "text/html": [
       "<div>\n",
       "<style scoped>\n",
       "    .dataframe tbody tr th:only-of-type {\n",
       "        vertical-align: middle;\n",
       "    }\n",
       "\n",
       "    .dataframe tbody tr th {\n",
       "        vertical-align: top;\n",
       "    }\n",
       "\n",
       "    .dataframe thead th {\n",
       "        text-align: right;\n",
       "    }\n",
       "</style>\n",
       "<table border=\"1\" class=\"dataframe\">\n",
       "  <thead>\n",
       "    <tr style=\"text-align: right;\">\n",
       "      <th></th>\n",
       "      <th>casenumber</th>\n",
       "      <th>date</th>\n",
       "      <th>year</th>\n",
       "      <th>type</th>\n",
       "      <th>country</th>\n",
       "      <th>area</th>\n",
       "      <th>location</th>\n",
       "      <th>activity</th>\n",
       "      <th>name</th>\n",
       "      <th>sex</th>\n",
       "      <th>...</th>\n",
       "      <th>species</th>\n",
       "      <th>investigatororsource</th>\n",
       "      <th>pdf</th>\n",
       "      <th>hrefformula</th>\n",
       "      <th>href</th>\n",
       "      <th>casedupl</th>\n",
       "      <th>casedup2</th>\n",
       "      <th>originalorder</th>\n",
       "      <th>unnamedf</th>\n",
       "      <th>unnameds</th>\n",
       "    </tr>\n",
       "  </thead>\n",
       "  <tbody>\n",
       "    <tr>\n",
       "      <th>523</th>\n",
       "      <td>2014.08.02</td>\n",
       "      <td>02-Aug-2014</td>\n",
       "      <td>2014.0</td>\n",
       "      <td>Unprovoked</td>\n",
       "      <td>USA</td>\n",
       "      <td>Florida</td>\n",
       "      <td>Table Beach, Brevard County</td>\n",
       "      <td>Boogie boarding</td>\n",
       "      <td>Christian Sanhueza</td>\n",
       "      <td>M</td>\n",
       "      <td>...</td>\n",
       "      <td>NaN</td>\n",
       "      <td>Florida Today, 8/2/2014</td>\n",
       "      <td>2014.08.02-Sanhueza.pdf</td>\n",
       "      <td>http://sharkattackfile.net/spreadsheets/pdf_di...</td>\n",
       "      <td>http://sharkattackfile.net/spreadsheets/pdf_di...</td>\n",
       "      <td>2014.08.02</td>\n",
       "      <td>2014.08.02</td>\n",
       "      <td>5780.0</td>\n",
       "      <td>NaN</td>\n",
       "      <td>NaN</td>\n",
       "    </tr>\n",
       "    <tr>\n",
       "      <th>616</th>\n",
       "      <td>2013.10.05</td>\n",
       "      <td>10-Oct-2013</td>\n",
       "      <td>2013.0</td>\n",
       "      <td>Unprovoked</td>\n",
       "      <td>USA</td>\n",
       "      <td>Florida</td>\n",
       "      <td>Destin, Okaloosa County</td>\n",
       "      <td>Wading</td>\n",
       "      <td>Zachary Tyke Standridge</td>\n",
       "      <td>M</td>\n",
       "      <td>...</td>\n",
       "      <td>Small bull shark</td>\n",
       "      <td>Monroe County Advocate, 10/9/2013</td>\n",
       "      <td>2013.10.05-Standridge.pdf</td>\n",
       "      <td>http://sharkattackfile.net/spreadsheets/pdf_di...</td>\n",
       "      <td>http://sharkattackfile.net/spreadsheets/pdf_di...</td>\n",
       "      <td>2013.10.05</td>\n",
       "      <td>2013.10.05</td>\n",
       "      <td>5687.0</td>\n",
       "      <td>NaN</td>\n",
       "      <td>NaN</td>\n",
       "    </tr>\n",
       "    <tr>\n",
       "      <th>747</th>\n",
       "      <td>2012.09.02.b</td>\n",
       "      <td>02-Sep-2012</td>\n",
       "      <td>2012.0</td>\n",
       "      <td>Provoked</td>\n",
       "      <td>USA</td>\n",
       "      <td>Hawaii</td>\n",
       "      <td>Spreckelsville, Maui</td>\n",
       "      <td>Spearfishing</td>\n",
       "      <td>M. Malabon</td>\n",
       "      <td>NaN</td>\n",
       "      <td>...</td>\n",
       "      <td>Tiger shark, 10' to 12'</td>\n",
       "      <td>HawaiiNow.com</td>\n",
       "      <td>2012.09.02.c-Malabon.pdf</td>\n",
       "      <td>http://sharkattackfile.net/spreadsheets/pdf_di...</td>\n",
       "      <td>http://sharkattackfile.net/spreadsheets/pdf_di...</td>\n",
       "      <td>2012.09.02.b</td>\n",
       "      <td>2012.09.02.b</td>\n",
       "      <td>5556.0</td>\n",
       "      <td>NaN</td>\n",
       "      <td>NaN</td>\n",
       "    </tr>\n",
       "    <tr>\n",
       "      <th>1064</th>\n",
       "      <td>2009.12.18</td>\n",
       "      <td>18-Dec-2009</td>\n",
       "      <td>2009.0</td>\n",
       "      <td>Invalid</td>\n",
       "      <td>SOUTH AFRICA</td>\n",
       "      <td>KwaZulu-Natal</td>\n",
       "      <td>North Beach, Durban</td>\n",
       "      <td>Surfing</td>\n",
       "      <td>Lance Morris</td>\n",
       "      <td>M</td>\n",
       "      <td>...</td>\n",
       "      <td>No shark involvement</td>\n",
       "      <td>M. Addison, C. Eckstander, GSAF</td>\n",
       "      <td>2009.12.18.b-Morris-barracuda bite.pdf</td>\n",
       "      <td>http://sharkattackfile.net/spreadsheets/pdf_di...</td>\n",
       "      <td>http://sharkattackfile.net/spreadsheets/pdf_di...</td>\n",
       "      <td>2009.12.18</td>\n",
       "      <td>2009.12.18</td>\n",
       "      <td>5239.0</td>\n",
       "      <td>NaN</td>\n",
       "      <td>NaN</td>\n",
       "    </tr>\n",
       "    <tr>\n",
       "      <th>1437</th>\n",
       "      <td>2006.09.02</td>\n",
       "      <td>02-Sep-2006</td>\n",
       "      <td>2006.0</td>\n",
       "      <td>Unprovoked</td>\n",
       "      <td>SOUTH AFRICA</td>\n",
       "      <td>Western Cape Province</td>\n",
       "      <td>Noordhoek</td>\n",
       "      <td>Surfing</td>\n",
       "      <td>Steven Harcourt-Wood</td>\n",
       "      <td>M</td>\n",
       "      <td>...</td>\n",
       "      <td>White shark, 3.5m</td>\n",
       "      <td>Cape Times, 9/3/2006</td>\n",
       "      <td>2006.09.02.a-Harcourt-Wood.pdf</td>\n",
       "      <td>http://sharkattackfile.net/spreadsheets/pdf_di...</td>\n",
       "      <td>http://sharkattackfile.net/spreadsheets/pdf_di...</td>\n",
       "      <td>2006.09.02</td>\n",
       "      <td>2006.09.02</td>\n",
       "      <td>4866.0</td>\n",
       "      <td>NaN</td>\n",
       "      <td>NaN</td>\n",
       "    </tr>\n",
       "    <tr>\n",
       "      <th>1600</th>\n",
       "      <td>2005.04.06</td>\n",
       "      <td>06-Apr-2005</td>\n",
       "      <td>2005.0</td>\n",
       "      <td>Invalid</td>\n",
       "      <td>HONDURAS</td>\n",
       "      <td>Bay Islands</td>\n",
       "      <td>Utila</td>\n",
       "      <td>SCUBA Diving</td>\n",
       "      <td>female</td>\n",
       "      <td>F</td>\n",
       "      <td>...</td>\n",
       "      <td>Shark involvement not confirmed</td>\n",
       "      <td>J. Engel, SRI &amp; S. Fox, Deep Blue</td>\n",
       "      <td>2005.04.06.b-Utila.pdf</td>\n",
       "      <td>http://sharkattackfile.net/spreadsheets/pdf_di...</td>\n",
       "      <td>http://sharkattackfile.net/spreadsheets/pdf_di...</td>\n",
       "      <td>2005.04.06</td>\n",
       "      <td>2005.04.06</td>\n",
       "      <td>4703.0</td>\n",
       "      <td>NaN</td>\n",
       "      <td>NaN</td>\n",
       "    </tr>\n",
       "    <tr>\n",
       "      <th>2635</th>\n",
       "      <td>1990.05.10</td>\n",
       "      <td>10-May-1990</td>\n",
       "      <td>1990.0</td>\n",
       "      <td>Unprovoked</td>\n",
       "      <td>AUSTRALIA</td>\n",
       "      <td>Queensland</td>\n",
       "      <td>Outer Barrier Reef near Port Douglas</td>\n",
       "      <td>Snorkeling, possibly holding a fish</td>\n",
       "      <td>German male</td>\n",
       "      <td>M</td>\n",
       "      <td>...</td>\n",
       "      <td>2 m hammerhead</td>\n",
       "      <td>Courier-Mail, 5/11/1990, p.1</td>\n",
       "      <td>1990.05.10.a-German-male.pdf</td>\n",
       "      <td>http://sharkattackfile.net/spreadsheets/pdf_di...</td>\n",
       "      <td>http://sharkattackfile.net/spreadsheets/pdf_di...</td>\n",
       "      <td>1990.05.10</td>\n",
       "      <td>1990.05.10</td>\n",
       "      <td>3668.0</td>\n",
       "      <td>NaN</td>\n",
       "      <td>NaN</td>\n",
       "    </tr>\n",
       "    <tr>\n",
       "      <th>2938</th>\n",
       "      <td>1983.06.15</td>\n",
       "      <td>15-Jun-1983</td>\n",
       "      <td>1983.0</td>\n",
       "      <td>Invalid</td>\n",
       "      <td>ITALY</td>\n",
       "      <td>Northwest Italy</td>\n",
       "      <td>Riomaggiore (Ligura)</td>\n",
       "      <td>Scuba diving</td>\n",
       "      <td>Roberto Piaviali</td>\n",
       "      <td>M</td>\n",
       "      <td>...</td>\n",
       "      <td>Questionable incident</td>\n",
       "      <td>MEDSAF</td>\n",
       "      <td>1983.06.15-Piaviali.pdf</td>\n",
       "      <td>http://sharkattackfile.net/spreadsheets/pdf_di...</td>\n",
       "      <td>http://sharkattackfile.net/spreadsheets/pdf_di...</td>\n",
       "      <td>1983.06.15</td>\n",
       "      <td>1983.06.15</td>\n",
       "      <td>3365.0</td>\n",
       "      <td>NaN</td>\n",
       "      <td>NaN</td>\n",
       "    </tr>\n",
       "    <tr>\n",
       "      <th>3063</th>\n",
       "      <td>1980.07.00</td>\n",
       "      <td>Early Jul-1980</td>\n",
       "      <td>1980.0</td>\n",
       "      <td>Unprovoked</td>\n",
       "      <td>USA</td>\n",
       "      <td>Florida</td>\n",
       "      <td>New Smyrna Beach, Volusia County</td>\n",
       "      <td>Surfing</td>\n",
       "      <td>Tom Durrance</td>\n",
       "      <td>M</td>\n",
       "      <td>...</td>\n",
       "      <td>NaN</td>\n",
       "      <td>Daytona Beach Morning Journal, 7/9/1980</td>\n",
       "      <td>1980.07.00-Durrance.pdf</td>\n",
       "      <td>http://sharkattackfile.net/spreadsheets/pdf_di...</td>\n",
       "      <td>http://sharkattackfile.net/spreadsheets/pdf_di...</td>\n",
       "      <td>1980.07.00</td>\n",
       "      <td>1980.07.00</td>\n",
       "      <td>3240.0</td>\n",
       "      <td>NaN</td>\n",
       "      <td>NaN</td>\n",
       "    </tr>\n",
       "  </tbody>\n",
       "</table>\n",
       "<p>9 rows × 24 columns</p>\n",
       "</div>"
      ],
      "text/plain": [
       "        casenumber            date    year        type       country  \\\n",
       "523     2014.08.02     02-Aug-2014  2014.0  Unprovoked           USA   \n",
       "616     2013.10.05     10-Oct-2013  2013.0  Unprovoked           USA   \n",
       "747   2012.09.02.b     02-Sep-2012  2012.0    Provoked           USA   \n",
       "1064    2009.12.18     18-Dec-2009  2009.0     Invalid  SOUTH AFRICA   \n",
       "1437    2006.09.02     02-Sep-2006  2006.0  Unprovoked  SOUTH AFRICA   \n",
       "1600    2005.04.06     06-Apr-2005  2005.0     Invalid      HONDURAS   \n",
       "2635    1990.05.10     10-May-1990  1990.0  Unprovoked     AUSTRALIA   \n",
       "2938    1983.06.15     15-Jun-1983  1983.0     Invalid         ITALY   \n",
       "3063    1980.07.00  Early Jul-1980  1980.0  Unprovoked           USA   \n",
       "\n",
       "                       area                              location  \\\n",
       "523                 Florida           Table Beach, Brevard County   \n",
       "616                 Florida               Destin, Okaloosa County   \n",
       "747                  Hawaii                  Spreckelsville, Maui   \n",
       "1064          KwaZulu-Natal                   North Beach, Durban   \n",
       "1437  Western Cape Province                             Noordhoek   \n",
       "1600            Bay Islands                                 Utila   \n",
       "2635             Queensland  Outer Barrier Reef near Port Douglas   \n",
       "2938        Northwest Italy                  Riomaggiore (Ligura)   \n",
       "3063                Florida      New Smyrna Beach, Volusia County   \n",
       "\n",
       "                                 activity                      name  sex  ...  \\\n",
       "523                       Boogie boarding        Christian Sanhueza    M  ...   \n",
       "616                                Wading  Zachary Tyke Standridge     M  ...   \n",
       "747                          Spearfishing                M. Malabon  NaN  ...   \n",
       "1064                              Surfing              Lance Morris    M  ...   \n",
       "1437                              Surfing      Steven Harcourt-Wood    M  ...   \n",
       "1600                         SCUBA Diving                    female    F  ...   \n",
       "2635  Snorkeling, possibly holding a fish               German male    M  ...   \n",
       "2938                         Scuba diving          Roberto Piaviali    M  ...   \n",
       "3063                              Surfing              Tom Durrance    M  ...   \n",
       "\n",
       "                              species  \\\n",
       "523                               NaN   \n",
       "616                  Small bull shark   \n",
       "747          Tiger shark, 10' to 12'    \n",
       "1064             No shark involvement   \n",
       "1437               White shark, 3.5m    \n",
       "1600  Shark involvement not confirmed   \n",
       "2635                   2 m hammerhead   \n",
       "2938            Questionable incident   \n",
       "3063                              NaN   \n",
       "\n",
       "                         investigatororsource  \\\n",
       "523                   Florida Today, 8/2/2014   \n",
       "616         Monroe County Advocate, 10/9/2013   \n",
       "747                             HawaiiNow.com   \n",
       "1064          M. Addison, C. Eckstander, GSAF   \n",
       "1437                     Cape Times, 9/3/2006   \n",
       "1600        J. Engel, SRI & S. Fox, Deep Blue   \n",
       "2635             Courier-Mail, 5/11/1990, p.1   \n",
       "2938                                   MEDSAF   \n",
       "3063  Daytona Beach Morning Journal, 7/9/1980   \n",
       "\n",
       "                                         pdf  \\\n",
       "523                  2014.08.02-Sanhueza.pdf   \n",
       "616                2013.10.05-Standridge.pdf   \n",
       "747                 2012.09.02.c-Malabon.pdf   \n",
       "1064  2009.12.18.b-Morris-barracuda bite.pdf   \n",
       "1437          2006.09.02.a-Harcourt-Wood.pdf   \n",
       "1600                  2005.04.06.b-Utila.pdf   \n",
       "2635            1990.05.10.a-German-male.pdf   \n",
       "2938                 1983.06.15-Piaviali.pdf   \n",
       "3063                 1980.07.00-Durrance.pdf   \n",
       "\n",
       "                                            hrefformula  \\\n",
       "523   http://sharkattackfile.net/spreadsheets/pdf_di...   \n",
       "616   http://sharkattackfile.net/spreadsheets/pdf_di...   \n",
       "747   http://sharkattackfile.net/spreadsheets/pdf_di...   \n",
       "1064  http://sharkattackfile.net/spreadsheets/pdf_di...   \n",
       "1437  http://sharkattackfile.net/spreadsheets/pdf_di...   \n",
       "1600  http://sharkattackfile.net/spreadsheets/pdf_di...   \n",
       "2635  http://sharkattackfile.net/spreadsheets/pdf_di...   \n",
       "2938  http://sharkattackfile.net/spreadsheets/pdf_di...   \n",
       "3063  http://sharkattackfile.net/spreadsheets/pdf_di...   \n",
       "\n",
       "                                                   href      casedupl  \\\n",
       "523   http://sharkattackfile.net/spreadsheets/pdf_di...    2014.08.02   \n",
       "616   http://sharkattackfile.net/spreadsheets/pdf_di...    2013.10.05   \n",
       "747   http://sharkattackfile.net/spreadsheets/pdf_di...  2012.09.02.b   \n",
       "1064  http://sharkattackfile.net/spreadsheets/pdf_di...    2009.12.18   \n",
       "1437  http://sharkattackfile.net/spreadsheets/pdf_di...    2006.09.02   \n",
       "1600  http://sharkattackfile.net/spreadsheets/pdf_di...    2005.04.06   \n",
       "2635  http://sharkattackfile.net/spreadsheets/pdf_di...    1990.05.10   \n",
       "2938  http://sharkattackfile.net/spreadsheets/pdf_di...    1983.06.15   \n",
       "3063  http://sharkattackfile.net/spreadsheets/pdf_di...    1980.07.00   \n",
       "\n",
       "          casedup2 originalorder unnamedf unnameds  \n",
       "523     2014.08.02        5780.0      NaN      NaN  \n",
       "616     2013.10.05        5687.0      NaN      NaN  \n",
       "747   2012.09.02.b        5556.0      NaN      NaN  \n",
       "1064    2009.12.18        5239.0      NaN      NaN  \n",
       "1437    2006.09.02        4866.0      NaN      NaN  \n",
       "1600    2005.04.06        4703.0      NaN      NaN  \n",
       "2635    1990.05.10        3668.0      NaN      NaN  \n",
       "2938    1983.06.15        3365.0      NaN      NaN  \n",
       "3063    1980.07.00        3240.0      NaN      NaN  \n",
       "\n",
       "[9 rows x 24 columns]"
      ]
     },
     "execution_count": 15,
     "metadata": {},
     "output_type": "execute_result"
    }
   ],
   "source": [
    "#casenum analysis,casenum should be uniquesoduplicated should need to be found/checked and deleted if necesarry.\n",
    "shark[shark.duplicated(\"casenumber\")]"
   ]
  },
  {
   "cell_type": "code",
   "execution_count": 16,
   "id": "5846b8fc",
   "metadata": {},
   "outputs": [
    {
     "data": {
      "text/html": [
       "<div>\n",
       "<style scoped>\n",
       "    .dataframe tbody tr th:only-of-type {\n",
       "        vertical-align: middle;\n",
       "    }\n",
       "\n",
       "    .dataframe tbody tr th {\n",
       "        vertical-align: top;\n",
       "    }\n",
       "\n",
       "    .dataframe thead th {\n",
       "        text-align: right;\n",
       "    }\n",
       "</style>\n",
       "<table border=\"1\" class=\"dataframe\">\n",
       "  <thead>\n",
       "    <tr style=\"text-align: right;\">\n",
       "      <th></th>\n",
       "      <th>casenumber</th>\n",
       "      <th>date</th>\n",
       "      <th>year</th>\n",
       "      <th>type</th>\n",
       "      <th>country</th>\n",
       "      <th>area</th>\n",
       "      <th>location</th>\n",
       "      <th>activity</th>\n",
       "      <th>name</th>\n",
       "      <th>sex</th>\n",
       "      <th>...</th>\n",
       "      <th>species</th>\n",
       "      <th>investigatororsource</th>\n",
       "      <th>pdf</th>\n",
       "      <th>hrefformula</th>\n",
       "      <th>href</th>\n",
       "      <th>casedupl</th>\n",
       "      <th>casedup2</th>\n",
       "      <th>originalorder</th>\n",
       "      <th>unnamedf</th>\n",
       "      <th>unnameds</th>\n",
       "    </tr>\n",
       "  </thead>\n",
       "  <tbody>\n",
       "    <tr>\n",
       "      <th>522</th>\n",
       "      <td>2014.08.02</td>\n",
       "      <td>02-Aug-2014</td>\n",
       "      <td>2014.0</td>\n",
       "      <td>Unprovoked</td>\n",
       "      <td>USA</td>\n",
       "      <td>Florida</td>\n",
       "      <td>South of Cocoa Beach, Brevard County</td>\n",
       "      <td>Surfing</td>\n",
       "      <td>male</td>\n",
       "      <td>M</td>\n",
       "      <td>...</td>\n",
       "      <td>NaN</td>\n",
       "      <td>Florida Today, 8/8/2014</td>\n",
       "      <td>2014.08.08-CocoaBeach.pdf</td>\n",
       "      <td>http://sharkattackfile.net/spreadsheets/pdf_di...</td>\n",
       "      <td>http://sharkattackfile.net/spreadsheets/pdf_di...</td>\n",
       "      <td>2014.08.02</td>\n",
       "      <td>2014.08.02</td>\n",
       "      <td>5781.0</td>\n",
       "      <td>NaN</td>\n",
       "      <td>NaN</td>\n",
       "    </tr>\n",
       "    <tr>\n",
       "      <th>523</th>\n",
       "      <td>2014.08.02</td>\n",
       "      <td>02-Aug-2014</td>\n",
       "      <td>2014.0</td>\n",
       "      <td>Unprovoked</td>\n",
       "      <td>USA</td>\n",
       "      <td>Florida</td>\n",
       "      <td>Table Beach, Brevard County</td>\n",
       "      <td>Boogie boarding</td>\n",
       "      <td>Christian Sanhueza</td>\n",
       "      <td>M</td>\n",
       "      <td>...</td>\n",
       "      <td>NaN</td>\n",
       "      <td>Florida Today, 8/2/2014</td>\n",
       "      <td>2014.08.02-Sanhueza.pdf</td>\n",
       "      <td>http://sharkattackfile.net/spreadsheets/pdf_di...</td>\n",
       "      <td>http://sharkattackfile.net/spreadsheets/pdf_di...</td>\n",
       "      <td>2014.08.02</td>\n",
       "      <td>2014.08.02</td>\n",
       "      <td>5780.0</td>\n",
       "      <td>NaN</td>\n",
       "      <td>NaN</td>\n",
       "    </tr>\n",
       "  </tbody>\n",
       "</table>\n",
       "<p>2 rows × 24 columns</p>\n",
       "</div>"
      ],
      "text/plain": [
       "     casenumber         date    year        type country     area  \\\n",
       "522  2014.08.02  02-Aug-2014  2014.0  Unprovoked     USA  Florida   \n",
       "523  2014.08.02  02-Aug-2014  2014.0  Unprovoked     USA  Florida   \n",
       "\n",
       "                                 location         activity  \\\n",
       "522  South of Cocoa Beach, Brevard County          Surfing   \n",
       "523           Table Beach, Brevard County  Boogie boarding   \n",
       "\n",
       "                   name sex  ... species     investigatororsource  \\\n",
       "522                male   M  ...     NaN  Florida Today, 8/8/2014   \n",
       "523  Christian Sanhueza   M  ...     NaN  Florida Today, 8/2/2014   \n",
       "\n",
       "                           pdf  \\\n",
       "522  2014.08.08-CocoaBeach.pdf   \n",
       "523    2014.08.02-Sanhueza.pdf   \n",
       "\n",
       "                                           hrefformula  \\\n",
       "522  http://sharkattackfile.net/spreadsheets/pdf_di...   \n",
       "523  http://sharkattackfile.net/spreadsheets/pdf_di...   \n",
       "\n",
       "                                                  href    casedupl  \\\n",
       "522  http://sharkattackfile.net/spreadsheets/pdf_di...  2014.08.02   \n",
       "523  http://sharkattackfile.net/spreadsheets/pdf_di...  2014.08.02   \n",
       "\n",
       "       casedup2 originalorder unnamedf unnameds  \n",
       "522  2014.08.02        5781.0      NaN      NaN  \n",
       "523  2014.08.02        5780.0      NaN      NaN  \n",
       "\n",
       "[2 rows x 24 columns]"
      ]
     },
     "execution_count": 16,
     "metadata": {},
     "output_type": "execute_result"
    }
   ],
   "source": [
    "shark.loc[shark[\"casenumber\"] == \"2014.08.02\"]"
   ]
  },
  {
   "cell_type": "code",
   "execution_count": 17,
   "id": "1484782c",
   "metadata": {},
   "outputs": [],
   "source": [
    "#deleting duplicated cases\n",
    "shark= shark.drop([523,616,747,1064,1437,1600,2635,2938,3063])"
   ]
  },
  {
   "cell_type": "code",
   "execution_count": 18,
   "id": "082e99ba",
   "metadata": {},
   "outputs": [
    {
     "data": {
      "text/html": [
       "<div>\n",
       "<style scoped>\n",
       "    .dataframe tbody tr th:only-of-type {\n",
       "        vertical-align: middle;\n",
       "    }\n",
       "\n",
       "    .dataframe tbody tr th {\n",
       "        vertical-align: top;\n",
       "    }\n",
       "\n",
       "    .dataframe thead th {\n",
       "        text-align: right;\n",
       "    }\n",
       "</style>\n",
       "<table border=\"1\" class=\"dataframe\">\n",
       "  <thead>\n",
       "    <tr style=\"text-align: right;\">\n",
       "      <th></th>\n",
       "      <th>casenumber</th>\n",
       "      <th>date</th>\n",
       "      <th>year</th>\n",
       "      <th>type</th>\n",
       "      <th>country</th>\n",
       "      <th>area</th>\n",
       "      <th>location</th>\n",
       "      <th>activity</th>\n",
       "      <th>name</th>\n",
       "      <th>sex</th>\n",
       "      <th>...</th>\n",
       "      <th>species</th>\n",
       "      <th>investigatororsource</th>\n",
       "      <th>pdf</th>\n",
       "      <th>hrefformula</th>\n",
       "      <th>href</th>\n",
       "      <th>casedupl</th>\n",
       "      <th>casedup2</th>\n",
       "      <th>originalorder</th>\n",
       "      <th>unnamedf</th>\n",
       "      <th>unnameds</th>\n",
       "    </tr>\n",
       "  </thead>\n",
       "  <tbody>\n",
       "    <tr>\n",
       "      <th>522</th>\n",
       "      <td>2014.08.02</td>\n",
       "      <td>02-Aug-2014</td>\n",
       "      <td>2014.0</td>\n",
       "      <td>Unprovoked</td>\n",
       "      <td>USA</td>\n",
       "      <td>Florida</td>\n",
       "      <td>South of Cocoa Beach, Brevard County</td>\n",
       "      <td>Surfing</td>\n",
       "      <td>male</td>\n",
       "      <td>M</td>\n",
       "      <td>...</td>\n",
       "      <td>NaN</td>\n",
       "      <td>Florida Today, 8/8/2014</td>\n",
       "      <td>2014.08.08-CocoaBeach.pdf</td>\n",
       "      <td>http://sharkattackfile.net/spreadsheets/pdf_di...</td>\n",
       "      <td>http://sharkattackfile.net/spreadsheets/pdf_di...</td>\n",
       "      <td>2014.08.02</td>\n",
       "      <td>2014.08.02</td>\n",
       "      <td>5781.0</td>\n",
       "      <td>NaN</td>\n",
       "      <td>NaN</td>\n",
       "    </tr>\n",
       "  </tbody>\n",
       "</table>\n",
       "<p>1 rows × 24 columns</p>\n",
       "</div>"
      ],
      "text/plain": [
       "     casenumber         date    year        type country     area  \\\n",
       "522  2014.08.02  02-Aug-2014  2014.0  Unprovoked     USA  Florida   \n",
       "\n",
       "                                 location activity  name sex  ... species  \\\n",
       "522  South of Cocoa Beach, Brevard County  Surfing  male   M  ...     NaN   \n",
       "\n",
       "        investigatororsource                        pdf  \\\n",
       "522  Florida Today, 8/8/2014  2014.08.08-CocoaBeach.pdf   \n",
       "\n",
       "                                           hrefformula  \\\n",
       "522  http://sharkattackfile.net/spreadsheets/pdf_di...   \n",
       "\n",
       "                                                  href    casedupl  \\\n",
       "522  http://sharkattackfile.net/spreadsheets/pdf_di...  2014.08.02   \n",
       "\n",
       "       casedup2 originalorder unnamedf unnameds  \n",
       "522  2014.08.02        5781.0      NaN      NaN  \n",
       "\n",
       "[1 rows x 24 columns]"
      ]
     },
     "execution_count": 18,
     "metadata": {},
     "output_type": "execute_result"
    }
   ],
   "source": [
    "#checking if no cuplicated\n",
    "shark.loc[shark[\"casenumber\"] == \"2014.08.02\"]"
   ]
  },
  {
   "cell_type": "code",
   "execution_count": 19,
   "id": "ff98ef9b",
   "metadata": {},
   "outputs": [
    {
     "data": {
      "text/plain": [
       "(3408, 24)"
      ]
     },
     "execution_count": 19,
     "metadata": {},
     "output_type": "execute_result"
    }
   ],
   "source": [
    "shark.shape"
   ]
  },
  {
   "cell_type": "code",
   "execution_count": 20,
   "id": "d75b1ff6",
   "metadata": {},
   "outputs": [],
   "source": [
    "                                   #YEAR"
   ]
  },
  {
   "cell_type": "code",
   "execution_count": 21,
   "id": "7971d01a",
   "metadata": {},
   "outputs": [],
   "source": [
    "#yearcolumn cleaning, changing format from object to year\n",
    "shark[\"year\"]=pd.to_datetime(shark[\"year\"], format=\"%Y\")\n",
    "shark[\"year\"] =shark[\"year\"].dt.year"
   ]
  },
  {
   "cell_type": "code",
   "execution_count": 22,
   "id": "db8266ec",
   "metadata": {},
   "outputs": [
    {
     "data": {
      "text/html": [
       "<div>\n",
       "<style scoped>\n",
       "    .dataframe tbody tr th:only-of-type {\n",
       "        vertical-align: middle;\n",
       "    }\n",
       "\n",
       "    .dataframe tbody tr th {\n",
       "        vertical-align: top;\n",
       "    }\n",
       "\n",
       "    .dataframe thead th {\n",
       "        text-align: right;\n",
       "    }\n",
       "</style>\n",
       "<table border=\"1\" class=\"dataframe\">\n",
       "  <thead>\n",
       "    <tr style=\"text-align: right;\">\n",
       "      <th></th>\n",
       "      <th>casenumber</th>\n",
       "      <th>date</th>\n",
       "      <th>year</th>\n",
       "      <th>type</th>\n",
       "      <th>country</th>\n",
       "      <th>area</th>\n",
       "      <th>location</th>\n",
       "      <th>activity</th>\n",
       "      <th>name</th>\n",
       "      <th>sex</th>\n",
       "      <th>...</th>\n",
       "      <th>species</th>\n",
       "      <th>investigatororsource</th>\n",
       "      <th>pdf</th>\n",
       "      <th>hrefformula</th>\n",
       "      <th>href</th>\n",
       "      <th>casedupl</th>\n",
       "      <th>casedup2</th>\n",
       "      <th>originalorder</th>\n",
       "      <th>unnamedf</th>\n",
       "      <th>unnameds</th>\n",
       "    </tr>\n",
       "  </thead>\n",
       "  <tbody>\n",
       "    <tr>\n",
       "      <th>187</th>\n",
       "      <td>2017.01.08.R</td>\n",
       "      <td>Reported 08-Jan-2017</td>\n",
       "      <td>NaN</td>\n",
       "      <td>Invalid</td>\n",
       "      <td>AUSTRALIA</td>\n",
       "      <td>Queensland</td>\n",
       "      <td>NaN</td>\n",
       "      <td>Spearfishing</td>\n",
       "      <td>Kerry Daniel</td>\n",
       "      <td>M</td>\n",
       "      <td>...</td>\n",
       "      <td>Bull shark</td>\n",
       "      <td>Liquid Vision 1/8/2017</td>\n",
       "      <td>2017.01.08.R-KerryDaniel.pdf</td>\n",
       "      <td>http://sharkattackfile.net/spreadsheets/pdf_di...</td>\n",
       "      <td>http://sharkattackfile.net/spreadsheets/pdf_di...</td>\n",
       "      <td>2017.01.08.R</td>\n",
       "      <td>2017.01.08.R</td>\n",
       "      <td>6116.0</td>\n",
       "      <td>NaN</td>\n",
       "      <td>NaN</td>\n",
       "    </tr>\n",
       "    <tr>\n",
       "      <th>6079</th>\n",
       "      <td>1836.08.19.R</td>\n",
       "      <td>Reported 19-Aug-1836</td>\n",
       "      <td>NaN</td>\n",
       "      <td>Unprovoked</td>\n",
       "      <td>ENGLAND</td>\n",
       "      <td>Cumberland</td>\n",
       "      <td>Whitehaven</td>\n",
       "      <td>Swimming</td>\n",
       "      <td>a boy</td>\n",
       "      <td>M</td>\n",
       "      <td>...</td>\n",
       "      <td>NaN</td>\n",
       "      <td>C. Moore, GSAF</td>\n",
       "      <td>1835.08.19.R-Whitehaven.pdf</td>\n",
       "      <td>http://sharkattackfile.net/spreadsheets/pdf_di...</td>\n",
       "      <td>http://sharkattackfile.net/spreadsheets/pdf_di...</td>\n",
       "      <td>1836.08.19.R</td>\n",
       "      <td>1836.08.19.R</td>\n",
       "      <td>224.0</td>\n",
       "      <td>NaN</td>\n",
       "      <td>NaN</td>\n",
       "    </tr>\n",
       "  </tbody>\n",
       "</table>\n",
       "<p>2 rows × 24 columns</p>\n",
       "</div>"
      ],
      "text/plain": [
       "        casenumber                  date  year        type    country  \\\n",
       "187   2017.01.08.R  Reported 08-Jan-2017   NaN     Invalid  AUSTRALIA   \n",
       "6079  1836.08.19.R  Reported 19-Aug-1836   NaN  Unprovoked    ENGLAND   \n",
       "\n",
       "            area    location      activity          name sex  ...     species  \\\n",
       "187   Queensland         NaN  Spearfishing  Kerry Daniel   M  ...  Bull shark   \n",
       "6079  Cumberland  Whitehaven      Swimming         a boy   M  ...         NaN   \n",
       "\n",
       "        investigatororsource                           pdf  \\\n",
       "187   Liquid Vision 1/8/2017  2017.01.08.R-KerryDaniel.pdf   \n",
       "6079          C. Moore, GSAF   1835.08.19.R-Whitehaven.pdf   \n",
       "\n",
       "                                            hrefformula  \\\n",
       "187   http://sharkattackfile.net/spreadsheets/pdf_di...   \n",
       "6079  http://sharkattackfile.net/spreadsheets/pdf_di...   \n",
       "\n",
       "                                                   href      casedupl  \\\n",
       "187   http://sharkattackfile.net/spreadsheets/pdf_di...  2017.01.08.R   \n",
       "6079  http://sharkattackfile.net/spreadsheets/pdf_di...  1836.08.19.R   \n",
       "\n",
       "          casedup2 originalorder unnamedf unnameds  \n",
       "187   2017.01.08.R        6116.0      NaN      NaN  \n",
       "6079  1836.08.19.R         224.0      NaN      NaN  \n",
       "\n",
       "[2 rows x 24 columns]"
      ]
     },
     "execution_count": 22,
     "metadata": {},
     "output_type": "execute_result"
    }
   ],
   "source": [
    "#deciding what value assign to nullyear\n",
    "yearnull=shark[shark['year'].isnull()]\n",
    "yearnull"
   ]
  },
  {
   "cell_type": "code",
   "execution_count": 23,
   "id": "8f5867bd",
   "metadata": {},
   "outputs": [],
   "source": [
    "#fillinf two date missing values\n",
    "shark.at[187, \"year\"]=2017\n",
    "shark.at[6079, \"year\"]=1836"
   ]
  },
  {
   "cell_type": "code",
   "execution_count": 24,
   "id": "6559976b",
   "metadata": {},
   "outputs": [
    {
     "data": {
      "text/plain": [
       "0"
      ]
     },
     "execution_count": 24,
     "metadata": {},
     "output_type": "execute_result"
    }
   ],
   "source": [
    "shark.year.isnull().sum()\n",
    "#porque no se ha guardado el valor?"
   ]
  },
  {
   "cell_type": "code",
   "execution_count": 25,
   "id": "c209f419",
   "metadata": {},
   "outputs": [
    {
     "data": {
      "text/plain": [
       "(3407, 24)"
      ]
     },
     "execution_count": 25,
     "metadata": {},
     "output_type": "execute_result"
    }
   ],
   "source": [
    "#delete old registers, taking in to account that has only 2 empty register.\n",
    "shark = shark.drop(shark[shark[\"year\"] < 1950].index)\n",
    "shark.shape"
   ]
  },
  {
   "cell_type": "code",
   "execution_count": 26,
   "id": "62d1c275",
   "metadata": {},
   "outputs": [
    {
     "data": {
      "text/plain": [
       "dtype('float64')"
      ]
     },
     "execution_count": 26,
     "metadata": {},
     "output_type": "execute_result"
    }
   ],
   "source": [
    "shark.year.dtype"
   ]
  },
  {
   "cell_type": "code",
   "execution_count": 27,
   "id": "6ec96f12",
   "metadata": {},
   "outputs": [],
   "source": [
    "                                        #DATE"
   ]
  },
  {
   "cell_type": "code",
   "execution_count": 28,
   "id": "ca4dad59",
   "metadata": {},
   "outputs": [
    {
     "name": "stderr",
     "output_type": "stream",
     "text": [
      "<ipython-input-28-5cb8c76d3560>:15: FutureWarning: The default value of regex will change from True to False in a future version.\n",
      "  shark.date=shark.date.str.replace(\"Ca.\",\"\")\n"
     ]
    }
   ],
   "source": [
    "#datecolumn cleaning\n",
    "shark.date=shark.date.str.lstrip()\n",
    "shark.date=shark.date.str.rstrip()\n",
    "shark.date=shark.date.str.replace(\"Reported\",\"\")\n",
    "shark.date=shark.date.str.replace(\"Reported \",\"\")\n",
    "shark.date=shark.date.str.replace(\"Early \",\"\")\n",
    "shark.date=shark.date.str.replace(\"Fishing\",\"\")\n",
    "shark.date=shark.date.str.replace(\"F\",\"\")\n",
    "shark.date=shark.date.str.replace(\"Summer of\",\"\") \n",
    "shark.date=shark.date.str.replace(\"Late \",\"\")\n",
    "shark.date=shark.date.str.replace(\"Fall\",\"\")\n",
    "shark.date=shark.date.str.replace(\"Winter\",\"\")\n",
    "shark.date=shark.date.str.replace(\"Summer\",\"\") \n",
    "shark.date=shark.date.str.replace(\"Early Summer\",\"\")\n",
    "shark.date=shark.date.str.replace(\"Ca.\",\"\")\n",
    "shark.date=shark.date.str.replace(\"all\",\"\")\n",
    "shark.date=shark.date.str.replace(\"-eb-\",\"-feb-\")\n",
    "shark.date=shark.date.str.replace(\"-f-feb-\",\"-feb-\")\n",
    "shark.date=shark.date.str.replace(\"-f-\",\"-feb-\")\n",
    "shark.date=shark.date.str.replace(\"0eb\",\"-feb-\")\n",
    "shark.date=shark.date.str.lstrip(\"-\")\n",
    "shark.date=shark.date.str.replace(\"--\",\"-\")\n",
    "shark.date=shark.date.str.split(\".\").str[0]"
   ]
  },
  {
   "cell_type": "code",
   "execution_count": 29,
   "id": "da16600d",
   "metadata": {},
   "outputs": [
    {
     "name": "stdout",
     "output_type": "stream",
     "text": [
      "False    3385\n",
      "True       22\n",
      "Name: date, dtype: int64\n"
     ]
    }
   ],
   "source": [
    "#changing date from string to date format and return True if its not possible\n",
    "print(pd.to_datetime(shark['date'], errors='coerce').isnull().value_counts())"
   ]
  },
  {
   "cell_type": "code",
   "execution_count": 30,
   "id": "1eab9644",
   "metadata": {},
   "outputs": [],
   "source": [
    "#checking errors\n",
    "#print(pd.to_datetime(shark['date'], errors='raise'))"
   ]
  },
  {
   "cell_type": "code",
   "execution_count": 31,
   "id": "4f892081",
   "metadata": {},
   "outputs": [],
   "source": [
    "shark[\"date\"]=shark[\"date\"].fillna(\"0\")"
   ]
  },
  {
   "cell_type": "code",
   "execution_count": 32,
   "id": "2a46d04e",
   "metadata": {},
   "outputs": [],
   "source": [
    "#change to date and ignore the errors\n",
    "shark[\"date\"]=pd.to_datetime(shark[\"date\"], errors=\"coerce\")"
   ]
  },
  {
   "cell_type": "code",
   "execution_count": 33,
   "id": "13dd3a0b",
   "metadata": {},
   "outputs": [],
   "source": [
    "#change date to month\n",
    "shark['date'] =(shark['date'].dt.month)"
   ]
  },
  {
   "cell_type": "code",
   "execution_count": 34,
   "id": "67be2cbd",
   "metadata": {},
   "outputs": [],
   "source": [
    "shark[\"date\"]=shark[\"date\"].fillna(\"0\")"
   ]
  },
  {
   "cell_type": "code",
   "execution_count": 35,
   "id": "c3ea396e",
   "metadata": {},
   "outputs": [
    {
     "data": {
      "text/html": [
       "<div>\n",
       "<style scoped>\n",
       "    .dataframe tbody tr th:only-of-type {\n",
       "        vertical-align: middle;\n",
       "    }\n",
       "\n",
       "    .dataframe tbody tr th {\n",
       "        vertical-align: top;\n",
       "    }\n",
       "\n",
       "    .dataframe thead th {\n",
       "        text-align: right;\n",
       "    }\n",
       "</style>\n",
       "<table border=\"1\" class=\"dataframe\">\n",
       "  <thead>\n",
       "    <tr style=\"text-align: right;\">\n",
       "      <th></th>\n",
       "      <th>casenumber</th>\n",
       "      <th>date</th>\n",
       "      <th>year</th>\n",
       "      <th>type</th>\n",
       "      <th>country</th>\n",
       "      <th>area</th>\n",
       "      <th>location</th>\n",
       "      <th>activity</th>\n",
       "      <th>name</th>\n",
       "      <th>sex</th>\n",
       "      <th>...</th>\n",
       "      <th>species</th>\n",
       "      <th>investigatororsource</th>\n",
       "      <th>pdf</th>\n",
       "      <th>hrefformula</th>\n",
       "      <th>href</th>\n",
       "      <th>casedupl</th>\n",
       "      <th>casedup2</th>\n",
       "      <th>originalorder</th>\n",
       "      <th>unnamedf</th>\n",
       "      <th>unnameds</th>\n",
       "    </tr>\n",
       "  </thead>\n",
       "  <tbody>\n",
       "    <tr>\n",
       "      <th>0</th>\n",
       "      <td>2018.06.25</td>\n",
       "      <td>6.0</td>\n",
       "      <td>2018.0</td>\n",
       "      <td>Boating</td>\n",
       "      <td>USA</td>\n",
       "      <td>California</td>\n",
       "      <td>Oceanside, San Diego County</td>\n",
       "      <td>Paddling</td>\n",
       "      <td>Julie Wolfe</td>\n",
       "      <td>F</td>\n",
       "      <td>...</td>\n",
       "      <td>White shark</td>\n",
       "      <td>R. Collier, GSAF</td>\n",
       "      <td>2018.06.25-Wolfe.pdf</td>\n",
       "      <td>http://sharkattackfile.net/spreadsheets/pdf_di...</td>\n",
       "      <td>http://sharkattackfile.net/spreadsheets/pdf_di...</td>\n",
       "      <td>2018.06.25</td>\n",
       "      <td>2018.06.25</td>\n",
       "      <td>6303.0</td>\n",
       "      <td>NaN</td>\n",
       "      <td>NaN</td>\n",
       "    </tr>\n",
       "    <tr>\n",
       "      <th>1</th>\n",
       "      <td>2018.06.18</td>\n",
       "      <td>6.0</td>\n",
       "      <td>2018.0</td>\n",
       "      <td>Unprovoked</td>\n",
       "      <td>USA</td>\n",
       "      <td>Georgia</td>\n",
       "      <td>St. Simon Island, Glynn County</td>\n",
       "      <td>Standing</td>\n",
       "      <td>Adyson�McNeely</td>\n",
       "      <td>F</td>\n",
       "      <td>...</td>\n",
       "      <td>NaN</td>\n",
       "      <td>K.McMurray, TrackingSharks.com</td>\n",
       "      <td>2018.06.18-McNeely.pdf</td>\n",
       "      <td>http://sharkattackfile.net/spreadsheets/pdf_di...</td>\n",
       "      <td>http://sharkattackfile.net/spreadsheets/pdf_di...</td>\n",
       "      <td>2018.06.18</td>\n",
       "      <td>2018.06.18</td>\n",
       "      <td>6302.0</td>\n",
       "      <td>NaN</td>\n",
       "      <td>NaN</td>\n",
       "    </tr>\n",
       "    <tr>\n",
       "      <th>2</th>\n",
       "      <td>2018.06.09</td>\n",
       "      <td>6.0</td>\n",
       "      <td>2018.0</td>\n",
       "      <td>Invalid</td>\n",
       "      <td>USA</td>\n",
       "      <td>Hawaii</td>\n",
       "      <td>Habush, Oahu</td>\n",
       "      <td>Surfing</td>\n",
       "      <td>John Denges</td>\n",
       "      <td>M</td>\n",
       "      <td>...</td>\n",
       "      <td>NaN</td>\n",
       "      <td>K.McMurray, TrackingSharks.com</td>\n",
       "      <td>2018.06.09-Denges.pdf</td>\n",
       "      <td>http://sharkattackfile.net/spreadsheets/pdf_di...</td>\n",
       "      <td>http://sharkattackfile.net/spreadsheets/pdf_di...</td>\n",
       "      <td>2018.06.09</td>\n",
       "      <td>2018.06.09</td>\n",
       "      <td>6301.0</td>\n",
       "      <td>NaN</td>\n",
       "      <td>NaN</td>\n",
       "    </tr>\n",
       "    <tr>\n",
       "      <th>3</th>\n",
       "      <td>2018.06.08</td>\n",
       "      <td>6.0</td>\n",
       "      <td>2018.0</td>\n",
       "      <td>Unprovoked</td>\n",
       "      <td>AUSTRALIA</td>\n",
       "      <td>New South Wales</td>\n",
       "      <td>Arrawarra Headland</td>\n",
       "      <td>Surfing</td>\n",
       "      <td>male</td>\n",
       "      <td>M</td>\n",
       "      <td>...</td>\n",
       "      <td>2 m shark</td>\n",
       "      <td>B. Myatt, GSAF</td>\n",
       "      <td>2018.06.08-Arrawarra.pdf</td>\n",
       "      <td>http://sharkattackfile.net/spreadsheets/pdf_di...</td>\n",
       "      <td>http://sharkattackfile.net/spreadsheets/pdf_di...</td>\n",
       "      <td>2018.06.08</td>\n",
       "      <td>2018.06.08</td>\n",
       "      <td>6300.0</td>\n",
       "      <td>NaN</td>\n",
       "      <td>NaN</td>\n",
       "    </tr>\n",
       "    <tr>\n",
       "      <th>4</th>\n",
       "      <td>2018.06.04</td>\n",
       "      <td>6.0</td>\n",
       "      <td>2018.0</td>\n",
       "      <td>Provoked</td>\n",
       "      <td>MEXICO</td>\n",
       "      <td>Colima</td>\n",
       "      <td>La Ticla</td>\n",
       "      <td>Free diving</td>\n",
       "      <td>Gustavo Ramos</td>\n",
       "      <td>M</td>\n",
       "      <td>...</td>\n",
       "      <td>Tiger shark, 3m</td>\n",
       "      <td>A .Kipper</td>\n",
       "      <td>2018.06.04-Ramos.pdf</td>\n",
       "      <td>http://sharkattackfile.net/spreadsheets/pdf_di...</td>\n",
       "      <td>http://sharkattackfile.net/spreadsheets/pdf_di...</td>\n",
       "      <td>2018.06.04</td>\n",
       "      <td>2018.06.04</td>\n",
       "      <td>6299.0</td>\n",
       "      <td>NaN</td>\n",
       "      <td>NaN</td>\n",
       "    </tr>\n",
       "  </tbody>\n",
       "</table>\n",
       "<p>5 rows × 24 columns</p>\n",
       "</div>"
      ],
      "text/plain": [
       "   casenumber date    year        type    country             area  \\\n",
       "0  2018.06.25  6.0  2018.0     Boating        USA       California   \n",
       "1  2018.06.18  6.0  2018.0  Unprovoked        USA          Georgia   \n",
       "2  2018.06.09  6.0  2018.0     Invalid        USA           Hawaii   \n",
       "3  2018.06.08  6.0  2018.0  Unprovoked  AUSTRALIA  New South Wales   \n",
       "4  2018.06.04  6.0  2018.0    Provoked     MEXICO           Colima   \n",
       "\n",
       "                         location     activity             name sex  ...  \\\n",
       "0     Oceanside, San Diego County     Paddling      Julie Wolfe   F  ...   \n",
       "1  St. Simon Island, Glynn County     Standing  Adyson�McNeely    F  ...   \n",
       "2                    Habush, Oahu      Surfing      John Denges   M  ...   \n",
       "3              Arrawarra Headland      Surfing             male   M  ...   \n",
       "4                        La Ticla  Free diving   Gustavo Ramos    M  ...   \n",
       "\n",
       "           species            investigatororsource                       pdf  \\\n",
       "0      White shark                R. Collier, GSAF      2018.06.25-Wolfe.pdf   \n",
       "1              NaN  K.McMurray, TrackingSharks.com    2018.06.18-McNeely.pdf   \n",
       "2              NaN  K.McMurray, TrackingSharks.com     2018.06.09-Denges.pdf   \n",
       "3        2 m shark                  B. Myatt, GSAF  2018.06.08-Arrawarra.pdf   \n",
       "4  Tiger shark, 3m                       A .Kipper      2018.06.04-Ramos.pdf   \n",
       "\n",
       "                                         hrefformula  \\\n",
       "0  http://sharkattackfile.net/spreadsheets/pdf_di...   \n",
       "1  http://sharkattackfile.net/spreadsheets/pdf_di...   \n",
       "2  http://sharkattackfile.net/spreadsheets/pdf_di...   \n",
       "3  http://sharkattackfile.net/spreadsheets/pdf_di...   \n",
       "4  http://sharkattackfile.net/spreadsheets/pdf_di...   \n",
       "\n",
       "                                                href    casedupl    casedup2  \\\n",
       "0  http://sharkattackfile.net/spreadsheets/pdf_di...  2018.06.25  2018.06.25   \n",
       "1  http://sharkattackfile.net/spreadsheets/pdf_di...  2018.06.18  2018.06.18   \n",
       "2  http://sharkattackfile.net/spreadsheets/pdf_di...  2018.06.09  2018.06.09   \n",
       "3  http://sharkattackfile.net/spreadsheets/pdf_di...  2018.06.08  2018.06.08   \n",
       "4  http://sharkattackfile.net/spreadsheets/pdf_di...  2018.06.04  2018.06.04   \n",
       "\n",
       "  originalorder unnamedf unnameds  \n",
       "0        6303.0      NaN      NaN  \n",
       "1        6302.0      NaN      NaN  \n",
       "2        6301.0      NaN      NaN  \n",
       "3        6300.0      NaN      NaN  \n",
       "4        6299.0      NaN      NaN  \n",
       "\n",
       "[5 rows x 24 columns]"
      ]
     },
     "execution_count": 35,
     "metadata": {},
     "output_type": "execute_result"
    }
   ],
   "source": [
    "shark.head()"
   ]
  },
  {
   "cell_type": "code",
   "execution_count": 36,
   "id": "e1db8f50",
   "metadata": {},
   "outputs": [],
   "source": [
    "                                #TYPE"
   ]
  },
  {
   "cell_type": "code",
   "execution_count": 37,
   "id": "3da8bbd7",
   "metadata": {},
   "outputs": [
    {
     "data": {
      "text/plain": [
       "array(['Boating', 'Unprovoked', 'Invalid', 'Provoked', 'Questionable',\n",
       "       'Sea Disaster', nan, 'Boat', 'Boatomg'], dtype=object)"
      ]
     },
     "execution_count": 37,
     "metadata": {},
     "output_type": "execute_result"
    }
   ],
   "source": [
    "#type column cleaning\n",
    "shark.type.unique()"
   ]
  },
  {
   "cell_type": "code",
   "execution_count": 38,
   "id": "24978b5c",
   "metadata": {},
   "outputs": [],
   "source": [
    "#type column cleaning\n",
    "shark[\"type\"] = shark[\"type\"].fillna(0)\n",
    "shark[\"type\"]=shark[\"type\"].map({\"Boating\":\"Boating\",\"Unprovoked\":\"Unprovoked\",\"Invalid\":\"Questionable\", \"Provoked\":\"Provoked\", \"Questionable\":\"Questionable\",\n",
    "                                 \"Sea Disaster\":\"Sea\",0:\"Questionable\" ,None:\"Questionable\",\"Boat\":\"Boating\",\"Boatomg\":\"Boating\"})"
   ]
  },
  {
   "cell_type": "code",
   "execution_count": 39,
   "id": "e0e67ef8",
   "metadata": {},
   "outputs": [
    {
     "data": {
      "text/plain": [
       "array(['Boating', 'Unprovoked', 'Questionable', 'Provoked', 'Sea'],\n",
       "      dtype=object)"
      ]
     },
     "execution_count": 39,
     "metadata": {},
     "output_type": "execute_result"
    }
   ],
   "source": [
    "shark.type.unique()"
   ]
  },
  {
   "cell_type": "code",
   "execution_count": 40,
   "id": "2b76d453",
   "metadata": {},
   "outputs": [],
   "source": [
    "                        #COUNTRY"
   ]
  },
  {
   "cell_type": "code",
   "execution_count": 41,
   "id": "062d6655",
   "metadata": {},
   "outputs": [
    {
     "name": "stderr",
     "output_type": "stream",
     "text": [
      "<ipython-input-41-ea839afce53e>:5: FutureWarning: The default value of regex will change from True to False in a future version. In addition, single character regular expressions will*not* be treated as literal strings when regex=True.\n",
      "  shark.country=shark.country.str.replace(\"?\", \"\")\n"
     ]
    }
   ],
   "source": [
    "#cleaning country column \n",
    "shark[\"country\"] = shark[\"country\"].fillna(\"Unknown\")\n",
    "shark.country=shark.country.str.replace(\"  \", \"\")\n",
    "shark.country=shark.country.str.replace(\" \", \"\")\n",
    "shark.country=shark.country.str.replace(\"?\", \"\") "
   ]
  },
  {
   "cell_type": "code",
   "execution_count": 42,
   "id": "0615bf94",
   "metadata": {},
   "outputs": [
    {
     "data": {
      "text/plain": [
       "USA            1595\n",
       "AUSTRALIA       570\n",
       "SOUTHAFRICA     361\n",
       "BRAZIL          103\n",
       "BAHAMAS          81\n",
       "               ... \n",
       "ST.MAARTIN        1\n",
       "YEMEN             1\n",
       "BANGLADESH        1\n",
       "DIEGOGARCIA       1\n",
       "MALTA             1\n",
       "Name: country, Length: 118, dtype: int64"
      ]
     },
     "execution_count": 42,
     "metadata": {},
     "output_type": "execute_result"
    }
   ],
   "source": [
    "shark.country.value_counts()"
   ]
  },
  {
   "cell_type": "code",
   "execution_count": 43,
   "id": "5c59eda2",
   "metadata": {},
   "outputs": [],
   "source": [
    "shark[\"country\"]=shark[\"country\"].str.lower()"
   ]
  },
  {
   "cell_type": "code",
   "execution_count": 44,
   "id": "45fe4b08",
   "metadata": {},
   "outputs": [],
   "source": [
    "asia = [\"egypt/israel\",\"palestinianterritories\",\"unitedarabemirates(uae)\",\"indianocean\",\"saudiarabia\",\"persiangulf\",\"afghanistan\",\"armenia\",\"azerbaijan\",\"bahrain\",\"bangladesh\",\"bhutan\",\"brunei\",\"cambodia\",\"china\",\"cyprus\",\"georgia\",\"hongkong\",\"india\",\"indonesia\",\"iran\",\"iraq\",\"israel\",\"japan\",\"jordan\",\"kazakhstan\",\"kuwait\",\"kyrgyzstan\",\"laos\",\"lebanon\",\"malaysia\",\"maldives\",\"mongolia\",\"burma\",\"myanmar\" ,\"nepal\",\"northkorea\",\"oman\",\"pakistan\",\"palestine\",\"philippines\",\"qatar\",\"russia\",\"singapore\",\"southkorea\",\"srilanka\",\"syria\",\"taiwan\",\"tajikistan\",\"thailand\",\"timorleste\",\"turkey\",\"turkmenistan\",\"unitedarabemirates\",\"uzbekistan\",\"vietnam\",\"yemen\"]\n",
    "europe = [\"british overseas territory\",\"england\",\"united kingdom\",\"Albania\",\"andorra\",\"armenia\",\"austria\",\"azerbaijan\",\"belarus\",\"belgium\",\"bosnia and Herzegovina\",\"bulgaria\",\"croatia\",\"cyprus\",\"czechia\",\"denmark\",\"estonia\",\"finland\",\"france\",\"georgia\",\"germany\",\"greece\",\"hungary\",\"iceland\",\"ireland\",\"italy\",\"kazakhstan\",\"kosovo\",\"latvia\",\"liechtenstein\",\"lithuania\",\"luxembourg\",\"malta\",\"moldova\",\"monaco\",\"montenegro\",\"netherlands\",\"north Macedonia\",\"norway\",\"poland\",\"portugal\",\"romania\",\"russia\",\"scotland\",\"sanmartin\",\"stmaartin\",\"stmartin\",\"serbia\",\"slovakia\",\"slovenia\",\"spain\",\"sweden\",\"switzerland\",\"turkey\",\"ukraine\",\"unitedkingdom\"]\n",
    "africa = [\"tunisia\",\"algeria\",\"angola\",\"benin\",\"botswana\",\"burkinafaso\",\"burundi\",\"capeverde\",\"cameroon\",\"centralafricanrepublicchad\",\"comoros\",\"democratic republic of the congo\",\"republic of the congo\",\"djibouti\",\"egypt\",\"equatorial guinea\",\"ethiopia\",\"gabon\",\"gambia\",\"ghana\",\"guinea\",\"guinea-Bissau\",\"kenya\",\"ivory coast\",\"lenya\",\"lesotho\",\"liberia\",\"libya\",\"madagascar\",\"malawi\",\"mali\",\"mauritania\",\"mauritius\",\"morocco\",\"mozambique\",\"namibia\",\"niger\",\"nigeria\",\"rwanda\",\"saotomeandprincipe\",\"senegal\",\"seychelles\",\"sierraleone\",\"somalia\",\"southafrica\",\"southsudan\",\"sudan\",\"tanzania\",\"togo\",\"yunisia\",\"uganda\",\"zambia\",\"zimbabwe\"]\n",
    "northamerica=[\"guam\",\"antiguaandbarbuda\",\"bahamas\",\"barbados\",\"bermuda\",\"belize\",\"canada\",\"costarica\",\"cuba\",\"dominica\",\"dominicanrepublic\",\"elsalvador\",\"grenada\",\"guatemala\",\"haiti\",\"honduras\",\"jamaica\",\"mexico\",\"nicaragua\",\"panama\",\"puertorico\",\"saintkittsandnevis\",\"saintlucia\",\"saintvincentandthegrenadines\",\"trinidadandtobago\",\"Unitedstatesofamerica\",\"usa\"]\n",
    "southamercia=[\"columbia\",\"brazil\",\"brasil\",\"argentina\" ,\"bolivia\",\"chile\", \"colombia\",\"ecuador\",\"falkland island\",\"french guiana\",\"guyana\" ,\"paraguay\",\"peru\",\"south georgiaandthesouthsandwichislands\",\"suriname\",\"uruguay\",\"venezuela\"]\n",
    "oceania =[\"newguinea\",\"australia\",\"fiji\",\"newzealand\", \"federatedstatesofmicronesia\",\"kiribati\",\"marshallislands\", \"nauru\",\"palau\",\"papuanewguinea\",\"samoa\",\"solomonislands\" ,\"tonga\",\"tuvalu\" ,\"vanuatu\",\"newcaledonia\"]\n",
    "atlanticocean=[\"andaman\",\"nevis\",\"aruba\",\"martinique\",\"britishwestindies\",\"netherlandsantilles\",\"trinidad&tobago\",\"sthelena,britishoverseasterritory\",\"caymanislands\",\"northernarabiansea\",\"azores\",\"caribbeansea\",\"turks&caicos\",\"atlanticocean\",\"northatlanticocean\",\"midatlanticocean\",\"southatlanticocean\",\"britishvirginislands\",\"britishisles\"]\n",
    "pacificocean=[\"admiraltyislands\",\"westernsamoa\",\"admiraltyislands \",\"johnstonisland\",\"americansamoa\",\"southpacificocean\",\"pacificocean\",\"northpacificocean\",\"frenchpolynesia\",\"newbritain\",\"micronesia\",\"okinawa\"]\n",
    "indianocean=[\"andaman\",\"mayotte\",\"southchinasea\",\"reunion\",\"redsea/indianocean\",\"indianocean\",\"maldiveislands\"]\n",
    "\n",
    "def continent(x):\n",
    "    if x in asia:\n",
    "        return \"asia\"\n",
    "    elif x in europe:\n",
    "        return \"europe\"\n",
    "    elif x in africa:\n",
    "        return \"africa\"\n",
    "    elif x in northamerica:\n",
    "        return \"northamerica\"\n",
    "    elif x in southamercia:\n",
    "        return \"southamerica\"\n",
    "    elif x in oceania:\n",
    "        return \"oceania\"\n",
    "    elif x in atlanticocean:\n",
    "        return \"atlanticocean\"\n",
    "    elif x in pacificocean:\n",
    "        return \"pacificocean\"\n",
    "    elif x in indianocean:\n",
    "        return \"indianocean\"\n",
    "    else:\n",
    "        return \"unknown\""
   ]
  },
  {
   "cell_type": "code",
   "execution_count": 45,
   "id": "2f3e8915",
   "metadata": {},
   "outputs": [],
   "source": [
    "#changing country values to continent to have less outputs\n",
    "shark[\"country\"] =shark[\"country\"].map(continent)"
   ]
  },
  {
   "cell_type": "code",
   "execution_count": 46,
   "id": "6cfa9ba8",
   "metadata": {},
   "outputs": [
    {
     "data": {
      "text/plain": [
       "northamerica     1759\n",
       "oceania           746\n",
       "africa            450\n",
       "asia              127\n",
       "southamerica      127\n",
       "europe             75\n",
       "indianocean        57\n",
       "pacificocean       27\n",
       "atlanticocean      25\n",
       "unknown            14\n",
       "Name: country, dtype: int64"
      ]
     },
     "execution_count": 46,
     "metadata": {},
     "output_type": "execute_result"
    }
   ],
   "source": [
    "shark.country.value_counts()"
   ]
  },
  {
   "cell_type": "code",
   "execution_count": 47,
   "id": "556bca6c",
   "metadata": {},
   "outputs": [],
   "source": [
    "#area and location activity name cleaning\n",
    "shark[\"area\"] = shark[\"area\"].fillna(\"Unknown\")\n",
    "shark[\"location\"] = shark[\"location\"].fillna(\"Unknown\")\n",
    "shark[\"activity\"] = shark[\"activity\"].fillna(\"Notreported\")\n",
    "shark[\"name\"] = shark[\"name\"].fillna(\"Unknown\")"
   ]
  },
  {
   "cell_type": "code",
   "execution_count": 48,
   "id": "a44d1de3",
   "metadata": {},
   "outputs": [],
   "source": [
    "                              #SEX"
   ]
  },
  {
   "cell_type": "code",
   "execution_count": 49,
   "id": "0502d893",
   "metadata": {},
   "outputs": [
    {
     "data": {
      "text/plain": [
       "array(['F', 'M', nan, 'M ', 'lli'], dtype=object)"
      ]
     },
     "execution_count": 49,
     "metadata": {},
     "output_type": "execute_result"
    }
   ],
   "source": [
    "shark.sex.unique()"
   ]
  },
  {
   "cell_type": "code",
   "execution_count": 50,
   "id": "b85518eb",
   "metadata": {},
   "outputs": [
    {
     "data": {
      "text/plain": [
       "array(['Female', 'Male', 'Unknown'], dtype=object)"
      ]
     },
     "execution_count": 50,
     "metadata": {},
     "output_type": "execute_result"
    }
   ],
   "source": [
    "# Cleaning the gender Column by replacing the missing & wrong values\n",
    "shark[\"sex\"] = shark[\"sex\"].fillna(0)\n",
    "shark[\"sex\"]=shark[\"sex\"].map({\"F\":\"Female\",\"M\":\"Male\",\"M \":\"Male\",\"lli\":\"Unknown\",\"N\":\"Unknown\",\".\":\"Unknown\", None:\"Unknown\", 0:\"Unknown\"})\n",
    "shark.sex.unique()"
   ]
  },
  {
   "cell_type": "code",
   "execution_count": 51,
   "id": "79b448ad",
   "metadata": {},
   "outputs": [],
   "source": [
    "                              #AGE"
   ]
  },
  {
   "cell_type": "code",
   "execution_count": 52,
   "id": "31b123eb",
   "metadata": {},
   "outputs": [],
   "source": [
    "shark[\"age\"] = shark[\"age\"].apply(str)"
   ]
  },
  {
   "cell_type": "code",
   "execution_count": 53,
   "id": "ebe4e463",
   "metadata": {},
   "outputs": [
    {
     "name": "stderr",
     "output_type": "stream",
     "text": [
      "<ipython-input-53-7cf0913ceda1>:3: FutureWarning: The default value of regex will change from True to False in a future version. In addition, single character regular expressions will*not* be treated as literal strings when regex=True.\n",
      "  shark.age=shark.age.str.replace(\"?\",\"\")\n"
     ]
    }
   ],
   "source": [
    "shark.age=shark.age.str.lstrip()\n",
    "shark.age=shark.age.str.replace(\"s\",\"\")\n",
    "shark.age=shark.age.str.replace(\"?\",\"\")\n",
    "shark.age=shark.age.str.replace(\">\",\"\") \n",
    "shark.age=shark.age.str.split(\"or\").str[0]\n",
    "shark.age=shark.age.str.split(\"&\").str[0]\n",
    "shark.age=shark.age.str.split(\",\").str[0]\n",
    "shark.age=shark.age.str.split(\"to\").str[0]\n",
    "shark.age=shark.age.str.rstrip()"
   ]
  },
  {
   "cell_type": "code",
   "execution_count": 54,
   "id": "1a4d1f97",
   "metadata": {},
   "outputs": [],
   "source": [
    "#shark[\"age\"] = shark[\"age\"].fillna(\"0\")"
   ]
  },
  {
   "cell_type": "code",
   "execution_count": 55,
   "id": "a96c8871",
   "metadata": {},
   "outputs": [],
   "source": [
    "#function to change age to agerange\n",
    "infant =[\"infant\",\"infant\",\"1\",\"2\"]\n",
    "kid =[\"3\",\"4\",\"5\",\"6\",\"7\",\"8\",\"9\",\"10\"]\n",
    "teenager =[\"Teen\",\"Teens\",\"teen\",\"11\",\"12\",\"13\",\"14\",\"15\",\"16\",\"17\",\"18\"]\n",
    "young =[\"adult\",\"19\",\"20\",\"21\",\"22\",\"23\",\"24\",\"25\",\"26\",\"27\",\"28\",\"29\",\"30\"]\n",
    "middleage=[\"31\",\"32\",\"33\",\"34\",\"35\",\"36\",\"37\",\"38\",\"39\",\"40\",\"41\",\"42\",\"43\",\"44\",\"45\",\"46\",\"47\",\"48\",\"49\",\"50\",\"51\",\"52\",\"53\",\"54\",\"55\"]\n",
    "senior=[\"Elderly\",\"56\",\"57\",\"58\",\"59\",\"60\",\"61\",\"62\",\"63\",\"64\",\"65\",\"66\",\"67\",\"68\",\"69\",\"70\",\"71\",\"72\",\"73\",\"74\",\"75\",\"76\",\"77\",\"78\",\"80\",\"81\",\"82\",\"83\",\"84\",\"85\",\"86\",\"87\"]\n",
    "def agerange(x):\n",
    "    if x in infant:\n",
    "        return \"infant\"\n",
    "    elif x in kid:\n",
    "        return \"kid\"\n",
    "    elif x in teenager:\n",
    "        return \"teenager\"\n",
    "    elif x in young:\n",
    "        return \"young\"\n",
    "    elif x in middleage:\n",
    "        return \"middleage\"\n",
    "    elif x in senior:\n",
    "        return \"senior\" \n",
    "    else:\n",
    "        return \"unknown\""
   ]
  },
  {
   "cell_type": "code",
   "execution_count": 56,
   "id": "f4862e36",
   "metadata": {},
   "outputs": [],
   "source": [
    "#shark[\"age\"] =shark[\"age\"].map(agerange)\n",
    "shark['age'] = shark['age'].map(agerange)"
   ]
  },
  {
   "cell_type": "code",
   "execution_count": 57,
   "id": "cb91da98",
   "metadata": {},
   "outputs": [
    {
     "data": {
      "text/plain": [
       "unknown      986\n",
       "young        824\n",
       "middleage    766\n",
       "teenager     567\n",
       "senior       135\n",
       "kid          129\n",
       "Name: age, dtype: int64"
      ]
     },
     "execution_count": 57,
     "metadata": {},
     "output_type": "execute_result"
    }
   ],
   "source": [
    "#age cleaning \n",
    "shark.age.value_counts()"
   ]
  },
  {
   "cell_type": "code",
   "execution_count": 58,
   "id": "c2af453d",
   "metadata": {},
   "outputs": [
    {
     "data": {
      "text/plain": [
       "array(['senior', 'teenager', 'middleage', 'unknown', 'kid', 'young'],\n",
       "      dtype=object)"
      ]
     },
     "execution_count": 58,
     "metadata": {},
     "output_type": "execute_result"
    }
   ],
   "source": [
    "shark.age.unique()"
   ]
  },
  {
   "cell_type": "code",
   "execution_count": 59,
   "id": "fc589baa",
   "metadata": {},
   "outputs": [],
   "source": [
    "                        #FATAL"
   ]
  },
  {
   "cell_type": "code",
   "execution_count": 60,
   "id": "a3734378",
   "metadata": {},
   "outputs": [
    {
     "data": {
      "text/plain": [
       "array(['N', 'Y', nan, 'M', 'UNKNOWN', '2017'], dtype=object)"
      ]
     },
     "execution_count": 60,
     "metadata": {},
     "output_type": "execute_result"
    }
   ],
   "source": [
    "shark.fatal.unique()"
   ]
  },
  {
   "cell_type": "code",
   "execution_count": 61,
   "id": "c9bce531",
   "metadata": {},
   "outputs": [
    {
     "data": {
      "text/plain": [
       "array(['No', 'Yes', 'Unknown'], dtype=object)"
      ]
     },
     "execution_count": 61,
     "metadata": {},
     "output_type": "execute_result"
    }
   ],
   "source": [
    "shark[\"fatal\"] = shark[\"fatal\"].fillna(\"0\")\n",
    "shark[\"fatal\"]=shark[\"fatal\"].map({\"N\":\"No\",\"Y\":\"Yes\",\"M \":\"No\",\"UNKNOWN\":\"Unknown\",\"2017\":\"Unknown\",\" N'\":\"No\", \"N\" :\"No\",\"y\":\"Yes\"})\n",
    "shark[\"fatal\"] = shark[\"fatal\"].fillna(\"Unknown\")\n",
    "shark.fatal.unique()"
   ]
  },
  {
   "cell_type": "code",
   "execution_count": 62,
   "id": "10ec97b2",
   "metadata": {},
   "outputs": [],
   "source": [
    "                                  #timecolumn"
   ]
  },
  {
   "cell_type": "code",
   "execution_count": 63,
   "id": "14a7cf17",
   "metadata": {},
   "outputs": [],
   "source": [
    "shark[\"time\"] = shark[\"time\"].apply(str)"
   ]
  },
  {
   "cell_type": "code",
   "execution_count": 64,
   "id": "adbbe1dd",
   "metadata": {
    "scrolled": false
   },
   "outputs": [
    {
     "data": {
      "text/plain": [
       "nan              1275\n",
       "Afternoon         122\n",
       "11h00              92\n",
       "Morning            87\n",
       "15h00              80\n",
       "                 ... \n",
       "09h30 / 10h00       1\n",
       "10h28               1\n",
       "07h56               1\n",
       "17h01               1\n",
       "1300                1\n",
       "Name: time, Length: 309, dtype: int64"
      ]
     },
     "execution_count": 64,
     "metadata": {},
     "output_type": "execute_result"
    }
   ],
   "source": [
    "shark.time.value_counts()"
   ]
  },
  {
   "cell_type": "code",
   "execution_count": 65,
   "id": "67a66a10",
   "metadata": {},
   "outputs": [],
   "source": [
    "shark.time=shark.time.str.lstrip()\n",
    "shark.time=shark.time.str.replace(\"<\", \"\")\n",
    "shark.time=shark.time.str.replace(\"Early \", \"\")\n",
    "shark.time=shark.time.str.replace(\"Late \", \"\")\n",
    "shark.time=shark.time.str.replace(\">\", \"\")\n",
    "shark.time=shark.time.str.split(\"h\").str[0]"
   ]
  },
  {
   "cell_type": "code",
   "execution_count": 66,
   "id": "f0b22f68",
   "metadata": {},
   "outputs": [
    {
     "data": {
      "text/plain": [
       "nan                    1275\n",
       "11                      201\n",
       "14                      179\n",
       "15                      175\n",
       "16                      170\n",
       "                       ... \n",
       "2                         1\n",
       "Midnig                    1\n",
       "Morning                   1\n",
       "9                         1\n",
       "Just before sundown       1\n",
       "Name: time, Length: 75, dtype: int64"
      ]
     },
     "execution_count": 66,
     "metadata": {},
     "output_type": "execute_result"
    }
   ],
   "source": [
    "shark.time.value_counts()"
   ]
  },
  {
   "cell_type": "code",
   "execution_count": 67,
   "id": "78bc67c4",
   "metadata": {},
   "outputs": [],
   "source": [
    "#change time to part of the day\n",
    "morning =[\"1\",\"2\",\"3\",\"4\",\"5\",\"6\"\",7\",\"8\",\"9\",\"10\",\"11\",\"09\",\"Morning\",\"08\",\"07\",\"06\",\"Daytime\",\"02\",\"03\",\"04\",\"05\"]\n",
    "afternoon=[\"12\",\"13\",\"14\",\"15\",\"16\",\"17\",\"Afternoon\"]\n",
    "evening=[\"18\",\"19\",\"20\",\"evening\",\"Evening\",\"Sunset\"]\n",
    "night=[\"21\",\"22\",\"23\",\"24\",\"Nig\"]\n",
    "def partofday(hour):\n",
    "    if hour in morning:\n",
    "        return \"morning\"\n",
    "    elif hour in afternoon:\n",
    "        return \"afternoon\"\n",
    "    elif hour in evening:\n",
    "        return \"evening\"\n",
    "    elif hour in night:\n",
    "        return \"night\"\n",
    "    else:\n",
    "        return \"Unknown\""
   ]
  },
  {
   "cell_type": "code",
   "execution_count": 68,
   "id": "cd33b22c",
   "metadata": {},
   "outputs": [],
   "source": [
    "shark[\"time\"] =shark[\"time\"].map(partofday)"
   ]
  },
  {
   "cell_type": "code",
   "execution_count": 69,
   "id": "c3db6c91",
   "metadata": {},
   "outputs": [
    {
     "data": {
      "text/plain": [
       "Unknown      1382\n",
       "afternoon    1084\n",
       "morning       713\n",
       "evening       190\n",
       "night          38\n",
       "Name: time, dtype: int64"
      ]
     },
     "execution_count": 69,
     "metadata": {},
     "output_type": "execute_result"
    }
   ],
   "source": [
    "shark.time.value_counts()"
   ]
  },
  {
   "cell_type": "code",
   "execution_count": 70,
   "id": "59d55b63",
   "metadata": {},
   "outputs": [
    {
     "data": {
      "text/plain": [
       "array(['evening', 'afternoon', 'morning', 'Unknown', 'night'],\n",
       "      dtype=object)"
      ]
     },
     "execution_count": 70,
     "metadata": {},
     "output_type": "execute_result"
    }
   ],
   "source": [
    "shark.time.unique()"
   ]
  },
  {
   "cell_type": "code",
   "execution_count": 71,
   "id": "1e50c8c1",
   "metadata": {},
   "outputs": [],
   "source": [
    "                                    #SPECIES"
   ]
  },
  {
   "cell_type": "code",
   "execution_count": 72,
   "id": "9bd02e65",
   "metadata": {},
   "outputs": [
    {
     "data": {
      "text/plain": [
       "White shark                                                                                        121\n",
       "Shark involvement not confirmed                                                                     68\n",
       "Shark involvement prior to death was not confirmed                                                  56\n",
       "Tiger shark                                                                                         49\n",
       "Invalid                                                                                             43\n",
       "                                                                                                  ... \n",
       "1' to 4' shark                                                                                       1\n",
       "Blue shark, 7'                                                                                       1\n",
       "White shark, 5' to 6' juvenile                                                                       1\n",
       "White shark, 3 m [10'], species identity confirmed by witnesses & tooth pattern in leg & board       1\n",
       "Raggedtooth shark, 1.5 m                                                                             1\n",
       "Name: species, Length: 1049, dtype: int64"
      ]
     },
     "execution_count": 72,
     "metadata": {},
     "output_type": "execute_result"
    }
   ],
   "source": [
    "shark.species.value_counts()"
   ]
  },
  {
   "cell_type": "code",
   "execution_count": 73,
   "id": "17d7aadf",
   "metadata": {},
   "outputs": [],
   "source": [
    "shark[\"species\"] = shark[\"species\"].apply(str)"
   ]
  },
  {
   "cell_type": "code",
   "execution_count": 74,
   "id": "f6e14e99",
   "metadata": {},
   "outputs": [],
   "source": [
    "shark.species=shark.species.str.lstrip()\n",
    "shark.species=shark.species.str.lower()\n",
    "shark.species=shark.species.str.split(\",\").str[0]\n",
    "shark.species=shark.species.str.split(\"[\").str[0]\n",
    "shark.species=shark.species.str.split(\"?\").str[0]\n",
    "shark.species=shark.species.str.split(\"to\").str[0]\n",
    "shark.species=shark.species.str.split(\"/\").str[0]\n",
    "shark.species=shark.species.str.replace(\"possibly a \",\"\")\n",
    "shark.species=shark.species.str.rstrip()"
   ]
  },
  {
   "cell_type": "code",
   "execution_count": 75,
   "id": "310df53e",
   "metadata": {},
   "outputs": [],
   "source": [
    "#finding rows containing white shark and replace whole string with white shark\n",
    "shark.loc[shark[\"species\"].str.contains(\"white\", case=False), \"species\"] = \"white shark\""
   ]
  },
  {
   "cell_type": "code",
   "execution_count": 76,
   "id": "25f3cd3e",
   "metadata": {},
   "outputs": [],
   "source": [
    "shark.loc[shark[\"species\"].str.contains(\"involvement\", case=False), \"species\"] = \"shark involvement not confirmed\""
   ]
  },
  {
   "cell_type": "code",
   "execution_count": 77,
   "id": "2ef2b6ea",
   "metadata": {},
   "outputs": [],
   "source": [
    "shark.loc[shark[\"species\"].str.contains(\"tiger\", case=False), \"species\"] = \"tiger shark\""
   ]
  },
  {
   "cell_type": "code",
   "execution_count": 78,
   "id": "a3b2b696",
   "metadata": {},
   "outputs": [],
   "source": [
    "shark.loc[shark[\"species\"].str.contains(\"small \", case=False), \"species\"] = \"small shark\""
   ]
  },
  {
   "cell_type": "code",
   "execution_count": 79,
   "id": "d896825e",
   "metadata": {},
   "outputs": [],
   "source": [
    "shark.loc[shark[\"species\"].str.contains(\"bull\", case=False), \"species\"] = \"bull shark\""
   ]
  },
  {
   "cell_type": "code",
   "execution_count": 80,
   "id": "256f5db6",
   "metadata": {},
   "outputs": [],
   "source": [
    "shark.loc[shark[\"species\"].str.contains(\"1\", case=False), \"species\"] = \"small shark\""
   ]
  },
  {
   "cell_type": "code",
   "execution_count": 81,
   "id": "0a80c73f",
   "metadata": {},
   "outputs": [],
   "source": [
    "shark.loc[shark[\"species\"].str.contains(\"2\", case=False), \"species\"] = \"small shark\""
   ]
  },
  {
   "cell_type": "code",
   "execution_count": 82,
   "id": "c18dbee6",
   "metadata": {},
   "outputs": [],
   "source": [
    "shark.loc[shark[\"species\"].str.contains(\"3.5\", case=False), \"species\"] = \"bull shark\""
   ]
  },
  {
   "cell_type": "code",
   "execution_count": 83,
   "id": "8dbbe34f",
   "metadata": {},
   "outputs": [],
   "source": [
    "shark.loc[shark[\"species\"].str.contains(\"blue\", case=False), \"species\"] = \"blue shark\""
   ]
  },
  {
   "cell_type": "code",
   "execution_count": 84,
   "id": "e87039d8",
   "metadata": {},
   "outputs": [],
   "source": [
    "shark.loc[shark[\"species\"].str.contains(\"7\", case=False), \"species\"] = \"white shark\""
   ]
  },
  {
   "cell_type": "code",
   "execution_count": 85,
   "id": "59bdde13",
   "metadata": {},
   "outputs": [],
   "source": [
    "shark.loc[shark[\"species\"].str.contains(\"3\", case=False), \"species\"] = \"lemon shark\""
   ]
  },
  {
   "cell_type": "code",
   "execution_count": 86,
   "id": "9e3c0446",
   "metadata": {},
   "outputs": [],
   "source": [
    "shark.loc[shark[\"species\"].str.contains(\"4\", case=False), \"species\"] = \"nurse shark\""
   ]
  },
  {
   "cell_type": "code",
   "execution_count": 87,
   "id": "71dc1354",
   "metadata": {},
   "outputs": [],
   "source": [
    "shark.loc[shark[\"species\"].str.contains(\"6\", case=False), \"species\"] = \"thresher shark\""
   ]
  },
  {
   "cell_type": "code",
   "execution_count": 88,
   "id": "74157f7a",
   "metadata": {},
   "outputs": [],
   "source": [
    "shark.loc[shark[\"species\"].str.contains(\"nurse\", case=False), \"species\"] = \"nurse shark\""
   ]
  },
  {
   "cell_type": "code",
   "execution_count": 89,
   "id": "485a4db2",
   "metadata": {},
   "outputs": [],
   "source": [
    "shark.loc[shark[\"species\"].str.contains(\"dusky\", case=False), \"species\"] = \"dusky shark\""
   ]
  },
  {
   "cell_type": "code",
   "execution_count": 90,
   "id": "30f07b58",
   "metadata": {},
   "outputs": [],
   "source": [
    "shark.loc[shark[\"species\"].str.contains(\"black\", case=False), \"species\"] = \"blacktip shark\""
   ]
  },
  {
   "cell_type": "code",
   "execution_count": 91,
   "id": "096ec320",
   "metadata": {},
   "outputs": [],
   "source": [
    "shark.loc[shark[\"species\"].str.contains(\"5.5\", case=False), \"species\"] = \"megamouth shark\""
   ]
  },
  {
   "cell_type": "code",
   "execution_count": 92,
   "id": "66e43c56",
   "metadata": {},
   "outputs": [],
   "source": [
    "shark.loc[shark[\"species\"].str.contains(\"5\", case=False), \"species\"] = \"megamouth shark\""
   ]
  },
  {
   "cell_type": "code",
   "execution_count": 93,
   "id": "5d42b263",
   "metadata": {},
   "outputs": [],
   "source": [
    "shark.loc[shark[\"species\"].str.contains(\"slamon\", case=False), \"species\"] = \"slamon shark\""
   ]
  },
  {
   "cell_type": "code",
   "execution_count": 94,
   "id": "56a66969",
   "metadata": {},
   "outputs": [],
   "source": [
    "shark.loc[shark[\"species\"].str.contains(\"questionable\", case=False), \"species\"] = \"shark involvement not confirmed\""
   ]
  },
  {
   "cell_type": "code",
   "execution_count": 95,
   "id": "b8fbcc65",
   "metadata": {},
   "outputs": [],
   "source": [
    "shark[\"species\"]=shark[\"species\"].fillna(\"Unknown\")"
   ]
  },
  {
   "cell_type": "code",
   "execution_count": 96,
   "id": "593fc052",
   "metadata": {},
   "outputs": [
    {
     "data": {
      "text/plain": [
       "nan                                1191\n",
       "small shark                         402\n",
       "white shark                         369\n",
       "shark involvement not confirmed     197\n",
       "tiger shark                         194\n",
       "                                   ... \n",
       "death may have been due               1\n",
       "believed                              1\n",
       "lemon shark pup                       1\n",
       "miami                                 1\n",
       "\"dog shark\"                           1\n",
       "Name: species, Length: 103, dtype: int64"
      ]
     },
     "execution_count": 96,
     "metadata": {},
     "output_type": "execute_result"
    }
   ],
   "source": [
    "shark.species.value_counts()"
   ]
  },
  {
   "cell_type": "code",
   "execution_count": 97,
   "id": "2201ab3c",
   "metadata": {},
   "outputs": [
    {
     "data": {
      "text/plain": [
       "array(['white shark', 'nan', 'small shark', 'tiger shark', 'lemon shark',\n",
       "       'bull shark', 'grey reef shark', 'invalid incident', 'nurse shark',\n",
       "       'shark involvement not confirmed', 'thresher shark',\n",
       "       'wobbegong shark', 'blacktip shark', 'wobbegong',\n",
       "       'injury believed caused by an eel', 'galapagos shark',\n",
       "       'blue shark', 'cookiecutter shark', 'spinner shark', \"8' shark\",\n",
       "       'death may have been due', 'megamouth shark', 'porbeagle',\n",
       "       'no shark invovlement', 'seven-gill shark', \"9' shark\",\n",
       "       'no shark invovlement - it ws a publicity stunt',\n",
       "       'lemon shark pup', 'caribbean reef shark',\n",
       "       'broadnose sevengill shark', 'invalid', 'reef shark',\n",
       "       'angel shark', 'dogfish shark', 'said', 'mako shark',\n",
       "       'bronze whaler', 'silky shark', 'bronze whaler shark',\n",
       "       'hammerhead sp.', 'juvenile shark', 'hammerhead shark',\n",
       "       'hammerhead shark.', 'thought', 'ragged', 'goblin shark', \"8'\",\n",
       "       'sandbar shark', 'cow shark', 'reported', 'salmon shark',\n",
       "       'porbeagle shark', 'salmon shark suspected', 'port jackson shark',\n",
       "       'sevengill shark', 'zambesi shark', 'spurdog', '80 kg shark',\n",
       "       'dusky shark', 'starry smoothhound shark', 'basking shark',\n",
       "       'reported by media as shark attack',\n",
       "       'not a shark attack; it was a hoax', 'gray reef shark',\n",
       "       'sand shark', '', 'lesser spotted dogfish',\n",
       "       'caribbean reef sharks', 'on 8', 'unknown', '0.9 m',\n",
       "       'longfin mako shark', 'shortfin mako shark',\n",
       "       'unidentified species', \"8' great hammerhead shark\",\n",
       "       '\"sand shark\"', 'a �small� shark', 'species unidentified', '�',\n",
       "       'c. leucas', 'unidentified', 'miami', 'though', 'soupfin shark',\n",
       "       '\"juvenile shark\"', '\"a young shark\"', '\"reef shark\"',\n",
       "       '\"sand\" shark', 'leopard shark', 'unidentified shark',\n",
       "       '\"shark had a very large girth\"', 'zambezi shark (', 'doubtful',\n",
       "       'believed', 'reported as a shark attack', 'mako shark (',\n",
       "       '\"sandshark\"', '\"gray shark\"', 'c. maculpinnis or c. limbatus',\n",
       "       'whale shark', 'carpet shark', 'copper shark', '\"dog shark\"'],\n",
       "      dtype=object)"
      ]
     },
     "execution_count": 97,
     "metadata": {},
     "output_type": "execute_result"
    }
   ],
   "source": [
    "shark.species.unique()"
   ]
  },
  {
   "cell_type": "code",
   "execution_count": 98,
   "id": "a1c1a587",
   "metadata": {},
   "outputs": [
    {
     "data": {
      "text/plain": [
       "(3407, 24)"
      ]
     },
     "execution_count": 98,
     "metadata": {},
     "output_type": "execute_result"
    }
   ],
   "source": [
    "shark.shape"
   ]
  },
  {
   "cell_type": "code",
   "execution_count": 99,
   "id": "ae0909b1",
   "metadata": {},
   "outputs": [],
   "source": [
    "#filling unrelevant columns\n",
    "shark[\"injury\"] = shark[\"injury\"].fillna(\"Unknown\")\n",
    "shark[\"pdf\"] = shark[\"pdf\"].fillna(\"NotApply\")\n",
    "shark[\"hrefformula\"] = shark[\"hrefformula\"].fillna(\"0\")\n",
    "shark[\"href\"] = shark[\"href\"].fillna(\"NotApply\")\n",
    "shark[\"originalorder\"] = shark[\"originalorder\"].fillna(\"NotApply\")\n",
    "shark[\"investigatororsource\"] = shark[\"investigatororsource\"].fillna(\"investigatororsource\")\n",
    "shark[\"unnamedf\"] = shark[\"unnamedf\"].fillna(\"0\")\n",
    "shark[\"unnameds\"] = shark[\"unnameds\"].fillna(\"0\")"
   ]
  },
  {
   "cell_type": "code",
   "execution_count": 100,
   "id": "4d4d585e",
   "metadata": {},
   "outputs": [
    {
     "data": {
      "text/plain": [
       "(3407, 24)"
      ]
     },
     "execution_count": 100,
     "metadata": {},
     "output_type": "execute_result"
    }
   ],
   "source": [
    "shark.shape"
   ]
  },
  {
   "cell_type": "code",
   "execution_count": 101,
   "id": "d795372c",
   "metadata": {},
   "outputs": [
    {
     "data": {
      "text/plain": [
       "casenumber              0\n",
       "date                    0\n",
       "year                    0\n",
       "type                    0\n",
       "country                 0\n",
       "area                    0\n",
       "location                0\n",
       "activity                0\n",
       "name                    0\n",
       "sex                     0\n",
       "age                     0\n",
       "injury                  0\n",
       "fatal                   0\n",
       "time                    0\n",
       "species                 0\n",
       "investigatororsource    0\n",
       "pdf                     0\n",
       "hrefformula             0\n",
       "href                    0\n",
       "casedupl                0\n",
       "casedup2                0\n",
       "originalorder           0\n",
       "unnamedf                0\n",
       "unnameds                0\n",
       "dtype: int64"
      ]
     },
     "execution_count": 101,
     "metadata": {},
     "output_type": "execute_result"
    }
   ],
   "source": [
    "shark.isnull().sum()"
   ]
  },
  {
   "cell_type": "code",
   "execution_count": 102,
   "id": "9b38474f",
   "metadata": {},
   "outputs": [],
   "source": [
    "sharkcleaned=shark.to_csv(\"sharkcleaned.csv\")"
   ]
  },
  {
   "cell_type": "code",
   "execution_count": 103,
   "id": "614c427b",
   "metadata": {},
   "outputs": [
    {
     "name": "stdout",
     "output_type": "stream",
     "text": [
      "<class 'pandas.core.frame.DataFrame'>\n",
      "Int64Index: 3407 entries, 0 to 3888\n",
      "Data columns (total 24 columns):\n",
      " #   Column                Non-Null Count  Dtype  \n",
      "---  ------                --------------  -----  \n",
      " 0   casenumber            3407 non-null   object \n",
      " 1   date                  3407 non-null   object \n",
      " 2   year                  3407 non-null   float64\n",
      " 3   type                  3407 non-null   object \n",
      " 4   country               3407 non-null   object \n",
      " 5   area                  3407 non-null   object \n",
      " 6   location              3407 non-null   object \n",
      " 7   activity              3407 non-null   object \n",
      " 8   name                  3407 non-null   object \n",
      " 9   sex                   3407 non-null   object \n",
      " 10  age                   3407 non-null   object \n",
      " 11  injury                3407 non-null   object \n",
      " 12  fatal                 3407 non-null   object \n",
      " 13  time                  3407 non-null   object \n",
      " 14  species               3407 non-null   object \n",
      " 15  investigatororsource  3407 non-null   object \n",
      " 16  pdf                   3407 non-null   object \n",
      " 17  hrefformula           3407 non-null   object \n",
      " 18  href                  3407 non-null   object \n",
      " 19  casedupl              3407 non-null   object \n",
      " 20  casedup2              3407 non-null   object \n",
      " 21  originalorder         3407 non-null   float64\n",
      " 22  unnamedf              3407 non-null   object \n",
      " 23  unnameds              3407 non-null   object \n",
      "dtypes: float64(2), object(22)\n",
      "memory usage: 665.4+ KB\n"
     ]
    }
   ],
   "source": [
    "shark.info()"
   ]
  },
  {
   "cell_type": "code",
   "execution_count": 104,
   "id": "9679c55b",
   "metadata": {},
   "outputs": [
    {
     "data": {
      "text/plain": [
       "Index(['casenumber', 'date', 'year', 'type', 'country', 'area', 'location',\n",
       "       'activity', 'name', 'sex', 'age', 'injury', 'fatal', 'time', 'species',\n",
       "       'investigatororsource', 'pdf', 'hrefformula', 'href', 'casedupl',\n",
       "       'casedup2', 'originalorder', 'unnamedf', 'unnameds'],\n",
       "      dtype='object')"
      ]
     },
     "execution_count": 104,
     "metadata": {},
     "output_type": "execute_result"
    }
   ],
   "source": [
    "#renaming columns seems some are SQL reserved names\n",
    "shark.columns"
   ]
  },
  {
   "cell_type": "code",
   "execution_count": 105,
   "id": "bce093dc",
   "metadata": {},
   "outputs": [],
   "source": [
    "shark=shark.rename(columns={\"date\":\"months\",\"year\":\"years\", \"name\":\"persons\",\"time\":\"timerange\",\"area\":\"areas\"})"
   ]
  },
  {
   "cell_type": "code",
   "execution_count": 106,
   "id": "f465b56d",
   "metadata": {},
   "outputs": [
    {
     "data": {
      "text/plain": [
       "Index(['casenumber', 'months', 'years', 'type', 'country', 'areas', 'location',\n",
       "       'activity', 'persons', 'sex', 'age', 'injury', 'fatal', 'timerange',\n",
       "       'species', 'investigatororsource', 'pdf', 'hrefformula', 'href',\n",
       "       'casedupl', 'casedup2', 'originalorder', 'unnamedf', 'unnameds'],\n",
       "      dtype='object')"
      ]
     },
     "execution_count": 106,
     "metadata": {},
     "output_type": "execute_result"
    }
   ],
   "source": [
    "shark.columns"
   ]
  },
  {
   "cell_type": "code",
   "execution_count": 107,
   "id": "94737b71",
   "metadata": {},
   "outputs": [],
   "source": [
    "shark.to_csv(\"sharkcl.csv\")"
   ]
  },
  {
   "cell_type": "code",
   "execution_count": null,
   "id": "c85aabae",
   "metadata": {},
   "outputs": [],
   "source": []
  }
 ],
 "metadata": {
  "kernelspec": {
   "display_name": "Python 3",
   "language": "python",
   "name": "python3"
  },
  "language_info": {
   "codemirror_mode": {
    "name": "ipython",
    "version": 3
   },
   "file_extension": ".py",
   "mimetype": "text/x-python",
   "name": "python",
   "nbconvert_exporter": "python",
   "pygments_lexer": "ipython3",
   "version": "3.9.2"
  }
 },
 "nbformat": 4,
 "nbformat_minor": 5
}
