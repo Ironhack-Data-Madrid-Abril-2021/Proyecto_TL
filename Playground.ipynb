{
 "cells": [
  {
   "cell_type": "code",
   "execution_count": 1,
   "id": "applicable-wildlife",
   "metadata": {},
   "outputs": [],
   "source": [
    "import pandas as pd"
   ]
  },
  {
   "cell_type": "code",
   "execution_count": 2,
   "id": "confused-petersburg",
   "metadata": {},
   "outputs": [],
   "source": [
    "df = pd.read_csv(\"/Users/mikel/Documents/week2/Proyecto_TL/attacks.csv\", encoding = \"ISO-8859-1\")"
   ]
  },
  {
   "cell_type": "code",
   "execution_count": 3,
   "id": "multiple-detroit",
   "metadata": {},
   "outputs": [
    {
     "data": {
      "text/html": [
       "<div>\n",
       "<style scoped>\n",
       "    .dataframe tbody tr th:only-of-type {\n",
       "        vertical-align: middle;\n",
       "    }\n",
       "\n",
       "    .dataframe tbody tr th {\n",
       "        vertical-align: top;\n",
       "    }\n",
       "\n",
       "    .dataframe thead th {\n",
       "        text-align: right;\n",
       "    }\n",
       "</style>\n",
       "<table border=\"1\" class=\"dataframe\">\n",
       "  <thead>\n",
       "    <tr style=\"text-align: right;\">\n",
       "      <th></th>\n",
       "      <th>Case Number</th>\n",
       "      <th>Date</th>\n",
       "      <th>Year</th>\n",
       "      <th>Type</th>\n",
       "      <th>Country</th>\n",
       "      <th>Area</th>\n",
       "      <th>Location</th>\n",
       "      <th>Activity</th>\n",
       "      <th>Name</th>\n",
       "      <th>Sex</th>\n",
       "      <th>...</th>\n",
       "      <th>Species</th>\n",
       "      <th>Investigator or Source</th>\n",
       "      <th>pdf</th>\n",
       "      <th>href formula</th>\n",
       "      <th>href</th>\n",
       "      <th>Case Number.1</th>\n",
       "      <th>Case Number.2</th>\n",
       "      <th>original order</th>\n",
       "      <th>Unnamed: 22</th>\n",
       "      <th>Unnamed: 23</th>\n",
       "    </tr>\n",
       "  </thead>\n",
       "  <tbody>\n",
       "    <tr>\n",
       "      <th>0</th>\n",
       "      <td>2018.06.25</td>\n",
       "      <td>25-Jun-2018</td>\n",
       "      <td>2018.0</td>\n",
       "      <td>Boating</td>\n",
       "      <td>USA</td>\n",
       "      <td>California</td>\n",
       "      <td>Oceanside, San Diego County</td>\n",
       "      <td>Paddling</td>\n",
       "      <td>Julie Wolfe</td>\n",
       "      <td>F</td>\n",
       "      <td>...</td>\n",
       "      <td>White shark</td>\n",
       "      <td>R. Collier, GSAF</td>\n",
       "      <td>2018.06.25-Wolfe.pdf</td>\n",
       "      <td>http://sharkattackfile.net/spreadsheets/pdf_di...</td>\n",
       "      <td>http://sharkattackfile.net/spreadsheets/pdf_di...</td>\n",
       "      <td>2018.06.25</td>\n",
       "      <td>2018.06.25</td>\n",
       "      <td>6303.0</td>\n",
       "      <td>NaN</td>\n",
       "      <td>NaN</td>\n",
       "    </tr>\n",
       "    <tr>\n",
       "      <th>1</th>\n",
       "      <td>2018.06.18</td>\n",
       "      <td>18-Jun-2018</td>\n",
       "      <td>2018.0</td>\n",
       "      <td>Unprovoked</td>\n",
       "      <td>USA</td>\n",
       "      <td>Georgia</td>\n",
       "      <td>St. Simon Island, Glynn County</td>\n",
       "      <td>Standing</td>\n",
       "      <td>Adyson McNeely</td>\n",
       "      <td>F</td>\n",
       "      <td>...</td>\n",
       "      <td>NaN</td>\n",
       "      <td>K.McMurray, TrackingSharks.com</td>\n",
       "      <td>2018.06.18-McNeely.pdf</td>\n",
       "      <td>http://sharkattackfile.net/spreadsheets/pdf_di...</td>\n",
       "      <td>http://sharkattackfile.net/spreadsheets/pdf_di...</td>\n",
       "      <td>2018.06.18</td>\n",
       "      <td>2018.06.18</td>\n",
       "      <td>6302.0</td>\n",
       "      <td>NaN</td>\n",
       "      <td>NaN</td>\n",
       "    </tr>\n",
       "    <tr>\n",
       "      <th>2</th>\n",
       "      <td>2018.06.09</td>\n",
       "      <td>09-Jun-2018</td>\n",
       "      <td>2018.0</td>\n",
       "      <td>Invalid</td>\n",
       "      <td>USA</td>\n",
       "      <td>Hawaii</td>\n",
       "      <td>Habush, Oahu</td>\n",
       "      <td>Surfing</td>\n",
       "      <td>John Denges</td>\n",
       "      <td>M</td>\n",
       "      <td>...</td>\n",
       "      <td>NaN</td>\n",
       "      <td>K.McMurray, TrackingSharks.com</td>\n",
       "      <td>2018.06.09-Denges.pdf</td>\n",
       "      <td>http://sharkattackfile.net/spreadsheets/pdf_di...</td>\n",
       "      <td>http://sharkattackfile.net/spreadsheets/pdf_di...</td>\n",
       "      <td>2018.06.09</td>\n",
       "      <td>2018.06.09</td>\n",
       "      <td>6301.0</td>\n",
       "      <td>NaN</td>\n",
       "      <td>NaN</td>\n",
       "    </tr>\n",
       "    <tr>\n",
       "      <th>3</th>\n",
       "      <td>2018.06.08</td>\n",
       "      <td>08-Jun-2018</td>\n",
       "      <td>2018.0</td>\n",
       "      <td>Unprovoked</td>\n",
       "      <td>AUSTRALIA</td>\n",
       "      <td>New South Wales</td>\n",
       "      <td>Arrawarra Headland</td>\n",
       "      <td>Surfing</td>\n",
       "      <td>male</td>\n",
       "      <td>M</td>\n",
       "      <td>...</td>\n",
       "      <td>2 m shark</td>\n",
       "      <td>B. Myatt, GSAF</td>\n",
       "      <td>2018.06.08-Arrawarra.pdf</td>\n",
       "      <td>http://sharkattackfile.net/spreadsheets/pdf_di...</td>\n",
       "      <td>http://sharkattackfile.net/spreadsheets/pdf_di...</td>\n",
       "      <td>2018.06.08</td>\n",
       "      <td>2018.06.08</td>\n",
       "      <td>6300.0</td>\n",
       "      <td>NaN</td>\n",
       "      <td>NaN</td>\n",
       "    </tr>\n",
       "    <tr>\n",
       "      <th>4</th>\n",
       "      <td>2018.06.04</td>\n",
       "      <td>04-Jun-2018</td>\n",
       "      <td>2018.0</td>\n",
       "      <td>Provoked</td>\n",
       "      <td>MEXICO</td>\n",
       "      <td>Colima</td>\n",
       "      <td>La Ticla</td>\n",
       "      <td>Free diving</td>\n",
       "      <td>Gustavo Ramos</td>\n",
       "      <td>M</td>\n",
       "      <td>...</td>\n",
       "      <td>Tiger shark, 3m</td>\n",
       "      <td>A .Kipper</td>\n",
       "      <td>2018.06.04-Ramos.pdf</td>\n",
       "      <td>http://sharkattackfile.net/spreadsheets/pdf_di...</td>\n",
       "      <td>http://sharkattackfile.net/spreadsheets/pdf_di...</td>\n",
       "      <td>2018.06.04</td>\n",
       "      <td>2018.06.04</td>\n",
       "      <td>6299.0</td>\n",
       "      <td>NaN</td>\n",
       "      <td>NaN</td>\n",
       "    </tr>\n",
       "  </tbody>\n",
       "</table>\n",
       "<p>5 rows × 24 columns</p>\n",
       "</div>"
      ],
      "text/plain": [
       "  Case Number         Date    Year        Type    Country             Area  \\\n",
       "0  2018.06.25  25-Jun-2018  2018.0     Boating        USA       California   \n",
       "1  2018.06.18  18-Jun-2018  2018.0  Unprovoked        USA          Georgia   \n",
       "2  2018.06.09  09-Jun-2018  2018.0     Invalid        USA           Hawaii   \n",
       "3  2018.06.08  08-Jun-2018  2018.0  Unprovoked  AUSTRALIA  New South Wales   \n",
       "4  2018.06.04  04-Jun-2018  2018.0    Provoked     MEXICO           Colima   \n",
       "\n",
       "                         Location     Activity             Name Sex   ...  \\\n",
       "0     Oceanside, San Diego County     Paddling      Julie Wolfe    F  ...   \n",
       "1  St. Simon Island, Glynn County     Standing  Adyson McNeely     F  ...   \n",
       "2                    Habush, Oahu      Surfing      John Denges    M  ...   \n",
       "3              Arrawarra Headland      Surfing             male    M  ...   \n",
       "4                        La Ticla  Free diving   Gustavo Ramos     M  ...   \n",
       "\n",
       "          Species           Investigator or Source                       pdf  \\\n",
       "0      White shark                R. Collier, GSAF      2018.06.25-Wolfe.pdf   \n",
       "1              NaN  K.McMurray, TrackingSharks.com    2018.06.18-McNeely.pdf   \n",
       "2              NaN  K.McMurray, TrackingSharks.com     2018.06.09-Denges.pdf   \n",
       "3        2 m shark                  B. Myatt, GSAF  2018.06.08-Arrawarra.pdf   \n",
       "4  Tiger shark, 3m                       A .Kipper      2018.06.04-Ramos.pdf   \n",
       "\n",
       "                                        href formula  \\\n",
       "0  http://sharkattackfile.net/spreadsheets/pdf_di...   \n",
       "1  http://sharkattackfile.net/spreadsheets/pdf_di...   \n",
       "2  http://sharkattackfile.net/spreadsheets/pdf_di...   \n",
       "3  http://sharkattackfile.net/spreadsheets/pdf_di...   \n",
       "4  http://sharkattackfile.net/spreadsheets/pdf_di...   \n",
       "\n",
       "                                                href Case Number.1  \\\n",
       "0  http://sharkattackfile.net/spreadsheets/pdf_di...    2018.06.25   \n",
       "1  http://sharkattackfile.net/spreadsheets/pdf_di...    2018.06.18   \n",
       "2  http://sharkattackfile.net/spreadsheets/pdf_di...    2018.06.09   \n",
       "3  http://sharkattackfile.net/spreadsheets/pdf_di...    2018.06.08   \n",
       "4  http://sharkattackfile.net/spreadsheets/pdf_di...    2018.06.04   \n",
       "\n",
       "  Case Number.2 original order Unnamed: 22 Unnamed: 23  \n",
       "0    2018.06.25         6303.0         NaN         NaN  \n",
       "1    2018.06.18         6302.0         NaN         NaN  \n",
       "2    2018.06.09         6301.0         NaN         NaN  \n",
       "3    2018.06.08         6300.0         NaN         NaN  \n",
       "4    2018.06.04         6299.0         NaN         NaN  \n",
       "\n",
       "[5 rows x 24 columns]"
      ]
     },
     "execution_count": 3,
     "metadata": {},
     "output_type": "execute_result"
    }
   ],
   "source": [
    "df.head()"
   ]
  },
  {
   "cell_type": "code",
   "execution_count": 4,
   "id": "blond-mechanism",
   "metadata": {},
   "outputs": [
    {
     "data": {
      "text/plain": [
       "(25723, 24)"
      ]
     },
     "execution_count": 4,
     "metadata": {},
     "output_type": "execute_result"
    }
   ],
   "source": [
    "df.shape"
   ]
  },
  {
   "cell_type": "code",
   "execution_count": 5,
   "id": "synthetic-milan",
   "metadata": {},
   "outputs": [],
   "source": [
    "#quito todas las filas que tengan nulls en todas las columnas.\n",
    "df = df.dropna(how='all',axis=0) "
   ]
  },
  {
   "cell_type": "code",
   "execution_count": 6,
   "id": "electric-watson",
   "metadata": {},
   "outputs": [],
   "source": [
    "df = df.dropna(0, thresh=3)"
   ]
  },
  {
   "cell_type": "code",
   "execution_count": 7,
   "id": "reverse-blink",
   "metadata": {},
   "outputs": [
    {
     "data": {
      "text/plain": [
       "(6302, 24)"
      ]
     },
     "execution_count": 7,
     "metadata": {},
     "output_type": "execute_result"
    }
   ],
   "source": [
    "df.shape"
   ]
  },
  {
   "cell_type": "code",
   "execution_count": 8,
   "id": "formal-hours",
   "metadata": {},
   "outputs": [],
   "source": [
    "#renombramos columnas para que no haya drama luego\n",
    "df = df.rename(columns={'Unnamed: 22':'unnamed22', 'Unnamed: 23': 'unnamed23', 'Fatal (Y/N)': 'Fatal', 'original order': 'original_order', 'Species': 'sharks', 'Case Number':'Case_number', 'Investigator or Source': 'Investigator', 'href formula':'href_formula', 'Case Number.1': 'Case_n1', 'Case Number.2': 'Case_n2', 'Sex ' : 'Sex', 'Species ':'Species', 'Fatal(Y/N)':'Fatal'})"
   ]
  },
  {
   "cell_type": "code",
   "execution_count": 9,
   "id": "subject-scratch",
   "metadata": {},
   "outputs": [
    {
     "data": {
      "text/html": [
       "<div>\n",
       "<style scoped>\n",
       "    .dataframe tbody tr th:only-of-type {\n",
       "        vertical-align: middle;\n",
       "    }\n",
       "\n",
       "    .dataframe tbody tr th {\n",
       "        vertical-align: top;\n",
       "    }\n",
       "\n",
       "    .dataframe thead th {\n",
       "        text-align: right;\n",
       "    }\n",
       "</style>\n",
       "<table border=\"1\" class=\"dataframe\">\n",
       "  <thead>\n",
       "    <tr style=\"text-align: right;\">\n",
       "      <th></th>\n",
       "      <th>Case_number</th>\n",
       "      <th>Date</th>\n",
       "      <th>Year</th>\n",
       "      <th>Type</th>\n",
       "      <th>Country</th>\n",
       "      <th>Area</th>\n",
       "      <th>Location</th>\n",
       "      <th>Activity</th>\n",
       "      <th>Name</th>\n",
       "      <th>Sex</th>\n",
       "      <th>...</th>\n",
       "      <th>Species</th>\n",
       "      <th>Investigator</th>\n",
       "      <th>pdf</th>\n",
       "      <th>href_formula</th>\n",
       "      <th>href</th>\n",
       "      <th>Case_n1</th>\n",
       "      <th>Case_n2</th>\n",
       "      <th>original_order</th>\n",
       "      <th>unnamed22</th>\n",
       "      <th>unnamed23</th>\n",
       "    </tr>\n",
       "  </thead>\n",
       "  <tbody>\n",
       "    <tr>\n",
       "      <th>0</th>\n",
       "      <td>2018.06.25</td>\n",
       "      <td>25-Jun-2018</td>\n",
       "      <td>2018.0</td>\n",
       "      <td>Boating</td>\n",
       "      <td>USA</td>\n",
       "      <td>California</td>\n",
       "      <td>Oceanside, San Diego County</td>\n",
       "      <td>Paddling</td>\n",
       "      <td>Julie Wolfe</td>\n",
       "      <td>F</td>\n",
       "      <td>...</td>\n",
       "      <td>White shark</td>\n",
       "      <td>R. Collier, GSAF</td>\n",
       "      <td>2018.06.25-Wolfe.pdf</td>\n",
       "      <td>http://sharkattackfile.net/spreadsheets/pdf_di...</td>\n",
       "      <td>http://sharkattackfile.net/spreadsheets/pdf_di...</td>\n",
       "      <td>2018.06.25</td>\n",
       "      <td>2018.06.25</td>\n",
       "      <td>6303.0</td>\n",
       "      <td>NaN</td>\n",
       "      <td>NaN</td>\n",
       "    </tr>\n",
       "    <tr>\n",
       "      <th>1</th>\n",
       "      <td>2018.06.18</td>\n",
       "      <td>18-Jun-2018</td>\n",
       "      <td>2018.0</td>\n",
       "      <td>Unprovoked</td>\n",
       "      <td>USA</td>\n",
       "      <td>Georgia</td>\n",
       "      <td>St. Simon Island, Glynn County</td>\n",
       "      <td>Standing</td>\n",
       "      <td>Adyson McNeely</td>\n",
       "      <td>F</td>\n",
       "      <td>...</td>\n",
       "      <td>NaN</td>\n",
       "      <td>K.McMurray, TrackingSharks.com</td>\n",
       "      <td>2018.06.18-McNeely.pdf</td>\n",
       "      <td>http://sharkattackfile.net/spreadsheets/pdf_di...</td>\n",
       "      <td>http://sharkattackfile.net/spreadsheets/pdf_di...</td>\n",
       "      <td>2018.06.18</td>\n",
       "      <td>2018.06.18</td>\n",
       "      <td>6302.0</td>\n",
       "      <td>NaN</td>\n",
       "      <td>NaN</td>\n",
       "    </tr>\n",
       "    <tr>\n",
       "      <th>2</th>\n",
       "      <td>2018.06.09</td>\n",
       "      <td>09-Jun-2018</td>\n",
       "      <td>2018.0</td>\n",
       "      <td>Invalid</td>\n",
       "      <td>USA</td>\n",
       "      <td>Hawaii</td>\n",
       "      <td>Habush, Oahu</td>\n",
       "      <td>Surfing</td>\n",
       "      <td>John Denges</td>\n",
       "      <td>M</td>\n",
       "      <td>...</td>\n",
       "      <td>NaN</td>\n",
       "      <td>K.McMurray, TrackingSharks.com</td>\n",
       "      <td>2018.06.09-Denges.pdf</td>\n",
       "      <td>http://sharkattackfile.net/spreadsheets/pdf_di...</td>\n",
       "      <td>http://sharkattackfile.net/spreadsheets/pdf_di...</td>\n",
       "      <td>2018.06.09</td>\n",
       "      <td>2018.06.09</td>\n",
       "      <td>6301.0</td>\n",
       "      <td>NaN</td>\n",
       "      <td>NaN</td>\n",
       "    </tr>\n",
       "    <tr>\n",
       "      <th>3</th>\n",
       "      <td>2018.06.08</td>\n",
       "      <td>08-Jun-2018</td>\n",
       "      <td>2018.0</td>\n",
       "      <td>Unprovoked</td>\n",
       "      <td>AUSTRALIA</td>\n",
       "      <td>New South Wales</td>\n",
       "      <td>Arrawarra Headland</td>\n",
       "      <td>Surfing</td>\n",
       "      <td>male</td>\n",
       "      <td>M</td>\n",
       "      <td>...</td>\n",
       "      <td>2 m shark</td>\n",
       "      <td>B. Myatt, GSAF</td>\n",
       "      <td>2018.06.08-Arrawarra.pdf</td>\n",
       "      <td>http://sharkattackfile.net/spreadsheets/pdf_di...</td>\n",
       "      <td>http://sharkattackfile.net/spreadsheets/pdf_di...</td>\n",
       "      <td>2018.06.08</td>\n",
       "      <td>2018.06.08</td>\n",
       "      <td>6300.0</td>\n",
       "      <td>NaN</td>\n",
       "      <td>NaN</td>\n",
       "    </tr>\n",
       "    <tr>\n",
       "      <th>4</th>\n",
       "      <td>2018.06.04</td>\n",
       "      <td>04-Jun-2018</td>\n",
       "      <td>2018.0</td>\n",
       "      <td>Provoked</td>\n",
       "      <td>MEXICO</td>\n",
       "      <td>Colima</td>\n",
       "      <td>La Ticla</td>\n",
       "      <td>Free diving</td>\n",
       "      <td>Gustavo Ramos</td>\n",
       "      <td>M</td>\n",
       "      <td>...</td>\n",
       "      <td>Tiger shark, 3m</td>\n",
       "      <td>A .Kipper</td>\n",
       "      <td>2018.06.04-Ramos.pdf</td>\n",
       "      <td>http://sharkattackfile.net/spreadsheets/pdf_di...</td>\n",
       "      <td>http://sharkattackfile.net/spreadsheets/pdf_di...</td>\n",
       "      <td>2018.06.04</td>\n",
       "      <td>2018.06.04</td>\n",
       "      <td>6299.0</td>\n",
       "      <td>NaN</td>\n",
       "      <td>NaN</td>\n",
       "    </tr>\n",
       "  </tbody>\n",
       "</table>\n",
       "<p>5 rows × 24 columns</p>\n",
       "</div>"
      ],
      "text/plain": [
       "  Case_number         Date    Year        Type    Country             Area  \\\n",
       "0  2018.06.25  25-Jun-2018  2018.0     Boating        USA       California   \n",
       "1  2018.06.18  18-Jun-2018  2018.0  Unprovoked        USA          Georgia   \n",
       "2  2018.06.09  09-Jun-2018  2018.0     Invalid        USA           Hawaii   \n",
       "3  2018.06.08  08-Jun-2018  2018.0  Unprovoked  AUSTRALIA  New South Wales   \n",
       "4  2018.06.04  04-Jun-2018  2018.0    Provoked     MEXICO           Colima   \n",
       "\n",
       "                         Location     Activity             Name Sex  ...  \\\n",
       "0     Oceanside, San Diego County     Paddling      Julie Wolfe   F  ...   \n",
       "1  St. Simon Island, Glynn County     Standing  Adyson McNeely    F  ...   \n",
       "2                    Habush, Oahu      Surfing      John Denges   M  ...   \n",
       "3              Arrawarra Headland      Surfing             male   M  ...   \n",
       "4                        La Ticla  Free diving   Gustavo Ramos    M  ...   \n",
       "\n",
       "           Species                    Investigator                       pdf  \\\n",
       "0      White shark                R. Collier, GSAF      2018.06.25-Wolfe.pdf   \n",
       "1              NaN  K.McMurray, TrackingSharks.com    2018.06.18-McNeely.pdf   \n",
       "2              NaN  K.McMurray, TrackingSharks.com     2018.06.09-Denges.pdf   \n",
       "3        2 m shark                  B. Myatt, GSAF  2018.06.08-Arrawarra.pdf   \n",
       "4  Tiger shark, 3m                       A .Kipper      2018.06.04-Ramos.pdf   \n",
       "\n",
       "                                        href_formula  \\\n",
       "0  http://sharkattackfile.net/spreadsheets/pdf_di...   \n",
       "1  http://sharkattackfile.net/spreadsheets/pdf_di...   \n",
       "2  http://sharkattackfile.net/spreadsheets/pdf_di...   \n",
       "3  http://sharkattackfile.net/spreadsheets/pdf_di...   \n",
       "4  http://sharkattackfile.net/spreadsheets/pdf_di...   \n",
       "\n",
       "                                                href     Case_n1     Case_n2  \\\n",
       "0  http://sharkattackfile.net/spreadsheets/pdf_di...  2018.06.25  2018.06.25   \n",
       "1  http://sharkattackfile.net/spreadsheets/pdf_di...  2018.06.18  2018.06.18   \n",
       "2  http://sharkattackfile.net/spreadsheets/pdf_di...  2018.06.09  2018.06.09   \n",
       "3  http://sharkattackfile.net/spreadsheets/pdf_di...  2018.06.08  2018.06.08   \n",
       "4  http://sharkattackfile.net/spreadsheets/pdf_di...  2018.06.04  2018.06.04   \n",
       "\n",
       "  original_order unnamed22 unnamed23  \n",
       "0         6303.0       NaN       NaN  \n",
       "1         6302.0       NaN       NaN  \n",
       "2         6301.0       NaN       NaN  \n",
       "3         6300.0       NaN       NaN  \n",
       "4         6299.0       NaN       NaN  \n",
       "\n",
       "[5 rows x 24 columns]"
      ]
     },
     "execution_count": 9,
     "metadata": {},
     "output_type": "execute_result"
    }
   ],
   "source": [
    "df.head()"
   ]
  },
  {
   "cell_type": "code",
   "execution_count": 10,
   "id": "informational-engineering",
   "metadata": {},
   "outputs": [
    {
     "data": {
      "text/plain": [
       "Case_number        1\n",
       "Year               2\n",
       "Type               4\n",
       "Country           50\n",
       "Area             455\n",
       "Location         540\n",
       "Activity         544\n",
       "Name             210\n",
       "Sex              565\n",
       "Age             2831\n",
       "Injury            28\n",
       "Fatal            539\n",
       "Time            3354\n",
       "Species         2838\n",
       "Investigator      17\n",
       "href_formula       1\n",
       "unnamed22       6301\n",
       "unnamed23       6300\n",
       "dtype: int64"
      ]
     },
     "execution_count": 10,
     "metadata": {},
     "output_type": "execute_result"
    }
   ],
   "source": [
    "nan_cols=df.isna().sum()\n",
    "\n",
    "nan_cols[nan_cols>0]"
   ]
  },
  {
   "cell_type": "markdown",
   "id": "sublime-programmer",
   "metadata": {},
   "source": [
    "# Columna Date"
   ]
  },
  {
   "cell_type": "markdown",
   "id": "focal-roulette",
   "metadata": {},
   "source": [
    "Las fechas están bastante mal, he pensado muchas formas de cambiarlas a un formato decente y esta es la que más me ha convencido"
   ]
  },
  {
   "cell_type": "code",
   "execution_count": 11,
   "id": "indirect-screw",
   "metadata": {},
   "outputs": [
    {
     "data": {
      "text/plain": [
       "0       25-Jun-2018\n",
       "1       18-Jun-2018\n",
       "2       09-Jun-2018\n",
       "3       08-Jun-2018\n",
       "4       04-Jun-2018\n",
       "           ...     \n",
       "6297    Before 1903\n",
       "6298    Before 1903\n",
       "6299      1900-1905\n",
       "6300      1883-1889\n",
       "6301      1845-1853\n",
       "Name: _original_date, Length: 6302, dtype: object"
      ]
     },
     "execution_count": 11,
     "metadata": {},
     "output_type": "execute_result"
    }
   ],
   "source": [
    "#Primero de todo, guardamos los valores de una columna nueva para no perderlos\n",
    "df['_original_date'] = df.Date\n",
    "df['_original_date']"
   ]
  },
  {
   "cell_type": "code",
   "execution_count": 12,
   "id": "average-summer",
   "metadata": {},
   "outputs": [],
   "source": [
    "#Hacemos la limpieza más básica\n",
    "df['_original_date_pre_treated'] = \\\n",
    "    df._original_date \\\n",
    "        .apply(\n",
    "                lambda x :\n",
    "                    str(x)\n",
    "                        .replace('Reported ', '')\n",
    "                        .replace('Early ',    '')\n",
    "                        .replace('Late ',     '')\n",
    "                        .replace('--',        '-')\n",
    "            )"
   ]
  },
  {
   "cell_type": "code",
   "execution_count": 13,
   "id": "inside-illinois",
   "metadata": {},
   "outputs": [],
   "source": [
    "#usamos la formula to_datetime de pandas. Forzando el coerce \"If ‘coerce’, then invalid parsing will be set as NaT.\"\n",
    "df.Date = pd.to_datetime(df._original_date_pre_treated, errors='coerce')"
   ]
  },
  {
   "cell_type": "code",
   "execution_count": 14,
   "id": "pleased-shepherd",
   "metadata": {},
   "outputs": [
    {
     "name": "stderr",
     "output_type": "stream",
     "text": [
      "<ipython-input-14-4d008df60697>:2: UserWarning: Pandas doesn't allow columns to be created via a new attribute name - see https://pandas.pydata.org/pandas-docs/stable/indexing.html#attribute-access\n",
      "  df.decade = df.Date.apply(lambda x : x.year - x.year % 10)\n"
     ]
    }
   ],
   "source": [
    "#computar decada\n",
    "df.decade = df.Date.apply(lambda x : x.year - x.year % 10)"
   ]
  },
  {
   "cell_type": "code",
   "execution_count": 15,
   "id": "impressive-peoples",
   "metadata": {},
   "outputs": [
    {
     "data": {
      "text/html": [
       "<div>\n",
       "<style scoped>\n",
       "    .dataframe tbody tr th:only-of-type {\n",
       "        vertical-align: middle;\n",
       "    }\n",
       "\n",
       "    .dataframe tbody tr th {\n",
       "        vertical-align: top;\n",
       "    }\n",
       "\n",
       "    .dataframe thead th {\n",
       "        text-align: right;\n",
       "    }\n",
       "</style>\n",
       "<table border=\"1\" class=\"dataframe\">\n",
       "  <thead>\n",
       "    <tr style=\"text-align: right;\">\n",
       "      <th></th>\n",
       "      <th>Case_number</th>\n",
       "      <th>Date</th>\n",
       "      <th>Year</th>\n",
       "      <th>Type</th>\n",
       "      <th>Country</th>\n",
       "      <th>Area</th>\n",
       "      <th>Location</th>\n",
       "      <th>Activity</th>\n",
       "      <th>Name</th>\n",
       "      <th>Sex</th>\n",
       "      <th>...</th>\n",
       "      <th>pdf</th>\n",
       "      <th>href_formula</th>\n",
       "      <th>href</th>\n",
       "      <th>Case_n1</th>\n",
       "      <th>Case_n2</th>\n",
       "      <th>original_order</th>\n",
       "      <th>unnamed22</th>\n",
       "      <th>unnamed23</th>\n",
       "      <th>_original_date</th>\n",
       "      <th>_original_date_pre_treated</th>\n",
       "    </tr>\n",
       "  </thead>\n",
       "  <tbody>\n",
       "    <tr>\n",
       "      <th>0</th>\n",
       "      <td>2018.06.25</td>\n",
       "      <td>2018-06-25</td>\n",
       "      <td>2018.0</td>\n",
       "      <td>Boating</td>\n",
       "      <td>USA</td>\n",
       "      <td>California</td>\n",
       "      <td>Oceanside, San Diego County</td>\n",
       "      <td>Paddling</td>\n",
       "      <td>Julie Wolfe</td>\n",
       "      <td>F</td>\n",
       "      <td>...</td>\n",
       "      <td>2018.06.25-Wolfe.pdf</td>\n",
       "      <td>http://sharkattackfile.net/spreadsheets/pdf_di...</td>\n",
       "      <td>http://sharkattackfile.net/spreadsheets/pdf_di...</td>\n",
       "      <td>2018.06.25</td>\n",
       "      <td>2018.06.25</td>\n",
       "      <td>6303.0</td>\n",
       "      <td>NaN</td>\n",
       "      <td>NaN</td>\n",
       "      <td>25-Jun-2018</td>\n",
       "      <td>25-Jun-2018</td>\n",
       "    </tr>\n",
       "    <tr>\n",
       "      <th>1</th>\n",
       "      <td>2018.06.18</td>\n",
       "      <td>2018-06-18</td>\n",
       "      <td>2018.0</td>\n",
       "      <td>Unprovoked</td>\n",
       "      <td>USA</td>\n",
       "      <td>Georgia</td>\n",
       "      <td>St. Simon Island, Glynn County</td>\n",
       "      <td>Standing</td>\n",
       "      <td>Adyson McNeely</td>\n",
       "      <td>F</td>\n",
       "      <td>...</td>\n",
       "      <td>2018.06.18-McNeely.pdf</td>\n",
       "      <td>http://sharkattackfile.net/spreadsheets/pdf_di...</td>\n",
       "      <td>http://sharkattackfile.net/spreadsheets/pdf_di...</td>\n",
       "      <td>2018.06.18</td>\n",
       "      <td>2018.06.18</td>\n",
       "      <td>6302.0</td>\n",
       "      <td>NaN</td>\n",
       "      <td>NaN</td>\n",
       "      <td>18-Jun-2018</td>\n",
       "      <td>18-Jun-2018</td>\n",
       "    </tr>\n",
       "    <tr>\n",
       "      <th>2</th>\n",
       "      <td>2018.06.09</td>\n",
       "      <td>2018-06-09</td>\n",
       "      <td>2018.0</td>\n",
       "      <td>Invalid</td>\n",
       "      <td>USA</td>\n",
       "      <td>Hawaii</td>\n",
       "      <td>Habush, Oahu</td>\n",
       "      <td>Surfing</td>\n",
       "      <td>John Denges</td>\n",
       "      <td>M</td>\n",
       "      <td>...</td>\n",
       "      <td>2018.06.09-Denges.pdf</td>\n",
       "      <td>http://sharkattackfile.net/spreadsheets/pdf_di...</td>\n",
       "      <td>http://sharkattackfile.net/spreadsheets/pdf_di...</td>\n",
       "      <td>2018.06.09</td>\n",
       "      <td>2018.06.09</td>\n",
       "      <td>6301.0</td>\n",
       "      <td>NaN</td>\n",
       "      <td>NaN</td>\n",
       "      <td>09-Jun-2018</td>\n",
       "      <td>09-Jun-2018</td>\n",
       "    </tr>\n",
       "    <tr>\n",
       "      <th>3</th>\n",
       "      <td>2018.06.08</td>\n",
       "      <td>2018-06-08</td>\n",
       "      <td>2018.0</td>\n",
       "      <td>Unprovoked</td>\n",
       "      <td>AUSTRALIA</td>\n",
       "      <td>New South Wales</td>\n",
       "      <td>Arrawarra Headland</td>\n",
       "      <td>Surfing</td>\n",
       "      <td>male</td>\n",
       "      <td>M</td>\n",
       "      <td>...</td>\n",
       "      <td>2018.06.08-Arrawarra.pdf</td>\n",
       "      <td>http://sharkattackfile.net/spreadsheets/pdf_di...</td>\n",
       "      <td>http://sharkattackfile.net/spreadsheets/pdf_di...</td>\n",
       "      <td>2018.06.08</td>\n",
       "      <td>2018.06.08</td>\n",
       "      <td>6300.0</td>\n",
       "      <td>NaN</td>\n",
       "      <td>NaN</td>\n",
       "      <td>08-Jun-2018</td>\n",
       "      <td>08-Jun-2018</td>\n",
       "    </tr>\n",
       "    <tr>\n",
       "      <th>4</th>\n",
       "      <td>2018.06.04</td>\n",
       "      <td>2018-06-04</td>\n",
       "      <td>2018.0</td>\n",
       "      <td>Provoked</td>\n",
       "      <td>MEXICO</td>\n",
       "      <td>Colima</td>\n",
       "      <td>La Ticla</td>\n",
       "      <td>Free diving</td>\n",
       "      <td>Gustavo Ramos</td>\n",
       "      <td>M</td>\n",
       "      <td>...</td>\n",
       "      <td>2018.06.04-Ramos.pdf</td>\n",
       "      <td>http://sharkattackfile.net/spreadsheets/pdf_di...</td>\n",
       "      <td>http://sharkattackfile.net/spreadsheets/pdf_di...</td>\n",
       "      <td>2018.06.04</td>\n",
       "      <td>2018.06.04</td>\n",
       "      <td>6299.0</td>\n",
       "      <td>NaN</td>\n",
       "      <td>NaN</td>\n",
       "      <td>04-Jun-2018</td>\n",
       "      <td>04-Jun-2018</td>\n",
       "    </tr>\n",
       "  </tbody>\n",
       "</table>\n",
       "<p>5 rows × 26 columns</p>\n",
       "</div>"
      ],
      "text/plain": [
       "  Case_number       Date    Year        Type    Country             Area  \\\n",
       "0  2018.06.25 2018-06-25  2018.0     Boating        USA       California   \n",
       "1  2018.06.18 2018-06-18  2018.0  Unprovoked        USA          Georgia   \n",
       "2  2018.06.09 2018-06-09  2018.0     Invalid        USA           Hawaii   \n",
       "3  2018.06.08 2018-06-08  2018.0  Unprovoked  AUSTRALIA  New South Wales   \n",
       "4  2018.06.04 2018-06-04  2018.0    Provoked     MEXICO           Colima   \n",
       "\n",
       "                         Location     Activity             Name Sex  ...  \\\n",
       "0     Oceanside, San Diego County     Paddling      Julie Wolfe   F  ...   \n",
       "1  St. Simon Island, Glynn County     Standing  Adyson McNeely    F  ...   \n",
       "2                    Habush, Oahu      Surfing      John Denges   M  ...   \n",
       "3              Arrawarra Headland      Surfing             male   M  ...   \n",
       "4                        La Ticla  Free diving   Gustavo Ramos    M  ...   \n",
       "\n",
       "                        pdf  \\\n",
       "0      2018.06.25-Wolfe.pdf   \n",
       "1    2018.06.18-McNeely.pdf   \n",
       "2     2018.06.09-Denges.pdf   \n",
       "3  2018.06.08-Arrawarra.pdf   \n",
       "4      2018.06.04-Ramos.pdf   \n",
       "\n",
       "                                        href_formula  \\\n",
       "0  http://sharkattackfile.net/spreadsheets/pdf_di...   \n",
       "1  http://sharkattackfile.net/spreadsheets/pdf_di...   \n",
       "2  http://sharkattackfile.net/spreadsheets/pdf_di...   \n",
       "3  http://sharkattackfile.net/spreadsheets/pdf_di...   \n",
       "4  http://sharkattackfile.net/spreadsheets/pdf_di...   \n",
       "\n",
       "                                                href     Case_n1     Case_n2  \\\n",
       "0  http://sharkattackfile.net/spreadsheets/pdf_di...  2018.06.25  2018.06.25   \n",
       "1  http://sharkattackfile.net/spreadsheets/pdf_di...  2018.06.18  2018.06.18   \n",
       "2  http://sharkattackfile.net/spreadsheets/pdf_di...  2018.06.09  2018.06.09   \n",
       "3  http://sharkattackfile.net/spreadsheets/pdf_di...  2018.06.08  2018.06.08   \n",
       "4  http://sharkattackfile.net/spreadsheets/pdf_di...  2018.06.04  2018.06.04   \n",
       "\n",
       "  original_order unnamed22 unnamed23 _original_date _original_date_pre_treated  \n",
       "0         6303.0       NaN       NaN    25-Jun-2018                25-Jun-2018  \n",
       "1         6302.0       NaN       NaN    18-Jun-2018                18-Jun-2018  \n",
       "2         6301.0       NaN       NaN    09-Jun-2018                09-Jun-2018  \n",
       "3         6300.0       NaN       NaN    08-Jun-2018                08-Jun-2018  \n",
       "4         6299.0       NaN       NaN    04-Jun-2018                04-Jun-2018  \n",
       "\n",
       "[5 rows x 26 columns]"
      ]
     },
     "execution_count": 15,
     "metadata": {},
     "output_type": "execute_result"
    }
   ],
   "source": [
    "#tachán! esto me crea dos columnas que luego puedo eliminar\n",
    "df.head()"
   ]
  },
  {
   "cell_type": "code",
   "execution_count": 16,
   "id": "prompt-contributor",
   "metadata": {},
   "outputs": [],
   "source": [
    "df=df.drop('_original_date_pre_treated', axis=1)"
   ]
  },
  {
   "cell_type": "code",
   "execution_count": 17,
   "id": "fleet-marsh",
   "metadata": {},
   "outputs": [],
   "source": [
    "df=df.drop('_original_date', axis=1)"
   ]
  },
  {
   "cell_type": "code",
   "execution_count": 18,
   "id": "raising-politics",
   "metadata": {},
   "outputs": [],
   "source": [
    "df['Date'] = df['Date'].fillna('Unknown')"
   ]
  },
  {
   "cell_type": "markdown",
   "id": "distant-graduation",
   "metadata": {},
   "source": [
    "# Columna year"
   ]
  },
  {
   "cell_type": "markdown",
   "id": "unauthorized-biotechnology",
   "metadata": {},
   "source": [
    "La columna year viene como float, en un primer momento lo pasé solo a int y ya, previamente cambiando los nulls por 0. Bajo mi criterio esto no es lo óptimo, ya que puede llevar a confusión y error cuando los analístas calculen medias y demás.\n",
    "\n",
    "Por ello, he optado por cambiarlo por un unknown, pero esto conlleva que quede como una string, después se ha quedado obviamente con fechas como 2018.0, y he hecho un strip."
   ]
  },
  {
   "cell_type": "code",
   "execution_count": 19,
   "id": "christian-substitute",
   "metadata": {},
   "outputs": [
    {
     "name": "stdout",
     "output_type": "stream",
     "text": [
      "<class 'pandas.core.frame.DataFrame'>\n",
      "Int64Index: 6302 entries, 0 to 6301\n",
      "Data columns (total 24 columns):\n",
      " #   Column          Non-Null Count  Dtype  \n",
      "---  ------          --------------  -----  \n",
      " 0   Case_number     6301 non-null   object \n",
      " 1   Date            6302 non-null   object \n",
      " 2   Year            6300 non-null   float64\n",
      " 3   Type            6298 non-null   object \n",
      " 4   Country         6252 non-null   object \n",
      " 5   Area            5847 non-null   object \n",
      " 6   Location        5762 non-null   object \n",
      " 7   Activity        5758 non-null   object \n",
      " 8   Name            6092 non-null   object \n",
      " 9   Sex             5737 non-null   object \n",
      " 10  Age             3471 non-null   object \n",
      " 11  Injury          6274 non-null   object \n",
      " 12  Fatal           5763 non-null   object \n",
      " 13  Time            2948 non-null   object \n",
      " 14  Species         3464 non-null   object \n",
      " 15  Investigator    6285 non-null   object \n",
      " 16  pdf             6302 non-null   object \n",
      " 17  href_formula    6301 non-null   object \n",
      " 18  href            6302 non-null   object \n",
      " 19  Case_n1         6302 non-null   object \n",
      " 20  Case_n2         6302 non-null   object \n",
      " 21  original_order  6302 non-null   float64\n",
      " 22  unnamed22       1 non-null      object \n",
      " 23  unnamed23       2 non-null      object \n",
      "dtypes: float64(2), object(22)\n",
      "memory usage: 1.2+ MB\n"
     ]
    }
   ],
   "source": [
    "df.info()"
   ]
  },
  {
   "cell_type": "code",
   "execution_count": 20,
   "id": "dated-lesson",
   "metadata": {},
   "outputs": [],
   "source": [
    "df['Year'] = df['Year'].fillna('unknown')"
   ]
  },
  {
   "cell_type": "code",
   "execution_count": 21,
   "id": "mechanical-increase",
   "metadata": {},
   "outputs": [],
   "source": [
    "df.Year=df.Year.astype(dtype='str')"
   ]
  },
  {
   "cell_type": "code",
   "execution_count": 22,
   "id": "civilian-ordering",
   "metadata": {},
   "outputs": [],
   "source": [
    "df['Year'] = df['Year'].str.rstrip('.0')\n"
   ]
  },
  {
   "cell_type": "markdown",
   "id": "sixth-dominican",
   "metadata": {},
   "source": [
    "# Columna type"
   ]
  },
  {
   "cell_type": "code",
   "execution_count": 23,
   "id": "revised-analyst",
   "metadata": {},
   "outputs": [
    {
     "data": {
      "text/plain": [
       "array(['Boating', 'Unprovoked', 'Invalid', 'Provoked', 'Questionable',\n",
       "       'Sea Disaster', nan, 'Boat', 'Boatomg'], dtype=object)"
      ]
     },
     "execution_count": 23,
     "metadata": {},
     "output_type": "execute_result"
    }
   ],
   "source": [
    "df.Type.unique()"
   ]
  },
  {
   "cell_type": "code",
   "execution_count": 24,
   "id": "cultural-battle",
   "metadata": {},
   "outputs": [],
   "source": [
    "df['Type'] = df['Type'].fillna('Unknown')"
   ]
  },
  {
   "cell_type": "markdown",
   "id": "phantom-wrong",
   "metadata": {},
   "source": [
    "# Columna Country"
   ]
  },
  {
   "cell_type": "code",
   "execution_count": 25,
   "id": "protecting-pavilion",
   "metadata": {},
   "outputs": [],
   "source": [
    "df['Country'] = df['Country'].str.capitalize()"
   ]
  },
  {
   "cell_type": "code",
   "execution_count": 26,
   "id": "virgin-bubble",
   "metadata": {},
   "outputs": [],
   "source": [
    "df['Country'] = df['Country'].str.rstrip('?')"
   ]
  },
  {
   "cell_type": "code",
   "execution_count": 27,
   "id": "australian-notion",
   "metadata": {},
   "outputs": [
    {
     "data": {
      "text/plain": [
       "array(['Usa', 'Australia', 'Mexico', 'Brazil', 'England', 'South africa',\n",
       "       'Thailand', 'Costa rica', 'Maldives', 'Bahamas', 'New caledonia',\n",
       "       'Ecuador', 'Malaysia', 'Libya', nan, 'Cuba', 'Mauritius',\n",
       "       'New zealand', 'Spain', 'Samoa', 'Solomon islands', 'Japan',\n",
       "       'Egypt', 'St helena, british overseas territory', 'Comoros',\n",
       "       'Reunion', 'French polynesia', 'United kingdom',\n",
       "       'United arab emirates', 'Philippines', 'Indonesia', 'China',\n",
       "       'Columbia', 'Cape verde', 'Fiji', 'Dominican republic',\n",
       "       'Cayman islands', 'Aruba', 'Mozambique', 'Puerto rico', 'Italy',\n",
       "       'Atlantic ocean', 'Greece', 'St. martin', 'France',\n",
       "       'Papua new guinea', 'Trinidad & tobago', 'Kiribati', 'Israel',\n",
       "       'Diego garcia', 'Taiwan', 'Jamaica', 'Palestinian territories',\n",
       "       'Guam', 'Seychelles', 'Belize', 'Nigeria', 'Tonga', 'Scotland',\n",
       "       'Canada', 'Croatia', 'Saudi arabia', 'Chile', 'Antigua', 'Kenya',\n",
       "       'Russia', 'Turks & caicos', 'United arab emirates (uae)', 'Azores',\n",
       "       'South korea', 'Malta', 'Vietnam', 'Madagascar', 'Panama',\n",
       "       'Somalia', 'Nevis', 'British virgin islands', 'Norway', 'Senegal',\n",
       "       'Yemen', 'Gulf of aden', 'Sierra leone', 'St. maartin',\n",
       "       'Grand cayman', 'Liberia', 'Vanuatu', 'Mexico ', 'Honduras',\n",
       "       'Venezuela', 'Sri lanka', ' tonga', 'Uruguay', 'India',\n",
       "       'Micronesia', 'Caribbean sea', 'Okinawa', 'Tanzania',\n",
       "       'Marshall islands', 'Egypt / israel', 'Northern arabian sea',\n",
       "       'Hong kong', 'El salvador', 'Angola', 'Bermuda', 'Montenegro',\n",
       "       'Iran', 'Tunisia', 'Namibia', 'North atlantic ocean', 'Portugal',\n",
       "       'South china sea', 'Bangladesh', 'Palau', 'Western samoa',\n",
       "       'Pacific ocean ', 'British isles', 'Grenada', 'Iraq', 'Turkey',\n",
       "       'Singapore', 'New britain', 'Sudan', 'Johnston island',\n",
       "       'South pacific ocean', 'New guinea', 'Red sea',\n",
       "       'North pacific ocean', 'Federated states of micronesia',\n",
       "       'Mid atlantic ocean', 'Admiralty islands', 'British west indies',\n",
       "       'South atlantic ocean', 'Persian gulf', 'Red sea / indian ocean',\n",
       "       'Pacific ocean', 'North sea', 'Nicaragua ', 'Maldive islands',\n",
       "       'American samoa', 'Andaman / nicobar islandas', 'Gabon', 'Mayotte',\n",
       "       'North atlantic ocean ', 'The balkans', 'Argentina', 'Martinique',\n",
       "       'Indian ocean', 'Guatemala', 'Netherlands antilles',\n",
       "       'Northern mariana islands', 'Iran / iraq', 'Java', ' philippines',\n",
       "       'Nicaragua', 'Central pacific', 'Solomon islands / vanuatu',\n",
       "       'Southwest pacific ocean', 'Bay of bengal', 'Mid-pacifc ocean',\n",
       "       'Slovenia', 'Curacao', 'Iceland', 'Italy / croatia', 'Barbados',\n",
       "       'Monaco', 'Guyana', 'Haiti', 'San domingo', 'Ireland', 'Kuwait',\n",
       "       'Yemen ', 'Reunion island', 'Falkland islands', 'Crete', 'Cyprus',\n",
       "       'Egypt ', 'West indies', 'Burma', 'Lebanon', 'Paraguay',\n",
       "       'British new guinea', 'Ceylon', 'Ocean', 'Georgia', 'Syria',\n",
       "       'Tuvalu', 'Guinea', 'Andaman islands',\n",
       "       'Equatorial guinea / cameroon', 'Cook islands', 'Tobago', 'Peru',\n",
       "       'Africa', 'Algeria', 'Coast of africa', 'Tasman sea', 'Ghana',\n",
       "       'Greenland', 'Mediterranean sea', 'Sweden', 'Roatan',\n",
       "       'Between portugal & india', 'Djibouti', 'Bahrein', 'Korea', 'Asia',\n",
       "       'Ceylon (sri lanka)'], dtype=object)"
      ]
     },
     "execution_count": 27,
     "metadata": {},
     "output_type": "execute_result"
    }
   ],
   "source": [
    "df.Country.unique()"
   ]
  },
  {
   "cell_type": "code",
   "execution_count": 28,
   "id": "centered-copyright",
   "metadata": {},
   "outputs": [],
   "source": [
    "df['Country'] = df['Country'].fillna('Unknown')"
   ]
  },
  {
   "cell_type": "markdown",
   "id": "powerful-reasoning",
   "metadata": {},
   "source": [
    "# Columna Area"
   ]
  },
  {
   "cell_type": "markdown",
   "id": "committed-building",
   "metadata": {},
   "source": [
    "En este caso lo que ocurre es que hay bastante basura en los datos, tener como área \"a 100km de Sri Lanka\" es mejor que nada, pero en análisis con muchos datos esto no es útil. Por ello creo que es mejor quitar todos datos dejandolos como unknown y apoyarnos en Country - location."
   ]
  },
  {
   "cell_type": "code",
   "execution_count": 29,
   "id": "similar-russia",
   "metadata": {},
   "outputs": [
    {
     "data": {
      "text/html": [
       "<div>\n",
       "<style scoped>\n",
       "    .dataframe tbody tr th:only-of-type {\n",
       "        vertical-align: middle;\n",
       "    }\n",
       "\n",
       "    .dataframe tbody tr th {\n",
       "        vertical-align: top;\n",
       "    }\n",
       "\n",
       "    .dataframe thead th {\n",
       "        text-align: right;\n",
       "    }\n",
       "</style>\n",
       "<table border=\"1\" class=\"dataframe\">\n",
       "  <thead>\n",
       "    <tr style=\"text-align: right;\">\n",
       "      <th></th>\n",
       "      <th>Case_number</th>\n",
       "      <th>Date</th>\n",
       "      <th>Year</th>\n",
       "      <th>Type</th>\n",
       "      <th>Country</th>\n",
       "      <th>Area</th>\n",
       "      <th>Location</th>\n",
       "      <th>Activity</th>\n",
       "      <th>Name</th>\n",
       "      <th>Sex</th>\n",
       "      <th>...</th>\n",
       "      <th>Species</th>\n",
       "      <th>Investigator</th>\n",
       "      <th>pdf</th>\n",
       "      <th>href_formula</th>\n",
       "      <th>href</th>\n",
       "      <th>Case_n1</th>\n",
       "      <th>Case_n2</th>\n",
       "      <th>original_order</th>\n",
       "      <th>unnamed22</th>\n",
       "      <th>unnamed23</th>\n",
       "    </tr>\n",
       "  </thead>\n",
       "  <tbody>\n",
       "    <tr>\n",
       "      <th>0</th>\n",
       "      <td>2018.06.25</td>\n",
       "      <td>2018-06-25 00:00:00</td>\n",
       "      <td>2018</td>\n",
       "      <td>Boating</td>\n",
       "      <td>Usa</td>\n",
       "      <td>California</td>\n",
       "      <td>Oceanside, San Diego County</td>\n",
       "      <td>Paddling</td>\n",
       "      <td>Julie Wolfe</td>\n",
       "      <td>F</td>\n",
       "      <td>...</td>\n",
       "      <td>White shark</td>\n",
       "      <td>R. Collier, GSAF</td>\n",
       "      <td>2018.06.25-Wolfe.pdf</td>\n",
       "      <td>http://sharkattackfile.net/spreadsheets/pdf_di...</td>\n",
       "      <td>http://sharkattackfile.net/spreadsheets/pdf_di...</td>\n",
       "      <td>2018.06.25</td>\n",
       "      <td>2018.06.25</td>\n",
       "      <td>6303.0</td>\n",
       "      <td>NaN</td>\n",
       "      <td>NaN</td>\n",
       "    </tr>\n",
       "    <tr>\n",
       "      <th>1</th>\n",
       "      <td>2018.06.18</td>\n",
       "      <td>2018-06-18 00:00:00</td>\n",
       "      <td>2018</td>\n",
       "      <td>Unprovoked</td>\n",
       "      <td>Usa</td>\n",
       "      <td>Georgia</td>\n",
       "      <td>St. Simon Island, Glynn County</td>\n",
       "      <td>Standing</td>\n",
       "      <td>Adyson McNeely</td>\n",
       "      <td>F</td>\n",
       "      <td>...</td>\n",
       "      <td>NaN</td>\n",
       "      <td>K.McMurray, TrackingSharks.com</td>\n",
       "      <td>2018.06.18-McNeely.pdf</td>\n",
       "      <td>http://sharkattackfile.net/spreadsheets/pdf_di...</td>\n",
       "      <td>http://sharkattackfile.net/spreadsheets/pdf_di...</td>\n",
       "      <td>2018.06.18</td>\n",
       "      <td>2018.06.18</td>\n",
       "      <td>6302.0</td>\n",
       "      <td>NaN</td>\n",
       "      <td>NaN</td>\n",
       "    </tr>\n",
       "    <tr>\n",
       "      <th>2</th>\n",
       "      <td>2018.06.09</td>\n",
       "      <td>2018-06-09 00:00:00</td>\n",
       "      <td>2018</td>\n",
       "      <td>Invalid</td>\n",
       "      <td>Usa</td>\n",
       "      <td>Hawaii</td>\n",
       "      <td>Habush, Oahu</td>\n",
       "      <td>Surfing</td>\n",
       "      <td>John Denges</td>\n",
       "      <td>M</td>\n",
       "      <td>...</td>\n",
       "      <td>NaN</td>\n",
       "      <td>K.McMurray, TrackingSharks.com</td>\n",
       "      <td>2018.06.09-Denges.pdf</td>\n",
       "      <td>http://sharkattackfile.net/spreadsheets/pdf_di...</td>\n",
       "      <td>http://sharkattackfile.net/spreadsheets/pdf_di...</td>\n",
       "      <td>2018.06.09</td>\n",
       "      <td>2018.06.09</td>\n",
       "      <td>6301.0</td>\n",
       "      <td>NaN</td>\n",
       "      <td>NaN</td>\n",
       "    </tr>\n",
       "    <tr>\n",
       "      <th>3</th>\n",
       "      <td>2018.06.08</td>\n",
       "      <td>2018-06-08 00:00:00</td>\n",
       "      <td>2018</td>\n",
       "      <td>Unprovoked</td>\n",
       "      <td>Australia</td>\n",
       "      <td>New South Wales</td>\n",
       "      <td>Arrawarra Headland</td>\n",
       "      <td>Surfing</td>\n",
       "      <td>male</td>\n",
       "      <td>M</td>\n",
       "      <td>...</td>\n",
       "      <td>2 m shark</td>\n",
       "      <td>B. Myatt, GSAF</td>\n",
       "      <td>2018.06.08-Arrawarra.pdf</td>\n",
       "      <td>http://sharkattackfile.net/spreadsheets/pdf_di...</td>\n",
       "      <td>http://sharkattackfile.net/spreadsheets/pdf_di...</td>\n",
       "      <td>2018.06.08</td>\n",
       "      <td>2018.06.08</td>\n",
       "      <td>6300.0</td>\n",
       "      <td>NaN</td>\n",
       "      <td>NaN</td>\n",
       "    </tr>\n",
       "    <tr>\n",
       "      <th>4</th>\n",
       "      <td>2018.06.04</td>\n",
       "      <td>2018-06-04 00:00:00</td>\n",
       "      <td>2018</td>\n",
       "      <td>Provoked</td>\n",
       "      <td>Mexico</td>\n",
       "      <td>Colima</td>\n",
       "      <td>La Ticla</td>\n",
       "      <td>Free diving</td>\n",
       "      <td>Gustavo Ramos</td>\n",
       "      <td>M</td>\n",
       "      <td>...</td>\n",
       "      <td>Tiger shark, 3m</td>\n",
       "      <td>A .Kipper</td>\n",
       "      <td>2018.06.04-Ramos.pdf</td>\n",
       "      <td>http://sharkattackfile.net/spreadsheets/pdf_di...</td>\n",
       "      <td>http://sharkattackfile.net/spreadsheets/pdf_di...</td>\n",
       "      <td>2018.06.04</td>\n",
       "      <td>2018.06.04</td>\n",
       "      <td>6299.0</td>\n",
       "      <td>NaN</td>\n",
       "      <td>NaN</td>\n",
       "    </tr>\n",
       "  </tbody>\n",
       "</table>\n",
       "<p>5 rows × 24 columns</p>\n",
       "</div>"
      ],
      "text/plain": [
       "  Case_number                 Date  Year        Type    Country  \\\n",
       "0  2018.06.25  2018-06-25 00:00:00  2018     Boating        Usa   \n",
       "1  2018.06.18  2018-06-18 00:00:00  2018  Unprovoked        Usa   \n",
       "2  2018.06.09  2018-06-09 00:00:00  2018     Invalid        Usa   \n",
       "3  2018.06.08  2018-06-08 00:00:00  2018  Unprovoked  Australia   \n",
       "4  2018.06.04  2018-06-04 00:00:00  2018    Provoked     Mexico   \n",
       "\n",
       "              Area                        Location     Activity  \\\n",
       "0       California     Oceanside, San Diego County     Paddling   \n",
       "1          Georgia  St. Simon Island, Glynn County     Standing   \n",
       "2           Hawaii                    Habush, Oahu      Surfing   \n",
       "3  New South Wales              Arrawarra Headland      Surfing   \n",
       "4           Colima                        La Ticla  Free diving   \n",
       "\n",
       "              Name Sex  ...          Species                    Investigator  \\\n",
       "0      Julie Wolfe   F  ...      White shark                R. Collier, GSAF   \n",
       "1  Adyson McNeely    F  ...              NaN  K.McMurray, TrackingSharks.com   \n",
       "2      John Denges   M  ...              NaN  K.McMurray, TrackingSharks.com   \n",
       "3             male   M  ...        2 m shark                  B. Myatt, GSAF   \n",
       "4   Gustavo Ramos    M  ...  Tiger shark, 3m                       A .Kipper   \n",
       "\n",
       "                        pdf  \\\n",
       "0      2018.06.25-Wolfe.pdf   \n",
       "1    2018.06.18-McNeely.pdf   \n",
       "2     2018.06.09-Denges.pdf   \n",
       "3  2018.06.08-Arrawarra.pdf   \n",
       "4      2018.06.04-Ramos.pdf   \n",
       "\n",
       "                                        href_formula  \\\n",
       "0  http://sharkattackfile.net/spreadsheets/pdf_di...   \n",
       "1  http://sharkattackfile.net/spreadsheets/pdf_di...   \n",
       "2  http://sharkattackfile.net/spreadsheets/pdf_di...   \n",
       "3  http://sharkattackfile.net/spreadsheets/pdf_di...   \n",
       "4  http://sharkattackfile.net/spreadsheets/pdf_di...   \n",
       "\n",
       "                                                href     Case_n1     Case_n2  \\\n",
       "0  http://sharkattackfile.net/spreadsheets/pdf_di...  2018.06.25  2018.06.25   \n",
       "1  http://sharkattackfile.net/spreadsheets/pdf_di...  2018.06.18  2018.06.18   \n",
       "2  http://sharkattackfile.net/spreadsheets/pdf_di...  2018.06.09  2018.06.09   \n",
       "3  http://sharkattackfile.net/spreadsheets/pdf_di...  2018.06.08  2018.06.08   \n",
       "4  http://sharkattackfile.net/spreadsheets/pdf_di...  2018.06.04  2018.06.04   \n",
       "\n",
       "  original_order unnamed22 unnamed23  \n",
       "0         6303.0       NaN       NaN  \n",
       "1         6302.0       NaN       NaN  \n",
       "2         6301.0       NaN       NaN  \n",
       "3         6300.0       NaN       NaN  \n",
       "4         6299.0       NaN       NaN  \n",
       "\n",
       "[5 rows x 24 columns]"
      ]
     },
     "execution_count": 29,
     "metadata": {},
     "output_type": "execute_result"
    }
   ],
   "source": [
    "df.head()"
   ]
  },
  {
   "cell_type": "code",
   "execution_count": 30,
   "id": "meaningful-barrier",
   "metadata": {},
   "outputs": [],
   "source": [
    "df['Area'] = df['Area'].fillna('Unknown')"
   ]
  },
  {
   "cell_type": "code",
   "execution_count": 31,
   "id": "aware-sender",
   "metadata": {},
   "outputs": [
    {
     "data": {
      "text/plain": [
       "0              California\n",
       "1                 Georgia\n",
       "2                  Hawaii\n",
       "3         New South Wales\n",
       "4                  Colima\n",
       "              ...        \n",
       "6297    Western Australia\n",
       "6298    Western Australia\n",
       "6299       North Carolina\n",
       "6300              Unknown\n",
       "6301     Eastern Province\n",
       "Name: Area, Length: 6302, dtype: object"
      ]
     },
     "execution_count": 31,
     "metadata": {},
     "output_type": "execute_result"
    }
   ],
   "source": [
    "df.Area.replace('numeric', 'unknown')"
   ]
  },
  {
   "cell_type": "markdown",
   "id": "talented-desktop",
   "metadata": {},
   "source": [
    "# Columna Location"
   ]
  },
  {
   "cell_type": "code",
   "execution_count": 32,
   "id": "serial-leeds",
   "metadata": {},
   "outputs": [
    {
     "data": {
      "text/plain": [
       "array(['Oceanside, San Diego County', 'St. Simon Island, Glynn County',\n",
       "       'Habush, Oahu', ..., 'Ocracoke Inlet', 'Panama Bay 8ºN, 79ºW',\n",
       "       'Below the English fort, Trincomalee'], dtype=object)"
      ]
     },
     "execution_count": 32,
     "metadata": {},
     "output_type": "execute_result"
    }
   ],
   "source": [
    "df.Location.unique()"
   ]
  },
  {
   "cell_type": "code",
   "execution_count": 33,
   "id": "decreased-lancaster",
   "metadata": {},
   "outputs": [],
   "source": [
    "df['Location'] = df['Location'].fillna('Unknown')"
   ]
  },
  {
   "cell_type": "code",
   "execution_count": 34,
   "id": "powered-patrick",
   "metadata": {},
   "outputs": [],
   "source": [
    "df.Location=df.Location.astype(dtype='str')"
   ]
  },
  {
   "cell_type": "markdown",
   "id": "exposed-arrangement",
   "metadata": {},
   "source": [
    "# Columna Activity"
   ]
  },
  {
   "cell_type": "code",
   "execution_count": 35,
   "id": "extended-tracy",
   "metadata": {},
   "outputs": [
    {
     "data": {
      "text/plain": [
       "array(['Paddling', 'Standing', 'Surfing', ...,\n",
       "       'Crew swimming alongside their anchored ship',\n",
       "       '4 men were bathing', 'Wreck of  large double sailing canoe'],\n",
       "      dtype=object)"
      ]
     },
     "execution_count": 35,
     "metadata": {},
     "output_type": "execute_result"
    }
   ],
   "source": [
    "df.Activity.unique()"
   ]
  },
  {
   "cell_type": "code",
   "execution_count": 36,
   "id": "actual-spine",
   "metadata": {},
   "outputs": [],
   "source": [
    "df['Activity'] = df['Activity'].fillna('Unknown')"
   ]
  },
  {
   "cell_type": "markdown",
   "id": "preceding-korea",
   "metadata": {},
   "source": [
    "# Columna name"
   ]
  },
  {
   "cell_type": "code",
   "execution_count": 37,
   "id": "incorporated-glasgow",
   "metadata": {},
   "outputs": [],
   "source": [
    "df.Name=df.Name.replace(to_replace =[\"male\", \"female\"], value =\"Unknown\")"
   ]
  },
  {
   "cell_type": "code",
   "execution_count": 38,
   "id": "fiscal-signature",
   "metadata": {},
   "outputs": [],
   "source": [
    "df['Name'] = df['Name'].fillna('Unknown')"
   ]
  },
  {
   "cell_type": "markdown",
   "id": "fitting-doctrine",
   "metadata": {},
   "source": [
    "# Columna Sex"
   ]
  },
  {
   "cell_type": "code",
   "execution_count": 39,
   "id": "secret-sustainability",
   "metadata": {},
   "outputs": [
    {
     "data": {
      "text/plain": [
       "array(['F', 'M', nan, 'M ', 'lli', 'N', '.'], dtype=object)"
      ]
     },
     "execution_count": 39,
     "metadata": {},
     "output_type": "execute_result"
    }
   ],
   "source": [
    "df.Sex.unique()"
   ]
  },
  {
   "cell_type": "code",
   "execution_count": 40,
   "id": "running-brighton",
   "metadata": {},
   "outputs": [],
   "source": [
    "df['Sex'] = df['Sex'].fillna('Unknown')"
   ]
  },
  {
   "cell_type": "code",
   "execution_count": 41,
   "id": "valuable-newman",
   "metadata": {},
   "outputs": [],
   "source": [
    "df.Sex=df.Sex.replace(to_replace =(\"M \"), value =\"M\")"
   ]
  },
  {
   "cell_type": "code",
   "execution_count": 42,
   "id": "surgical-omega",
   "metadata": {},
   "outputs": [
    {
     "data": {
      "text/plain": [
       "array(['F', 'M', 'Unknown', 'lli', 'N', '.'], dtype=object)"
      ]
     },
     "execution_count": 42,
     "metadata": {},
     "output_type": "execute_result"
    }
   ],
   "source": [
    "df.Sex.unique()"
   ]
  },
  {
   "cell_type": "code",
   "execution_count": 43,
   "id": "attractive-jason",
   "metadata": {},
   "outputs": [
    {
     "data": {
      "text/html": [
       "<div>\n",
       "<style scoped>\n",
       "    .dataframe tbody tr th:only-of-type {\n",
       "        vertical-align: middle;\n",
       "    }\n",
       "\n",
       "    .dataframe tbody tr th {\n",
       "        vertical-align: top;\n",
       "    }\n",
       "\n",
       "    .dataframe thead th {\n",
       "        text-align: right;\n",
       "    }\n",
       "</style>\n",
       "<table border=\"1\" class=\"dataframe\">\n",
       "  <thead>\n",
       "    <tr style=\"text-align: right;\">\n",
       "      <th></th>\n",
       "      <th>Case_number</th>\n",
       "      <th>Date</th>\n",
       "      <th>Year</th>\n",
       "      <th>Type</th>\n",
       "      <th>Country</th>\n",
       "      <th>Area</th>\n",
       "      <th>Location</th>\n",
       "      <th>Activity</th>\n",
       "      <th>Name</th>\n",
       "      <th>Sex</th>\n",
       "      <th>...</th>\n",
       "      <th>Species</th>\n",
       "      <th>Investigator</th>\n",
       "      <th>pdf</th>\n",
       "      <th>href_formula</th>\n",
       "      <th>href</th>\n",
       "      <th>Case_n1</th>\n",
       "      <th>Case_n2</th>\n",
       "      <th>original_order</th>\n",
       "      <th>unnamed22</th>\n",
       "      <th>unnamed23</th>\n",
       "    </tr>\n",
       "  </thead>\n",
       "  <tbody>\n",
       "    <tr>\n",
       "      <th>4938</th>\n",
       "      <td>1934.07.11</td>\n",
       "      <td>1934-07-11 00:00:00</td>\n",
       "      <td>1934</td>\n",
       "      <td>Boating</td>\n",
       "      <td>Australia</td>\n",
       "      <td>New South Wales</td>\n",
       "      <td>Cronulla</td>\n",
       "      <td>Fishing</td>\n",
       "      <td>18' boat, occupants William &amp; Leslie Newton</td>\n",
       "      <td>N</td>\n",
       "      <td>...</td>\n",
       "      <td>Blue pointer, 11'</td>\n",
       "      <td>G.P. Whitley, ref: Daily Telegraph, 7/11/1934 ...</td>\n",
       "      <td>1934.07.11-Newton-boat-Australia.pdf</td>\n",
       "      <td>http://sharkattackfile.net/spreadsheets/pdf_di...</td>\n",
       "      <td>http://sharkattackfile.net/spreadsheets/pdf_di...</td>\n",
       "      <td>1934.07.11</td>\n",
       "      <td>1934.07.11</td>\n",
       "      <td>1365.0</td>\n",
       "      <td>NaN</td>\n",
       "      <td>NaN</td>\n",
       "    </tr>\n",
       "    <tr>\n",
       "      <th>6131</th>\n",
       "      <td>1801.12.18.R</td>\n",
       "      <td>1801-12-18 00:00:00</td>\n",
       "      <td>1801</td>\n",
       "      <td>Provoked</td>\n",
       "      <td>Unknown</td>\n",
       "      <td>Unknown</td>\n",
       "      <td>Unknown</td>\n",
       "      <td>Standing on landed shark's tail</td>\n",
       "      <td>Stephen Pettigew</td>\n",
       "      <td>N</td>\n",
       "      <td>...</td>\n",
       "      <td>12' shark</td>\n",
       "      <td>The Evening Post, 12/18/1801</td>\n",
       "      <td>1801.12.18.R-Pettigrew.pdf</td>\n",
       "      <td>http://sharkattackfile.net/spreadsheets/pdf_di...</td>\n",
       "      <td>http://sharkattackfile.net/spreadsheets/pdf_di...</td>\n",
       "      <td>1801.12.18.R</td>\n",
       "      <td>1801.12.18.R</td>\n",
       "      <td>172.0</td>\n",
       "      <td>NaN</td>\n",
       "      <td>NaN</td>\n",
       "    </tr>\n",
       "  </tbody>\n",
       "</table>\n",
       "<p>2 rows × 24 columns</p>\n",
       "</div>"
      ],
      "text/plain": [
       "       Case_number                 Date  Year      Type    Country  \\\n",
       "4938    1934.07.11  1934-07-11 00:00:00  1934   Boating  Australia   \n",
       "6131  1801.12.18.R  1801-12-18 00:00:00  1801  Provoked    Unknown   \n",
       "\n",
       "                 Area  Location                         Activity  \\\n",
       "4938  New South Wales  Cronulla                          Fishing   \n",
       "6131          Unknown   Unknown  Standing on landed shark's tail   \n",
       "\n",
       "                                             Name Sex  ...  \\\n",
       "4938  18' boat, occupants William & Leslie Newton   N  ...   \n",
       "6131                             Stephen Pettigew   N  ...   \n",
       "\n",
       "                 Species                                       Investigator  \\\n",
       "4938  Blue pointer, 11'   G.P. Whitley, ref: Daily Telegraph, 7/11/1934 ...   \n",
       "6131           12' shark                       The Evening Post, 12/18/1801   \n",
       "\n",
       "                                       pdf  \\\n",
       "4938  1934.07.11-Newton-boat-Australia.pdf   \n",
       "6131            1801.12.18.R-Pettigrew.pdf   \n",
       "\n",
       "                                           href_formula  \\\n",
       "4938  http://sharkattackfile.net/spreadsheets/pdf_di...   \n",
       "6131  http://sharkattackfile.net/spreadsheets/pdf_di...   \n",
       "\n",
       "                                                   href       Case_n1  \\\n",
       "4938  http://sharkattackfile.net/spreadsheets/pdf_di...    1934.07.11   \n",
       "6131  http://sharkattackfile.net/spreadsheets/pdf_di...  1801.12.18.R   \n",
       "\n",
       "           Case_n2 original_order unnamed22 unnamed23  \n",
       "4938    1934.07.11         1365.0       NaN       NaN  \n",
       "6131  1801.12.18.R          172.0       NaN       NaN  \n",
       "\n",
       "[2 rows x 24 columns]"
      ]
     },
     "execution_count": 43,
     "metadata": {},
     "output_type": "execute_result"
    }
   ],
   "source": [
    "#Saco las rows con N para ver que ha pasado. La hipótesis de que la n está cerca de la m queda rechazada.\n",
    "df.loc[df['Sex'] == 'N']"
   ]
  },
  {
   "cell_type": "code",
   "execution_count": 44,
   "id": "dense-glasgow",
   "metadata": {},
   "outputs": [],
   "source": [
    "#Los cambio por Males porque ambos casos contienen hombres\n",
    "df.Sex=df.Sex.replace(to_replace =(\"N\"), value =\"M\")"
   ]
  },
  {
   "cell_type": "code",
   "execution_count": 45,
   "id": "passive-allowance",
   "metadata": {},
   "outputs": [
    {
     "data": {
      "text/plain": [
       "array(['F', 'M', 'Unknown', 'lli', '.'], dtype=object)"
      ]
     },
     "execution_count": 45,
     "metadata": {},
     "output_type": "execute_result"
    }
   ],
   "source": [
    "df.Sex.unique()"
   ]
  },
  {
   "cell_type": "code",
   "execution_count": 46,
   "id": "cubic-potato",
   "metadata": {},
   "outputs": [
    {
     "data": {
      "text/html": [
       "<div>\n",
       "<style scoped>\n",
       "    .dataframe tbody tr th:only-of-type {\n",
       "        vertical-align: middle;\n",
       "    }\n",
       "\n",
       "    .dataframe tbody tr th {\n",
       "        vertical-align: top;\n",
       "    }\n",
       "\n",
       "    .dataframe thead th {\n",
       "        text-align: right;\n",
       "    }\n",
       "</style>\n",
       "<table border=\"1\" class=\"dataframe\">\n",
       "  <thead>\n",
       "    <tr style=\"text-align: right;\">\n",
       "      <th></th>\n",
       "      <th>Case_number</th>\n",
       "      <th>Date</th>\n",
       "      <th>Year</th>\n",
       "      <th>Type</th>\n",
       "      <th>Country</th>\n",
       "      <th>Area</th>\n",
       "      <th>Location</th>\n",
       "      <th>Activity</th>\n",
       "      <th>Name</th>\n",
       "      <th>Sex</th>\n",
       "      <th>...</th>\n",
       "      <th>Species</th>\n",
       "      <th>Investigator</th>\n",
       "      <th>pdf</th>\n",
       "      <th>href_formula</th>\n",
       "      <th>href</th>\n",
       "      <th>Case_n1</th>\n",
       "      <th>Case_n2</th>\n",
       "      <th>original_order</th>\n",
       "      <th>unnamed22</th>\n",
       "      <th>unnamed23</th>\n",
       "    </tr>\n",
       "  </thead>\n",
       "  <tbody>\n",
       "    <tr>\n",
       "      <th>1624</th>\n",
       "      <td>2004.11.11.b</td>\n",
       "      <td>2004-11-11 00:00:00</td>\n",
       "      <td>2004</td>\n",
       "      <td>Unprovoked</td>\n",
       "      <td>Usa</td>\n",
       "      <td>California</td>\n",
       "      <td>Bunkers, Humboldt Bay, Eureka, Humboldt County</td>\n",
       "      <td>Surfing</td>\n",
       "      <td>Brian Kang</td>\n",
       "      <td>lli</td>\n",
       "      <td>...</td>\n",
       "      <td>5.5 m [18'] white shark</td>\n",
       "      <td>R. Collier, GSAF</td>\n",
       "      <td>2004.11.11.b-Kang.pdf</td>\n",
       "      <td>http://sharkattackfile.net/spreadsheets/pdf_di...</td>\n",
       "      <td>http://sharkattackfile.net/spreadsheets/pdf_di...</td>\n",
       "      <td>2004.11.11.b</td>\n",
       "      <td>2004.11.11.b</td>\n",
       "      <td>4679.0</td>\n",
       "      <td>NaN</td>\n",
       "      <td>NaN</td>\n",
       "    </tr>\n",
       "  </tbody>\n",
       "</table>\n",
       "<p>1 rows × 24 columns</p>\n",
       "</div>"
      ],
      "text/plain": [
       "       Case_number                 Date  Year        Type Country        Area  \\\n",
       "1624  2004.11.11.b  2004-11-11 00:00:00  2004  Unprovoked     Usa  California   \n",
       "\n",
       "                                            Location Activity        Name  \\\n",
       "1624  Bunkers, Humboldt Bay, Eureka, Humboldt County  Surfing  Brian Kang   \n",
       "\n",
       "      Sex  ...                  Species                      Investigator  \\\n",
       "1624  lli  ...  5.5 m [18'] white shark  R. Collier, GSAF                   \n",
       "\n",
       "                        pdf  \\\n",
       "1624  2004.11.11.b-Kang.pdf   \n",
       "\n",
       "                                           href_formula  \\\n",
       "1624  http://sharkattackfile.net/spreadsheets/pdf_di...   \n",
       "\n",
       "                                                   href       Case_n1  \\\n",
       "1624  http://sharkattackfile.net/spreadsheets/pdf_di...  2004.11.11.b   \n",
       "\n",
       "           Case_n2 original_order unnamed22 unnamed23  \n",
       "1624  2004.11.11.b         4679.0       NaN       NaN  \n",
       "\n",
       "[1 rows x 24 columns]"
      ]
     },
     "execution_count": 46,
     "metadata": {},
     "output_type": "execute_result"
    }
   ],
   "source": [
    "df.loc[df['Sex'] == 'lli']"
   ]
  },
  {
   "cell_type": "code",
   "execution_count": 47,
   "id": "human-damage",
   "metadata": {},
   "outputs": [],
   "source": [
    "df.Sex=df.Sex.replace(to_replace =(\"lli\"), value =\"M\")"
   ]
  },
  {
   "cell_type": "code",
   "execution_count": 48,
   "id": "excellent-zealand",
   "metadata": {},
   "outputs": [
    {
     "data": {
      "text/html": [
       "<div>\n",
       "<style scoped>\n",
       "    .dataframe tbody tr th:only-of-type {\n",
       "        vertical-align: middle;\n",
       "    }\n",
       "\n",
       "    .dataframe tbody tr th {\n",
       "        vertical-align: top;\n",
       "    }\n",
       "\n",
       "    .dataframe thead th {\n",
       "        text-align: right;\n",
       "    }\n",
       "</style>\n",
       "<table border=\"1\" class=\"dataframe\">\n",
       "  <thead>\n",
       "    <tr style=\"text-align: right;\">\n",
       "      <th></th>\n",
       "      <th>Case_number</th>\n",
       "      <th>Date</th>\n",
       "      <th>Year</th>\n",
       "      <th>Type</th>\n",
       "      <th>Country</th>\n",
       "      <th>Area</th>\n",
       "      <th>Location</th>\n",
       "      <th>Activity</th>\n",
       "      <th>Name</th>\n",
       "      <th>Sex</th>\n",
       "      <th>...</th>\n",
       "      <th>Species</th>\n",
       "      <th>Investigator</th>\n",
       "      <th>pdf</th>\n",
       "      <th>href_formula</th>\n",
       "      <th>href</th>\n",
       "      <th>Case_n1</th>\n",
       "      <th>Case_n2</th>\n",
       "      <th>original_order</th>\n",
       "      <th>unnamed22</th>\n",
       "      <th>unnamed23</th>\n",
       "    </tr>\n",
       "  </thead>\n",
       "  <tbody>\n",
       "    <tr>\n",
       "      <th>5437</th>\n",
       "      <td>1908.06.02.R</td>\n",
       "      <td>1908-06-02 00:00:00</td>\n",
       "      <td>1908</td>\n",
       "      <td>Sea Disaster</td>\n",
       "      <td>Papua new guinea</td>\n",
       "      <td>New Britain</td>\n",
       "      <td>Matupi</td>\n",
       "      <td>.</td>\n",
       "      <td>Unknown</td>\n",
       "      <td>.</td>\n",
       "      <td>...</td>\n",
       "      <td>Allegedly a 33-foot shark</td>\n",
       "      <td>Taranaki Herald, 6/2/1908</td>\n",
       "      <td>1908.06.02.R-Matupi.pdf</td>\n",
       "      <td>http://sharkattackfile.net/spreadsheets/pdf_di...</td>\n",
       "      <td>http://sharkattackfile.net/spreadsheets/pdf_di...</td>\n",
       "      <td>1908.06.02.R</td>\n",
       "      <td>1908.06.02.R</td>\n",
       "      <td>866.0</td>\n",
       "      <td>NaN</td>\n",
       "      <td>NaN</td>\n",
       "    </tr>\n",
       "  </tbody>\n",
       "</table>\n",
       "<p>1 rows × 24 columns</p>\n",
       "</div>"
      ],
      "text/plain": [
       "       Case_number                 Date  Year          Type           Country  \\\n",
       "5437  1908.06.02.R  1908-06-02 00:00:00  1908  Sea Disaster  Papua new guinea   \n",
       "\n",
       "             Area Location Activity     Name Sex  ...  \\\n",
       "5437  New Britain   Matupi        .  Unknown   .  ...   \n",
       "\n",
       "                        Species               Investigator  \\\n",
       "5437  Allegedly a 33-foot shark  Taranaki Herald, 6/2/1908   \n",
       "\n",
       "                          pdf  \\\n",
       "5437  1908.06.02.R-Matupi.pdf   \n",
       "\n",
       "                                           href_formula  \\\n",
       "5437  http://sharkattackfile.net/spreadsheets/pdf_di...   \n",
       "\n",
       "                                                   href       Case_n1  \\\n",
       "5437  http://sharkattackfile.net/spreadsheets/pdf_di...  1908.06.02.R   \n",
       "\n",
       "           Case_n2 original_order unnamed22 unnamed23  \n",
       "5437  1908.06.02.R          866.0       NaN       NaN  \n",
       "\n",
       "[1 rows x 24 columns]"
      ]
     },
     "execution_count": 48,
     "metadata": {},
     "output_type": "execute_result"
    }
   ],
   "source": [
    "df.loc[df['Sex'] == '.']"
   ]
  },
  {
   "cell_type": "code",
   "execution_count": 49,
   "id": "portuguese-broadcasting",
   "metadata": {},
   "outputs": [],
   "source": [
    "df.Sex=df.Sex.replace(to_replace =(\".\"), value =\"Unknown\")"
   ]
  },
  {
   "cell_type": "code",
   "execution_count": 50,
   "id": "adopted-morrison",
   "metadata": {},
   "outputs": [
    {
     "data": {
      "text/plain": [
       "array(['F', 'M', 'Unknown'], dtype=object)"
      ]
     },
     "execution_count": 50,
     "metadata": {},
     "output_type": "execute_result"
    }
   ],
   "source": [
    "df.Sex.unique()"
   ]
  },
  {
   "cell_type": "markdown",
   "id": "subtle-condition",
   "metadata": {},
   "source": [
    "# Columna Age"
   ]
  },
  {
   "cell_type": "code",
   "execution_count": 51,
   "id": "medieval-conclusion",
   "metadata": {},
   "outputs": [
    {
     "data": {
      "text/plain": [
       "array(['57', '11', '48', nan, '18', '52', '15', '12', '32', '10', '21',\n",
       "       '34', '30', '60', '33', '29', '54', '41', '37', '56', '19', '25',\n",
       "       '69', '38', '55', '35', '46', '45', '14', '40s', '28', '20', '24',\n",
       "       '26', '49', '22', '7', '31', '17', '40', '13', '42', '3', '8',\n",
       "       '50', '16', '82', '73', '20s', '68', '51', '39', '58', 'Teen',\n",
       "       '47', '61', '65', '36', '66', '43', '60s', '9', '72', '59', '6',\n",
       "       '27', '64', '23', '71', '44', '62', '63', '70', '18 months', '53',\n",
       "       '30s', '50s', 'teen', '77', '74', '28 & 26', '5', '86', '18 or 20',\n",
       "       '12 or 13', '46 & 34', '28, 23 & 30', 'Teens', '36 & 26',\n",
       "       '8 or 10', '84', '\\xa0 ', ' ', '30 or 36', '6½', '21 & ?', '75',\n",
       "       '33 or 37', 'mid-30s', '23 & 20', ' 30', '7      &    31', ' 28',\n",
       "       '20?', \"60's\", '32 & 30', '16 to 18', '87', '67', 'Elderly',\n",
       "       'mid-20s', 'Ca. 33', '74 ', '45 ', '21 or 26', '20 ', '>50',\n",
       "       '18 to 22', 'adult', '9 & 12', '? & 19', '9 months', '25 to 35',\n",
       "       '23 & 26', '1', '(adult)', '33 & 37', '25 or 28',\n",
       "       '37, 67, 35, 27,  ? & 27', '21, 34,24 & 35', '30 & 32', '50 & 30',\n",
       "       '17 & 35', 'X', '\"middle-age\"', '13 or 18', '34 & 19', '33 & 26',\n",
       "       '2 to 3 months', 'MAKE LINE GREEN', ' 43', '81', '\"young\"',\n",
       "       '7 or 8', '78', '17 & 16', 'F', 'Both 11', '9 or 10', 'young',\n",
       "       '36 & 23', '  ', 'A.M.', '?    &   14', '10 or 12', '31 or 33',\n",
       "       '2½', '13 or 14'], dtype=object)"
      ]
     },
     "execution_count": 51,
     "metadata": {},
     "output_type": "execute_result"
    }
   ],
   "source": [
    "df.Age.unique()"
   ]
  },
  {
   "cell_type": "code",
   "execution_count": 52,
   "id": "bacterial-seven",
   "metadata": {},
   "outputs": [],
   "source": [
    "df['Age'] = df['Age'].fillna('Unknown')"
   ]
  },
  {
   "cell_type": "markdown",
   "id": "powered-novelty",
   "metadata": {},
   "source": [
    "# Columna injury"
   ]
  },
  {
   "cell_type": "markdown",
   "id": "guided-processing",
   "metadata": {},
   "source": [
    "No es la sección de la que estoy mas orgulloso, he ido aprendiendo lo de starts with y contain mientras lo hacía y se nota. Es un poco desorganizado pero n general lo que hago es quitar duplicados y agrupar por las repeticiones que voy viendo"
   ]
  },
  {
   "cell_type": "code",
   "execution_count": 53,
   "id": "pursuant-ancient",
   "metadata": {},
   "outputs": [],
   "source": [
    "df['Injury'] = df['Injury'].fillna('Unknown')"
   ]
  },
  {
   "cell_type": "code",
   "execution_count": 54,
   "id": "mature-mercy",
   "metadata": {},
   "outputs": [],
   "source": [
    "df.loc[df['Injury'].str.contains('\\wo injury', regex=True, case=False), 'Injury'] = 'No injury'"
   ]
  },
  {
   "cell_type": "code",
   "execution_count": 55,
   "id": "individual-liberty",
   "metadata": {},
   "outputs": [],
   "source": [
    "df.Injury=df.Injury.apply(lambda x: 'FATAL' if x.startswith(('Death', 'Dead')) else x)"
   ]
  },
  {
   "cell_type": "code",
   "execution_count": 56,
   "id": "everyday-bankruptcy",
   "metadata": {},
   "outputs": [],
   "source": [
    "df.loc[df['Injury'].str.contains('\\wrm', regex=True, case=False), 'Injury'] = 'Arm injury'"
   ]
  },
  {
   "cell_type": "code",
   "execution_count": 57,
   "id": "afraid-butter",
   "metadata": {},
   "outputs": [],
   "source": [
    "df.loc[df['Injury'].str.contains('\\woot', regex=True, case=False), 'Injury'] = 'Leg injury'"
   ]
  },
  {
   "cell_type": "code",
   "execution_count": 58,
   "id": "brief-rating",
   "metadata": {},
   "outputs": [],
   "source": [
    "df.loc[df['Injury'].str.contains('\\weg', regex=True, case=False), 'Injury'] = 'Leg injury'"
   ]
  },
  {
   "cell_type": "code",
   "execution_count": 59,
   "id": "regulated-precipitation",
   "metadata": {},
   "outputs": [],
   "source": [
    "df.loc[df['Injury'].str.contains('\\wand', regex=True, case=False), 'Injury'] = 'Arm injury'"
   ]
  },
  {
   "cell_type": "code",
   "execution_count": 60,
   "id": "czech-medication",
   "metadata": {},
   "outputs": [],
   "source": [
    "df.loc[df['Injury'].str.contains('\\watal', regex=True, case=False), 'Injury'] = 'FATAL'"
   ]
  },
  {
   "cell_type": "code",
   "execution_count": 61,
   "id": "molecular-politics",
   "metadata": {},
   "outputs": [],
   "source": [
    "df.loc[df['Injury'].str.contains('\\wit', regex=True, case=False), 'Injury'] = 'Bitten'"
   ]
  },
  {
   "cell_type": "code",
   "execution_count": 62,
   "id": "built-commissioner",
   "metadata": {},
   "outputs": [],
   "source": [
    "df.loc[df['Injury'].str.contains('\\wuncture', regex=True, case=False), 'Injury'] = 'Puncture'"
   ]
  },
  {
   "cell_type": "code",
   "execution_count": 63,
   "id": "expected-cornwall",
   "metadata": {},
   "outputs": [],
   "source": [
    "df.loc[df['Injury'].str.contains('\\waceration', regex=True, case=False), 'Injury'] = 'Laceration'"
   ]
  },
  {
   "cell_type": "code",
   "execution_count": 64,
   "id": "broadband-spider",
   "metadata": {},
   "outputs": [],
   "source": [
    "df.loc[df['Injury'].str.contains('\\winor', regex=True, case=False), 'Injury'] = 'Minor Injuries'"
   ]
  },
  {
   "cell_type": "code",
   "execution_count": 65,
   "id": "pressing-consciousness",
   "metadata": {},
   "outputs": [],
   "source": [
    "injury_lst = ['Unknown', 'Arm injury', 'No injury', 'Leg injury', 'Laceration', 'Minor Injuries', 'Puncture', 'Bitten', 'FATAL']"
   ]
  },
  {
   "cell_type": "code",
   "execution_count": 66,
   "id": "magnetic-entrance",
   "metadata": {},
   "outputs": [],
   "source": [
    "df.Injury=df.Injury.apply(lambda x: 'Unknown' if x not in injury_lst else x)"
   ]
  },
  {
   "cell_type": "code",
   "execution_count": 67,
   "id": "expensive-inspiration",
   "metadata": {},
   "outputs": [
    {
     "data": {
      "text/plain": [
       "Leg injury        1618\n",
       "FATAL             1127\n",
       "Arm injury        1009\n",
       "No injury          804\n",
       "Unknown            791\n",
       "Bitten             549\n",
       "Laceration         239\n",
       "Minor Injuries      90\n",
       "Puncture            75\n",
       "Name: Injury, dtype: int64"
      ]
     },
     "execution_count": 67,
     "metadata": {},
     "output_type": "execute_result"
    }
   ],
   "source": [
    "#He optado por no agrupar los PROVOKED INCIDENT, ya que no da info sobre el injury\n",
    "#Si nos interesa esa info, creamos una nueva columna con un booleano yes/no\n",
    "df.Injury.value_counts()"
   ]
  },
  {
   "cell_type": "markdown",
   "id": "timely-collection",
   "metadata": {},
   "source": [
    "# Columna fatal"
   ]
  },
  {
   "cell_type": "code",
   "execution_count": 68,
   "id": "hairy-orlando",
   "metadata": {},
   "outputs": [
    {
     "data": {
      "text/plain": [
       "array(['N', 'Y', nan, 'M', 'UNKNOWN', '2017', ' N', 'N ', 'y'],\n",
       "      dtype=object)"
      ]
     },
     "execution_count": 68,
     "metadata": {},
     "output_type": "execute_result"
    }
   ],
   "source": [
    "df.Fatal.unique()"
   ]
  },
  {
   "cell_type": "code",
   "execution_count": 69,
   "id": "conditional-indianapolis",
   "metadata": {},
   "outputs": [],
   "source": [
    "df['Fatal'] = df['Fatal'].fillna('Unknown')"
   ]
  },
  {
   "cell_type": "code",
   "execution_count": 70,
   "id": "burning-polymer",
   "metadata": {},
   "outputs": [],
   "source": [
    "df.Fatal=df.Fatal.replace(to_replace =(\" N\"), value =\"N\")"
   ]
  },
  {
   "cell_type": "code",
   "execution_count": 71,
   "id": "gorgeous-socket",
   "metadata": {},
   "outputs": [],
   "source": [
    "df.Fatal=df.Fatal.replace(to_replace =(\"N \"), value =\"N\")"
   ]
  },
  {
   "cell_type": "code",
   "execution_count": 72,
   "id": "similar-teacher",
   "metadata": {},
   "outputs": [],
   "source": [
    "df.Fatal=df.Fatal.replace(to_replace =(\"y\"), value =\"Y\")"
   ]
  },
  {
   "cell_type": "code",
   "execution_count": 73,
   "id": "efficient-belief",
   "metadata": {},
   "outputs": [],
   "source": [
    "df.Fatal=df.Fatal.replace(to_replace =(\"UNKNOWN\"), value =\"Unknown\")"
   ]
  },
  {
   "cell_type": "code",
   "execution_count": 74,
   "id": "flush-discipline",
   "metadata": {},
   "outputs": [],
   "source": [
    "df.Fatal=df.Fatal.replace(to_replace =(\"M\"), value =\"Unknown\")"
   ]
  },
  {
   "cell_type": "code",
   "execution_count": 75,
   "id": "center-alloy",
   "metadata": {},
   "outputs": [],
   "source": [
    "df.Fatal=df.Fatal.replace(to_replace =(\"2017\"), value =\"Unknown\")"
   ]
  },
  {
   "cell_type": "code",
   "execution_count": 76,
   "id": "fossil-chocolate",
   "metadata": {},
   "outputs": [
    {
     "data": {
      "text/plain": [
       "array(['N', 'Y', 'Unknown'], dtype=object)"
      ]
     },
     "execution_count": 76,
     "metadata": {},
     "output_type": "execute_result"
    }
   ],
   "source": [
    "df.Fatal.unique()"
   ]
  },
  {
   "cell_type": "markdown",
   "id": "respective-magnitude",
   "metadata": {},
   "source": [
    "# Columna time"
   ]
  },
  {
   "cell_type": "code",
   "execution_count": 77,
   "id": "organized-wisconsin",
   "metadata": {},
   "outputs": [],
   "source": [
    "df['Time'] = df['Time'].fillna('Unknown')"
   ]
  },
  {
   "cell_type": "code",
   "execution_count": 78,
   "id": "deadly-prompt",
   "metadata": {},
   "outputs": [],
   "source": [
    "#Empaqueto las horas en Morning, Afternoon, evening y night "
   ]
  },
  {
   "cell_type": "code",
   "execution_count": 79,
   "id": "cultural-healing",
   "metadata": {},
   "outputs": [],
   "source": [
    "df.Time=df.Time.apply(lambda x: 'Morning' if x.startswith('06') else x)"
   ]
  },
  {
   "cell_type": "code",
   "execution_count": 80,
   "id": "brave-opera",
   "metadata": {},
   "outputs": [],
   "source": [
    "df.Time=df.Time.apply(lambda x: 'Morning' if x.startswith('07') else x)"
   ]
  },
  {
   "cell_type": "code",
   "execution_count": 81,
   "id": "packed-advertiser",
   "metadata": {},
   "outputs": [],
   "source": [
    "df.Time=df.Time.apply(lambda x: 'Morning' if x.startswith('08') else x)"
   ]
  },
  {
   "cell_type": "code",
   "execution_count": 82,
   "id": "cultural-learning",
   "metadata": {},
   "outputs": [],
   "source": [
    "df.Time=df.Time.apply(lambda x: 'Morning' if x.startswith('8') else x)"
   ]
  },
  {
   "cell_type": "code",
   "execution_count": 83,
   "id": "statewide-adult",
   "metadata": {},
   "outputs": [],
   "source": [
    "df.Time=df.Time.apply(lambda x: 'Morning' if x.startswith('09') else x)"
   ]
  },
  {
   "cell_type": "code",
   "execution_count": 84,
   "id": "valued-utility",
   "metadata": {},
   "outputs": [],
   "source": [
    "df.Time=df.Time.apply(lambda x: 'Morning' if x.startswith('10') else x)"
   ]
  },
  {
   "cell_type": "code",
   "execution_count": 85,
   "id": "wanted-minnesota",
   "metadata": {},
   "outputs": [],
   "source": [
    "df.Time=df.Time.apply(lambda x: 'Morning' if x.startswith('11') else x)"
   ]
  },
  {
   "cell_type": "code",
   "execution_count": 86,
   "id": "worthy-association",
   "metadata": {},
   "outputs": [],
   "source": [
    "df.Time=df.Time.apply(lambda x: 'Morning' if x.startswith('12') else x)"
   ]
  },
  {
   "cell_type": "code",
   "execution_count": 87,
   "id": "capital-count",
   "metadata": {},
   "outputs": [],
   "source": [
    "df.Time=df.Time.apply(lambda x: 'Afternoon' if x.startswith('13') else x)"
   ]
  },
  {
   "cell_type": "code",
   "execution_count": 88,
   "id": "conservative-devices",
   "metadata": {},
   "outputs": [],
   "source": [
    "df.Time=df.Time.apply(lambda x: 'Afternoon' if x.startswith('14') else x)"
   ]
  },
  {
   "cell_type": "code",
   "execution_count": 89,
   "id": "combined-combat",
   "metadata": {},
   "outputs": [],
   "source": [
    "df.Time=df.Time.apply(lambda x: 'Afternoon' if x.startswith('15') else x)"
   ]
  },
  {
   "cell_type": "code",
   "execution_count": 90,
   "id": "comic-injection",
   "metadata": {},
   "outputs": [],
   "source": [
    "df.Time=df.Time.apply(lambda x: 'Afternoon' if x.startswith('16') else x)"
   ]
  },
  {
   "cell_type": "code",
   "execution_count": 91,
   "id": "local-impact",
   "metadata": {},
   "outputs": [],
   "source": [
    "df.Time=df.Time.apply(lambda x: 'Afternoon' if x.startswith('17') else x)"
   ]
  },
  {
   "cell_type": "code",
   "execution_count": 92,
   "id": "interior-turkish",
   "metadata": {},
   "outputs": [],
   "source": [
    "df.Time=df.Time.apply(lambda x: 'Evening' if x.startswith('18') else x)"
   ]
  },
  {
   "cell_type": "code",
   "execution_count": 93,
   "id": "objective-double",
   "metadata": {},
   "outputs": [],
   "source": [
    "df.Time=df.Time.apply(lambda x: 'Evening' if x.startswith('19') else x)"
   ]
  },
  {
   "cell_type": "code",
   "execution_count": 94,
   "id": "quarterly-pilot",
   "metadata": {},
   "outputs": [],
   "source": [
    "df.Time=df.Time.apply(lambda x: 'Evening' if x.startswith('20') else x)"
   ]
  },
  {
   "cell_type": "code",
   "execution_count": 95,
   "id": "soviet-right",
   "metadata": {},
   "outputs": [],
   "source": [
    "df.Time=df.Time.apply(lambda x: 'Evening' if x.startswith('21') else x)"
   ]
  },
  {
   "cell_type": "code",
   "execution_count": 96,
   "id": "promising-ballet",
   "metadata": {},
   "outputs": [],
   "source": [
    "df.Time=df.Time.apply(lambda x: 'Night' if x.startswith('22') else x)"
   ]
  },
  {
   "cell_type": "code",
   "execution_count": 97,
   "id": "capital-guinea",
   "metadata": {},
   "outputs": [],
   "source": [
    "df.Time=df.Time.apply(lambda x: 'Night' if x.startswith('23') else x)"
   ]
  },
  {
   "cell_type": "code",
   "execution_count": 98,
   "id": "solar-james",
   "metadata": {},
   "outputs": [],
   "source": [
    "df.Time=df.Time.apply(lambda x: 'Night' if x.startswith('0') else x)"
   ]
  },
  {
   "cell_type": "code",
   "execution_count": 99,
   "id": "flexible-denial",
   "metadata": {},
   "outputs": [],
   "source": [
    "df.loc[df['Time'].str.contains('\\wrning', regex=True, case=False), 'Time'] = 'Morning'"
   ]
  },
  {
   "cell_type": "code",
   "execution_count": 100,
   "id": "surgical-financing",
   "metadata": {},
   "outputs": [],
   "source": [
    "df.loc[df['Time'].str.contains('\\wfternoon', regex=True, case=False), 'Time'] = 'Afternoon'"
   ]
  },
  {
   "cell_type": "code",
   "execution_count": 101,
   "id": "introductory-excellence",
   "metadata": {},
   "outputs": [],
   "source": [
    "df.loc[df['Time'].str.contains('\\wvening', regex=True, case=False), 'Time'] = 'Evening'"
   ]
  },
  {
   "cell_type": "code",
   "execution_count": 102,
   "id": "subject-advisory",
   "metadata": {},
   "outputs": [],
   "source": [
    "df.loc[df['Time'].str.contains('\\wight', regex=True, case=False), 'Time'] = 'Night'"
   ]
  },
  {
   "cell_type": "code",
   "execution_count": 103,
   "id": "animal-circus",
   "metadata": {},
   "outputs": [],
   "source": [
    "df.loc[df['Time'].str.contains('\\woon', regex=True, case=False), 'Time'] = 'Afternoon'"
   ]
  },
  {
   "cell_type": "code",
   "execution_count": 104,
   "id": "closed-marathon",
   "metadata": {},
   "outputs": [],
   "source": [
    "df.Time=df.Time.apply(lambda x: 'Morning' if x.startswith('Early morning') else x)"
   ]
  },
  {
   "cell_type": "code",
   "execution_count": 105,
   "id": "sharp-antigua",
   "metadata": {},
   "outputs": [],
   "source": [
    "df.Time=df.Time.apply(lambda x: 'Afternoon' if x.startswith('Early afternoon') else x)"
   ]
  },
  {
   "cell_type": "code",
   "execution_count": 106,
   "id": "arabic-february",
   "metadata": {},
   "outputs": [
    {
     "data": {
      "text/plain": [
       "Unknown                                                                  3354\n",
       "Afternoon                                                                1350\n",
       "Morning                                                                  1107\n",
       "Evening                                                                   255\n",
       "Night                                                                     124\n",
       "Dusk                                                                       15\n",
       "P.M.                                                                       12\n",
       "A.M.                                                                       12\n",
       "Midday                                                                     10\n",
       "--                                                                          5\n",
       "Sunset                                                                      4\n",
       "AM                                                                          2\n",
       "Late afternon                                                               2\n",
       "                                                                            2\n",
       "Dark                                                                        2\n",
       "Dawn                                                                        2\n",
       "\"After dark\"                                                                1\n",
       "Between 05h00 and 08h00                                                     1\n",
       "Between 11h00 & 12h00                                                       1\n",
       "After Dusk                                                                  1\n",
       "Prior to 10h37                                                              1\n",
       "                                                                            1\n",
       "Daybreak                                                                    1\n",
       " 14h00                                                                      1\n",
       ">17h30                                                                      1\n",
       "Just before sundown                                                         1\n",
       "Midday.                                                                     1\n",
       "After 04h00                                                                 1\n",
       ">08h00                                                                      1\n",
       "2 hrs before sunset                                                         1\n",
       "Sometime between 06h00 & 08hoo                                              1\n",
       "Lunchtime                                                                   1\n",
       "30 minutes after 1992.07.08.a                                               1\n",
       ">17h00                                                                      1\n",
       "X                                                                           1\n",
       "\"Just before 11h00\"                                                         1\n",
       "Shortly before 12h00                                                        1\n",
       "Daytime                                                                     1\n",
       "Shortly before 13h00                                                        1\n",
       "                                                                            1\n",
       "\"shortly before dusk\"                                                       1\n",
       "Just after 12h00                                                            1\n",
       "Just before dawn                                                            1\n",
       "After dusk                                                                  1\n",
       ">12h00                                                                      1\n",
       ">14h30                                                                      1\n",
       ">06h45                                                                      1\n",
       "Ship aban-doned at 03h10                                                    1\n",
       "\"After lunch\"                                                               1\n",
       "dusk                                                                        1\n",
       "FATAL  (Wire netting installed at local beaches after this incident.)       1\n",
       "Between 06h00 & 07h20                                                       1\n",
       "9h00                                                                        1\n",
       "Before 10h30                                                                1\n",
       "Possibly same incident as 2000.08.21                                        1\n",
       "Before 07h00                                                                1\n",
       "Before daybreak                                                             1\n",
       "<07h30                                                                      1\n",
       "2 hours after Opperman                                                      1\n",
       "                                                                            1\n",
       "Name: Time, dtype: int64"
      ]
     },
     "execution_count": 106,
     "metadata": {},
     "output_type": "execute_result"
    }
   ],
   "source": [
    "df.Time.value_counts()"
   ]
  },
  {
   "cell_type": "code",
   "execution_count": 107,
   "id": "talented-advocacy",
   "metadata": {},
   "outputs": [],
   "source": [
    "day_lst = ['Morning', 'Afternoon', 'Evening', 'Night', 'Unknown']"
   ]
  },
  {
   "cell_type": "code",
   "execution_count": 108,
   "id": "banner-norfolk",
   "metadata": {},
   "outputs": [],
   "source": [
    "df.Time=df.Time.apply(lambda x: 'Unknown' if x not in day_lst else x)"
   ]
  },
  {
   "cell_type": "code",
   "execution_count": 109,
   "id": "female-european",
   "metadata": {},
   "outputs": [
    {
     "data": {
      "text/plain": [
       "Unknown      3466\n",
       "Afternoon    1350\n",
       "Morning      1107\n",
       "Evening       255\n",
       "Night         124\n",
       "Name: Time, dtype: int64"
      ]
     },
     "execution_count": 109,
     "metadata": {},
     "output_type": "execute_result"
    }
   ],
   "source": [
    "df.Time.value_counts()"
   ]
  },
  {
   "cell_type": "code",
   "execution_count": 110,
   "id": "exterior-sunday",
   "metadata": {},
   "outputs": [
    {
     "data": {
      "text/html": [
       "<div>\n",
       "<style scoped>\n",
       "    .dataframe tbody tr th:only-of-type {\n",
       "        vertical-align: middle;\n",
       "    }\n",
       "\n",
       "    .dataframe tbody tr th {\n",
       "        vertical-align: top;\n",
       "    }\n",
       "\n",
       "    .dataframe thead th {\n",
       "        text-align: right;\n",
       "    }\n",
       "</style>\n",
       "<table border=\"1\" class=\"dataframe\">\n",
       "  <thead>\n",
       "    <tr style=\"text-align: right;\">\n",
       "      <th></th>\n",
       "      <th>Case_number</th>\n",
       "      <th>Date</th>\n",
       "      <th>Year</th>\n",
       "      <th>Type</th>\n",
       "      <th>Country</th>\n",
       "      <th>Area</th>\n",
       "      <th>Location</th>\n",
       "      <th>Activity</th>\n",
       "      <th>Name</th>\n",
       "      <th>Sex</th>\n",
       "      <th>...</th>\n",
       "      <th>Species</th>\n",
       "      <th>Investigator</th>\n",
       "      <th>pdf</th>\n",
       "      <th>href_formula</th>\n",
       "      <th>href</th>\n",
       "      <th>Case_n1</th>\n",
       "      <th>Case_n2</th>\n",
       "      <th>original_order</th>\n",
       "      <th>unnamed22</th>\n",
       "      <th>unnamed23</th>\n",
       "    </tr>\n",
       "  </thead>\n",
       "  <tbody>\n",
       "    <tr>\n",
       "      <th>0</th>\n",
       "      <td>2018.06.25</td>\n",
       "      <td>2018-06-25 00:00:00</td>\n",
       "      <td>2018</td>\n",
       "      <td>Boating</td>\n",
       "      <td>Usa</td>\n",
       "      <td>California</td>\n",
       "      <td>Oceanside, San Diego County</td>\n",
       "      <td>Paddling</td>\n",
       "      <td>Julie Wolfe</td>\n",
       "      <td>F</td>\n",
       "      <td>...</td>\n",
       "      <td>White shark</td>\n",
       "      <td>R. Collier, GSAF</td>\n",
       "      <td>2018.06.25-Wolfe.pdf</td>\n",
       "      <td>http://sharkattackfile.net/spreadsheets/pdf_di...</td>\n",
       "      <td>http://sharkattackfile.net/spreadsheets/pdf_di...</td>\n",
       "      <td>2018.06.25</td>\n",
       "      <td>2018.06.25</td>\n",
       "      <td>6303.0</td>\n",
       "      <td>NaN</td>\n",
       "      <td>NaN</td>\n",
       "    </tr>\n",
       "    <tr>\n",
       "      <th>1</th>\n",
       "      <td>2018.06.18</td>\n",
       "      <td>2018-06-18 00:00:00</td>\n",
       "      <td>2018</td>\n",
       "      <td>Unprovoked</td>\n",
       "      <td>Usa</td>\n",
       "      <td>Georgia</td>\n",
       "      <td>St. Simon Island, Glynn County</td>\n",
       "      <td>Standing</td>\n",
       "      <td>Adyson McNeely</td>\n",
       "      <td>F</td>\n",
       "      <td>...</td>\n",
       "      <td>NaN</td>\n",
       "      <td>K.McMurray, TrackingSharks.com</td>\n",
       "      <td>2018.06.18-McNeely.pdf</td>\n",
       "      <td>http://sharkattackfile.net/spreadsheets/pdf_di...</td>\n",
       "      <td>http://sharkattackfile.net/spreadsheets/pdf_di...</td>\n",
       "      <td>2018.06.18</td>\n",
       "      <td>2018.06.18</td>\n",
       "      <td>6302.0</td>\n",
       "      <td>NaN</td>\n",
       "      <td>NaN</td>\n",
       "    </tr>\n",
       "    <tr>\n",
       "      <th>2</th>\n",
       "      <td>2018.06.09</td>\n",
       "      <td>2018-06-09 00:00:00</td>\n",
       "      <td>2018</td>\n",
       "      <td>Invalid</td>\n",
       "      <td>Usa</td>\n",
       "      <td>Hawaii</td>\n",
       "      <td>Habush, Oahu</td>\n",
       "      <td>Surfing</td>\n",
       "      <td>John Denges</td>\n",
       "      <td>M</td>\n",
       "      <td>...</td>\n",
       "      <td>NaN</td>\n",
       "      <td>K.McMurray, TrackingSharks.com</td>\n",
       "      <td>2018.06.09-Denges.pdf</td>\n",
       "      <td>http://sharkattackfile.net/spreadsheets/pdf_di...</td>\n",
       "      <td>http://sharkattackfile.net/spreadsheets/pdf_di...</td>\n",
       "      <td>2018.06.09</td>\n",
       "      <td>2018.06.09</td>\n",
       "      <td>6301.0</td>\n",
       "      <td>NaN</td>\n",
       "      <td>NaN</td>\n",
       "    </tr>\n",
       "    <tr>\n",
       "      <th>3</th>\n",
       "      <td>2018.06.08</td>\n",
       "      <td>2018-06-08 00:00:00</td>\n",
       "      <td>2018</td>\n",
       "      <td>Unprovoked</td>\n",
       "      <td>Australia</td>\n",
       "      <td>New South Wales</td>\n",
       "      <td>Arrawarra Headland</td>\n",
       "      <td>Surfing</td>\n",
       "      <td>Unknown</td>\n",
       "      <td>M</td>\n",
       "      <td>...</td>\n",
       "      <td>2 m shark</td>\n",
       "      <td>B. Myatt, GSAF</td>\n",
       "      <td>2018.06.08-Arrawarra.pdf</td>\n",
       "      <td>http://sharkattackfile.net/spreadsheets/pdf_di...</td>\n",
       "      <td>http://sharkattackfile.net/spreadsheets/pdf_di...</td>\n",
       "      <td>2018.06.08</td>\n",
       "      <td>2018.06.08</td>\n",
       "      <td>6300.0</td>\n",
       "      <td>NaN</td>\n",
       "      <td>NaN</td>\n",
       "    </tr>\n",
       "    <tr>\n",
       "      <th>4</th>\n",
       "      <td>2018.06.04</td>\n",
       "      <td>2018-06-04 00:00:00</td>\n",
       "      <td>2018</td>\n",
       "      <td>Provoked</td>\n",
       "      <td>Mexico</td>\n",
       "      <td>Colima</td>\n",
       "      <td>La Ticla</td>\n",
       "      <td>Free diving</td>\n",
       "      <td>Gustavo Ramos</td>\n",
       "      <td>M</td>\n",
       "      <td>...</td>\n",
       "      <td>Tiger shark, 3m</td>\n",
       "      <td>A .Kipper</td>\n",
       "      <td>2018.06.04-Ramos.pdf</td>\n",
       "      <td>http://sharkattackfile.net/spreadsheets/pdf_di...</td>\n",
       "      <td>http://sharkattackfile.net/spreadsheets/pdf_di...</td>\n",
       "      <td>2018.06.04</td>\n",
       "      <td>2018.06.04</td>\n",
       "      <td>6299.0</td>\n",
       "      <td>NaN</td>\n",
       "      <td>NaN</td>\n",
       "    </tr>\n",
       "  </tbody>\n",
       "</table>\n",
       "<p>5 rows × 24 columns</p>\n",
       "</div>"
      ],
      "text/plain": [
       "  Case_number                 Date  Year        Type    Country  \\\n",
       "0  2018.06.25  2018-06-25 00:00:00  2018     Boating        Usa   \n",
       "1  2018.06.18  2018-06-18 00:00:00  2018  Unprovoked        Usa   \n",
       "2  2018.06.09  2018-06-09 00:00:00  2018     Invalid        Usa   \n",
       "3  2018.06.08  2018-06-08 00:00:00  2018  Unprovoked  Australia   \n",
       "4  2018.06.04  2018-06-04 00:00:00  2018    Provoked     Mexico   \n",
       "\n",
       "              Area                        Location     Activity  \\\n",
       "0       California     Oceanside, San Diego County     Paddling   \n",
       "1          Georgia  St. Simon Island, Glynn County     Standing   \n",
       "2           Hawaii                    Habush, Oahu      Surfing   \n",
       "3  New South Wales              Arrawarra Headland      Surfing   \n",
       "4           Colima                        La Ticla  Free diving   \n",
       "\n",
       "              Name Sex  ...          Species                    Investigator  \\\n",
       "0      Julie Wolfe   F  ...      White shark                R. Collier, GSAF   \n",
       "1  Adyson McNeely    F  ...              NaN  K.McMurray, TrackingSharks.com   \n",
       "2      John Denges   M  ...              NaN  K.McMurray, TrackingSharks.com   \n",
       "3          Unknown   M  ...        2 m shark                  B. Myatt, GSAF   \n",
       "4   Gustavo Ramos    M  ...  Tiger shark, 3m                       A .Kipper   \n",
       "\n",
       "                        pdf  \\\n",
       "0      2018.06.25-Wolfe.pdf   \n",
       "1    2018.06.18-McNeely.pdf   \n",
       "2     2018.06.09-Denges.pdf   \n",
       "3  2018.06.08-Arrawarra.pdf   \n",
       "4      2018.06.04-Ramos.pdf   \n",
       "\n",
       "                                        href_formula  \\\n",
       "0  http://sharkattackfile.net/spreadsheets/pdf_di...   \n",
       "1  http://sharkattackfile.net/spreadsheets/pdf_di...   \n",
       "2  http://sharkattackfile.net/spreadsheets/pdf_di...   \n",
       "3  http://sharkattackfile.net/spreadsheets/pdf_di...   \n",
       "4  http://sharkattackfile.net/spreadsheets/pdf_di...   \n",
       "\n",
       "                                                href     Case_n1     Case_n2  \\\n",
       "0  http://sharkattackfile.net/spreadsheets/pdf_di...  2018.06.25  2018.06.25   \n",
       "1  http://sharkattackfile.net/spreadsheets/pdf_di...  2018.06.18  2018.06.18   \n",
       "2  http://sharkattackfile.net/spreadsheets/pdf_di...  2018.06.09  2018.06.09   \n",
       "3  http://sharkattackfile.net/spreadsheets/pdf_di...  2018.06.08  2018.06.08   \n",
       "4  http://sharkattackfile.net/spreadsheets/pdf_di...  2018.06.04  2018.06.04   \n",
       "\n",
       "  original_order unnamed22 unnamed23  \n",
       "0         6303.0       NaN       NaN  \n",
       "1         6302.0       NaN       NaN  \n",
       "2         6301.0       NaN       NaN  \n",
       "3         6300.0       NaN       NaN  \n",
       "4         6299.0       NaN       NaN  \n",
       "\n",
       "[5 rows x 24 columns]"
      ]
     },
     "execution_count": 110,
     "metadata": {},
     "output_type": "execute_result"
    }
   ],
   "source": [
    "df.head()"
   ]
  },
  {
   "cell_type": "markdown",
   "id": "olive-stream",
   "metadata": {},
   "source": [
    "# Columna especies"
   ]
  },
  {
   "cell_type": "code",
   "execution_count": 111,
   "id": "latest-jacob",
   "metadata": {},
   "outputs": [
    {
     "data": {
      "text/plain": [
       "array(['White shark', nan, '2 m shark', ..., \"12' tiger shark\",\n",
       "       'Blue pointers',\n",
       "       'Said to involve a grey nurse shark that leapt out of the water and  seized the boy but species identification is questionable'],\n",
       "      dtype=object)"
      ]
     },
     "execution_count": 111,
     "metadata": {},
     "output_type": "execute_result"
    }
   ],
   "source": [
    "df.Species.unique()"
   ]
  },
  {
   "cell_type": "code",
   "execution_count": 112,
   "id": "nutritional-relay",
   "metadata": {},
   "outputs": [],
   "source": [
    "df['Species'] = df['Species'].fillna('Unknown')"
   ]
  },
  {
   "cell_type": "code",
   "execution_count": 113,
   "id": "informed-measure",
   "metadata": {},
   "outputs": [],
   "source": [
    "###Primero separamos por razas principales"
   ]
  },
  {
   "cell_type": "code",
   "execution_count": 114,
   "id": "posted-hearing",
   "metadata": {},
   "outputs": [],
   "source": [
    "df.loc[df['Species'].str.contains('\\white', regex=True, case=False), 'Species'] = 'White shark'"
   ]
  },
  {
   "cell_type": "code",
   "execution_count": 115,
   "id": "designing-horse",
   "metadata": {},
   "outputs": [],
   "source": [
    "df.loc[df['Species'].str.contains('\\wull', regex=True, case=False), 'Species'] = 'Bull shark'"
   ]
  },
  {
   "cell_type": "code",
   "execution_count": 116,
   "id": "immune-lightweight",
   "metadata": {},
   "outputs": [],
   "source": [
    "df.loc[df['Species'].str.contains('\\witer', regex=True, case=False), 'Species'] = 'Tiger shark'"
   ]
  },
  {
   "cell_type": "code",
   "execution_count": 117,
   "id": "fourth-letters",
   "metadata": {},
   "outputs": [],
   "source": [
    "df.loc[df['Species'].str.contains('\\rey', regex=True, case=False), 'Species'] = 'Grey shark'"
   ]
  },
  {
   "cell_type": "code",
   "execution_count": 118,
   "id": "equivalent-brush",
   "metadata": {},
   "outputs": [],
   "source": [
    "df.loc[df['Species'].str.contains('\\wurse', regex=True, case=False), 'Species'] = 'Nurse shark'"
   ]
  },
  {
   "cell_type": "code",
   "execution_count": 119,
   "id": "capital-bernard",
   "metadata": {},
   "outputs": [],
   "source": [
    "###Si no sabemos raza, vamos por tamaño aunque sea indefinido el tipo de tiburón"
   ]
  },
  {
   "cell_type": "code",
   "execution_count": 120,
   "id": "applied-detector",
   "metadata": {},
   "outputs": [],
   "source": [
    "df.loc[df['Species'].str.contains('\\warge', regex=True, case=False), 'Species'] = 'Undifined Large shark'"
   ]
  },
  {
   "cell_type": "code",
   "execution_count": 121,
   "id": "fundamental-childhood",
   "metadata": {},
   "outputs": [],
   "source": [
    "df.loc[df['Species'].str.contains('\\wmall', regex=True, case=False), 'Species'] = 'Undifined Small shark'"
   ]
  },
  {
   "cell_type": "code",
   "execution_count": 122,
   "id": "brief-publicity",
   "metadata": {},
   "outputs": [
    {
     "data": {
      "text/plain": [
       "Unknown                                               2839\n",
       "White shark                                            667\n",
       "Bull shark                                             186\n",
       "Shark involvement prior to death was not confirmed     105\n",
       "Invalid                                                102\n",
       "                                                      ... \n",
       "20 kg shark                                              1\n",
       "Lemon shark pup                                          1\n",
       "1m to 1.2 m shark                                        1\n",
       "Less than 1.2 m [4']                                     1\n",
       "2.6 m [8.5'] shark                                       1\n",
       "Name: Species, Length: 1011, dtype: int64"
      ]
     },
     "execution_count": 122,
     "metadata": {},
     "output_type": "execute_result"
    }
   ],
   "source": [
    "df.Species.value_counts()"
   ]
  },
  {
   "cell_type": "markdown",
   "id": "outer-rhythm",
   "metadata": {},
   "source": [
    "# Columna investigador"
   ]
  },
  {
   "cell_type": "code",
   "execution_count": 123,
   "id": "native-subdivision",
   "metadata": {},
   "outputs": [
    {
     "data": {
      "text/plain": [
       "array(['R. Collier, GSAF', 'K.McMurray, TrackingSharks.com',\n",
       "       'B. Myatt, GSAF', ..., 'F. Schwartz, p.23; C. Creswell, GSAF',\n",
       "       'The Sun, 10/20/1938', 'S.W. Baker'], dtype=object)"
      ]
     },
     "execution_count": 123,
     "metadata": {},
     "output_type": "execute_result"
    }
   ],
   "source": [
    "df.Investigator.unique()"
   ]
  },
  {
   "cell_type": "code",
   "execution_count": 124,
   "id": "capital-newfoundland",
   "metadata": {},
   "outputs": [],
   "source": [
    "df['Investigator'] = df['Investigator'].fillna('Unknown')"
   ]
  },
  {
   "cell_type": "code",
   "execution_count": 125,
   "id": "disturbed-loading",
   "metadata": {},
   "outputs": [
    {
     "data": {
      "text/plain": [
       "0                            R. Collier, GSAF\n",
       "1              K.McMurray, TrackingSharks.com\n",
       "2              K.McMurray, TrackingSharks.com\n",
       "3                              B. Myatt, GSAF\n",
       "4                                   A .Kipper\n",
       "                        ...                  \n",
       "6297         H. Taunton; N. Bartlett,  p. 234\n",
       "6298    H. Taunton; N. Bartlett,  pp. 233-234\n",
       "6299     F. Schwartz, p.23; C. Creswell, GSAF\n",
       "6300                      The Sun, 10/20/1938\n",
       "6301                               S.W. Baker\n",
       "Name: Investigator, Length: 6302, dtype: object"
      ]
     },
     "execution_count": 125,
     "metadata": {},
     "output_type": "execute_result"
    }
   ],
   "source": [
    "df.Investigator"
   ]
  },
  {
   "cell_type": "markdown",
   "id": "grave-actor",
   "metadata": {},
   "source": [
    "# Columnas PDF, Href1 y Href2"
   ]
  },
  {
   "cell_type": "code",
   "execution_count": 126,
   "id": "organic-bidder",
   "metadata": {},
   "outputs": [],
   "source": [
    "df['pdf'] = df['pdf'].fillna('No pdf')"
   ]
  },
  {
   "cell_type": "code",
   "execution_count": 127,
   "id": "lined-cooperation",
   "metadata": {},
   "outputs": [],
   "source": [
    "df['href_formula'] = df['href_formula'].fillna('No link')"
   ]
  },
  {
   "cell_type": "code",
   "execution_count": 128,
   "id": "faced-czech",
   "metadata": {},
   "outputs": [],
   "source": [
    "df['href'] = df['href'].fillna('No link')"
   ]
  },
  {
   "cell_type": "code",
   "execution_count": 129,
   "id": "coordinate-reynolds",
   "metadata": {},
   "outputs": [
    {
     "data": {
      "text/plain": [
       "Case_number       1\n",
       "unnamed22      6301\n",
       "unnamed23      6300\n",
       "dtype: int64"
      ]
     },
     "execution_count": 129,
     "metadata": {},
     "output_type": "execute_result"
    }
   ],
   "source": [
    "nan_cols=df.isna().sum()\n",
    "\n",
    "nan_cols[nan_cols>0]"
   ]
  },
  {
   "cell_type": "code",
   "execution_count": null,
   "id": "connected-iraqi",
   "metadata": {},
   "outputs": [],
   "source": []
  },
  {
   "cell_type": "code",
   "execution_count": null,
   "id": "homeless-draft",
   "metadata": {},
   "outputs": [],
   "source": []
  },
  {
   "cell_type": "code",
   "execution_count": null,
   "id": "finite-peoples",
   "metadata": {},
   "outputs": [],
   "source": []
  },
  {
   "cell_type": "code",
   "execution_count": null,
   "id": "furnished-tenant",
   "metadata": {},
   "outputs": [],
   "source": []
  },
  {
   "cell_type": "code",
   "execution_count": null,
   "id": "controversial-stage",
   "metadata": {},
   "outputs": [],
   "source": []
  },
  {
   "cell_type": "code",
   "execution_count": null,
   "id": "downtown-numbers",
   "metadata": {},
   "outputs": [],
   "source": []
  },
  {
   "cell_type": "code",
   "execution_count": null,
   "id": "naval-atmosphere",
   "metadata": {},
   "outputs": [],
   "source": []
  },
  {
   "cell_type": "code",
   "execution_count": null,
   "id": "greater-latino",
   "metadata": {},
   "outputs": [],
   "source": []
  },
  {
   "cell_type": "code",
   "execution_count": null,
   "id": "incomplete-tulsa",
   "metadata": {},
   "outputs": [],
   "source": []
  },
  {
   "cell_type": "code",
   "execution_count": null,
   "id": "emerging-count",
   "metadata": {},
   "outputs": [],
   "source": []
  }
 ],
 "metadata": {
  "kernelspec": {
   "display_name": "virtual",
   "language": "python",
   "name": "virtual"
  },
  "language_info": {
   "codemirror_mode": {
    "name": "ipython",
    "version": 3
   },
   "file_extension": ".py",
   "mimetype": "text/x-python",
   "name": "python",
   "nbconvert_exporter": "python",
   "pygments_lexer": "ipython3",
   "version": "3.8.5"
  }
 },
 "nbformat": 4,
 "nbformat_minor": 5
}
