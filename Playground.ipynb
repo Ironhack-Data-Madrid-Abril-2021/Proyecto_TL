{
 "cells": [
  {
   "cell_type": "code",
   "execution_count": 1,
   "id": "functioning-feelings",
   "metadata": {},
   "outputs": [],
   "source": [
    "import pandas as pd"
   ]
  },
  {
   "cell_type": "code",
   "execution_count": 2,
   "id": "threaded-effects",
   "metadata": {},
   "outputs": [],
   "source": [
    "df = pd.read_csv(\"/Users/mikel/Documents/week2/Proyecto_TL/attacks.csv\", encoding = \"ISO-8859-1\")"
   ]
  },
  {
   "cell_type": "code",
   "execution_count": 3,
   "id": "sensitive-banks",
   "metadata": {},
   "outputs": [
    {
     "data": {
      "text/html": [
       "<div>\n",
       "<style scoped>\n",
       "    .dataframe tbody tr th:only-of-type {\n",
       "        vertical-align: middle;\n",
       "    }\n",
       "\n",
       "    .dataframe tbody tr th {\n",
       "        vertical-align: top;\n",
       "    }\n",
       "\n",
       "    .dataframe thead th {\n",
       "        text-align: right;\n",
       "    }\n",
       "</style>\n",
       "<table border=\"1\" class=\"dataframe\">\n",
       "  <thead>\n",
       "    <tr style=\"text-align: right;\">\n",
       "      <th></th>\n",
       "      <th>Case Number</th>\n",
       "      <th>Date</th>\n",
       "      <th>Year</th>\n",
       "      <th>Type</th>\n",
       "      <th>Country</th>\n",
       "      <th>Area</th>\n",
       "      <th>Location</th>\n",
       "      <th>Activity</th>\n",
       "      <th>Name</th>\n",
       "      <th>Sex</th>\n",
       "      <th>...</th>\n",
       "      <th>Species</th>\n",
       "      <th>Investigator or Source</th>\n",
       "      <th>pdf</th>\n",
       "      <th>href formula</th>\n",
       "      <th>href</th>\n",
       "      <th>Case Number.1</th>\n",
       "      <th>Case Number.2</th>\n",
       "      <th>original order</th>\n",
       "      <th>Unnamed: 22</th>\n",
       "      <th>Unnamed: 23</th>\n",
       "    </tr>\n",
       "  </thead>\n",
       "  <tbody>\n",
       "    <tr>\n",
       "      <th>0</th>\n",
       "      <td>2018.06.25</td>\n",
       "      <td>25-Jun-2018</td>\n",
       "      <td>2018.0</td>\n",
       "      <td>Boating</td>\n",
       "      <td>USA</td>\n",
       "      <td>California</td>\n",
       "      <td>Oceanside, San Diego County</td>\n",
       "      <td>Paddling</td>\n",
       "      <td>Julie Wolfe</td>\n",
       "      <td>F</td>\n",
       "      <td>...</td>\n",
       "      <td>White shark</td>\n",
       "      <td>R. Collier, GSAF</td>\n",
       "      <td>2018.06.25-Wolfe.pdf</td>\n",
       "      <td>http://sharkattackfile.net/spreadsheets/pdf_di...</td>\n",
       "      <td>http://sharkattackfile.net/spreadsheets/pdf_di...</td>\n",
       "      <td>2018.06.25</td>\n",
       "      <td>2018.06.25</td>\n",
       "      <td>6303.0</td>\n",
       "      <td>NaN</td>\n",
       "      <td>NaN</td>\n",
       "    </tr>\n",
       "    <tr>\n",
       "      <th>1</th>\n",
       "      <td>2018.06.18</td>\n",
       "      <td>18-Jun-2018</td>\n",
       "      <td>2018.0</td>\n",
       "      <td>Unprovoked</td>\n",
       "      <td>USA</td>\n",
       "      <td>Georgia</td>\n",
       "      <td>St. Simon Island, Glynn County</td>\n",
       "      <td>Standing</td>\n",
       "      <td>Adyson McNeely</td>\n",
       "      <td>F</td>\n",
       "      <td>...</td>\n",
       "      <td>NaN</td>\n",
       "      <td>K.McMurray, TrackingSharks.com</td>\n",
       "      <td>2018.06.18-McNeely.pdf</td>\n",
       "      <td>http://sharkattackfile.net/spreadsheets/pdf_di...</td>\n",
       "      <td>http://sharkattackfile.net/spreadsheets/pdf_di...</td>\n",
       "      <td>2018.06.18</td>\n",
       "      <td>2018.06.18</td>\n",
       "      <td>6302.0</td>\n",
       "      <td>NaN</td>\n",
       "      <td>NaN</td>\n",
       "    </tr>\n",
       "    <tr>\n",
       "      <th>2</th>\n",
       "      <td>2018.06.09</td>\n",
       "      <td>09-Jun-2018</td>\n",
       "      <td>2018.0</td>\n",
       "      <td>Invalid</td>\n",
       "      <td>USA</td>\n",
       "      <td>Hawaii</td>\n",
       "      <td>Habush, Oahu</td>\n",
       "      <td>Surfing</td>\n",
       "      <td>John Denges</td>\n",
       "      <td>M</td>\n",
       "      <td>...</td>\n",
       "      <td>NaN</td>\n",
       "      <td>K.McMurray, TrackingSharks.com</td>\n",
       "      <td>2018.06.09-Denges.pdf</td>\n",
       "      <td>http://sharkattackfile.net/spreadsheets/pdf_di...</td>\n",
       "      <td>http://sharkattackfile.net/spreadsheets/pdf_di...</td>\n",
       "      <td>2018.06.09</td>\n",
       "      <td>2018.06.09</td>\n",
       "      <td>6301.0</td>\n",
       "      <td>NaN</td>\n",
       "      <td>NaN</td>\n",
       "    </tr>\n",
       "    <tr>\n",
       "      <th>3</th>\n",
       "      <td>2018.06.08</td>\n",
       "      <td>08-Jun-2018</td>\n",
       "      <td>2018.0</td>\n",
       "      <td>Unprovoked</td>\n",
       "      <td>AUSTRALIA</td>\n",
       "      <td>New South Wales</td>\n",
       "      <td>Arrawarra Headland</td>\n",
       "      <td>Surfing</td>\n",
       "      <td>male</td>\n",
       "      <td>M</td>\n",
       "      <td>...</td>\n",
       "      <td>2 m shark</td>\n",
       "      <td>B. Myatt, GSAF</td>\n",
       "      <td>2018.06.08-Arrawarra.pdf</td>\n",
       "      <td>http://sharkattackfile.net/spreadsheets/pdf_di...</td>\n",
       "      <td>http://sharkattackfile.net/spreadsheets/pdf_di...</td>\n",
       "      <td>2018.06.08</td>\n",
       "      <td>2018.06.08</td>\n",
       "      <td>6300.0</td>\n",
       "      <td>NaN</td>\n",
       "      <td>NaN</td>\n",
       "    </tr>\n",
       "    <tr>\n",
       "      <th>4</th>\n",
       "      <td>2018.06.04</td>\n",
       "      <td>04-Jun-2018</td>\n",
       "      <td>2018.0</td>\n",
       "      <td>Provoked</td>\n",
       "      <td>MEXICO</td>\n",
       "      <td>Colima</td>\n",
       "      <td>La Ticla</td>\n",
       "      <td>Free diving</td>\n",
       "      <td>Gustavo Ramos</td>\n",
       "      <td>M</td>\n",
       "      <td>...</td>\n",
       "      <td>Tiger shark, 3m</td>\n",
       "      <td>A .Kipper</td>\n",
       "      <td>2018.06.04-Ramos.pdf</td>\n",
       "      <td>http://sharkattackfile.net/spreadsheets/pdf_di...</td>\n",
       "      <td>http://sharkattackfile.net/spreadsheets/pdf_di...</td>\n",
       "      <td>2018.06.04</td>\n",
       "      <td>2018.06.04</td>\n",
       "      <td>6299.0</td>\n",
       "      <td>NaN</td>\n",
       "      <td>NaN</td>\n",
       "    </tr>\n",
       "  </tbody>\n",
       "</table>\n",
       "<p>5 rows × 24 columns</p>\n",
       "</div>"
      ],
      "text/plain": [
       "  Case Number         Date    Year        Type    Country             Area  \\\n",
       "0  2018.06.25  25-Jun-2018  2018.0     Boating        USA       California   \n",
       "1  2018.06.18  18-Jun-2018  2018.0  Unprovoked        USA          Georgia   \n",
       "2  2018.06.09  09-Jun-2018  2018.0     Invalid        USA           Hawaii   \n",
       "3  2018.06.08  08-Jun-2018  2018.0  Unprovoked  AUSTRALIA  New South Wales   \n",
       "4  2018.06.04  04-Jun-2018  2018.0    Provoked     MEXICO           Colima   \n",
       "\n",
       "                         Location     Activity             Name Sex   ...  \\\n",
       "0     Oceanside, San Diego County     Paddling      Julie Wolfe    F  ...   \n",
       "1  St. Simon Island, Glynn County     Standing  Adyson McNeely     F  ...   \n",
       "2                    Habush, Oahu      Surfing      John Denges    M  ...   \n",
       "3              Arrawarra Headland      Surfing             male    M  ...   \n",
       "4                        La Ticla  Free diving   Gustavo Ramos     M  ...   \n",
       "\n",
       "          Species           Investigator or Source                       pdf  \\\n",
       "0      White shark                R. Collier, GSAF      2018.06.25-Wolfe.pdf   \n",
       "1              NaN  K.McMurray, TrackingSharks.com    2018.06.18-McNeely.pdf   \n",
       "2              NaN  K.McMurray, TrackingSharks.com     2018.06.09-Denges.pdf   \n",
       "3        2 m shark                  B. Myatt, GSAF  2018.06.08-Arrawarra.pdf   \n",
       "4  Tiger shark, 3m                       A .Kipper      2018.06.04-Ramos.pdf   \n",
       "\n",
       "                                        href formula  \\\n",
       "0  http://sharkattackfile.net/spreadsheets/pdf_di...   \n",
       "1  http://sharkattackfile.net/spreadsheets/pdf_di...   \n",
       "2  http://sharkattackfile.net/spreadsheets/pdf_di...   \n",
       "3  http://sharkattackfile.net/spreadsheets/pdf_di...   \n",
       "4  http://sharkattackfile.net/spreadsheets/pdf_di...   \n",
       "\n",
       "                                                href Case Number.1  \\\n",
       "0  http://sharkattackfile.net/spreadsheets/pdf_di...    2018.06.25   \n",
       "1  http://sharkattackfile.net/spreadsheets/pdf_di...    2018.06.18   \n",
       "2  http://sharkattackfile.net/spreadsheets/pdf_di...    2018.06.09   \n",
       "3  http://sharkattackfile.net/spreadsheets/pdf_di...    2018.06.08   \n",
       "4  http://sharkattackfile.net/spreadsheets/pdf_di...    2018.06.04   \n",
       "\n",
       "  Case Number.2 original order Unnamed: 22 Unnamed: 23  \n",
       "0    2018.06.25         6303.0         NaN         NaN  \n",
       "1    2018.06.18         6302.0         NaN         NaN  \n",
       "2    2018.06.09         6301.0         NaN         NaN  \n",
       "3    2018.06.08         6300.0         NaN         NaN  \n",
       "4    2018.06.04         6299.0         NaN         NaN  \n",
       "\n",
       "[5 rows x 24 columns]"
      ]
     },
     "execution_count": 3,
     "metadata": {},
     "output_type": "execute_result"
    }
   ],
   "source": [
    "df.head()"
   ]
  },
  {
   "cell_type": "code",
   "execution_count": 4,
   "id": "expected-policy",
   "metadata": {},
   "outputs": [
    {
     "data": {
      "text/plain": [
       "(25723, 24)"
      ]
     },
     "execution_count": 4,
     "metadata": {},
     "output_type": "execute_result"
    }
   ],
   "source": [
    "df.shape"
   ]
  },
  {
   "cell_type": "code",
   "execution_count": 5,
   "id": "comfortable-parcel",
   "metadata": {},
   "outputs": [],
   "source": [
    "#quito todas las filas que tengan nulls en todas las columnas.\n",
    "df = df.dropna(how='all',axis=0) "
   ]
  },
  {
   "cell_type": "code",
   "execution_count": 6,
   "id": "suited-raleigh",
   "metadata": {},
   "outputs": [],
   "source": [
    "df = df.dropna(0, thresh=3)"
   ]
  },
  {
   "cell_type": "code",
   "execution_count": 7,
   "id": "virtual-inspiration",
   "metadata": {},
   "outputs": [
    {
     "data": {
      "text/plain": [
       "(6302, 24)"
      ]
     },
     "execution_count": 7,
     "metadata": {},
     "output_type": "execute_result"
    }
   ],
   "source": [
    "df.shape"
   ]
  },
  {
   "cell_type": "code",
   "execution_count": 8,
   "id": "corporate-moral",
   "metadata": {},
   "outputs": [],
   "source": [
    "#renombramos columnas para que no haya drama luego\n",
    "df = df.rename(columns={'Unnamed: 22':'unnamed22', 'Unnamed: 23': 'unnamed23', 'Fatal (Y/N)': 'Fatal', 'original order': 'original_order', 'Species': 'sharks', 'Case Number':'Case_number', 'Investigator or Source': 'Investigator', 'href formula':'href_formula', 'Case Number.1': 'Case_n1', 'Case Number.2': 'Case_n2', 'Sex ' : 'Sex', 'Species ':'Species', 'Fatal(Y/N)':'Fatal'})"
   ]
  },
  {
   "cell_type": "code",
   "execution_count": 9,
   "id": "convenient-format",
   "metadata": {},
   "outputs": [
    {
     "data": {
      "text/html": [
       "<div>\n",
       "<style scoped>\n",
       "    .dataframe tbody tr th:only-of-type {\n",
       "        vertical-align: middle;\n",
       "    }\n",
       "\n",
       "    .dataframe tbody tr th {\n",
       "        vertical-align: top;\n",
       "    }\n",
       "\n",
       "    .dataframe thead th {\n",
       "        text-align: right;\n",
       "    }\n",
       "</style>\n",
       "<table border=\"1\" class=\"dataframe\">\n",
       "  <thead>\n",
       "    <tr style=\"text-align: right;\">\n",
       "      <th></th>\n",
       "      <th>Case_number</th>\n",
       "      <th>Date</th>\n",
       "      <th>Year</th>\n",
       "      <th>Type</th>\n",
       "      <th>Country</th>\n",
       "      <th>Area</th>\n",
       "      <th>Location</th>\n",
       "      <th>Activity</th>\n",
       "      <th>Name</th>\n",
       "      <th>Sex</th>\n",
       "      <th>...</th>\n",
       "      <th>Species</th>\n",
       "      <th>Investigator</th>\n",
       "      <th>pdf</th>\n",
       "      <th>href_formula</th>\n",
       "      <th>href</th>\n",
       "      <th>Case_n1</th>\n",
       "      <th>Case_n2</th>\n",
       "      <th>original_order</th>\n",
       "      <th>unnamed22</th>\n",
       "      <th>unnamed23</th>\n",
       "    </tr>\n",
       "  </thead>\n",
       "  <tbody>\n",
       "    <tr>\n",
       "      <th>0</th>\n",
       "      <td>2018.06.25</td>\n",
       "      <td>25-Jun-2018</td>\n",
       "      <td>2018.0</td>\n",
       "      <td>Boating</td>\n",
       "      <td>USA</td>\n",
       "      <td>California</td>\n",
       "      <td>Oceanside, San Diego County</td>\n",
       "      <td>Paddling</td>\n",
       "      <td>Julie Wolfe</td>\n",
       "      <td>F</td>\n",
       "      <td>...</td>\n",
       "      <td>White shark</td>\n",
       "      <td>R. Collier, GSAF</td>\n",
       "      <td>2018.06.25-Wolfe.pdf</td>\n",
       "      <td>http://sharkattackfile.net/spreadsheets/pdf_di...</td>\n",
       "      <td>http://sharkattackfile.net/spreadsheets/pdf_di...</td>\n",
       "      <td>2018.06.25</td>\n",
       "      <td>2018.06.25</td>\n",
       "      <td>6303.0</td>\n",
       "      <td>NaN</td>\n",
       "      <td>NaN</td>\n",
       "    </tr>\n",
       "    <tr>\n",
       "      <th>1</th>\n",
       "      <td>2018.06.18</td>\n",
       "      <td>18-Jun-2018</td>\n",
       "      <td>2018.0</td>\n",
       "      <td>Unprovoked</td>\n",
       "      <td>USA</td>\n",
       "      <td>Georgia</td>\n",
       "      <td>St. Simon Island, Glynn County</td>\n",
       "      <td>Standing</td>\n",
       "      <td>Adyson McNeely</td>\n",
       "      <td>F</td>\n",
       "      <td>...</td>\n",
       "      <td>NaN</td>\n",
       "      <td>K.McMurray, TrackingSharks.com</td>\n",
       "      <td>2018.06.18-McNeely.pdf</td>\n",
       "      <td>http://sharkattackfile.net/spreadsheets/pdf_di...</td>\n",
       "      <td>http://sharkattackfile.net/spreadsheets/pdf_di...</td>\n",
       "      <td>2018.06.18</td>\n",
       "      <td>2018.06.18</td>\n",
       "      <td>6302.0</td>\n",
       "      <td>NaN</td>\n",
       "      <td>NaN</td>\n",
       "    </tr>\n",
       "    <tr>\n",
       "      <th>2</th>\n",
       "      <td>2018.06.09</td>\n",
       "      <td>09-Jun-2018</td>\n",
       "      <td>2018.0</td>\n",
       "      <td>Invalid</td>\n",
       "      <td>USA</td>\n",
       "      <td>Hawaii</td>\n",
       "      <td>Habush, Oahu</td>\n",
       "      <td>Surfing</td>\n",
       "      <td>John Denges</td>\n",
       "      <td>M</td>\n",
       "      <td>...</td>\n",
       "      <td>NaN</td>\n",
       "      <td>K.McMurray, TrackingSharks.com</td>\n",
       "      <td>2018.06.09-Denges.pdf</td>\n",
       "      <td>http://sharkattackfile.net/spreadsheets/pdf_di...</td>\n",
       "      <td>http://sharkattackfile.net/spreadsheets/pdf_di...</td>\n",
       "      <td>2018.06.09</td>\n",
       "      <td>2018.06.09</td>\n",
       "      <td>6301.0</td>\n",
       "      <td>NaN</td>\n",
       "      <td>NaN</td>\n",
       "    </tr>\n",
       "    <tr>\n",
       "      <th>3</th>\n",
       "      <td>2018.06.08</td>\n",
       "      <td>08-Jun-2018</td>\n",
       "      <td>2018.0</td>\n",
       "      <td>Unprovoked</td>\n",
       "      <td>AUSTRALIA</td>\n",
       "      <td>New South Wales</td>\n",
       "      <td>Arrawarra Headland</td>\n",
       "      <td>Surfing</td>\n",
       "      <td>male</td>\n",
       "      <td>M</td>\n",
       "      <td>...</td>\n",
       "      <td>2 m shark</td>\n",
       "      <td>B. Myatt, GSAF</td>\n",
       "      <td>2018.06.08-Arrawarra.pdf</td>\n",
       "      <td>http://sharkattackfile.net/spreadsheets/pdf_di...</td>\n",
       "      <td>http://sharkattackfile.net/spreadsheets/pdf_di...</td>\n",
       "      <td>2018.06.08</td>\n",
       "      <td>2018.06.08</td>\n",
       "      <td>6300.0</td>\n",
       "      <td>NaN</td>\n",
       "      <td>NaN</td>\n",
       "    </tr>\n",
       "    <tr>\n",
       "      <th>4</th>\n",
       "      <td>2018.06.04</td>\n",
       "      <td>04-Jun-2018</td>\n",
       "      <td>2018.0</td>\n",
       "      <td>Provoked</td>\n",
       "      <td>MEXICO</td>\n",
       "      <td>Colima</td>\n",
       "      <td>La Ticla</td>\n",
       "      <td>Free diving</td>\n",
       "      <td>Gustavo Ramos</td>\n",
       "      <td>M</td>\n",
       "      <td>...</td>\n",
       "      <td>Tiger shark, 3m</td>\n",
       "      <td>A .Kipper</td>\n",
       "      <td>2018.06.04-Ramos.pdf</td>\n",
       "      <td>http://sharkattackfile.net/spreadsheets/pdf_di...</td>\n",
       "      <td>http://sharkattackfile.net/spreadsheets/pdf_di...</td>\n",
       "      <td>2018.06.04</td>\n",
       "      <td>2018.06.04</td>\n",
       "      <td>6299.0</td>\n",
       "      <td>NaN</td>\n",
       "      <td>NaN</td>\n",
       "    </tr>\n",
       "  </tbody>\n",
       "</table>\n",
       "<p>5 rows × 24 columns</p>\n",
       "</div>"
      ],
      "text/plain": [
       "  Case_number         Date    Year        Type    Country             Area  \\\n",
       "0  2018.06.25  25-Jun-2018  2018.0     Boating        USA       California   \n",
       "1  2018.06.18  18-Jun-2018  2018.0  Unprovoked        USA          Georgia   \n",
       "2  2018.06.09  09-Jun-2018  2018.0     Invalid        USA           Hawaii   \n",
       "3  2018.06.08  08-Jun-2018  2018.0  Unprovoked  AUSTRALIA  New South Wales   \n",
       "4  2018.06.04  04-Jun-2018  2018.0    Provoked     MEXICO           Colima   \n",
       "\n",
       "                         Location     Activity             Name Sex  ...  \\\n",
       "0     Oceanside, San Diego County     Paddling      Julie Wolfe   F  ...   \n",
       "1  St. Simon Island, Glynn County     Standing  Adyson McNeely    F  ...   \n",
       "2                    Habush, Oahu      Surfing      John Denges   M  ...   \n",
       "3              Arrawarra Headland      Surfing             male   M  ...   \n",
       "4                        La Ticla  Free diving   Gustavo Ramos    M  ...   \n",
       "\n",
       "           Species                    Investigator                       pdf  \\\n",
       "0      White shark                R. Collier, GSAF      2018.06.25-Wolfe.pdf   \n",
       "1              NaN  K.McMurray, TrackingSharks.com    2018.06.18-McNeely.pdf   \n",
       "2              NaN  K.McMurray, TrackingSharks.com     2018.06.09-Denges.pdf   \n",
       "3        2 m shark                  B. Myatt, GSAF  2018.06.08-Arrawarra.pdf   \n",
       "4  Tiger shark, 3m                       A .Kipper      2018.06.04-Ramos.pdf   \n",
       "\n",
       "                                        href_formula  \\\n",
       "0  http://sharkattackfile.net/spreadsheets/pdf_di...   \n",
       "1  http://sharkattackfile.net/spreadsheets/pdf_di...   \n",
       "2  http://sharkattackfile.net/spreadsheets/pdf_di...   \n",
       "3  http://sharkattackfile.net/spreadsheets/pdf_di...   \n",
       "4  http://sharkattackfile.net/spreadsheets/pdf_di...   \n",
       "\n",
       "                                                href     Case_n1     Case_n2  \\\n",
       "0  http://sharkattackfile.net/spreadsheets/pdf_di...  2018.06.25  2018.06.25   \n",
       "1  http://sharkattackfile.net/spreadsheets/pdf_di...  2018.06.18  2018.06.18   \n",
       "2  http://sharkattackfile.net/spreadsheets/pdf_di...  2018.06.09  2018.06.09   \n",
       "3  http://sharkattackfile.net/spreadsheets/pdf_di...  2018.06.08  2018.06.08   \n",
       "4  http://sharkattackfile.net/spreadsheets/pdf_di...  2018.06.04  2018.06.04   \n",
       "\n",
       "  original_order unnamed22 unnamed23  \n",
       "0         6303.0       NaN       NaN  \n",
       "1         6302.0       NaN       NaN  \n",
       "2         6301.0       NaN       NaN  \n",
       "3         6300.0       NaN       NaN  \n",
       "4         6299.0       NaN       NaN  \n",
       "\n",
       "[5 rows x 24 columns]"
      ]
     },
     "execution_count": 9,
     "metadata": {},
     "output_type": "execute_result"
    }
   ],
   "source": [
    "df.head()"
   ]
  },
  {
   "cell_type": "code",
   "execution_count": 10,
   "id": "developing-significance",
   "metadata": {},
   "outputs": [
    {
     "data": {
      "text/plain": [
       "Case_number        1\n",
       "Year               2\n",
       "Type               4\n",
       "Country           50\n",
       "Area             455\n",
       "Location         540\n",
       "Activity         544\n",
       "Name             210\n",
       "Sex              565\n",
       "Age             2831\n",
       "Injury            28\n",
       "Fatal            539\n",
       "Time            3354\n",
       "Species         2838\n",
       "Investigator      17\n",
       "href_formula       1\n",
       "unnamed22       6301\n",
       "unnamed23       6300\n",
       "dtype: int64"
      ]
     },
     "execution_count": 10,
     "metadata": {},
     "output_type": "execute_result"
    }
   ],
   "source": [
    "nan_cols=df.isna().sum()\n",
    "\n",
    "nan_cols[nan_cols>0]"
   ]
  },
  {
   "cell_type": "markdown",
   "id": "foster-worth",
   "metadata": {},
   "source": [
    "# Columna Date"
   ]
  },
  {
   "cell_type": "markdown",
   "id": "democratic-wholesale",
   "metadata": {},
   "source": [
    "Las fechas están bastante mal, he pensado muchas formas de cambiarlas a un formato decente y esta es la que más me ha convencido"
   ]
  },
  {
   "cell_type": "code",
   "execution_count": 11,
   "id": "impossible-camcorder",
   "metadata": {},
   "outputs": [
    {
     "data": {
      "text/plain": [
       "0       25-Jun-2018\n",
       "1       18-Jun-2018\n",
       "2       09-Jun-2018\n",
       "3       08-Jun-2018\n",
       "4       04-Jun-2018\n",
       "           ...     \n",
       "6297    Before 1903\n",
       "6298    Before 1903\n",
       "6299      1900-1905\n",
       "6300      1883-1889\n",
       "6301      1845-1853\n",
       "Name: _original_date, Length: 6302, dtype: object"
      ]
     },
     "execution_count": 11,
     "metadata": {},
     "output_type": "execute_result"
    }
   ],
   "source": [
    "#Primero de todo, guardamos los valores de una columna nueva para no perderlos\n",
    "df['_original_date'] = df.Date\n",
    "df['_original_date']"
   ]
  },
  {
   "cell_type": "code",
   "execution_count": 12,
   "id": "desirable-librarian",
   "metadata": {},
   "outputs": [],
   "source": [
    "#Hacemos la limpieza más básica\n",
    "df['_original_date_pre_treated'] = \\\n",
    "    df._original_date \\\n",
    "        .apply(\n",
    "                lambda x :\n",
    "                    str(x)\n",
    "                        .replace('Reported ', '')\n",
    "                        .replace('Early ',    '')\n",
    "                        .replace('Late ',     '')\n",
    "                        .replace('--',        '-')\n",
    "            )"
   ]
  },
  {
   "cell_type": "code",
   "execution_count": 13,
   "id": "popular-specific",
   "metadata": {},
   "outputs": [],
   "source": [
    "#usamos la formula to_datetime de pandas. Forzando el coerce \"If ‘coerce’, then invalid parsing will be set as NaT.\"\n",
    "df.Date = pd.to_datetime(df._original_date_pre_treated, errors='coerce')"
   ]
  },
  {
   "cell_type": "code",
   "execution_count": 14,
   "id": "unlike-copying",
   "metadata": {},
   "outputs": [
    {
     "name": "stderr",
     "output_type": "stream",
     "text": [
      "<ipython-input-14-4d008df60697>:2: UserWarning: Pandas doesn't allow columns to be created via a new attribute name - see https://pandas.pydata.org/pandas-docs/stable/indexing.html#attribute-access\n",
      "  df.decade = df.Date.apply(lambda x : x.year - x.year % 10)\n"
     ]
    }
   ],
   "source": [
    "#computar decada\n",
    "df.decade = df.Date.apply(lambda x : x.year - x.year % 10)"
   ]
  },
  {
   "cell_type": "code",
   "execution_count": 15,
   "id": "choice-meeting",
   "metadata": {},
   "outputs": [
    {
     "data": {
      "text/html": [
       "<div>\n",
       "<style scoped>\n",
       "    .dataframe tbody tr th:only-of-type {\n",
       "        vertical-align: middle;\n",
       "    }\n",
       "\n",
       "    .dataframe tbody tr th {\n",
       "        vertical-align: top;\n",
       "    }\n",
       "\n",
       "    .dataframe thead th {\n",
       "        text-align: right;\n",
       "    }\n",
       "</style>\n",
       "<table border=\"1\" class=\"dataframe\">\n",
       "  <thead>\n",
       "    <tr style=\"text-align: right;\">\n",
       "      <th></th>\n",
       "      <th>Case_number</th>\n",
       "      <th>Date</th>\n",
       "      <th>Year</th>\n",
       "      <th>Type</th>\n",
       "      <th>Country</th>\n",
       "      <th>Area</th>\n",
       "      <th>Location</th>\n",
       "      <th>Activity</th>\n",
       "      <th>Name</th>\n",
       "      <th>Sex</th>\n",
       "      <th>...</th>\n",
       "      <th>pdf</th>\n",
       "      <th>href_formula</th>\n",
       "      <th>href</th>\n",
       "      <th>Case_n1</th>\n",
       "      <th>Case_n2</th>\n",
       "      <th>original_order</th>\n",
       "      <th>unnamed22</th>\n",
       "      <th>unnamed23</th>\n",
       "      <th>_original_date</th>\n",
       "      <th>_original_date_pre_treated</th>\n",
       "    </tr>\n",
       "  </thead>\n",
       "  <tbody>\n",
       "    <tr>\n",
       "      <th>0</th>\n",
       "      <td>2018.06.25</td>\n",
       "      <td>2018-06-25</td>\n",
       "      <td>2018.0</td>\n",
       "      <td>Boating</td>\n",
       "      <td>USA</td>\n",
       "      <td>California</td>\n",
       "      <td>Oceanside, San Diego County</td>\n",
       "      <td>Paddling</td>\n",
       "      <td>Julie Wolfe</td>\n",
       "      <td>F</td>\n",
       "      <td>...</td>\n",
       "      <td>2018.06.25-Wolfe.pdf</td>\n",
       "      <td>http://sharkattackfile.net/spreadsheets/pdf_di...</td>\n",
       "      <td>http://sharkattackfile.net/spreadsheets/pdf_di...</td>\n",
       "      <td>2018.06.25</td>\n",
       "      <td>2018.06.25</td>\n",
       "      <td>6303.0</td>\n",
       "      <td>NaN</td>\n",
       "      <td>NaN</td>\n",
       "      <td>25-Jun-2018</td>\n",
       "      <td>25-Jun-2018</td>\n",
       "    </tr>\n",
       "    <tr>\n",
       "      <th>1</th>\n",
       "      <td>2018.06.18</td>\n",
       "      <td>2018-06-18</td>\n",
       "      <td>2018.0</td>\n",
       "      <td>Unprovoked</td>\n",
       "      <td>USA</td>\n",
       "      <td>Georgia</td>\n",
       "      <td>St. Simon Island, Glynn County</td>\n",
       "      <td>Standing</td>\n",
       "      <td>Adyson McNeely</td>\n",
       "      <td>F</td>\n",
       "      <td>...</td>\n",
       "      <td>2018.06.18-McNeely.pdf</td>\n",
       "      <td>http://sharkattackfile.net/spreadsheets/pdf_di...</td>\n",
       "      <td>http://sharkattackfile.net/spreadsheets/pdf_di...</td>\n",
       "      <td>2018.06.18</td>\n",
       "      <td>2018.06.18</td>\n",
       "      <td>6302.0</td>\n",
       "      <td>NaN</td>\n",
       "      <td>NaN</td>\n",
       "      <td>18-Jun-2018</td>\n",
       "      <td>18-Jun-2018</td>\n",
       "    </tr>\n",
       "    <tr>\n",
       "      <th>2</th>\n",
       "      <td>2018.06.09</td>\n",
       "      <td>2018-06-09</td>\n",
       "      <td>2018.0</td>\n",
       "      <td>Invalid</td>\n",
       "      <td>USA</td>\n",
       "      <td>Hawaii</td>\n",
       "      <td>Habush, Oahu</td>\n",
       "      <td>Surfing</td>\n",
       "      <td>John Denges</td>\n",
       "      <td>M</td>\n",
       "      <td>...</td>\n",
       "      <td>2018.06.09-Denges.pdf</td>\n",
       "      <td>http://sharkattackfile.net/spreadsheets/pdf_di...</td>\n",
       "      <td>http://sharkattackfile.net/spreadsheets/pdf_di...</td>\n",
       "      <td>2018.06.09</td>\n",
       "      <td>2018.06.09</td>\n",
       "      <td>6301.0</td>\n",
       "      <td>NaN</td>\n",
       "      <td>NaN</td>\n",
       "      <td>09-Jun-2018</td>\n",
       "      <td>09-Jun-2018</td>\n",
       "    </tr>\n",
       "    <tr>\n",
       "      <th>3</th>\n",
       "      <td>2018.06.08</td>\n",
       "      <td>2018-06-08</td>\n",
       "      <td>2018.0</td>\n",
       "      <td>Unprovoked</td>\n",
       "      <td>AUSTRALIA</td>\n",
       "      <td>New South Wales</td>\n",
       "      <td>Arrawarra Headland</td>\n",
       "      <td>Surfing</td>\n",
       "      <td>male</td>\n",
       "      <td>M</td>\n",
       "      <td>...</td>\n",
       "      <td>2018.06.08-Arrawarra.pdf</td>\n",
       "      <td>http://sharkattackfile.net/spreadsheets/pdf_di...</td>\n",
       "      <td>http://sharkattackfile.net/spreadsheets/pdf_di...</td>\n",
       "      <td>2018.06.08</td>\n",
       "      <td>2018.06.08</td>\n",
       "      <td>6300.0</td>\n",
       "      <td>NaN</td>\n",
       "      <td>NaN</td>\n",
       "      <td>08-Jun-2018</td>\n",
       "      <td>08-Jun-2018</td>\n",
       "    </tr>\n",
       "    <tr>\n",
       "      <th>4</th>\n",
       "      <td>2018.06.04</td>\n",
       "      <td>2018-06-04</td>\n",
       "      <td>2018.0</td>\n",
       "      <td>Provoked</td>\n",
       "      <td>MEXICO</td>\n",
       "      <td>Colima</td>\n",
       "      <td>La Ticla</td>\n",
       "      <td>Free diving</td>\n",
       "      <td>Gustavo Ramos</td>\n",
       "      <td>M</td>\n",
       "      <td>...</td>\n",
       "      <td>2018.06.04-Ramos.pdf</td>\n",
       "      <td>http://sharkattackfile.net/spreadsheets/pdf_di...</td>\n",
       "      <td>http://sharkattackfile.net/spreadsheets/pdf_di...</td>\n",
       "      <td>2018.06.04</td>\n",
       "      <td>2018.06.04</td>\n",
       "      <td>6299.0</td>\n",
       "      <td>NaN</td>\n",
       "      <td>NaN</td>\n",
       "      <td>04-Jun-2018</td>\n",
       "      <td>04-Jun-2018</td>\n",
       "    </tr>\n",
       "  </tbody>\n",
       "</table>\n",
       "<p>5 rows × 26 columns</p>\n",
       "</div>"
      ],
      "text/plain": [
       "  Case_number       Date    Year        Type    Country             Area  \\\n",
       "0  2018.06.25 2018-06-25  2018.0     Boating        USA       California   \n",
       "1  2018.06.18 2018-06-18  2018.0  Unprovoked        USA          Georgia   \n",
       "2  2018.06.09 2018-06-09  2018.0     Invalid        USA           Hawaii   \n",
       "3  2018.06.08 2018-06-08  2018.0  Unprovoked  AUSTRALIA  New South Wales   \n",
       "4  2018.06.04 2018-06-04  2018.0    Provoked     MEXICO           Colima   \n",
       "\n",
       "                         Location     Activity             Name Sex  ...  \\\n",
       "0     Oceanside, San Diego County     Paddling      Julie Wolfe   F  ...   \n",
       "1  St. Simon Island, Glynn County     Standing  Adyson McNeely    F  ...   \n",
       "2                    Habush, Oahu      Surfing      John Denges   M  ...   \n",
       "3              Arrawarra Headland      Surfing             male   M  ...   \n",
       "4                        La Ticla  Free diving   Gustavo Ramos    M  ...   \n",
       "\n",
       "                        pdf  \\\n",
       "0      2018.06.25-Wolfe.pdf   \n",
       "1    2018.06.18-McNeely.pdf   \n",
       "2     2018.06.09-Denges.pdf   \n",
       "3  2018.06.08-Arrawarra.pdf   \n",
       "4      2018.06.04-Ramos.pdf   \n",
       "\n",
       "                                        href_formula  \\\n",
       "0  http://sharkattackfile.net/spreadsheets/pdf_di...   \n",
       "1  http://sharkattackfile.net/spreadsheets/pdf_di...   \n",
       "2  http://sharkattackfile.net/spreadsheets/pdf_di...   \n",
       "3  http://sharkattackfile.net/spreadsheets/pdf_di...   \n",
       "4  http://sharkattackfile.net/spreadsheets/pdf_di...   \n",
       "\n",
       "                                                href     Case_n1     Case_n2  \\\n",
       "0  http://sharkattackfile.net/spreadsheets/pdf_di...  2018.06.25  2018.06.25   \n",
       "1  http://sharkattackfile.net/spreadsheets/pdf_di...  2018.06.18  2018.06.18   \n",
       "2  http://sharkattackfile.net/spreadsheets/pdf_di...  2018.06.09  2018.06.09   \n",
       "3  http://sharkattackfile.net/spreadsheets/pdf_di...  2018.06.08  2018.06.08   \n",
       "4  http://sharkattackfile.net/spreadsheets/pdf_di...  2018.06.04  2018.06.04   \n",
       "\n",
       "  original_order unnamed22 unnamed23 _original_date _original_date_pre_treated  \n",
       "0         6303.0       NaN       NaN    25-Jun-2018                25-Jun-2018  \n",
       "1         6302.0       NaN       NaN    18-Jun-2018                18-Jun-2018  \n",
       "2         6301.0       NaN       NaN    09-Jun-2018                09-Jun-2018  \n",
       "3         6300.0       NaN       NaN    08-Jun-2018                08-Jun-2018  \n",
       "4         6299.0       NaN       NaN    04-Jun-2018                04-Jun-2018  \n",
       "\n",
       "[5 rows x 26 columns]"
      ]
     },
     "execution_count": 15,
     "metadata": {},
     "output_type": "execute_result"
    }
   ],
   "source": [
    "#tachán! esto me crea dos columnas que luego puedo eliminar\n",
    "df.head()"
   ]
  },
  {
   "cell_type": "code",
   "execution_count": 16,
   "id": "sapphire-species",
   "metadata": {},
   "outputs": [],
   "source": [
    "df=df.drop('_original_date_pre_treated', axis=1)"
   ]
  },
  {
   "cell_type": "code",
   "execution_count": 17,
   "id": "incomplete-celebration",
   "metadata": {},
   "outputs": [],
   "source": [
    "df=df.drop('_original_date', axis=1)"
   ]
  },
  {
   "cell_type": "code",
   "execution_count": 18,
   "id": "outstanding-portuguese",
   "metadata": {},
   "outputs": [],
   "source": [
    "df['Date'] = df['Date'].fillna('Unknown')"
   ]
  },
  {
   "cell_type": "code",
   "execution_count": 19,
   "id": "under-session",
   "metadata": {},
   "outputs": [
    {
     "data": {
      "text/plain": [
       "0       2018-06-25 00:00:00\n",
       "1       2018-06-18 00:00:00\n",
       "2       2018-06-09 00:00:00\n",
       "3       2018-06-08 00:00:00\n",
       "4       2018-06-04 00:00:00\n",
       "               ...         \n",
       "6297                Unknown\n",
       "6298                Unknown\n",
       "6299                Unknown\n",
       "6300                Unknown\n",
       "6301                Unknown\n",
       "Name: Date, Length: 6302, dtype: object"
      ]
     },
     "execution_count": 19,
     "metadata": {},
     "output_type": "execute_result"
    }
   ],
   "source": [
    "df.Date"
   ]
  },
  {
   "cell_type": "markdown",
   "id": "official-tsunami",
   "metadata": {},
   "source": [
    "# Columna year"
   ]
  },
  {
   "cell_type": "markdown",
   "id": "upper-executive",
   "metadata": {},
   "source": [
    "La columna year viene como float, en un primer momento lo pasé solo a int y ya, previamente cambiando los nulls por 0. Bajo mi criterio esto no es lo óptimo, ya que puede llevar a confusión y error cuando los analístas calculen medias y demás.\n",
    "\n",
    "Por ello, he optado por cambiarlo por un unknown, pero esto conlleva que quede como una string, después se ha quedado obviamente con fechas como 2018.0, y he hecho un strip."
   ]
  },
  {
   "cell_type": "code",
   "execution_count": 20,
   "id": "secret-motel",
   "metadata": {},
   "outputs": [
    {
     "name": "stdout",
     "output_type": "stream",
     "text": [
      "<class 'pandas.core.frame.DataFrame'>\n",
      "Int64Index: 6302 entries, 0 to 6301\n",
      "Data columns (total 24 columns):\n",
      " #   Column          Non-Null Count  Dtype  \n",
      "---  ------          --------------  -----  \n",
      " 0   Case_number     6301 non-null   object \n",
      " 1   Date            6302 non-null   object \n",
      " 2   Year            6300 non-null   float64\n",
      " 3   Type            6298 non-null   object \n",
      " 4   Country         6252 non-null   object \n",
      " 5   Area            5847 non-null   object \n",
      " 6   Location        5762 non-null   object \n",
      " 7   Activity        5758 non-null   object \n",
      " 8   Name            6092 non-null   object \n",
      " 9   Sex             5737 non-null   object \n",
      " 10  Age             3471 non-null   object \n",
      " 11  Injury          6274 non-null   object \n",
      " 12  Fatal           5763 non-null   object \n",
      " 13  Time            2948 non-null   object \n",
      " 14  Species         3464 non-null   object \n",
      " 15  Investigator    6285 non-null   object \n",
      " 16  pdf             6302 non-null   object \n",
      " 17  href_formula    6301 non-null   object \n",
      " 18  href            6302 non-null   object \n",
      " 19  Case_n1         6302 non-null   object \n",
      " 20  Case_n2         6302 non-null   object \n",
      " 21  original_order  6302 non-null   float64\n",
      " 22  unnamed22       1 non-null      object \n",
      " 23  unnamed23       2 non-null      object \n",
      "dtypes: float64(2), object(22)\n",
      "memory usage: 1.2+ MB\n"
     ]
    }
   ],
   "source": [
    "df.info()"
   ]
  },
  {
   "cell_type": "code",
   "execution_count": 21,
   "id": "devoted-speaker",
   "metadata": {},
   "outputs": [],
   "source": [
    "df.Year=df.Year.apply(lambda x: 'Unknown' if x <1000 else x)"
   ]
  },
  {
   "cell_type": "code",
   "execution_count": 22,
   "id": "assured-adventure",
   "metadata": {},
   "outputs": [],
   "source": [
    "df['Year'] = df['Year'].fillna('unknown')"
   ]
  },
  {
   "cell_type": "code",
   "execution_count": 23,
   "id": "eastern-plain",
   "metadata": {},
   "outputs": [],
   "source": [
    "df.Year=df.Year.astype(dtype='str')"
   ]
  },
  {
   "cell_type": "code",
   "execution_count": 24,
   "id": "coordinate-moore",
   "metadata": {},
   "outputs": [],
   "source": [
    "df['Year'] = df['Year'].str.rstrip('.0')\n"
   ]
  },
  {
   "cell_type": "markdown",
   "id": "upset-daniel",
   "metadata": {},
   "source": [
    "# Columna type"
   ]
  },
  {
   "cell_type": "code",
   "execution_count": 25,
   "id": "educational-north",
   "metadata": {},
   "outputs": [
    {
     "data": {
      "text/plain": [
       "array(['Boating', 'Unprovoked', 'Invalid', 'Provoked', 'Questionable',\n",
       "       'Sea Disaster', nan, 'Boat', 'Boatomg'], dtype=object)"
      ]
     },
     "execution_count": 25,
     "metadata": {},
     "output_type": "execute_result"
    }
   ],
   "source": [
    "df.Type.unique()"
   ]
  },
  {
   "cell_type": "code",
   "execution_count": 26,
   "id": "supreme-business",
   "metadata": {},
   "outputs": [],
   "source": [
    "df['Type'] = df['Type'].fillna('Unknown')"
   ]
  },
  {
   "cell_type": "code",
   "execution_count": 27,
   "id": "impressive-kinase",
   "metadata": {},
   "outputs": [],
   "source": [
    "df.Type=df.Type.replace(to_replace =(\"Boatomg\"), value =\"Boat\")"
   ]
  },
  {
   "cell_type": "markdown",
   "id": "convinced-atmosphere",
   "metadata": {},
   "source": [
    "# Columna Country"
   ]
  },
  {
   "cell_type": "code",
   "execution_count": 28,
   "id": "included-hawaii",
   "metadata": {},
   "outputs": [],
   "source": [
    "df['Country'] = df['Country'].str.capitalize()"
   ]
  },
  {
   "cell_type": "code",
   "execution_count": 29,
   "id": "structural-turtle",
   "metadata": {},
   "outputs": [],
   "source": [
    "df['Country'] = df['Country'].str.rstrip('?')"
   ]
  },
  {
   "cell_type": "code",
   "execution_count": 30,
   "id": "possible-memory",
   "metadata": {},
   "outputs": [],
   "source": [
    "df['Country'] = df['Country'].fillna('Unknown')"
   ]
  },
  {
   "cell_type": "markdown",
   "id": "precious-cathedral",
   "metadata": {},
   "source": [
    "# Columna Area"
   ]
  },
  {
   "cell_type": "markdown",
   "id": "little-malaysia",
   "metadata": {},
   "source": [
    "En este caso lo que ocurre es que hay bastante basura en los datos, tener como área \"a 100km de Sri Lanka\" es mejor que nada, pero en análisis con muchos datos esto no es útil. Por ello creo que es mejor quitar todos datos dejandolos como unknown y apoyarnos en Country - location."
   ]
  },
  {
   "cell_type": "code",
   "execution_count": 31,
   "id": "occupied-juvenile",
   "metadata": {},
   "outputs": [],
   "source": [
    "df['Area'] = df['Area'].fillna('Unknown')"
   ]
  },
  {
   "cell_type": "code",
   "execution_count": 32,
   "id": "extended-movie",
   "metadata": {},
   "outputs": [
    {
     "data": {
      "text/plain": [
       "0              California\n",
       "1                 Georgia\n",
       "2                  Hawaii\n",
       "3         New South Wales\n",
       "4                  Colima\n",
       "              ...        \n",
       "6297    Western Australia\n",
       "6298    Western Australia\n",
       "6299       North Carolina\n",
       "6300              Unknown\n",
       "6301     Eastern Province\n",
       "Name: Area, Length: 6302, dtype: object"
      ]
     },
     "execution_count": 32,
     "metadata": {},
     "output_type": "execute_result"
    }
   ],
   "source": [
    "df.Area.replace('numeric', 'unknown')"
   ]
  },
  {
   "cell_type": "markdown",
   "id": "freelance-clear",
   "metadata": {},
   "source": [
    "# Columna Location"
   ]
  },
  {
   "cell_type": "code",
   "execution_count": 33,
   "id": "crude-sector",
   "metadata": {},
   "outputs": [
    {
     "data": {
      "text/plain": [
       "array(['Oceanside, San Diego County', 'St. Simon Island, Glynn County',\n",
       "       'Habush, Oahu', ..., 'Ocracoke Inlet', 'Panama Bay 8ºN, 79ºW',\n",
       "       'Below the English fort, Trincomalee'], dtype=object)"
      ]
     },
     "execution_count": 33,
     "metadata": {},
     "output_type": "execute_result"
    }
   ],
   "source": [
    "df.Location.unique()"
   ]
  },
  {
   "cell_type": "code",
   "execution_count": 34,
   "id": "contrary-revelation",
   "metadata": {},
   "outputs": [],
   "source": [
    "df['Location'] = df['Location'].fillna('Unknown')"
   ]
  },
  {
   "cell_type": "code",
   "execution_count": 35,
   "id": "square-choice",
   "metadata": {},
   "outputs": [],
   "source": [
    "df.Location=df.Location.astype(dtype='str')"
   ]
  },
  {
   "cell_type": "markdown",
   "id": "religious-twenty",
   "metadata": {},
   "source": [
    "# Columna Activity"
   ]
  },
  {
   "cell_type": "code",
   "execution_count": 36,
   "id": "olympic-bible",
   "metadata": {},
   "outputs": [
    {
     "data": {
      "text/plain": [
       "array(['Paddling', 'Standing', 'Surfing', ...,\n",
       "       'Crew swimming alongside their anchored ship',\n",
       "       '4 men were bathing', 'Wreck of  large double sailing canoe'],\n",
       "      dtype=object)"
      ]
     },
     "execution_count": 36,
     "metadata": {},
     "output_type": "execute_result"
    }
   ],
   "source": [
    "df.Activity.unique()"
   ]
  },
  {
   "cell_type": "code",
   "execution_count": 37,
   "id": "synthetic-intersection",
   "metadata": {},
   "outputs": [],
   "source": [
    "df['Activity'] = df['Activity'].fillna('Unknown')"
   ]
  },
  {
   "cell_type": "code",
   "execution_count": 38,
   "id": "polished-secretariat",
   "metadata": {},
   "outputs": [],
   "source": [
    "df.loc[df['Activity'].str.contains('\\wwimming', regex=True, case=False), 'Activity'] = 'Swimming'"
   ]
  },
  {
   "cell_type": "code",
   "execution_count": 39,
   "id": "italic-system",
   "metadata": {},
   "outputs": [],
   "source": [
    "df.loc[df['Activity'].str.contains('\\wurf', regex=True, case=False), 'Activity'] = 'Surfing'"
   ]
  },
  {
   "cell_type": "code",
   "execution_count": 40,
   "id": "existing-victory",
   "metadata": {},
   "outputs": [],
   "source": [
    "df.loc[df['Activity'].str.contains('\\wiv', regex=True, case=False), 'Activity'] = 'Diving'"
   ]
  },
  {
   "cell_type": "code",
   "execution_count": 41,
   "id": "structured-edward",
   "metadata": {},
   "outputs": [],
   "source": [
    "df.loc[df['Activity'].str.contains('\\wish', regex=True, case=False), 'Activity'] = 'Fishing'"
   ]
  },
  {
   "cell_type": "code",
   "execution_count": 42,
   "id": "alive-engineer",
   "metadata": {},
   "outputs": [],
   "source": [
    "activity_lst = ['Swimming','Surfing', 'Diving', 'Fishing']"
   ]
  },
  {
   "cell_type": "code",
   "execution_count": 43,
   "id": "senior-option",
   "metadata": {},
   "outputs": [],
   "source": [
    "df.Activity=df.Activity.apply(lambda x: 'Unknown' if x not in activity_lst else x)"
   ]
  },
  {
   "cell_type": "code",
   "execution_count": 44,
   "id": "handmade-stadium",
   "metadata": {},
   "outputs": [
    {
     "data": {
      "text/plain": [
       "Unknown     2184\n",
       "Surfing     1244\n",
       "Fishing     1134\n",
       "Swimming    1117\n",
       "Diving       623\n",
       "Name: Activity, dtype: int64"
      ]
     },
     "execution_count": 44,
     "metadata": {},
     "output_type": "execute_result"
    }
   ],
   "source": [
    "df.Activity.value_counts()"
   ]
  },
  {
   "cell_type": "markdown",
   "id": "single-legend",
   "metadata": {},
   "source": [
    "# Columna name"
   ]
  },
  {
   "cell_type": "code",
   "execution_count": 45,
   "id": "fifteen-confidence",
   "metadata": {},
   "outputs": [],
   "source": [
    "df.Name=df.Name.replace(to_replace =[\"male\", \"female\"], value =\"Unknown\")"
   ]
  },
  {
   "cell_type": "code",
   "execution_count": 46,
   "id": "inside-trash",
   "metadata": {},
   "outputs": [],
   "source": [
    "df['Name'] = df['Name'].fillna('Unknown')"
   ]
  },
  {
   "cell_type": "markdown",
   "id": "beneficial-salmon",
   "metadata": {},
   "source": [
    "# Columna Sex"
   ]
  },
  {
   "cell_type": "code",
   "execution_count": 47,
   "id": "advised-spain",
   "metadata": {},
   "outputs": [
    {
     "data": {
      "text/plain": [
       "array(['F', 'M', nan, 'M ', 'lli', 'N', '.'], dtype=object)"
      ]
     },
     "execution_count": 47,
     "metadata": {},
     "output_type": "execute_result"
    }
   ],
   "source": [
    "df.Sex.unique()"
   ]
  },
  {
   "cell_type": "code",
   "execution_count": 48,
   "id": "becoming-acceptance",
   "metadata": {},
   "outputs": [],
   "source": [
    "df['Sex'] = df['Sex'].fillna('Unknown')"
   ]
  },
  {
   "cell_type": "code",
   "execution_count": 49,
   "id": "informal-congress",
   "metadata": {},
   "outputs": [],
   "source": [
    "df.Sex=df.Sex.replace(to_replace =(\"M \"), value =\"M\")"
   ]
  },
  {
   "cell_type": "code",
   "execution_count": 50,
   "id": "automotive-mauritius",
   "metadata": {},
   "outputs": [
    {
     "data": {
      "text/plain": [
       "array(['F', 'M', 'Unknown', 'lli', 'N', '.'], dtype=object)"
      ]
     },
     "execution_count": 50,
     "metadata": {},
     "output_type": "execute_result"
    }
   ],
   "source": [
    "df.Sex.unique()"
   ]
  },
  {
   "cell_type": "code",
   "execution_count": 51,
   "id": "entertaining-swimming",
   "metadata": {},
   "outputs": [
    {
     "data": {
      "text/html": [
       "<div>\n",
       "<style scoped>\n",
       "    .dataframe tbody tr th:only-of-type {\n",
       "        vertical-align: middle;\n",
       "    }\n",
       "\n",
       "    .dataframe tbody tr th {\n",
       "        vertical-align: top;\n",
       "    }\n",
       "\n",
       "    .dataframe thead th {\n",
       "        text-align: right;\n",
       "    }\n",
       "</style>\n",
       "<table border=\"1\" class=\"dataframe\">\n",
       "  <thead>\n",
       "    <tr style=\"text-align: right;\">\n",
       "      <th></th>\n",
       "      <th>Case_number</th>\n",
       "      <th>Date</th>\n",
       "      <th>Year</th>\n",
       "      <th>Type</th>\n",
       "      <th>Country</th>\n",
       "      <th>Area</th>\n",
       "      <th>Location</th>\n",
       "      <th>Activity</th>\n",
       "      <th>Name</th>\n",
       "      <th>Sex</th>\n",
       "      <th>...</th>\n",
       "      <th>Species</th>\n",
       "      <th>Investigator</th>\n",
       "      <th>pdf</th>\n",
       "      <th>href_formula</th>\n",
       "      <th>href</th>\n",
       "      <th>Case_n1</th>\n",
       "      <th>Case_n2</th>\n",
       "      <th>original_order</th>\n",
       "      <th>unnamed22</th>\n",
       "      <th>unnamed23</th>\n",
       "    </tr>\n",
       "  </thead>\n",
       "  <tbody>\n",
       "    <tr>\n",
       "      <th>4938</th>\n",
       "      <td>1934.07.11</td>\n",
       "      <td>1934-07-11 00:00:00</td>\n",
       "      <td>1934</td>\n",
       "      <td>Boating</td>\n",
       "      <td>Australia</td>\n",
       "      <td>New South Wales</td>\n",
       "      <td>Cronulla</td>\n",
       "      <td>Fishing</td>\n",
       "      <td>18' boat, occupants William &amp; Leslie Newton</td>\n",
       "      <td>N</td>\n",
       "      <td>...</td>\n",
       "      <td>Blue pointer, 11'</td>\n",
       "      <td>G.P. Whitley, ref: Daily Telegraph, 7/11/1934 ...</td>\n",
       "      <td>1934.07.11-Newton-boat-Australia.pdf</td>\n",
       "      <td>http://sharkattackfile.net/spreadsheets/pdf_di...</td>\n",
       "      <td>http://sharkattackfile.net/spreadsheets/pdf_di...</td>\n",
       "      <td>1934.07.11</td>\n",
       "      <td>1934.07.11</td>\n",
       "      <td>1365.0</td>\n",
       "      <td>NaN</td>\n",
       "      <td>NaN</td>\n",
       "    </tr>\n",
       "    <tr>\n",
       "      <th>6131</th>\n",
       "      <td>1801.12.18.R</td>\n",
       "      <td>1801-12-18 00:00:00</td>\n",
       "      <td>1801</td>\n",
       "      <td>Provoked</td>\n",
       "      <td>Unknown</td>\n",
       "      <td>Unknown</td>\n",
       "      <td>Unknown</td>\n",
       "      <td>Unknown</td>\n",
       "      <td>Stephen Pettigew</td>\n",
       "      <td>N</td>\n",
       "      <td>...</td>\n",
       "      <td>12' shark</td>\n",
       "      <td>The Evening Post, 12/18/1801</td>\n",
       "      <td>1801.12.18.R-Pettigrew.pdf</td>\n",
       "      <td>http://sharkattackfile.net/spreadsheets/pdf_di...</td>\n",
       "      <td>http://sharkattackfile.net/spreadsheets/pdf_di...</td>\n",
       "      <td>1801.12.18.R</td>\n",
       "      <td>1801.12.18.R</td>\n",
       "      <td>172.0</td>\n",
       "      <td>NaN</td>\n",
       "      <td>NaN</td>\n",
       "    </tr>\n",
       "  </tbody>\n",
       "</table>\n",
       "<p>2 rows × 24 columns</p>\n",
       "</div>"
      ],
      "text/plain": [
       "       Case_number                 Date  Year      Type    Country  \\\n",
       "4938    1934.07.11  1934-07-11 00:00:00  1934   Boating  Australia   \n",
       "6131  1801.12.18.R  1801-12-18 00:00:00  1801  Provoked    Unknown   \n",
       "\n",
       "                 Area  Location Activity  \\\n",
       "4938  New South Wales  Cronulla  Fishing   \n",
       "6131          Unknown   Unknown  Unknown   \n",
       "\n",
       "                                             Name Sex  ...  \\\n",
       "4938  18' boat, occupants William & Leslie Newton   N  ...   \n",
       "6131                             Stephen Pettigew   N  ...   \n",
       "\n",
       "                 Species                                       Investigator  \\\n",
       "4938  Blue pointer, 11'   G.P. Whitley, ref: Daily Telegraph, 7/11/1934 ...   \n",
       "6131           12' shark                       The Evening Post, 12/18/1801   \n",
       "\n",
       "                                       pdf  \\\n",
       "4938  1934.07.11-Newton-boat-Australia.pdf   \n",
       "6131            1801.12.18.R-Pettigrew.pdf   \n",
       "\n",
       "                                           href_formula  \\\n",
       "4938  http://sharkattackfile.net/spreadsheets/pdf_di...   \n",
       "6131  http://sharkattackfile.net/spreadsheets/pdf_di...   \n",
       "\n",
       "                                                   href       Case_n1  \\\n",
       "4938  http://sharkattackfile.net/spreadsheets/pdf_di...    1934.07.11   \n",
       "6131  http://sharkattackfile.net/spreadsheets/pdf_di...  1801.12.18.R   \n",
       "\n",
       "           Case_n2 original_order unnamed22 unnamed23  \n",
       "4938    1934.07.11         1365.0       NaN       NaN  \n",
       "6131  1801.12.18.R          172.0       NaN       NaN  \n",
       "\n",
       "[2 rows x 24 columns]"
      ]
     },
     "execution_count": 51,
     "metadata": {},
     "output_type": "execute_result"
    }
   ],
   "source": [
    "#Saco las rows con N para ver que ha pasado. La hipótesis de que la n está cerca de la m queda rechazada.\n",
    "df.loc[df['Sex'] == 'N']"
   ]
  },
  {
   "cell_type": "code",
   "execution_count": 52,
   "id": "unique-collins",
   "metadata": {},
   "outputs": [],
   "source": [
    "#Los cambio por Males porque ambos casos contienen hombres\n",
    "df.Sex=df.Sex.replace(to_replace =(\"N\"), value =\"M\")"
   ]
  },
  {
   "cell_type": "code",
   "execution_count": 53,
   "id": "endangered-asset",
   "metadata": {},
   "outputs": [
    {
     "data": {
      "text/plain": [
       "array(['F', 'M', 'Unknown', 'lli', '.'], dtype=object)"
      ]
     },
     "execution_count": 53,
     "metadata": {},
     "output_type": "execute_result"
    }
   ],
   "source": [
    "df.Sex.unique()"
   ]
  },
  {
   "cell_type": "code",
   "execution_count": 54,
   "id": "optical-danish",
   "metadata": {},
   "outputs": [
    {
     "data": {
      "text/html": [
       "<div>\n",
       "<style scoped>\n",
       "    .dataframe tbody tr th:only-of-type {\n",
       "        vertical-align: middle;\n",
       "    }\n",
       "\n",
       "    .dataframe tbody tr th {\n",
       "        vertical-align: top;\n",
       "    }\n",
       "\n",
       "    .dataframe thead th {\n",
       "        text-align: right;\n",
       "    }\n",
       "</style>\n",
       "<table border=\"1\" class=\"dataframe\">\n",
       "  <thead>\n",
       "    <tr style=\"text-align: right;\">\n",
       "      <th></th>\n",
       "      <th>Case_number</th>\n",
       "      <th>Date</th>\n",
       "      <th>Year</th>\n",
       "      <th>Type</th>\n",
       "      <th>Country</th>\n",
       "      <th>Area</th>\n",
       "      <th>Location</th>\n",
       "      <th>Activity</th>\n",
       "      <th>Name</th>\n",
       "      <th>Sex</th>\n",
       "      <th>...</th>\n",
       "      <th>Species</th>\n",
       "      <th>Investigator</th>\n",
       "      <th>pdf</th>\n",
       "      <th>href_formula</th>\n",
       "      <th>href</th>\n",
       "      <th>Case_n1</th>\n",
       "      <th>Case_n2</th>\n",
       "      <th>original_order</th>\n",
       "      <th>unnamed22</th>\n",
       "      <th>unnamed23</th>\n",
       "    </tr>\n",
       "  </thead>\n",
       "  <tbody>\n",
       "    <tr>\n",
       "      <th>1624</th>\n",
       "      <td>2004.11.11.b</td>\n",
       "      <td>2004-11-11 00:00:00</td>\n",
       "      <td>2004</td>\n",
       "      <td>Unprovoked</td>\n",
       "      <td>Usa</td>\n",
       "      <td>California</td>\n",
       "      <td>Bunkers, Humboldt Bay, Eureka, Humboldt County</td>\n",
       "      <td>Surfing</td>\n",
       "      <td>Brian Kang</td>\n",
       "      <td>lli</td>\n",
       "      <td>...</td>\n",
       "      <td>5.5 m [18'] white shark</td>\n",
       "      <td>R. Collier, GSAF</td>\n",
       "      <td>2004.11.11.b-Kang.pdf</td>\n",
       "      <td>http://sharkattackfile.net/spreadsheets/pdf_di...</td>\n",
       "      <td>http://sharkattackfile.net/spreadsheets/pdf_di...</td>\n",
       "      <td>2004.11.11.b</td>\n",
       "      <td>2004.11.11.b</td>\n",
       "      <td>4679.0</td>\n",
       "      <td>NaN</td>\n",
       "      <td>NaN</td>\n",
       "    </tr>\n",
       "  </tbody>\n",
       "</table>\n",
       "<p>1 rows × 24 columns</p>\n",
       "</div>"
      ],
      "text/plain": [
       "       Case_number                 Date  Year        Type Country        Area  \\\n",
       "1624  2004.11.11.b  2004-11-11 00:00:00  2004  Unprovoked     Usa  California   \n",
       "\n",
       "                                            Location Activity        Name  \\\n",
       "1624  Bunkers, Humboldt Bay, Eureka, Humboldt County  Surfing  Brian Kang   \n",
       "\n",
       "      Sex  ...                  Species                      Investigator  \\\n",
       "1624  lli  ...  5.5 m [18'] white shark  R. Collier, GSAF                   \n",
       "\n",
       "                        pdf  \\\n",
       "1624  2004.11.11.b-Kang.pdf   \n",
       "\n",
       "                                           href_formula  \\\n",
       "1624  http://sharkattackfile.net/spreadsheets/pdf_di...   \n",
       "\n",
       "                                                   href       Case_n1  \\\n",
       "1624  http://sharkattackfile.net/spreadsheets/pdf_di...  2004.11.11.b   \n",
       "\n",
       "           Case_n2 original_order unnamed22 unnamed23  \n",
       "1624  2004.11.11.b         4679.0       NaN       NaN  \n",
       "\n",
       "[1 rows x 24 columns]"
      ]
     },
     "execution_count": 54,
     "metadata": {},
     "output_type": "execute_result"
    }
   ],
   "source": [
    "df.loc[df['Sex'] == 'lli']"
   ]
  },
  {
   "cell_type": "code",
   "execution_count": 55,
   "id": "editorial-commitment",
   "metadata": {},
   "outputs": [],
   "source": [
    "df.Sex=df.Sex.replace(to_replace =(\"lli\"), value =\"M\")"
   ]
  },
  {
   "cell_type": "code",
   "execution_count": 56,
   "id": "arbitrary-builder",
   "metadata": {},
   "outputs": [
    {
     "data": {
      "text/html": [
       "<div>\n",
       "<style scoped>\n",
       "    .dataframe tbody tr th:only-of-type {\n",
       "        vertical-align: middle;\n",
       "    }\n",
       "\n",
       "    .dataframe tbody tr th {\n",
       "        vertical-align: top;\n",
       "    }\n",
       "\n",
       "    .dataframe thead th {\n",
       "        text-align: right;\n",
       "    }\n",
       "</style>\n",
       "<table border=\"1\" class=\"dataframe\">\n",
       "  <thead>\n",
       "    <tr style=\"text-align: right;\">\n",
       "      <th></th>\n",
       "      <th>Case_number</th>\n",
       "      <th>Date</th>\n",
       "      <th>Year</th>\n",
       "      <th>Type</th>\n",
       "      <th>Country</th>\n",
       "      <th>Area</th>\n",
       "      <th>Location</th>\n",
       "      <th>Activity</th>\n",
       "      <th>Name</th>\n",
       "      <th>Sex</th>\n",
       "      <th>...</th>\n",
       "      <th>Species</th>\n",
       "      <th>Investigator</th>\n",
       "      <th>pdf</th>\n",
       "      <th>href_formula</th>\n",
       "      <th>href</th>\n",
       "      <th>Case_n1</th>\n",
       "      <th>Case_n2</th>\n",
       "      <th>original_order</th>\n",
       "      <th>unnamed22</th>\n",
       "      <th>unnamed23</th>\n",
       "    </tr>\n",
       "  </thead>\n",
       "  <tbody>\n",
       "    <tr>\n",
       "      <th>5437</th>\n",
       "      <td>1908.06.02.R</td>\n",
       "      <td>1908-06-02 00:00:00</td>\n",
       "      <td>1908</td>\n",
       "      <td>Sea Disaster</td>\n",
       "      <td>Papua new guinea</td>\n",
       "      <td>New Britain</td>\n",
       "      <td>Matupi</td>\n",
       "      <td>Unknown</td>\n",
       "      <td>Unknown</td>\n",
       "      <td>.</td>\n",
       "      <td>...</td>\n",
       "      <td>Allegedly a 33-foot shark</td>\n",
       "      <td>Taranaki Herald, 6/2/1908</td>\n",
       "      <td>1908.06.02.R-Matupi.pdf</td>\n",
       "      <td>http://sharkattackfile.net/spreadsheets/pdf_di...</td>\n",
       "      <td>http://sharkattackfile.net/spreadsheets/pdf_di...</td>\n",
       "      <td>1908.06.02.R</td>\n",
       "      <td>1908.06.02.R</td>\n",
       "      <td>866.0</td>\n",
       "      <td>NaN</td>\n",
       "      <td>NaN</td>\n",
       "    </tr>\n",
       "  </tbody>\n",
       "</table>\n",
       "<p>1 rows × 24 columns</p>\n",
       "</div>"
      ],
      "text/plain": [
       "       Case_number                 Date  Year          Type           Country  \\\n",
       "5437  1908.06.02.R  1908-06-02 00:00:00  1908  Sea Disaster  Papua new guinea   \n",
       "\n",
       "             Area Location Activity     Name Sex  ...  \\\n",
       "5437  New Britain   Matupi  Unknown  Unknown   .  ...   \n",
       "\n",
       "                        Species               Investigator  \\\n",
       "5437  Allegedly a 33-foot shark  Taranaki Herald, 6/2/1908   \n",
       "\n",
       "                          pdf  \\\n",
       "5437  1908.06.02.R-Matupi.pdf   \n",
       "\n",
       "                                           href_formula  \\\n",
       "5437  http://sharkattackfile.net/spreadsheets/pdf_di...   \n",
       "\n",
       "                                                   href       Case_n1  \\\n",
       "5437  http://sharkattackfile.net/spreadsheets/pdf_di...  1908.06.02.R   \n",
       "\n",
       "           Case_n2 original_order unnamed22 unnamed23  \n",
       "5437  1908.06.02.R          866.0       NaN       NaN  \n",
       "\n",
       "[1 rows x 24 columns]"
      ]
     },
     "execution_count": 56,
     "metadata": {},
     "output_type": "execute_result"
    }
   ],
   "source": [
    "df.loc[df['Sex'] == '.']"
   ]
  },
  {
   "cell_type": "code",
   "execution_count": 57,
   "id": "joint-daughter",
   "metadata": {},
   "outputs": [],
   "source": [
    "df.Sex=df.Sex.replace(to_replace =(\".\"), value =\"Unknown\")"
   ]
  },
  {
   "cell_type": "code",
   "execution_count": 58,
   "id": "demonstrated-prince",
   "metadata": {},
   "outputs": [
    {
     "data": {
      "text/plain": [
       "array(['F', 'M', 'Unknown'], dtype=object)"
      ]
     },
     "execution_count": 58,
     "metadata": {},
     "output_type": "execute_result"
    }
   ],
   "source": [
    "df.Sex.unique()"
   ]
  },
  {
   "cell_type": "markdown",
   "id": "final-subcommittee",
   "metadata": {},
   "source": [
    "# Columna Age"
   ]
  },
  {
   "cell_type": "code",
   "execution_count": 59,
   "id": "indoor-luxembourg",
   "metadata": {},
   "outputs": [
    {
     "data": {
      "text/plain": [
       "array(['57', '11', '48', nan, '18', '52', '15', '12', '32', '10', '21',\n",
       "       '34', '30', '60', '33', '29', '54', '41', '37', '56', '19', '25',\n",
       "       '69', '38', '55', '35', '46', '45', '14', '40s', '28', '20', '24',\n",
       "       '26', '49', '22', '7', '31', '17', '40', '13', '42', '3', '8',\n",
       "       '50', '16', '82', '73', '20s', '68', '51', '39', '58', 'Teen',\n",
       "       '47', '61', '65', '36', '66', '43', '60s', '9', '72', '59', '6',\n",
       "       '27', '64', '23', '71', '44', '62', '63', '70', '18 months', '53',\n",
       "       '30s', '50s', 'teen', '77', '74', '28 & 26', '5', '86', '18 or 20',\n",
       "       '12 or 13', '46 & 34', '28, 23 & 30', 'Teens', '36 & 26',\n",
       "       '8 or 10', '84', '\\xa0 ', ' ', '30 or 36', '6½', '21 & ?', '75',\n",
       "       '33 or 37', 'mid-30s', '23 & 20', ' 30', '7      &    31', ' 28',\n",
       "       '20?', \"60's\", '32 & 30', '16 to 18', '87', '67', 'Elderly',\n",
       "       'mid-20s', 'Ca. 33', '74 ', '45 ', '21 or 26', '20 ', '>50',\n",
       "       '18 to 22', 'adult', '9 & 12', '? & 19', '9 months', '25 to 35',\n",
       "       '23 & 26', '1', '(adult)', '33 & 37', '25 or 28',\n",
       "       '37, 67, 35, 27,  ? & 27', '21, 34,24 & 35', '30 & 32', '50 & 30',\n",
       "       '17 & 35', 'X', '\"middle-age\"', '13 or 18', '34 & 19', '33 & 26',\n",
       "       '2 to 3 months', 'MAKE LINE GREEN', ' 43', '81', '\"young\"',\n",
       "       '7 or 8', '78', '17 & 16', 'F', 'Both 11', '9 or 10', 'young',\n",
       "       '36 & 23', '  ', 'A.M.', '?    &   14', '10 or 12', '31 or 33',\n",
       "       '2½', '13 or 14'], dtype=object)"
      ]
     },
     "execution_count": 59,
     "metadata": {},
     "output_type": "execute_result"
    }
   ],
   "source": [
    "df.Age.unique()"
   ]
  },
  {
   "cell_type": "code",
   "execution_count": 60,
   "id": "educated-buffer",
   "metadata": {},
   "outputs": [],
   "source": [
    "df['Age'] = df['Age'].fillna('Unknown')"
   ]
  },
  {
   "cell_type": "code",
   "execution_count": 61,
   "id": "satisfied-stock",
   "metadata": {},
   "outputs": [],
   "source": [
    "for i in df.Age:\n",
    "    if i.endswith('s'):\n",
    "        df['Age'] = df['Age'].str.rstrip('.s')\n",
    "    else:\n",
    "        pass\n"
   ]
  },
  {
   "cell_type": "code",
   "execution_count": 62,
   "id": "bored-bottle",
   "metadata": {},
   "outputs": [],
   "source": [
    "df.loc[df['Age'].str.contains('\\[a-z]+', regex=True, case=False), 'Age'] = 'Unknown'\n",
    "\n"
   ]
  },
  {
   "cell_type": "markdown",
   "id": "allied-mercy",
   "metadata": {},
   "source": [
    "# Columna injury"
   ]
  },
  {
   "cell_type": "markdown",
   "id": "developing-mercury",
   "metadata": {},
   "source": [
    "No es la sección de la que estoy mas orgulloso, he ido aprendiendo lo de starts with y contain mientras lo hacía y se nota. Es un poco desorganizado pero n general lo que hago es quitar duplicados y agrupar por las repeticiones que voy viendo"
   ]
  },
  {
   "cell_type": "code",
   "execution_count": 63,
   "id": "excellent-batch",
   "metadata": {},
   "outputs": [],
   "source": [
    "df['Injury'] = df['Injury'].fillna('Unknown')"
   ]
  },
  {
   "cell_type": "code",
   "execution_count": 64,
   "id": "expanded-pattern",
   "metadata": {},
   "outputs": [],
   "source": [
    "df.loc[df['Injury'].str.contains('\\wo injury', regex=True, case=False), 'Injury'] = 'No injury'"
   ]
  },
  {
   "cell_type": "code",
   "execution_count": 65,
   "id": "freelance-visibility",
   "metadata": {},
   "outputs": [],
   "source": [
    "df.Injury=df.Injury.apply(lambda x: 'FATAL' if x.startswith(('Death', 'Dead')) else x)"
   ]
  },
  {
   "cell_type": "code",
   "execution_count": 66,
   "id": "voluntary-budapest",
   "metadata": {},
   "outputs": [],
   "source": [
    "df.loc[df['Injury'].str.contains('\\wrm', regex=True, case=False), 'Injury'] = 'Arm injury'"
   ]
  },
  {
   "cell_type": "code",
   "execution_count": 67,
   "id": "hungarian-blond",
   "metadata": {},
   "outputs": [],
   "source": [
    "df.loc[df['Injury'].str.contains('\\woot', regex=True, case=False), 'Injury'] = 'Leg injury'"
   ]
  },
  {
   "cell_type": "code",
   "execution_count": 68,
   "id": "interracial-groove",
   "metadata": {},
   "outputs": [],
   "source": [
    "df.loc[df['Injury'].str.contains('\\weg', regex=True, case=False), 'Injury'] = 'Leg injury'"
   ]
  },
  {
   "cell_type": "code",
   "execution_count": 69,
   "id": "coastal-joining",
   "metadata": {},
   "outputs": [],
   "source": [
    "df.loc[df['Injury'].str.contains('\\wand', regex=True, case=False), 'Injury'] = 'Arm injury'"
   ]
  },
  {
   "cell_type": "code",
   "execution_count": 70,
   "id": "american-friend",
   "metadata": {},
   "outputs": [],
   "source": [
    "df.loc[df['Injury'].str.contains('\\watal', regex=True, case=False), 'Injury'] = 'FATAL'"
   ]
  },
  {
   "cell_type": "code",
   "execution_count": 71,
   "id": "sensitive-belgium",
   "metadata": {},
   "outputs": [],
   "source": [
    "df.loc[df['Injury'].str.contains('\\wit', regex=True, case=False), 'Injury'] = 'Bitten'"
   ]
  },
  {
   "cell_type": "code",
   "execution_count": 72,
   "id": "offshore-while",
   "metadata": {},
   "outputs": [],
   "source": [
    "df.loc[df['Injury'].str.contains('\\wuncture', regex=True, case=False), 'Injury'] = 'Puncture'"
   ]
  },
  {
   "cell_type": "code",
   "execution_count": 73,
   "id": "collected-qualification",
   "metadata": {},
   "outputs": [],
   "source": [
    "df.loc[df['Injury'].str.contains('\\waceration', regex=True, case=False), 'Injury'] = 'Laceration'"
   ]
  },
  {
   "cell_type": "code",
   "execution_count": 74,
   "id": "brown-magic",
   "metadata": {},
   "outputs": [],
   "source": [
    "df.loc[df['Injury'].str.contains('\\winor', regex=True, case=False), 'Injury'] = 'Minor Injuries'"
   ]
  },
  {
   "cell_type": "code",
   "execution_count": 75,
   "id": "representative-richards",
   "metadata": {},
   "outputs": [],
   "source": [
    "injury_lst = ['Unknown', 'Arm injury', 'No injury', 'Leg injury', 'Laceration', 'Minor Injuries', 'Puncture', 'Bitten', 'FATAL']"
   ]
  },
  {
   "cell_type": "code",
   "execution_count": 76,
   "id": "contemporary-liberia",
   "metadata": {},
   "outputs": [],
   "source": [
    "df.Injury=df.Injury.apply(lambda x: 'Unknown' if x not in injury_lst else x)"
   ]
  },
  {
   "cell_type": "code",
   "execution_count": 77,
   "id": "referenced-colors",
   "metadata": {},
   "outputs": [
    {
     "data": {
      "text/plain": [
       "Leg injury        1618\n",
       "FATAL             1127\n",
       "Arm injury        1009\n",
       "No injury          804\n",
       "Unknown            791\n",
       "Bitten             549\n",
       "Laceration         239\n",
       "Minor Injuries      90\n",
       "Puncture            75\n",
       "Name: Injury, dtype: int64"
      ]
     },
     "execution_count": 77,
     "metadata": {},
     "output_type": "execute_result"
    }
   ],
   "source": [
    "#He optado por no agrupar los PROVOKED INCIDENT, ya que no da info sobre el injury\n",
    "#Si nos interesa esa info, creamos una nueva columna con un booleano yes/no\n",
    "df.Injury.value_counts()"
   ]
  },
  {
   "cell_type": "markdown",
   "id": "covered-professor",
   "metadata": {},
   "source": [
    "# Columna fatal"
   ]
  },
  {
   "cell_type": "code",
   "execution_count": 78,
   "id": "atlantic-google",
   "metadata": {},
   "outputs": [
    {
     "data": {
      "text/plain": [
       "array(['N', 'Y', nan, 'M', 'UNKNOWN', '2017', ' N', 'N ', 'y'],\n",
       "      dtype=object)"
      ]
     },
     "execution_count": 78,
     "metadata": {},
     "output_type": "execute_result"
    }
   ],
   "source": [
    "df.Fatal.unique()"
   ]
  },
  {
   "cell_type": "code",
   "execution_count": 79,
   "id": "composed-color",
   "metadata": {},
   "outputs": [],
   "source": [
    "df['Fatal'] = df['Fatal'].fillna('Unknown')"
   ]
  },
  {
   "cell_type": "code",
   "execution_count": 80,
   "id": "banned-increase",
   "metadata": {},
   "outputs": [],
   "source": [
    "df.Fatal=df.Fatal.replace(to_replace =(\" N\"), value =\"N\")"
   ]
  },
  {
   "cell_type": "code",
   "execution_count": 81,
   "id": "wanted-tender",
   "metadata": {},
   "outputs": [],
   "source": [
    "df.Fatal=df.Fatal.replace(to_replace =(\"N \"), value =\"N\")"
   ]
  },
  {
   "cell_type": "code",
   "execution_count": 82,
   "id": "comprehensive-employment",
   "metadata": {},
   "outputs": [],
   "source": [
    "df.Fatal=df.Fatal.replace(to_replace =(\"y\"), value =\"Y\")"
   ]
  },
  {
   "cell_type": "code",
   "execution_count": 83,
   "id": "laughing-neighbor",
   "metadata": {},
   "outputs": [],
   "source": [
    "df.Fatal=df.Fatal.replace(to_replace =(\"UNKNOWN\"), value =\"Unknown\")"
   ]
  },
  {
   "cell_type": "code",
   "execution_count": 84,
   "id": "otherwise-minute",
   "metadata": {},
   "outputs": [],
   "source": [
    "df.Fatal=df.Fatal.replace(to_replace =(\"M\"), value =\"Unknown\")"
   ]
  },
  {
   "cell_type": "code",
   "execution_count": 85,
   "id": "honest-router",
   "metadata": {},
   "outputs": [],
   "source": [
    "df.Fatal=df.Fatal.replace(to_replace =(\"2017\"), value =\"Unknown\")"
   ]
  },
  {
   "cell_type": "code",
   "execution_count": 86,
   "id": "focused-mills",
   "metadata": {},
   "outputs": [
    {
     "data": {
      "text/plain": [
       "array(['N', 'Y', 'Unknown'], dtype=object)"
      ]
     },
     "execution_count": 86,
     "metadata": {},
     "output_type": "execute_result"
    }
   ],
   "source": [
    "df.Fatal.unique()"
   ]
  },
  {
   "cell_type": "markdown",
   "id": "processed-assets",
   "metadata": {},
   "source": [
    "# Columna time"
   ]
  },
  {
   "cell_type": "code",
   "execution_count": 87,
   "id": "micro-height",
   "metadata": {},
   "outputs": [],
   "source": [
    "df['Time'] = df['Time'].fillna('Unknown')"
   ]
  },
  {
   "cell_type": "code",
   "execution_count": 88,
   "id": "severe-diary",
   "metadata": {},
   "outputs": [],
   "source": [
    "#Empaqueto las horas en Morning, Afternoon, evening y night "
   ]
  },
  {
   "cell_type": "code",
   "execution_count": 89,
   "id": "future-engine",
   "metadata": {},
   "outputs": [],
   "source": [
    "df.Time=df.Time.apply(lambda x: 'Morning' if x.startswith('06') else x)"
   ]
  },
  {
   "cell_type": "code",
   "execution_count": 90,
   "id": "broke-garbage",
   "metadata": {},
   "outputs": [],
   "source": [
    "df.Time=df.Time.apply(lambda x: 'Morning' if x.startswith('07') else x)"
   ]
  },
  {
   "cell_type": "code",
   "execution_count": 91,
   "id": "unlikely-accommodation",
   "metadata": {},
   "outputs": [],
   "source": [
    "df.Time=df.Time.apply(lambda x: 'Morning' if x.startswith('08') else x)"
   ]
  },
  {
   "cell_type": "code",
   "execution_count": 92,
   "id": "varied-holly",
   "metadata": {},
   "outputs": [],
   "source": [
    "df.Time=df.Time.apply(lambda x: 'Morning' if x.startswith('8') else x)"
   ]
  },
  {
   "cell_type": "code",
   "execution_count": 93,
   "id": "drawn-interval",
   "metadata": {},
   "outputs": [],
   "source": [
    "df.Time=df.Time.apply(lambda x: 'Morning' if x.startswith('09') else x)"
   ]
  },
  {
   "cell_type": "code",
   "execution_count": 94,
   "id": "recent-replication",
   "metadata": {},
   "outputs": [],
   "source": [
    "df.Time=df.Time.apply(lambda x: 'Morning' if x.startswith('10') else x)"
   ]
  },
  {
   "cell_type": "code",
   "execution_count": 95,
   "id": "infinite-football",
   "metadata": {},
   "outputs": [],
   "source": [
    "df.Time=df.Time.apply(lambda x: 'Morning' if x.startswith('11') else x)"
   ]
  },
  {
   "cell_type": "code",
   "execution_count": 96,
   "id": "european-victor",
   "metadata": {},
   "outputs": [],
   "source": [
    "df.Time=df.Time.apply(lambda x: 'Morning' if x.startswith('12') else x)"
   ]
  },
  {
   "cell_type": "code",
   "execution_count": 97,
   "id": "unnecessary-queensland",
   "metadata": {},
   "outputs": [],
   "source": [
    "df.Time=df.Time.apply(lambda x: 'Afternoon' if x.startswith('13') else x)"
   ]
  },
  {
   "cell_type": "code",
   "execution_count": 98,
   "id": "disturbed-horror",
   "metadata": {},
   "outputs": [],
   "source": [
    "df.Time=df.Time.apply(lambda x: 'Afternoon' if x.startswith('14') else x)"
   ]
  },
  {
   "cell_type": "code",
   "execution_count": 99,
   "id": "authorized-piece",
   "metadata": {},
   "outputs": [],
   "source": [
    "df.Time=df.Time.apply(lambda x: 'Afternoon' if x.startswith('15') else x)"
   ]
  },
  {
   "cell_type": "code",
   "execution_count": 100,
   "id": "amended-ultimate",
   "metadata": {},
   "outputs": [],
   "source": [
    "df.Time=df.Time.apply(lambda x: 'Afternoon' if x.startswith('16') else x)"
   ]
  },
  {
   "cell_type": "code",
   "execution_count": 101,
   "id": "backed-attack",
   "metadata": {},
   "outputs": [],
   "source": [
    "df.Time=df.Time.apply(lambda x: 'Afternoon' if x.startswith('17') else x)"
   ]
  },
  {
   "cell_type": "code",
   "execution_count": 102,
   "id": "entitled-dublin",
   "metadata": {},
   "outputs": [],
   "source": [
    "df.Time=df.Time.apply(lambda x: 'Evening' if x.startswith('18') else x)"
   ]
  },
  {
   "cell_type": "code",
   "execution_count": 103,
   "id": "naval-angle",
   "metadata": {},
   "outputs": [],
   "source": [
    "df.Time=df.Time.apply(lambda x: 'Evening' if x.startswith('19') else x)"
   ]
  },
  {
   "cell_type": "code",
   "execution_count": 104,
   "id": "silver-cedar",
   "metadata": {},
   "outputs": [],
   "source": [
    "df.Time=df.Time.apply(lambda x: 'Evening' if x.startswith('20') else x)"
   ]
  },
  {
   "cell_type": "code",
   "execution_count": 105,
   "id": "completed-winning",
   "metadata": {},
   "outputs": [],
   "source": [
    "df.Time=df.Time.apply(lambda x: 'Evening' if x.startswith('21') else x)"
   ]
  },
  {
   "cell_type": "code",
   "execution_count": 106,
   "id": "educational-income",
   "metadata": {},
   "outputs": [],
   "source": [
    "df.Time=df.Time.apply(lambda x: 'Night' if x.startswith('22') else x)"
   ]
  },
  {
   "cell_type": "code",
   "execution_count": 107,
   "id": "imposed-background",
   "metadata": {},
   "outputs": [],
   "source": [
    "df.Time=df.Time.apply(lambda x: 'Night' if x.startswith('23') else x)"
   ]
  },
  {
   "cell_type": "code",
   "execution_count": 108,
   "id": "seventh-australia",
   "metadata": {},
   "outputs": [],
   "source": [
    "df.Time=df.Time.apply(lambda x: 'Night' if x.startswith('0') else x)"
   ]
  },
  {
   "cell_type": "code",
   "execution_count": 109,
   "id": "marked-italic",
   "metadata": {},
   "outputs": [],
   "source": [
    "df.loc[df['Time'].str.contains('\\wrning', regex=True, case=False), 'Time'] = 'Morning'"
   ]
  },
  {
   "cell_type": "code",
   "execution_count": 110,
   "id": "permanent-theta",
   "metadata": {},
   "outputs": [],
   "source": [
    "df.loc[df['Time'].str.contains('\\wfternoon', regex=True, case=False), 'Time'] = 'Afternoon'"
   ]
  },
  {
   "cell_type": "code",
   "execution_count": 111,
   "id": "plastic-scottish",
   "metadata": {},
   "outputs": [],
   "source": [
    "df.loc[df['Time'].str.contains('\\wvening', regex=True, case=False), 'Time'] = 'Evening'"
   ]
  },
  {
   "cell_type": "code",
   "execution_count": 112,
   "id": "incorporated-brother",
   "metadata": {},
   "outputs": [],
   "source": [
    "df.loc[df['Time'].str.contains('\\wight', regex=True, case=False), 'Time'] = 'Night'"
   ]
  },
  {
   "cell_type": "code",
   "execution_count": 113,
   "id": "sustained-correlation",
   "metadata": {},
   "outputs": [],
   "source": [
    "df.loc[df['Time'].str.contains('\\woon', regex=True, case=False), 'Time'] = 'Afternoon'"
   ]
  },
  {
   "cell_type": "code",
   "execution_count": 114,
   "id": "fundamental-microphone",
   "metadata": {},
   "outputs": [],
   "source": [
    "df.Time=df.Time.apply(lambda x: 'Morning' if x.startswith('Early morning') else x)"
   ]
  },
  {
   "cell_type": "code",
   "execution_count": 115,
   "id": "cardiovascular-formula",
   "metadata": {},
   "outputs": [],
   "source": [
    "df.Time=df.Time.apply(lambda x: 'Afternoon' if x.startswith('Early afternoon') else x)"
   ]
  },
  {
   "cell_type": "code",
   "execution_count": 116,
   "id": "sustainable-service",
   "metadata": {},
   "outputs": [
    {
     "data": {
      "text/plain": [
       "Unknown                                                                  3354\n",
       "Afternoon                                                                1350\n",
       "Morning                                                                  1107\n",
       "Evening                                                                   255\n",
       "Night                                                                     124\n",
       "Dusk                                                                       15\n",
       "A.M.                                                                       12\n",
       "P.M.                                                                       12\n",
       "Midday                                                                     10\n",
       "--                                                                          5\n",
       "Sunset                                                                      4\n",
       "                                                                            2\n",
       "Dark                                                                        2\n",
       "AM                                                                          2\n",
       "Late afternon                                                               2\n",
       "Dawn                                                                        2\n",
       "Midday.                                                                     1\n",
       ">17h00                                                                      1\n",
       "Sometime between 06h00 & 08hoo                                              1\n",
       "Shortly before 13h00                                                        1\n",
       "9h00                                                                        1\n",
       "Between 06h00 & 07h20                                                       1\n",
       "Just before sundown                                                         1\n",
       " 14h00                                                                      1\n",
       "Ship aban-doned at 03h10                                                    1\n",
       "Lunchtime                                                                   1\n",
       "\"shortly before dusk\"                                                       1\n",
       "X                                                                           1\n",
       "Shortly before 12h00                                                        1\n",
       "Between 11h00 & 12h00                                                       1\n",
       "FATAL  (Wire netting installed at local beaches after this incident.)       1\n",
       "After dusk                                                                  1\n",
       ">08h00                                                                      1\n",
       ">14h30                                                                      1\n",
       "30 minutes after 1992.07.08.a                                               1\n",
       "After 04h00                                                                 1\n",
       "Daybreak                                                                    1\n",
       "\"After lunch\"                                                               1\n",
       "Before daybreak                                                             1\n",
       "dusk                                                                        1\n",
       "Prior to 10h37                                                              1\n",
       "\"Just before 11h00\"                                                         1\n",
       "2 hrs before sunset                                                         1\n",
       "Just before dawn                                                            1\n",
       "Just after 12h00                                                            1\n",
       "Possibly same incident as 2000.08.21                                        1\n",
       "After Dusk                                                                  1\n",
       "Before 10h30                                                                1\n",
       "<07h30                                                                      1\n",
       "Before 07h00                                                                1\n",
       "\"After dark\"                                                                1\n",
       "                                                                            1\n",
       ">06h45                                                                      1\n",
       ">17h30                                                                      1\n",
       "2 hours after Opperman                                                      1\n",
       ">12h00                                                                      1\n",
       "                                                                            1\n",
       "                                                                            1\n",
       "Daytime                                                                     1\n",
       "Between 05h00 and 08h00                                                     1\n",
       "Name: Time, dtype: int64"
      ]
     },
     "execution_count": 116,
     "metadata": {},
     "output_type": "execute_result"
    }
   ],
   "source": [
    "df.Time.value_counts()"
   ]
  },
  {
   "cell_type": "code",
   "execution_count": 117,
   "id": "civilian-shaft",
   "metadata": {},
   "outputs": [],
   "source": [
    "day_lst = ['Morning', 'Afternoon', 'Evening', 'Night', 'Unknown']"
   ]
  },
  {
   "cell_type": "code",
   "execution_count": 118,
   "id": "helpful-poland",
   "metadata": {},
   "outputs": [],
   "source": [
    "df.Time=df.Time.apply(lambda x: 'Unknown' if x not in day_lst else x)"
   ]
  },
  {
   "cell_type": "code",
   "execution_count": 119,
   "id": "secure-tampa",
   "metadata": {},
   "outputs": [
    {
     "data": {
      "text/plain": [
       "Unknown      3466\n",
       "Afternoon    1350\n",
       "Morning      1107\n",
       "Evening       255\n",
       "Night         124\n",
       "Name: Time, dtype: int64"
      ]
     },
     "execution_count": 119,
     "metadata": {},
     "output_type": "execute_result"
    }
   ],
   "source": [
    "df.Time.value_counts()"
   ]
  },
  {
   "cell_type": "code",
   "execution_count": 120,
   "id": "employed-output",
   "metadata": {},
   "outputs": [
    {
     "data": {
      "text/html": [
       "<div>\n",
       "<style scoped>\n",
       "    .dataframe tbody tr th:only-of-type {\n",
       "        vertical-align: middle;\n",
       "    }\n",
       "\n",
       "    .dataframe tbody tr th {\n",
       "        vertical-align: top;\n",
       "    }\n",
       "\n",
       "    .dataframe thead th {\n",
       "        text-align: right;\n",
       "    }\n",
       "</style>\n",
       "<table border=\"1\" class=\"dataframe\">\n",
       "  <thead>\n",
       "    <tr style=\"text-align: right;\">\n",
       "      <th></th>\n",
       "      <th>Case_number</th>\n",
       "      <th>Date</th>\n",
       "      <th>Year</th>\n",
       "      <th>Type</th>\n",
       "      <th>Country</th>\n",
       "      <th>Area</th>\n",
       "      <th>Location</th>\n",
       "      <th>Activity</th>\n",
       "      <th>Name</th>\n",
       "      <th>Sex</th>\n",
       "      <th>...</th>\n",
       "      <th>Species</th>\n",
       "      <th>Investigator</th>\n",
       "      <th>pdf</th>\n",
       "      <th>href_formula</th>\n",
       "      <th>href</th>\n",
       "      <th>Case_n1</th>\n",
       "      <th>Case_n2</th>\n",
       "      <th>original_order</th>\n",
       "      <th>unnamed22</th>\n",
       "      <th>unnamed23</th>\n",
       "    </tr>\n",
       "  </thead>\n",
       "  <tbody>\n",
       "    <tr>\n",
       "      <th>0</th>\n",
       "      <td>2018.06.25</td>\n",
       "      <td>2018-06-25 00:00:00</td>\n",
       "      <td>2018</td>\n",
       "      <td>Boating</td>\n",
       "      <td>Usa</td>\n",
       "      <td>California</td>\n",
       "      <td>Oceanside, San Diego County</td>\n",
       "      <td>Unknown</td>\n",
       "      <td>Julie Wolfe</td>\n",
       "      <td>F</td>\n",
       "      <td>...</td>\n",
       "      <td>White shark</td>\n",
       "      <td>R. Collier, GSAF</td>\n",
       "      <td>2018.06.25-Wolfe.pdf</td>\n",
       "      <td>http://sharkattackfile.net/spreadsheets/pdf_di...</td>\n",
       "      <td>http://sharkattackfile.net/spreadsheets/pdf_di...</td>\n",
       "      <td>2018.06.25</td>\n",
       "      <td>2018.06.25</td>\n",
       "      <td>6303.0</td>\n",
       "      <td>NaN</td>\n",
       "      <td>NaN</td>\n",
       "    </tr>\n",
       "    <tr>\n",
       "      <th>1</th>\n",
       "      <td>2018.06.18</td>\n",
       "      <td>2018-06-18 00:00:00</td>\n",
       "      <td>2018</td>\n",
       "      <td>Unprovoked</td>\n",
       "      <td>Usa</td>\n",
       "      <td>Georgia</td>\n",
       "      <td>St. Simon Island, Glynn County</td>\n",
       "      <td>Unknown</td>\n",
       "      <td>Adyson McNeely</td>\n",
       "      <td>F</td>\n",
       "      <td>...</td>\n",
       "      <td>NaN</td>\n",
       "      <td>K.McMurray, TrackingSharks.com</td>\n",
       "      <td>2018.06.18-McNeely.pdf</td>\n",
       "      <td>http://sharkattackfile.net/spreadsheets/pdf_di...</td>\n",
       "      <td>http://sharkattackfile.net/spreadsheets/pdf_di...</td>\n",
       "      <td>2018.06.18</td>\n",
       "      <td>2018.06.18</td>\n",
       "      <td>6302.0</td>\n",
       "      <td>NaN</td>\n",
       "      <td>NaN</td>\n",
       "    </tr>\n",
       "    <tr>\n",
       "      <th>2</th>\n",
       "      <td>2018.06.09</td>\n",
       "      <td>2018-06-09 00:00:00</td>\n",
       "      <td>2018</td>\n",
       "      <td>Invalid</td>\n",
       "      <td>Usa</td>\n",
       "      <td>Hawaii</td>\n",
       "      <td>Habush, Oahu</td>\n",
       "      <td>Surfing</td>\n",
       "      <td>John Denges</td>\n",
       "      <td>M</td>\n",
       "      <td>...</td>\n",
       "      <td>NaN</td>\n",
       "      <td>K.McMurray, TrackingSharks.com</td>\n",
       "      <td>2018.06.09-Denges.pdf</td>\n",
       "      <td>http://sharkattackfile.net/spreadsheets/pdf_di...</td>\n",
       "      <td>http://sharkattackfile.net/spreadsheets/pdf_di...</td>\n",
       "      <td>2018.06.09</td>\n",
       "      <td>2018.06.09</td>\n",
       "      <td>6301.0</td>\n",
       "      <td>NaN</td>\n",
       "      <td>NaN</td>\n",
       "    </tr>\n",
       "    <tr>\n",
       "      <th>3</th>\n",
       "      <td>2018.06.08</td>\n",
       "      <td>2018-06-08 00:00:00</td>\n",
       "      <td>2018</td>\n",
       "      <td>Unprovoked</td>\n",
       "      <td>Australia</td>\n",
       "      <td>New South Wales</td>\n",
       "      <td>Arrawarra Headland</td>\n",
       "      <td>Surfing</td>\n",
       "      <td>Unknown</td>\n",
       "      <td>M</td>\n",
       "      <td>...</td>\n",
       "      <td>2 m shark</td>\n",
       "      <td>B. Myatt, GSAF</td>\n",
       "      <td>2018.06.08-Arrawarra.pdf</td>\n",
       "      <td>http://sharkattackfile.net/spreadsheets/pdf_di...</td>\n",
       "      <td>http://sharkattackfile.net/spreadsheets/pdf_di...</td>\n",
       "      <td>2018.06.08</td>\n",
       "      <td>2018.06.08</td>\n",
       "      <td>6300.0</td>\n",
       "      <td>NaN</td>\n",
       "      <td>NaN</td>\n",
       "    </tr>\n",
       "    <tr>\n",
       "      <th>4</th>\n",
       "      <td>2018.06.04</td>\n",
       "      <td>2018-06-04 00:00:00</td>\n",
       "      <td>2018</td>\n",
       "      <td>Provoked</td>\n",
       "      <td>Mexico</td>\n",
       "      <td>Colima</td>\n",
       "      <td>La Ticla</td>\n",
       "      <td>Diving</td>\n",
       "      <td>Gustavo Ramos</td>\n",
       "      <td>M</td>\n",
       "      <td>...</td>\n",
       "      <td>Tiger shark, 3m</td>\n",
       "      <td>A .Kipper</td>\n",
       "      <td>2018.06.04-Ramos.pdf</td>\n",
       "      <td>http://sharkattackfile.net/spreadsheets/pdf_di...</td>\n",
       "      <td>http://sharkattackfile.net/spreadsheets/pdf_di...</td>\n",
       "      <td>2018.06.04</td>\n",
       "      <td>2018.06.04</td>\n",
       "      <td>6299.0</td>\n",
       "      <td>NaN</td>\n",
       "      <td>NaN</td>\n",
       "    </tr>\n",
       "  </tbody>\n",
       "</table>\n",
       "<p>5 rows × 24 columns</p>\n",
       "</div>"
      ],
      "text/plain": [
       "  Case_number                 Date  Year        Type    Country  \\\n",
       "0  2018.06.25  2018-06-25 00:00:00  2018     Boating        Usa   \n",
       "1  2018.06.18  2018-06-18 00:00:00  2018  Unprovoked        Usa   \n",
       "2  2018.06.09  2018-06-09 00:00:00  2018     Invalid        Usa   \n",
       "3  2018.06.08  2018-06-08 00:00:00  2018  Unprovoked  Australia   \n",
       "4  2018.06.04  2018-06-04 00:00:00  2018    Provoked     Mexico   \n",
       "\n",
       "              Area                        Location Activity             Name  \\\n",
       "0       California     Oceanside, San Diego County  Unknown      Julie Wolfe   \n",
       "1          Georgia  St. Simon Island, Glynn County  Unknown  Adyson McNeely    \n",
       "2           Hawaii                    Habush, Oahu  Surfing      John Denges   \n",
       "3  New South Wales              Arrawarra Headland  Surfing          Unknown   \n",
       "4           Colima                        La Ticla   Diving   Gustavo Ramos    \n",
       "\n",
       "  Sex  ...          Species                    Investigator  \\\n",
       "0   F  ...      White shark                R. Collier, GSAF   \n",
       "1   F  ...              NaN  K.McMurray, TrackingSharks.com   \n",
       "2   M  ...              NaN  K.McMurray, TrackingSharks.com   \n",
       "3   M  ...        2 m shark                  B. Myatt, GSAF   \n",
       "4   M  ...  Tiger shark, 3m                       A .Kipper   \n",
       "\n",
       "                        pdf  \\\n",
       "0      2018.06.25-Wolfe.pdf   \n",
       "1    2018.06.18-McNeely.pdf   \n",
       "2     2018.06.09-Denges.pdf   \n",
       "3  2018.06.08-Arrawarra.pdf   \n",
       "4      2018.06.04-Ramos.pdf   \n",
       "\n",
       "                                        href_formula  \\\n",
       "0  http://sharkattackfile.net/spreadsheets/pdf_di...   \n",
       "1  http://sharkattackfile.net/spreadsheets/pdf_di...   \n",
       "2  http://sharkattackfile.net/spreadsheets/pdf_di...   \n",
       "3  http://sharkattackfile.net/spreadsheets/pdf_di...   \n",
       "4  http://sharkattackfile.net/spreadsheets/pdf_di...   \n",
       "\n",
       "                                                href     Case_n1     Case_n2  \\\n",
       "0  http://sharkattackfile.net/spreadsheets/pdf_di...  2018.06.25  2018.06.25   \n",
       "1  http://sharkattackfile.net/spreadsheets/pdf_di...  2018.06.18  2018.06.18   \n",
       "2  http://sharkattackfile.net/spreadsheets/pdf_di...  2018.06.09  2018.06.09   \n",
       "3  http://sharkattackfile.net/spreadsheets/pdf_di...  2018.06.08  2018.06.08   \n",
       "4  http://sharkattackfile.net/spreadsheets/pdf_di...  2018.06.04  2018.06.04   \n",
       "\n",
       "  original_order unnamed22 unnamed23  \n",
       "0         6303.0       NaN       NaN  \n",
       "1         6302.0       NaN       NaN  \n",
       "2         6301.0       NaN       NaN  \n",
       "3         6300.0       NaN       NaN  \n",
       "4         6299.0       NaN       NaN  \n",
       "\n",
       "[5 rows x 24 columns]"
      ]
     },
     "execution_count": 120,
     "metadata": {},
     "output_type": "execute_result"
    }
   ],
   "source": [
    "df.head()"
   ]
  },
  {
   "cell_type": "markdown",
   "id": "expired-differential",
   "metadata": {},
   "source": [
    "# Columna especies"
   ]
  },
  {
   "cell_type": "code",
   "execution_count": 121,
   "id": "textile-december",
   "metadata": {},
   "outputs": [
    {
     "data": {
      "text/plain": [
       "array(['White shark', nan, '2 m shark', ..., \"12' tiger shark\",\n",
       "       'Blue pointers',\n",
       "       'Said to involve a grey nurse shark that leapt out of the water and  seized the boy but species identification is questionable'],\n",
       "      dtype=object)"
      ]
     },
     "execution_count": 121,
     "metadata": {},
     "output_type": "execute_result"
    }
   ],
   "source": [
    "df.Species.unique()"
   ]
  },
  {
   "cell_type": "code",
   "execution_count": 122,
   "id": "forty-envelope",
   "metadata": {},
   "outputs": [],
   "source": [
    "df['Species'] = df['Species'].fillna('Unknown')"
   ]
  },
  {
   "cell_type": "code",
   "execution_count": 123,
   "id": "future-retirement",
   "metadata": {},
   "outputs": [],
   "source": [
    "###Primero separamos por razas principales"
   ]
  },
  {
   "cell_type": "code",
   "execution_count": 124,
   "id": "native-retailer",
   "metadata": {},
   "outputs": [],
   "source": [
    "df.loc[df['Species'].str.contains('\\white', regex=True, case=False), 'Species'] = 'White shark'"
   ]
  },
  {
   "cell_type": "code",
   "execution_count": 125,
   "id": "renewable-franklin",
   "metadata": {},
   "outputs": [],
   "source": [
    "df.loc[df['Species'].str.contains('\\wull', regex=True, case=False), 'Species'] = 'Bull shark'"
   ]
  },
  {
   "cell_type": "code",
   "execution_count": 126,
   "id": "minute-english",
   "metadata": {},
   "outputs": [],
   "source": [
    "df.loc[df['Species'].str.contains('\\witer', regex=True, case=False), 'Species'] = 'Tiger shark'"
   ]
  },
  {
   "cell_type": "code",
   "execution_count": 127,
   "id": "organized-operations",
   "metadata": {},
   "outputs": [],
   "source": [
    "df.loc[df['Species'].str.contains('\\rey', regex=True, case=False), 'Species'] = 'Grey shark'"
   ]
  },
  {
   "cell_type": "code",
   "execution_count": 128,
   "id": "considered-introduction",
   "metadata": {},
   "outputs": [],
   "source": [
    "df.loc[df['Species'].str.contains('\\wurse', regex=True, case=False), 'Species'] = 'Nurse shark'"
   ]
  },
  {
   "cell_type": "code",
   "execution_count": 129,
   "id": "beneficial-heart",
   "metadata": {},
   "outputs": [],
   "source": [
    "###Si no sabemos raza, vamos por tamaño aunque sea indefinido el tipo de tiburón"
   ]
  },
  {
   "cell_type": "code",
   "execution_count": 130,
   "id": "packed-clock",
   "metadata": {},
   "outputs": [],
   "source": [
    "df.loc[df['Species'].str.contains('\\warge', regex=True, case=False), 'Species'] = 'Undifined Large shark'"
   ]
  },
  {
   "cell_type": "code",
   "execution_count": 131,
   "id": "measured-vienna",
   "metadata": {},
   "outputs": [],
   "source": [
    "df.loc[df['Species'].str.contains('\\wmall', regex=True, case=False), 'Species'] = 'Undifined Small shark'"
   ]
  },
  {
   "cell_type": "code",
   "execution_count": 132,
   "id": "framed-shelf",
   "metadata": {},
   "outputs": [],
   "source": [
    "shark_lst= ['White shark', 'Bull shark', 'Tiger shark', 'Grey shark', 'Nurse shark', 'Undifined Large shark', 'Undifined Small shark']"
   ]
  },
  {
   "cell_type": "code",
   "execution_count": 133,
   "id": "honest-attraction",
   "metadata": {},
   "outputs": [],
   "source": [
    "df.Species=df.Species.apply(lambda x: 'Unknown' if x not in shark_lst else x)"
   ]
  },
  {
   "cell_type": "code",
   "execution_count": 134,
   "id": "quarterly-helicopter",
   "metadata": {},
   "outputs": [
    {
     "data": {
      "text/plain": [
       "Unknown                  5195\n",
       "White shark               667\n",
       "Bull shark                186\n",
       "Nurse shark                97\n",
       "Undifined Small shark      76\n",
       "Tiger shark                73\n",
       "Undifined Large shark       8\n",
       "Name: Species, dtype: int64"
      ]
     },
     "execution_count": 134,
     "metadata": {},
     "output_type": "execute_result"
    }
   ],
   "source": [
    "df.Species.value_counts()"
   ]
  },
  {
   "cell_type": "markdown",
   "id": "spoken-floor",
   "metadata": {},
   "source": [
    "# Columna investigador"
   ]
  },
  {
   "cell_type": "code",
   "execution_count": 135,
   "id": "quarterly-timber",
   "metadata": {},
   "outputs": [
    {
     "data": {
      "text/plain": [
       "array(['R. Collier, GSAF', 'K.McMurray, TrackingSharks.com',\n",
       "       'B. Myatt, GSAF', ..., 'F. Schwartz, p.23; C. Creswell, GSAF',\n",
       "       'The Sun, 10/20/1938', 'S.W. Baker'], dtype=object)"
      ]
     },
     "execution_count": 135,
     "metadata": {},
     "output_type": "execute_result"
    }
   ],
   "source": [
    "df.Investigator.unique()"
   ]
  },
  {
   "cell_type": "code",
   "execution_count": 136,
   "id": "under-carter",
   "metadata": {},
   "outputs": [],
   "source": [
    "df['Investigator'] = df['Investigator'].fillna('Unknown')"
   ]
  },
  {
   "cell_type": "markdown",
   "id": "prospective-offer",
   "metadata": {},
   "source": [
    "# Columnas PDF, Href1 y Href2"
   ]
  },
  {
   "cell_type": "code",
   "execution_count": 137,
   "id": "resident-schema",
   "metadata": {},
   "outputs": [],
   "source": [
    "df['pdf'] = df['pdf'].fillna('No pdf')"
   ]
  },
  {
   "cell_type": "code",
   "execution_count": 138,
   "id": "constant-paper",
   "metadata": {},
   "outputs": [],
   "source": [
    "df['href_formula'] = df['href_formula'].fillna('No link')"
   ]
  },
  {
   "cell_type": "code",
   "execution_count": 139,
   "id": "ranging-queensland",
   "metadata": {},
   "outputs": [],
   "source": [
    "df['href'] = df['href'].fillna('No link')"
   ]
  },
  {
   "cell_type": "code",
   "execution_count": 140,
   "id": "laughing-cornell",
   "metadata": {},
   "outputs": [
    {
     "data": {
      "text/plain": [
       "Case_number       1\n",
       "unnamed22      6301\n",
       "unnamed23      6300\n",
       "dtype: int64"
      ]
     },
     "execution_count": 140,
     "metadata": {},
     "output_type": "execute_result"
    }
   ],
   "source": [
    "nan_cols=df.isna().sum()\n",
    "\n",
    "nan_cols[nan_cols>0]"
   ]
  },
  {
   "cell_type": "markdown",
   "id": "hazardous-connecticut",
   "metadata": {},
   "source": [
    "# Columnas case_n1 y case_n2"
   ]
  },
  {
   "cell_type": "code",
   "execution_count": 141,
   "id": "orange-ontario",
   "metadata": {},
   "outputs": [
    {
     "data": {
      "text/plain": [
       "0       2018.06.25\n",
       "1       2018.06.18\n",
       "2       2018.06.09\n",
       "3       2018.06.08\n",
       "4       2018.06.04\n",
       "           ...    \n",
       "6297       ND.0005\n",
       "6298       ND.0004\n",
       "6299       ND.0003\n",
       "6300       ND.0002\n",
       "6301       ND.0001\n",
       "Name: Case_n1, Length: 6302, dtype: object"
      ]
     },
     "execution_count": 141,
     "metadata": {},
     "output_type": "execute_result"
    }
   ],
   "source": [
    "df.Case_n1"
   ]
  },
  {
   "cell_type": "code",
   "execution_count": 142,
   "id": "accurate-basic",
   "metadata": {},
   "outputs": [],
   "source": [
    "for i in df.Case_n1:\n",
    "    if i.endswith('a'):\n",
    "        df['Case_n1'] = df['Case_n1'].str.rstrip('.a')\n",
    "    elif i.endswith('b'):\n",
    "        df['Case_n1'] = df['Case_n1'].str.rstrip('.b')\n",
    "    elif i.endswith('c'):\n",
    "        df['Case_n1'] = df['Case_n1'].str.rstrip('.c')\n",
    "    elif i.endswith('d'):\n",
    "        df['Case_n1'] = df['Case_n1'].str.rstrip('.d')\n",
    "    elif i.endswith('R'):\n",
    "        df['Case_n1'] = df['Case_n1'].str.rstrip('.R')\n",
    "    else:\n",
    "        pass"
   ]
  },
  {
   "cell_type": "code",
   "execution_count": 143,
   "id": "enabling-validity",
   "metadata": {},
   "outputs": [],
   "source": [
    "for i in df.Case_n1:\n",
    "    if i.endswith('a'):\n",
    "        df['Case_n2'] = df['Case_n2'].str.rstrip('.a')\n",
    "    elif i.endswith('b'):\n",
    "        df['Case_n2'] = df['Case_n2'].str.rstrip('.b')\n",
    "    elif i.endswith('c'):\n",
    "        df['Case_n2'] = df['Case_n2'].str.rstrip('.c')\n",
    "    elif i.endswith('d'):\n",
    "        df['Case_n2'] = df['Case_n2'].str.rstrip('.d')\n",
    "    elif i.endswith('R'):\n",
    "        df['Case_n2'] = df['Case_n2'].str.rstrip('.R')\n",
    "    else:\n",
    "        pass"
   ]
  },
  {
   "cell_type": "markdown",
   "id": "pending-buyer",
   "metadata": {},
   "source": [
    "# Columnas unamed y Case_number\n"
   ]
  },
  {
   "cell_type": "code",
   "execution_count": 144,
   "id": "adult-affairs",
   "metadata": {},
   "outputs": [],
   "source": [
    "df['unnamed22'] = df['unnamed22'].fillna('unknown')"
   ]
  },
  {
   "cell_type": "code",
   "execution_count": 145,
   "id": "adverse-dining",
   "metadata": {},
   "outputs": [],
   "source": [
    "df['unnamed23'] = df['unnamed23'].fillna('unknown')"
   ]
  },
  {
   "cell_type": "code",
   "execution_count": 146,
   "id": "bibliographic-cloud",
   "metadata": {},
   "outputs": [],
   "source": [
    "df['Case_number'] = df['Case_number'].fillna('unknown')"
   ]
  },
  {
   "cell_type": "code",
   "execution_count": 147,
   "id": "clear-wisconsin",
   "metadata": {},
   "outputs": [
    {
     "data": {
      "text/html": [
       "<div>\n",
       "<style scoped>\n",
       "    .dataframe tbody tr th:only-of-type {\n",
       "        vertical-align: middle;\n",
       "    }\n",
       "\n",
       "    .dataframe tbody tr th {\n",
       "        vertical-align: top;\n",
       "    }\n",
       "\n",
       "    .dataframe thead th {\n",
       "        text-align: right;\n",
       "    }\n",
       "</style>\n",
       "<table border=\"1\" class=\"dataframe\">\n",
       "  <thead>\n",
       "    <tr style=\"text-align: right;\">\n",
       "      <th></th>\n",
       "      <th>Case_number</th>\n",
       "      <th>Date</th>\n",
       "      <th>Year</th>\n",
       "      <th>Type</th>\n",
       "      <th>Country</th>\n",
       "      <th>Area</th>\n",
       "      <th>Location</th>\n",
       "      <th>Activity</th>\n",
       "      <th>Name</th>\n",
       "      <th>Sex</th>\n",
       "      <th>...</th>\n",
       "      <th>Species</th>\n",
       "      <th>Investigator</th>\n",
       "      <th>pdf</th>\n",
       "      <th>href_formula</th>\n",
       "      <th>href</th>\n",
       "      <th>Case_n1</th>\n",
       "      <th>Case_n2</th>\n",
       "      <th>original_order</th>\n",
       "      <th>unnamed22</th>\n",
       "      <th>unnamed23</th>\n",
       "    </tr>\n",
       "  </thead>\n",
       "  <tbody>\n",
       "    <tr>\n",
       "      <th>0</th>\n",
       "      <td>2018.06.25</td>\n",
       "      <td>2018-06-25 00:00:00</td>\n",
       "      <td>2018</td>\n",
       "      <td>Boating</td>\n",
       "      <td>Usa</td>\n",
       "      <td>California</td>\n",
       "      <td>Oceanside, San Diego County</td>\n",
       "      <td>Unknown</td>\n",
       "      <td>Julie Wolfe</td>\n",
       "      <td>F</td>\n",
       "      <td>...</td>\n",
       "      <td>White shark</td>\n",
       "      <td>R. Collier, GSAF</td>\n",
       "      <td>2018.06.25-Wolfe.pdf</td>\n",
       "      <td>http://sharkattackfile.net/spreadsheets/pdf_di...</td>\n",
       "      <td>http://sharkattackfile.net/spreadsheets/pdf_di...</td>\n",
       "      <td>2018.06.25</td>\n",
       "      <td>2018.06.25</td>\n",
       "      <td>6303.0</td>\n",
       "      <td>unknown</td>\n",
       "      <td>unknown</td>\n",
       "    </tr>\n",
       "    <tr>\n",
       "      <th>1</th>\n",
       "      <td>2018.06.18</td>\n",
       "      <td>2018-06-18 00:00:00</td>\n",
       "      <td>2018</td>\n",
       "      <td>Unprovoked</td>\n",
       "      <td>Usa</td>\n",
       "      <td>Georgia</td>\n",
       "      <td>St. Simon Island, Glynn County</td>\n",
       "      <td>Unknown</td>\n",
       "      <td>Adyson McNeely</td>\n",
       "      <td>F</td>\n",
       "      <td>...</td>\n",
       "      <td>Unknown</td>\n",
       "      <td>K.McMurray, TrackingSharks.com</td>\n",
       "      <td>2018.06.18-McNeely.pdf</td>\n",
       "      <td>http://sharkattackfile.net/spreadsheets/pdf_di...</td>\n",
       "      <td>http://sharkattackfile.net/spreadsheets/pdf_di...</td>\n",
       "      <td>2018.06.18</td>\n",
       "      <td>2018.06.18</td>\n",
       "      <td>6302.0</td>\n",
       "      <td>unknown</td>\n",
       "      <td>unknown</td>\n",
       "    </tr>\n",
       "    <tr>\n",
       "      <th>2</th>\n",
       "      <td>2018.06.09</td>\n",
       "      <td>2018-06-09 00:00:00</td>\n",
       "      <td>2018</td>\n",
       "      <td>Invalid</td>\n",
       "      <td>Usa</td>\n",
       "      <td>Hawaii</td>\n",
       "      <td>Habush, Oahu</td>\n",
       "      <td>Surfing</td>\n",
       "      <td>John Denges</td>\n",
       "      <td>M</td>\n",
       "      <td>...</td>\n",
       "      <td>Unknown</td>\n",
       "      <td>K.McMurray, TrackingSharks.com</td>\n",
       "      <td>2018.06.09-Denges.pdf</td>\n",
       "      <td>http://sharkattackfile.net/spreadsheets/pdf_di...</td>\n",
       "      <td>http://sharkattackfile.net/spreadsheets/pdf_di...</td>\n",
       "      <td>2018.06.09</td>\n",
       "      <td>2018.06.09</td>\n",
       "      <td>6301.0</td>\n",
       "      <td>unknown</td>\n",
       "      <td>unknown</td>\n",
       "    </tr>\n",
       "    <tr>\n",
       "      <th>3</th>\n",
       "      <td>2018.06.08</td>\n",
       "      <td>2018-06-08 00:00:00</td>\n",
       "      <td>2018</td>\n",
       "      <td>Unprovoked</td>\n",
       "      <td>Australia</td>\n",
       "      <td>New South Wales</td>\n",
       "      <td>Arrawarra Headland</td>\n",
       "      <td>Surfing</td>\n",
       "      <td>Unknown</td>\n",
       "      <td>M</td>\n",
       "      <td>...</td>\n",
       "      <td>Unknown</td>\n",
       "      <td>B. Myatt, GSAF</td>\n",
       "      <td>2018.06.08-Arrawarra.pdf</td>\n",
       "      <td>http://sharkattackfile.net/spreadsheets/pdf_di...</td>\n",
       "      <td>http://sharkattackfile.net/spreadsheets/pdf_di...</td>\n",
       "      <td>2018.06.08</td>\n",
       "      <td>2018.06.08</td>\n",
       "      <td>6300.0</td>\n",
       "      <td>unknown</td>\n",
       "      <td>unknown</td>\n",
       "    </tr>\n",
       "    <tr>\n",
       "      <th>4</th>\n",
       "      <td>2018.06.04</td>\n",
       "      <td>2018-06-04 00:00:00</td>\n",
       "      <td>2018</td>\n",
       "      <td>Provoked</td>\n",
       "      <td>Mexico</td>\n",
       "      <td>Colima</td>\n",
       "      <td>La Ticla</td>\n",
       "      <td>Diving</td>\n",
       "      <td>Gustavo Ramos</td>\n",
       "      <td>M</td>\n",
       "      <td>...</td>\n",
       "      <td>Unknown</td>\n",
       "      <td>A .Kipper</td>\n",
       "      <td>2018.06.04-Ramos.pdf</td>\n",
       "      <td>http://sharkattackfile.net/spreadsheets/pdf_di...</td>\n",
       "      <td>http://sharkattackfile.net/spreadsheets/pdf_di...</td>\n",
       "      <td>2018.06.04</td>\n",
       "      <td>2018.06.04</td>\n",
       "      <td>6299.0</td>\n",
       "      <td>unknown</td>\n",
       "      <td>unknown</td>\n",
       "    </tr>\n",
       "  </tbody>\n",
       "</table>\n",
       "<p>5 rows × 24 columns</p>\n",
       "</div>"
      ],
      "text/plain": [
       "  Case_number                 Date  Year        Type    Country  \\\n",
       "0  2018.06.25  2018-06-25 00:00:00  2018     Boating        Usa   \n",
       "1  2018.06.18  2018-06-18 00:00:00  2018  Unprovoked        Usa   \n",
       "2  2018.06.09  2018-06-09 00:00:00  2018     Invalid        Usa   \n",
       "3  2018.06.08  2018-06-08 00:00:00  2018  Unprovoked  Australia   \n",
       "4  2018.06.04  2018-06-04 00:00:00  2018    Provoked     Mexico   \n",
       "\n",
       "              Area                        Location Activity             Name  \\\n",
       "0       California     Oceanside, San Diego County  Unknown      Julie Wolfe   \n",
       "1          Georgia  St. Simon Island, Glynn County  Unknown  Adyson McNeely    \n",
       "2           Hawaii                    Habush, Oahu  Surfing      John Denges   \n",
       "3  New South Wales              Arrawarra Headland  Surfing          Unknown   \n",
       "4           Colima                        La Ticla   Diving   Gustavo Ramos    \n",
       "\n",
       "  Sex  ...      Species                    Investigator  \\\n",
       "0   F  ...  White shark                R. Collier, GSAF   \n",
       "1   F  ...      Unknown  K.McMurray, TrackingSharks.com   \n",
       "2   M  ...      Unknown  K.McMurray, TrackingSharks.com   \n",
       "3   M  ...      Unknown                  B. Myatt, GSAF   \n",
       "4   M  ...      Unknown                       A .Kipper   \n",
       "\n",
       "                        pdf  \\\n",
       "0      2018.06.25-Wolfe.pdf   \n",
       "1    2018.06.18-McNeely.pdf   \n",
       "2     2018.06.09-Denges.pdf   \n",
       "3  2018.06.08-Arrawarra.pdf   \n",
       "4      2018.06.04-Ramos.pdf   \n",
       "\n",
       "                                        href_formula  \\\n",
       "0  http://sharkattackfile.net/spreadsheets/pdf_di...   \n",
       "1  http://sharkattackfile.net/spreadsheets/pdf_di...   \n",
       "2  http://sharkattackfile.net/spreadsheets/pdf_di...   \n",
       "3  http://sharkattackfile.net/spreadsheets/pdf_di...   \n",
       "4  http://sharkattackfile.net/spreadsheets/pdf_di...   \n",
       "\n",
       "                                                href     Case_n1     Case_n2  \\\n",
       "0  http://sharkattackfile.net/spreadsheets/pdf_di...  2018.06.25  2018.06.25   \n",
       "1  http://sharkattackfile.net/spreadsheets/pdf_di...  2018.06.18  2018.06.18   \n",
       "2  http://sharkattackfile.net/spreadsheets/pdf_di...  2018.06.09  2018.06.09   \n",
       "3  http://sharkattackfile.net/spreadsheets/pdf_di...  2018.06.08  2018.06.08   \n",
       "4  http://sharkattackfile.net/spreadsheets/pdf_di...  2018.06.04  2018.06.04   \n",
       "\n",
       "  original_order unnamed22 unnamed23  \n",
       "0         6303.0   unknown   unknown  \n",
       "1         6302.0   unknown   unknown  \n",
       "2         6301.0   unknown   unknown  \n",
       "3         6300.0   unknown   unknown  \n",
       "4         6299.0   unknown   unknown  \n",
       "\n",
       "[5 rows x 24 columns]"
      ]
     },
     "execution_count": 147,
     "metadata": {},
     "output_type": "execute_result"
    }
   ],
   "source": [
    "df.head()"
   ]
  },
  {
   "cell_type": "markdown",
   "id": "celtic-closing",
   "metadata": {},
   "source": [
    "# Las check"
   ]
  },
  {
   "cell_type": "code",
   "execution_count": 148,
   "id": "weird-integral",
   "metadata": {},
   "outputs": [
    {
     "data": {
      "text/plain": [
       "Series([], dtype: int64)"
      ]
     },
     "execution_count": 148,
     "metadata": {},
     "output_type": "execute_result"
    }
   ],
   "source": [
    "nan_cols=df.isna().sum()\n",
    "\n",
    "nan_cols[nan_cols>0]"
   ]
  },
  {
   "cell_type": "code",
   "execution_count": 149,
   "id": "imported-roman",
   "metadata": {},
   "outputs": [
    {
     "data": {
      "text/plain": [
       "<bound method DataFrame.info of      Case_number                 Date     Year        Type  \\\n",
       "0     2018.06.25  2018-06-25 00:00:00     2018     Boating   \n",
       "1     2018.06.18  2018-06-18 00:00:00     2018  Unprovoked   \n",
       "2     2018.06.09  2018-06-09 00:00:00     2018     Invalid   \n",
       "3     2018.06.08  2018-06-08 00:00:00     2018  Unprovoked   \n",
       "4     2018.06.04  2018-06-04 00:00:00     2018    Provoked   \n",
       "...          ...                  ...      ...         ...   \n",
       "6297     ND.0005              Unknown  Unknown  Unprovoked   \n",
       "6298     ND.0004              Unknown  Unknown  Unprovoked   \n",
       "6299     ND.0003              Unknown  Unknown  Unprovoked   \n",
       "6300     ND.0002              Unknown  Unknown  Unprovoked   \n",
       "6301     ND.0001              Unknown  Unknown  Unprovoked   \n",
       "\n",
       "                 Country               Area  \\\n",
       "0                    Usa         California   \n",
       "1                    Usa            Georgia   \n",
       "2                    Usa             Hawaii   \n",
       "3              Australia    New South Wales   \n",
       "4                 Mexico             Colima   \n",
       "...                  ...                ...   \n",
       "6297           Australia  Western Australia   \n",
       "6298           Australia  Western Australia   \n",
       "6299                 Usa     North Carolina   \n",
       "6300              Panama            Unknown   \n",
       "6301  Ceylon (sri lanka)   Eastern Province   \n",
       "\n",
       "                                 Location  Activity                   Name  \\\n",
       "0             Oceanside, San Diego County   Unknown            Julie Wolfe   \n",
       "1          St. Simon Island, Glynn County   Unknown        Adyson McNeely    \n",
       "2                            Habush, Oahu   Surfing            John Denges   \n",
       "3                      Arrawarra Headland   Surfing                Unknown   \n",
       "4                                La Ticla    Diving         Gustavo Ramos    \n",
       "...                                   ...       ...                    ...   \n",
       "6297                          Roebuck Bay    Diving                Unknown   \n",
       "6298                              Unknown    Diving                  Ahmun   \n",
       "6299                       Ocracoke Inlet  Swimming  Coast Guard personnel   \n",
       "6300                 Panama Bay 8ºN, 79ºW   Unknown        Jules Patterson   \n",
       "6301  Below the English fort, Trincomalee  Swimming                Unknown   \n",
       "\n",
       "     Sex  ...      Species                           Investigator  \\\n",
       "0      F  ...  White shark                       R. Collier, GSAF   \n",
       "1      F  ...      Unknown         K.McMurray, TrackingSharks.com   \n",
       "2      M  ...      Unknown         K.McMurray, TrackingSharks.com   \n",
       "3      M  ...      Unknown                         B. Myatt, GSAF   \n",
       "4      M  ...      Unknown                              A .Kipper   \n",
       "...   ..  ...          ...                                    ...   \n",
       "6297   M  ...      Unknown       H. Taunton; N. Bartlett,  p. 234   \n",
       "6298   M  ...      Unknown  H. Taunton; N. Bartlett,  pp. 233-234   \n",
       "6299   M  ...      Unknown   F. Schwartz, p.23; C. Creswell, GSAF   \n",
       "6300   M  ...      Unknown                    The Sun, 10/20/1938   \n",
       "6301   M  ...      Unknown                             S.W. Baker   \n",
       "\n",
       "                                 pdf  \\\n",
       "0               2018.06.25-Wolfe.pdf   \n",
       "1             2018.06.18-McNeely.pdf   \n",
       "2              2018.06.09-Denges.pdf   \n",
       "3           2018.06.08-Arrawarra.pdf   \n",
       "4               2018.06.04-Ramos.pdf   \n",
       "...                              ...   \n",
       "6297          ND-0005-RoebuckBay.pdf   \n",
       "6298               ND-0004-Ahmun.pdf   \n",
       "6299  ND-0003-Ocracoke_1900-1905.pdf   \n",
       "6300      ND-0002-JulesPatterson.pdf   \n",
       "6301              ND-0001-Ceylon.pdf   \n",
       "\n",
       "                                           href_formula  \\\n",
       "0     http://sharkattackfile.net/spreadsheets/pdf_di...   \n",
       "1     http://sharkattackfile.net/spreadsheets/pdf_di...   \n",
       "2     http://sharkattackfile.net/spreadsheets/pdf_di...   \n",
       "3     http://sharkattackfile.net/spreadsheets/pdf_di...   \n",
       "4     http://sharkattackfile.net/spreadsheets/pdf_di...   \n",
       "...                                                 ...   \n",
       "6297  http://sharkattackfile.net/spreadsheets/pdf_di...   \n",
       "6298  http://sharkattackfile.net/spreadsheets/pdf_di...   \n",
       "6299  http://sharkattackfile.net/spreadsheets/pdf_di...   \n",
       "6300  http://sharkattackfile.net/spreadsheets/pdf_di...   \n",
       "6301  http://sharkattackfile.net/spreadsheets/pdf_di...   \n",
       "\n",
       "                                                   href     Case_n1  \\\n",
       "0     http://sharkattackfile.net/spreadsheets/pdf_di...  2018.06.25   \n",
       "1     http://sharkattackfile.net/spreadsheets/pdf_di...  2018.06.18   \n",
       "2     http://sharkattackfile.net/spreadsheets/pdf_di...  2018.06.09   \n",
       "3     http://sharkattackfile.net/spreadsheets/pdf_di...  2018.06.08   \n",
       "4     http://sharkattackfile.net/spreadsheets/pdf_di...  2018.06.04   \n",
       "...                                                 ...         ...   \n",
       "6297  http://sharkattackfile.net/spreadsheets/pdf_di...     ND.0005   \n",
       "6298  http://sharkattackfile.net/spreadsheets/pdf_di...     ND.0004   \n",
       "6299  http://sharkattackfile.net/spreadsheets/pdf_di...     ND.0003   \n",
       "6300  http://sharkattackfile.net/spreadsheets/pdf_di...     ND.0002   \n",
       "6301  http://sharkattackfile.net/spreadsheets/pdf_di...     ND.0001   \n",
       "\n",
       "         Case_n2 original_order unnamed22 unnamed23  \n",
       "0     2018.06.25         6303.0   unknown   unknown  \n",
       "1     2018.06.18         6302.0   unknown   unknown  \n",
       "2     2018.06.09         6301.0   unknown   unknown  \n",
       "3     2018.06.08         6300.0   unknown   unknown  \n",
       "4     2018.06.04         6299.0   unknown   unknown  \n",
       "...          ...            ...       ...       ...  \n",
       "6297     ND.0005            6.0   unknown   unknown  \n",
       "6298     ND.0004            5.0   unknown   unknown  \n",
       "6299     ND.0003            4.0   unknown   unknown  \n",
       "6300     ND.0002            3.0   unknown   unknown  \n",
       "6301     ND.0001            2.0   unknown   unknown  \n",
       "\n",
       "[6302 rows x 24 columns]>"
      ]
     },
     "execution_count": 149,
     "metadata": {},
     "output_type": "execute_result"
    }
   ],
   "source": [
    "df.info"
   ]
  },
  {
   "cell_type": "code",
   "execution_count": 150,
   "id": "protective-discrimination",
   "metadata": {},
   "outputs": [],
   "source": [
    "# Export comma-separated variable file\n",
    "df = df.to_csv('/Users/mikel/Documents/week2/Proyecto_TL/attacks.csv', index=False)"
   ]
  },
  {
   "cell_type": "code",
   "execution_count": null,
   "id": "surface-imagination",
   "metadata": {},
   "outputs": [],
   "source": []
  }
 ],
 "metadata": {
  "kernelspec": {
   "display_name": "virtual",
   "language": "python",
   "name": "virtual"
  },
  "language_info": {
   "codemirror_mode": {
    "name": "ipython",
    "version": 3
   },
   "file_extension": ".py",
   "mimetype": "text/x-python",
   "name": "python",
   "nbconvert_exporter": "python",
   "pygments_lexer": "ipython3",
   "version": "3.8.5"
  }
 },
 "nbformat": 4,
 "nbformat_minor": 5
}
