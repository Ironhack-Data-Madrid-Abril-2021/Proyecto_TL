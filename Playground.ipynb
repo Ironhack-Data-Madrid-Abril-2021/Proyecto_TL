{
 "cells": [
  {
   "cell_type": "code",
   "execution_count": 1,
   "id": "located-humor",
   "metadata": {},
   "outputs": [],
   "source": [
    "import pandas as pd"
   ]
  },
  {
   "cell_type": "code",
   "execution_count": 2,
   "id": "chief-somewhere",
   "metadata": {},
   "outputs": [],
   "source": [
    "df = pd.read_csv(\"/Users/mikel/Documents/week2/Proyecto_TL/attacks.csv\", encoding= \"latin1\")"
   ]
  },
  {
   "cell_type": "code",
   "execution_count": 3,
   "id": "professional-rabbit",
   "metadata": {},
   "outputs": [
    {
     "data": {
      "text/html": [
       "<div>\n",
       "<style scoped>\n",
       "    .dataframe tbody tr th:only-of-type {\n",
       "        vertical-align: middle;\n",
       "    }\n",
       "\n",
       "    .dataframe tbody tr th {\n",
       "        vertical-align: top;\n",
       "    }\n",
       "\n",
       "    .dataframe thead th {\n",
       "        text-align: right;\n",
       "    }\n",
       "</style>\n",
       "<table border=\"1\" class=\"dataframe\">\n",
       "  <thead>\n",
       "    <tr style=\"text-align: right;\">\n",
       "      <th></th>\n",
       "      <th>Case_number</th>\n",
       "      <th>Date</th>\n",
       "      <th>Year</th>\n",
       "      <th>Type</th>\n",
       "      <th>Country</th>\n",
       "      <th>Area</th>\n",
       "      <th>Location</th>\n",
       "      <th>Activity</th>\n",
       "      <th>Name</th>\n",
       "      <th>Sex</th>\n",
       "      <th>...</th>\n",
       "      <th>Species</th>\n",
       "      <th>Investigator</th>\n",
       "      <th>pdf</th>\n",
       "      <th>href_formula</th>\n",
       "      <th>href</th>\n",
       "      <th>Case_n1</th>\n",
       "      <th>Case_n2</th>\n",
       "      <th>original_order</th>\n",
       "      <th>unnamed22</th>\n",
       "      <th>unnamed23</th>\n",
       "    </tr>\n",
       "  </thead>\n",
       "  <tbody>\n",
       "    <tr>\n",
       "      <th>0</th>\n",
       "      <td>2018.06.25</td>\n",
       "      <td>2018-06-25 00:00:00</td>\n",
       "      <td>2018</td>\n",
       "      <td>Boating</td>\n",
       "      <td>Usa</td>\n",
       "      <td>California</td>\n",
       "      <td>Oceanside, San Diego County</td>\n",
       "      <td>Unknown</td>\n",
       "      <td>Julie Wolfe</td>\n",
       "      <td>F</td>\n",
       "      <td>...</td>\n",
       "      <td>White shark</td>\n",
       "      <td>R. Collier, GSAF</td>\n",
       "      <td>2018.06.25-Wolfe.pdf</td>\n",
       "      <td>http://sharkattackfile.net/spreadsheets/pdf_di...</td>\n",
       "      <td>http://sharkattackfile.net/spreadsheets/pdf_di...</td>\n",
       "      <td>2018.06.25</td>\n",
       "      <td>2018.06.25</td>\n",
       "      <td>6303.0</td>\n",
       "      <td>unknown</td>\n",
       "      <td>unknown</td>\n",
       "    </tr>\n",
       "    <tr>\n",
       "      <th>1</th>\n",
       "      <td>2018.06.18</td>\n",
       "      <td>2018-06-18 00:00:00</td>\n",
       "      <td>2018</td>\n",
       "      <td>Unprovoked</td>\n",
       "      <td>Usa</td>\n",
       "      <td>Georgia</td>\n",
       "      <td>St. Simon Island, Glynn County</td>\n",
       "      <td>Unknown</td>\n",
       "      <td>Adyson McNeely</td>\n",
       "      <td>F</td>\n",
       "      <td>...</td>\n",
       "      <td>Unknown</td>\n",
       "      <td>K.McMurray, TrackingSharks.com</td>\n",
       "      <td>2018.06.18-McNeely.pdf</td>\n",
       "      <td>http://sharkattackfile.net/spreadsheets/pdf_di...</td>\n",
       "      <td>http://sharkattackfile.net/spreadsheets/pdf_di...</td>\n",
       "      <td>2018.06.18</td>\n",
       "      <td>2018.06.18</td>\n",
       "      <td>6302.0</td>\n",
       "      <td>unknown</td>\n",
       "      <td>unknown</td>\n",
       "    </tr>\n",
       "    <tr>\n",
       "      <th>2</th>\n",
       "      <td>2018.06.09</td>\n",
       "      <td>2018-06-09 00:00:00</td>\n",
       "      <td>2018</td>\n",
       "      <td>Invalid</td>\n",
       "      <td>Usa</td>\n",
       "      <td>Hawaii</td>\n",
       "      <td>Habush, Oahu</td>\n",
       "      <td>Surfing</td>\n",
       "      <td>John Denges</td>\n",
       "      <td>M</td>\n",
       "      <td>...</td>\n",
       "      <td>Unknown</td>\n",
       "      <td>K.McMurray, TrackingSharks.com</td>\n",
       "      <td>2018.06.09-Denges.pdf</td>\n",
       "      <td>http://sharkattackfile.net/spreadsheets/pdf_di...</td>\n",
       "      <td>http://sharkattackfile.net/spreadsheets/pdf_di...</td>\n",
       "      <td>2018.06.09</td>\n",
       "      <td>2018.06.09</td>\n",
       "      <td>6301.0</td>\n",
       "      <td>unknown</td>\n",
       "      <td>unknown</td>\n",
       "    </tr>\n",
       "    <tr>\n",
       "      <th>3</th>\n",
       "      <td>2018.06.08</td>\n",
       "      <td>2018-06-08 00:00:00</td>\n",
       "      <td>2018</td>\n",
       "      <td>Unprovoked</td>\n",
       "      <td>Australia</td>\n",
       "      <td>New South Wales</td>\n",
       "      <td>Arrawarra Headland</td>\n",
       "      <td>Surfing</td>\n",
       "      <td>Unknown</td>\n",
       "      <td>M</td>\n",
       "      <td>...</td>\n",
       "      <td>Unknown</td>\n",
       "      <td>B. Myatt, GSAF</td>\n",
       "      <td>2018.06.08-Arrawarra.pdf</td>\n",
       "      <td>http://sharkattackfile.net/spreadsheets/pdf_di...</td>\n",
       "      <td>http://sharkattackfile.net/spreadsheets/pdf_di...</td>\n",
       "      <td>2018.06.08</td>\n",
       "      <td>2018.06.08</td>\n",
       "      <td>6300.0</td>\n",
       "      <td>unknown</td>\n",
       "      <td>unknown</td>\n",
       "    </tr>\n",
       "    <tr>\n",
       "      <th>4</th>\n",
       "      <td>2018.06.04</td>\n",
       "      <td>2018-06-04 00:00:00</td>\n",
       "      <td>2018</td>\n",
       "      <td>Provoked</td>\n",
       "      <td>Mexico</td>\n",
       "      <td>Colima</td>\n",
       "      <td>La Ticla</td>\n",
       "      <td>Diving</td>\n",
       "      <td>Gustavo Ramos</td>\n",
       "      <td>M</td>\n",
       "      <td>...</td>\n",
       "      <td>Unknown</td>\n",
       "      <td>A .Kipper</td>\n",
       "      <td>2018.06.04-Ramos.pdf</td>\n",
       "      <td>http://sharkattackfile.net/spreadsheets/pdf_di...</td>\n",
       "      <td>http://sharkattackfile.net/spreadsheets/pdf_di...</td>\n",
       "      <td>2018.06.04</td>\n",
       "      <td>2018.06.04</td>\n",
       "      <td>6299.0</td>\n",
       "      <td>unknown</td>\n",
       "      <td>unknown</td>\n",
       "    </tr>\n",
       "  </tbody>\n",
       "</table>\n",
       "<p>5 rows × 24 columns</p>\n",
       "</div>"
      ],
      "text/plain": [
       "  Case_number                 Date  Year        Type    Country  \\\n",
       "0  2018.06.25  2018-06-25 00:00:00  2018     Boating        Usa   \n",
       "1  2018.06.18  2018-06-18 00:00:00  2018  Unprovoked        Usa   \n",
       "2  2018.06.09  2018-06-09 00:00:00  2018     Invalid        Usa   \n",
       "3  2018.06.08  2018-06-08 00:00:00  2018  Unprovoked  Australia   \n",
       "4  2018.06.04  2018-06-04 00:00:00  2018    Provoked     Mexico   \n",
       "\n",
       "              Area                        Location Activity             Name  \\\n",
       "0       California     Oceanside, San Diego County  Unknown      Julie Wolfe   \n",
       "1          Georgia  St. Simon Island, Glynn County  Unknown  Adyson McNeely    \n",
       "2           Hawaii                    Habush, Oahu  Surfing      John Denges   \n",
       "3  New South Wales              Arrawarra Headland  Surfing          Unknown   \n",
       "4           Colima                        La Ticla   Diving   Gustavo Ramos    \n",
       "\n",
       "  Sex  ...      Species                    Investigator  \\\n",
       "0   F  ...  White shark                R. Collier, GSAF   \n",
       "1   F  ...      Unknown  K.McMurray, TrackingSharks.com   \n",
       "2   M  ...      Unknown  K.McMurray, TrackingSharks.com   \n",
       "3   M  ...      Unknown                  B. Myatt, GSAF   \n",
       "4   M  ...      Unknown                       A .Kipper   \n",
       "\n",
       "                        pdf  \\\n",
       "0      2018.06.25-Wolfe.pdf   \n",
       "1    2018.06.18-McNeely.pdf   \n",
       "2     2018.06.09-Denges.pdf   \n",
       "3  2018.06.08-Arrawarra.pdf   \n",
       "4      2018.06.04-Ramos.pdf   \n",
       "\n",
       "                                        href_formula  \\\n",
       "0  http://sharkattackfile.net/spreadsheets/pdf_di...   \n",
       "1  http://sharkattackfile.net/spreadsheets/pdf_di...   \n",
       "2  http://sharkattackfile.net/spreadsheets/pdf_di...   \n",
       "3  http://sharkattackfile.net/spreadsheets/pdf_di...   \n",
       "4  http://sharkattackfile.net/spreadsheets/pdf_di...   \n",
       "\n",
       "                                                href     Case_n1     Case_n2  \\\n",
       "0  http://sharkattackfile.net/spreadsheets/pdf_di...  2018.06.25  2018.06.25   \n",
       "1  http://sharkattackfile.net/spreadsheets/pdf_di...  2018.06.18  2018.06.18   \n",
       "2  http://sharkattackfile.net/spreadsheets/pdf_di...  2018.06.09  2018.06.09   \n",
       "3  http://sharkattackfile.net/spreadsheets/pdf_di...  2018.06.08  2018.06.08   \n",
       "4  http://sharkattackfile.net/spreadsheets/pdf_di...  2018.06.04  2018.06.04   \n",
       "\n",
       "  original_order unnamed22 unnamed23  \n",
       "0         6303.0   unknown   unknown  \n",
       "1         6302.0   unknown   unknown  \n",
       "2         6301.0   unknown   unknown  \n",
       "3         6300.0   unknown   unknown  \n",
       "4         6299.0   unknown   unknown  \n",
       "\n",
       "[5 rows x 24 columns]"
      ]
     },
     "execution_count": 3,
     "metadata": {},
     "output_type": "execute_result"
    }
   ],
   "source": [
    "df.head()"
   ]
  },
  {
   "cell_type": "code",
   "execution_count": 4,
   "id": "valued-eugene",
   "metadata": {},
   "outputs": [
    {
     "data": {
      "text/plain": [
       "(6302, 24)"
      ]
     },
     "execution_count": 4,
     "metadata": {},
     "output_type": "execute_result"
    }
   ],
   "source": [
    "df.shape"
   ]
  },
  {
   "cell_type": "code",
   "execution_count": 5,
   "id": "dynamic-pleasure",
   "metadata": {},
   "outputs": [],
   "source": [
    "#quito todas las filas que tengan nulls en todas las columnas.\n",
    "df = df.dropna(how='all',axis=0) "
   ]
  },
  {
   "cell_type": "code",
   "execution_count": 6,
   "id": "altered-jumping",
   "metadata": {},
   "outputs": [],
   "source": [
    "df = df.dropna(0, thresh=3)"
   ]
  },
  {
   "cell_type": "code",
   "execution_count": 7,
   "id": "removed-black",
   "metadata": {},
   "outputs": [
    {
     "data": {
      "text/plain": [
       "(6302, 24)"
      ]
     },
     "execution_count": 7,
     "metadata": {},
     "output_type": "execute_result"
    }
   ],
   "source": [
    "df.shape"
   ]
  },
  {
   "cell_type": "code",
   "execution_count": 8,
   "id": "narrative-respect",
   "metadata": {},
   "outputs": [],
   "source": [
    "#renombramos columnas para que no haya drama luego\n",
    "df = df.rename(columns={'Unnamed: 22':'unnamed22', 'Unnamed: 23': 'unnamed23', 'Fatal (Y/N)': 'Fatal', 'original order': 'original_order', 'Case Number':'Case_number', 'Investigator or Source': 'Investigator', 'href formula':'href_formula', 'Case Number.1': 'Case_n1', 'Case Number.2': 'Case_n2', 'Sex ' : 'Sex', 'Species ':'Species', 'Fatal(Y/N)':'Fatal'})"
   ]
  },
  {
   "cell_type": "code",
   "execution_count": 9,
   "id": "worldwide-northwest",
   "metadata": {},
   "outputs": [
    {
     "data": {
      "text/html": [
       "<div>\n",
       "<style scoped>\n",
       "    .dataframe tbody tr th:only-of-type {\n",
       "        vertical-align: middle;\n",
       "    }\n",
       "\n",
       "    .dataframe tbody tr th {\n",
       "        vertical-align: top;\n",
       "    }\n",
       "\n",
       "    .dataframe thead th {\n",
       "        text-align: right;\n",
       "    }\n",
       "</style>\n",
       "<table border=\"1\" class=\"dataframe\">\n",
       "  <thead>\n",
       "    <tr style=\"text-align: right;\">\n",
       "      <th></th>\n",
       "      <th>Case_number</th>\n",
       "      <th>Date</th>\n",
       "      <th>Year</th>\n",
       "      <th>Type</th>\n",
       "      <th>Country</th>\n",
       "      <th>Area</th>\n",
       "      <th>Location</th>\n",
       "      <th>Activity</th>\n",
       "      <th>Name</th>\n",
       "      <th>Sex</th>\n",
       "      <th>...</th>\n",
       "      <th>Species</th>\n",
       "      <th>Investigator</th>\n",
       "      <th>pdf</th>\n",
       "      <th>href_formula</th>\n",
       "      <th>href</th>\n",
       "      <th>Case_n1</th>\n",
       "      <th>Case_n2</th>\n",
       "      <th>original_order</th>\n",
       "      <th>unnamed22</th>\n",
       "      <th>unnamed23</th>\n",
       "    </tr>\n",
       "  </thead>\n",
       "  <tbody>\n",
       "    <tr>\n",
       "      <th>0</th>\n",
       "      <td>2018.06.25</td>\n",
       "      <td>2018-06-25 00:00:00</td>\n",
       "      <td>2018</td>\n",
       "      <td>Boating</td>\n",
       "      <td>Usa</td>\n",
       "      <td>California</td>\n",
       "      <td>Oceanside, San Diego County</td>\n",
       "      <td>Unknown</td>\n",
       "      <td>Julie Wolfe</td>\n",
       "      <td>F</td>\n",
       "      <td>...</td>\n",
       "      <td>White shark</td>\n",
       "      <td>R. Collier, GSAF</td>\n",
       "      <td>2018.06.25-Wolfe.pdf</td>\n",
       "      <td>http://sharkattackfile.net/spreadsheets/pdf_di...</td>\n",
       "      <td>http://sharkattackfile.net/spreadsheets/pdf_di...</td>\n",
       "      <td>2018.06.25</td>\n",
       "      <td>2018.06.25</td>\n",
       "      <td>6303.0</td>\n",
       "      <td>unknown</td>\n",
       "      <td>unknown</td>\n",
       "    </tr>\n",
       "    <tr>\n",
       "      <th>1</th>\n",
       "      <td>2018.06.18</td>\n",
       "      <td>2018-06-18 00:00:00</td>\n",
       "      <td>2018</td>\n",
       "      <td>Unprovoked</td>\n",
       "      <td>Usa</td>\n",
       "      <td>Georgia</td>\n",
       "      <td>St. Simon Island, Glynn County</td>\n",
       "      <td>Unknown</td>\n",
       "      <td>Adyson McNeely</td>\n",
       "      <td>F</td>\n",
       "      <td>...</td>\n",
       "      <td>Unknown</td>\n",
       "      <td>K.McMurray, TrackingSharks.com</td>\n",
       "      <td>2018.06.18-McNeely.pdf</td>\n",
       "      <td>http://sharkattackfile.net/spreadsheets/pdf_di...</td>\n",
       "      <td>http://sharkattackfile.net/spreadsheets/pdf_di...</td>\n",
       "      <td>2018.06.18</td>\n",
       "      <td>2018.06.18</td>\n",
       "      <td>6302.0</td>\n",
       "      <td>unknown</td>\n",
       "      <td>unknown</td>\n",
       "    </tr>\n",
       "    <tr>\n",
       "      <th>2</th>\n",
       "      <td>2018.06.09</td>\n",
       "      <td>2018-06-09 00:00:00</td>\n",
       "      <td>2018</td>\n",
       "      <td>Invalid</td>\n",
       "      <td>Usa</td>\n",
       "      <td>Hawaii</td>\n",
       "      <td>Habush, Oahu</td>\n",
       "      <td>Surfing</td>\n",
       "      <td>John Denges</td>\n",
       "      <td>M</td>\n",
       "      <td>...</td>\n",
       "      <td>Unknown</td>\n",
       "      <td>K.McMurray, TrackingSharks.com</td>\n",
       "      <td>2018.06.09-Denges.pdf</td>\n",
       "      <td>http://sharkattackfile.net/spreadsheets/pdf_di...</td>\n",
       "      <td>http://sharkattackfile.net/spreadsheets/pdf_di...</td>\n",
       "      <td>2018.06.09</td>\n",
       "      <td>2018.06.09</td>\n",
       "      <td>6301.0</td>\n",
       "      <td>unknown</td>\n",
       "      <td>unknown</td>\n",
       "    </tr>\n",
       "    <tr>\n",
       "      <th>3</th>\n",
       "      <td>2018.06.08</td>\n",
       "      <td>2018-06-08 00:00:00</td>\n",
       "      <td>2018</td>\n",
       "      <td>Unprovoked</td>\n",
       "      <td>Australia</td>\n",
       "      <td>New South Wales</td>\n",
       "      <td>Arrawarra Headland</td>\n",
       "      <td>Surfing</td>\n",
       "      <td>Unknown</td>\n",
       "      <td>M</td>\n",
       "      <td>...</td>\n",
       "      <td>Unknown</td>\n",
       "      <td>B. Myatt, GSAF</td>\n",
       "      <td>2018.06.08-Arrawarra.pdf</td>\n",
       "      <td>http://sharkattackfile.net/spreadsheets/pdf_di...</td>\n",
       "      <td>http://sharkattackfile.net/spreadsheets/pdf_di...</td>\n",
       "      <td>2018.06.08</td>\n",
       "      <td>2018.06.08</td>\n",
       "      <td>6300.0</td>\n",
       "      <td>unknown</td>\n",
       "      <td>unknown</td>\n",
       "    </tr>\n",
       "    <tr>\n",
       "      <th>4</th>\n",
       "      <td>2018.06.04</td>\n",
       "      <td>2018-06-04 00:00:00</td>\n",
       "      <td>2018</td>\n",
       "      <td>Provoked</td>\n",
       "      <td>Mexico</td>\n",
       "      <td>Colima</td>\n",
       "      <td>La Ticla</td>\n",
       "      <td>Diving</td>\n",
       "      <td>Gustavo Ramos</td>\n",
       "      <td>M</td>\n",
       "      <td>...</td>\n",
       "      <td>Unknown</td>\n",
       "      <td>A .Kipper</td>\n",
       "      <td>2018.06.04-Ramos.pdf</td>\n",
       "      <td>http://sharkattackfile.net/spreadsheets/pdf_di...</td>\n",
       "      <td>http://sharkattackfile.net/spreadsheets/pdf_di...</td>\n",
       "      <td>2018.06.04</td>\n",
       "      <td>2018.06.04</td>\n",
       "      <td>6299.0</td>\n",
       "      <td>unknown</td>\n",
       "      <td>unknown</td>\n",
       "    </tr>\n",
       "  </tbody>\n",
       "</table>\n",
       "<p>5 rows × 24 columns</p>\n",
       "</div>"
      ],
      "text/plain": [
       "  Case_number                 Date  Year        Type    Country  \\\n",
       "0  2018.06.25  2018-06-25 00:00:00  2018     Boating        Usa   \n",
       "1  2018.06.18  2018-06-18 00:00:00  2018  Unprovoked        Usa   \n",
       "2  2018.06.09  2018-06-09 00:00:00  2018     Invalid        Usa   \n",
       "3  2018.06.08  2018-06-08 00:00:00  2018  Unprovoked  Australia   \n",
       "4  2018.06.04  2018-06-04 00:00:00  2018    Provoked     Mexico   \n",
       "\n",
       "              Area                        Location Activity             Name  \\\n",
       "0       California     Oceanside, San Diego County  Unknown      Julie Wolfe   \n",
       "1          Georgia  St. Simon Island, Glynn County  Unknown  Adyson McNeely    \n",
       "2           Hawaii                    Habush, Oahu  Surfing      John Denges   \n",
       "3  New South Wales              Arrawarra Headland  Surfing          Unknown   \n",
       "4           Colima                        La Ticla   Diving   Gustavo Ramos    \n",
       "\n",
       "  Sex  ...      Species                    Investigator  \\\n",
       "0   F  ...  White shark                R. Collier, GSAF   \n",
       "1   F  ...      Unknown  K.McMurray, TrackingSharks.com   \n",
       "2   M  ...      Unknown  K.McMurray, TrackingSharks.com   \n",
       "3   M  ...      Unknown                  B. Myatt, GSAF   \n",
       "4   M  ...      Unknown                       A .Kipper   \n",
       "\n",
       "                        pdf  \\\n",
       "0      2018.06.25-Wolfe.pdf   \n",
       "1    2018.06.18-McNeely.pdf   \n",
       "2     2018.06.09-Denges.pdf   \n",
       "3  2018.06.08-Arrawarra.pdf   \n",
       "4      2018.06.04-Ramos.pdf   \n",
       "\n",
       "                                        href_formula  \\\n",
       "0  http://sharkattackfile.net/spreadsheets/pdf_di...   \n",
       "1  http://sharkattackfile.net/spreadsheets/pdf_di...   \n",
       "2  http://sharkattackfile.net/spreadsheets/pdf_di...   \n",
       "3  http://sharkattackfile.net/spreadsheets/pdf_di...   \n",
       "4  http://sharkattackfile.net/spreadsheets/pdf_di...   \n",
       "\n",
       "                                                href     Case_n1     Case_n2  \\\n",
       "0  http://sharkattackfile.net/spreadsheets/pdf_di...  2018.06.25  2018.06.25   \n",
       "1  http://sharkattackfile.net/spreadsheets/pdf_di...  2018.06.18  2018.06.18   \n",
       "2  http://sharkattackfile.net/spreadsheets/pdf_di...  2018.06.09  2018.06.09   \n",
       "3  http://sharkattackfile.net/spreadsheets/pdf_di...  2018.06.08  2018.06.08   \n",
       "4  http://sharkattackfile.net/spreadsheets/pdf_di...  2018.06.04  2018.06.04   \n",
       "\n",
       "  original_order unnamed22 unnamed23  \n",
       "0         6303.0   unknown   unknown  \n",
       "1         6302.0   unknown   unknown  \n",
       "2         6301.0   unknown   unknown  \n",
       "3         6300.0   unknown   unknown  \n",
       "4         6299.0   unknown   unknown  \n",
       "\n",
       "[5 rows x 24 columns]"
      ]
     },
     "execution_count": 9,
     "metadata": {},
     "output_type": "execute_result"
    }
   ],
   "source": [
    "df.head()"
   ]
  },
  {
   "cell_type": "code",
   "execution_count": 10,
   "id": "agricultural-postcard",
   "metadata": {},
   "outputs": [
    {
     "data": {
      "text/plain": [
       "Series([], dtype: int64)"
      ]
     },
     "execution_count": 10,
     "metadata": {},
     "output_type": "execute_result"
    }
   ],
   "source": [
    "nan_cols=df.isna().sum()\n",
    "\n",
    "nan_cols[nan_cols>0]"
   ]
  },
  {
   "cell_type": "markdown",
   "id": "prepared-juvenile",
   "metadata": {},
   "source": [
    "# Columna Date"
   ]
  },
  {
   "cell_type": "markdown",
   "id": "baking-journey",
   "metadata": {},
   "source": [
    "Las fechas están bastante mal, he pensado muchas formas de cambiarlas a un formato decente y esta es la que más me ha convencido"
   ]
  },
  {
   "cell_type": "code",
   "execution_count": 11,
   "id": "anonymous-highway",
   "metadata": {},
   "outputs": [
    {
     "data": {
      "text/plain": [
       "0       2018-06-25 00:00:00\n",
       "1       2018-06-18 00:00:00\n",
       "2       2018-06-09 00:00:00\n",
       "3       2018-06-08 00:00:00\n",
       "4       2018-06-04 00:00:00\n",
       "               ...         \n",
       "6297                Unknown\n",
       "6298                Unknown\n",
       "6299                Unknown\n",
       "6300                Unknown\n",
       "6301                Unknown\n",
       "Name: _original_date, Length: 6302, dtype: object"
      ]
     },
     "execution_count": 11,
     "metadata": {},
     "output_type": "execute_result"
    }
   ],
   "source": [
    "#Primero de todo, guardamos los valores de una columna nueva para no perderlos\n",
    "df['_original_date'] = df.Date\n",
    "df['_original_date']"
   ]
  },
  {
   "cell_type": "code",
   "execution_count": 12,
   "id": "exclusive-trauma",
   "metadata": {},
   "outputs": [],
   "source": [
    "#Hacemos la limpieza más básica\n",
    "df['_original_date_pre_treated'] = \\\n",
    "    df._original_date \\\n",
    "        .apply(\n",
    "                lambda x :\n",
    "                    str(x)\n",
    "                        .replace('Reported ', '')\n",
    "                        .replace('Early ',    '')\n",
    "                        .replace('Late ',     '')\n",
    "                        .replace('--',        '-')\n",
    "            )"
   ]
  },
  {
   "cell_type": "code",
   "execution_count": 13,
   "id": "familiar-soviet",
   "metadata": {},
   "outputs": [],
   "source": [
    "#usamos la formula to_datetime de pandas. Forzando el coerce \"If ‘coerce’, then invalid parsing will be set as NaT.\"\n",
    "df.Date = pd.to_datetime(df._original_date_pre_treated, errors='coerce')"
   ]
  },
  {
   "cell_type": "code",
   "execution_count": 14,
   "id": "median-plenty",
   "metadata": {},
   "outputs": [
    {
     "name": "stderr",
     "output_type": "stream",
     "text": [
      "<ipython-input-14-4d008df60697>:2: UserWarning: Pandas doesn't allow columns to be created via a new attribute name - see https://pandas.pydata.org/pandas-docs/stable/indexing.html#attribute-access\n",
      "  df.decade = df.Date.apply(lambda x : x.year - x.year % 10)\n"
     ]
    }
   ],
   "source": [
    "#computar decada\n",
    "df.decade = df.Date.apply(lambda x : x.year - x.year % 10)"
   ]
  },
  {
   "cell_type": "code",
   "execution_count": 15,
   "id": "surface-billion",
   "metadata": {},
   "outputs": [
    {
     "data": {
      "text/html": [
       "<div>\n",
       "<style scoped>\n",
       "    .dataframe tbody tr th:only-of-type {\n",
       "        vertical-align: middle;\n",
       "    }\n",
       "\n",
       "    .dataframe tbody tr th {\n",
       "        vertical-align: top;\n",
       "    }\n",
       "\n",
       "    .dataframe thead th {\n",
       "        text-align: right;\n",
       "    }\n",
       "</style>\n",
       "<table border=\"1\" class=\"dataframe\">\n",
       "  <thead>\n",
       "    <tr style=\"text-align: right;\">\n",
       "      <th></th>\n",
       "      <th>Case_number</th>\n",
       "      <th>Date</th>\n",
       "      <th>Year</th>\n",
       "      <th>Type</th>\n",
       "      <th>Country</th>\n",
       "      <th>Area</th>\n",
       "      <th>Location</th>\n",
       "      <th>Activity</th>\n",
       "      <th>Name</th>\n",
       "      <th>Sex</th>\n",
       "      <th>...</th>\n",
       "      <th>pdf</th>\n",
       "      <th>href_formula</th>\n",
       "      <th>href</th>\n",
       "      <th>Case_n1</th>\n",
       "      <th>Case_n2</th>\n",
       "      <th>original_order</th>\n",
       "      <th>unnamed22</th>\n",
       "      <th>unnamed23</th>\n",
       "      <th>_original_date</th>\n",
       "      <th>_original_date_pre_treated</th>\n",
       "    </tr>\n",
       "  </thead>\n",
       "  <tbody>\n",
       "    <tr>\n",
       "      <th>0</th>\n",
       "      <td>2018.06.25</td>\n",
       "      <td>2018-06-25</td>\n",
       "      <td>2018</td>\n",
       "      <td>Boating</td>\n",
       "      <td>Usa</td>\n",
       "      <td>California</td>\n",
       "      <td>Oceanside, San Diego County</td>\n",
       "      <td>Unknown</td>\n",
       "      <td>Julie Wolfe</td>\n",
       "      <td>F</td>\n",
       "      <td>...</td>\n",
       "      <td>2018.06.25-Wolfe.pdf</td>\n",
       "      <td>http://sharkattackfile.net/spreadsheets/pdf_di...</td>\n",
       "      <td>http://sharkattackfile.net/spreadsheets/pdf_di...</td>\n",
       "      <td>2018.06.25</td>\n",
       "      <td>2018.06.25</td>\n",
       "      <td>6303.0</td>\n",
       "      <td>unknown</td>\n",
       "      <td>unknown</td>\n",
       "      <td>2018-06-25 00:00:00</td>\n",
       "      <td>2018-06-25 00:00:00</td>\n",
       "    </tr>\n",
       "    <tr>\n",
       "      <th>1</th>\n",
       "      <td>2018.06.18</td>\n",
       "      <td>2018-06-18</td>\n",
       "      <td>2018</td>\n",
       "      <td>Unprovoked</td>\n",
       "      <td>Usa</td>\n",
       "      <td>Georgia</td>\n",
       "      <td>St. Simon Island, Glynn County</td>\n",
       "      <td>Unknown</td>\n",
       "      <td>Adyson McNeely</td>\n",
       "      <td>F</td>\n",
       "      <td>...</td>\n",
       "      <td>2018.06.18-McNeely.pdf</td>\n",
       "      <td>http://sharkattackfile.net/spreadsheets/pdf_di...</td>\n",
       "      <td>http://sharkattackfile.net/spreadsheets/pdf_di...</td>\n",
       "      <td>2018.06.18</td>\n",
       "      <td>2018.06.18</td>\n",
       "      <td>6302.0</td>\n",
       "      <td>unknown</td>\n",
       "      <td>unknown</td>\n",
       "      <td>2018-06-18 00:00:00</td>\n",
       "      <td>2018-06-18 00:00:00</td>\n",
       "    </tr>\n",
       "    <tr>\n",
       "      <th>2</th>\n",
       "      <td>2018.06.09</td>\n",
       "      <td>2018-06-09</td>\n",
       "      <td>2018</td>\n",
       "      <td>Invalid</td>\n",
       "      <td>Usa</td>\n",
       "      <td>Hawaii</td>\n",
       "      <td>Habush, Oahu</td>\n",
       "      <td>Surfing</td>\n",
       "      <td>John Denges</td>\n",
       "      <td>M</td>\n",
       "      <td>...</td>\n",
       "      <td>2018.06.09-Denges.pdf</td>\n",
       "      <td>http://sharkattackfile.net/spreadsheets/pdf_di...</td>\n",
       "      <td>http://sharkattackfile.net/spreadsheets/pdf_di...</td>\n",
       "      <td>2018.06.09</td>\n",
       "      <td>2018.06.09</td>\n",
       "      <td>6301.0</td>\n",
       "      <td>unknown</td>\n",
       "      <td>unknown</td>\n",
       "      <td>2018-06-09 00:00:00</td>\n",
       "      <td>2018-06-09 00:00:00</td>\n",
       "    </tr>\n",
       "    <tr>\n",
       "      <th>3</th>\n",
       "      <td>2018.06.08</td>\n",
       "      <td>2018-06-08</td>\n",
       "      <td>2018</td>\n",
       "      <td>Unprovoked</td>\n",
       "      <td>Australia</td>\n",
       "      <td>New South Wales</td>\n",
       "      <td>Arrawarra Headland</td>\n",
       "      <td>Surfing</td>\n",
       "      <td>Unknown</td>\n",
       "      <td>M</td>\n",
       "      <td>...</td>\n",
       "      <td>2018.06.08-Arrawarra.pdf</td>\n",
       "      <td>http://sharkattackfile.net/spreadsheets/pdf_di...</td>\n",
       "      <td>http://sharkattackfile.net/spreadsheets/pdf_di...</td>\n",
       "      <td>2018.06.08</td>\n",
       "      <td>2018.06.08</td>\n",
       "      <td>6300.0</td>\n",
       "      <td>unknown</td>\n",
       "      <td>unknown</td>\n",
       "      <td>2018-06-08 00:00:00</td>\n",
       "      <td>2018-06-08 00:00:00</td>\n",
       "    </tr>\n",
       "    <tr>\n",
       "      <th>4</th>\n",
       "      <td>2018.06.04</td>\n",
       "      <td>2018-06-04</td>\n",
       "      <td>2018</td>\n",
       "      <td>Provoked</td>\n",
       "      <td>Mexico</td>\n",
       "      <td>Colima</td>\n",
       "      <td>La Ticla</td>\n",
       "      <td>Diving</td>\n",
       "      <td>Gustavo Ramos</td>\n",
       "      <td>M</td>\n",
       "      <td>...</td>\n",
       "      <td>2018.06.04-Ramos.pdf</td>\n",
       "      <td>http://sharkattackfile.net/spreadsheets/pdf_di...</td>\n",
       "      <td>http://sharkattackfile.net/spreadsheets/pdf_di...</td>\n",
       "      <td>2018.06.04</td>\n",
       "      <td>2018.06.04</td>\n",
       "      <td>6299.0</td>\n",
       "      <td>unknown</td>\n",
       "      <td>unknown</td>\n",
       "      <td>2018-06-04 00:00:00</td>\n",
       "      <td>2018-06-04 00:00:00</td>\n",
       "    </tr>\n",
       "  </tbody>\n",
       "</table>\n",
       "<p>5 rows × 26 columns</p>\n",
       "</div>"
      ],
      "text/plain": [
       "  Case_number       Date  Year        Type    Country             Area  \\\n",
       "0  2018.06.25 2018-06-25  2018     Boating        Usa       California   \n",
       "1  2018.06.18 2018-06-18  2018  Unprovoked        Usa          Georgia   \n",
       "2  2018.06.09 2018-06-09  2018     Invalid        Usa           Hawaii   \n",
       "3  2018.06.08 2018-06-08  2018  Unprovoked  Australia  New South Wales   \n",
       "4  2018.06.04 2018-06-04  2018    Provoked     Mexico           Colima   \n",
       "\n",
       "                         Location Activity             Name Sex  ...  \\\n",
       "0     Oceanside, San Diego County  Unknown      Julie Wolfe   F  ...   \n",
       "1  St. Simon Island, Glynn County  Unknown  Adyson McNeely    F  ...   \n",
       "2                    Habush, Oahu  Surfing      John Denges   M  ...   \n",
       "3              Arrawarra Headland  Surfing          Unknown   M  ...   \n",
       "4                        La Ticla   Diving   Gustavo Ramos    M  ...   \n",
       "\n",
       "                        pdf  \\\n",
       "0      2018.06.25-Wolfe.pdf   \n",
       "1    2018.06.18-McNeely.pdf   \n",
       "2     2018.06.09-Denges.pdf   \n",
       "3  2018.06.08-Arrawarra.pdf   \n",
       "4      2018.06.04-Ramos.pdf   \n",
       "\n",
       "                                        href_formula  \\\n",
       "0  http://sharkattackfile.net/spreadsheets/pdf_di...   \n",
       "1  http://sharkattackfile.net/spreadsheets/pdf_di...   \n",
       "2  http://sharkattackfile.net/spreadsheets/pdf_di...   \n",
       "3  http://sharkattackfile.net/spreadsheets/pdf_di...   \n",
       "4  http://sharkattackfile.net/spreadsheets/pdf_di...   \n",
       "\n",
       "                                                href     Case_n1     Case_n2  \\\n",
       "0  http://sharkattackfile.net/spreadsheets/pdf_di...  2018.06.25  2018.06.25   \n",
       "1  http://sharkattackfile.net/spreadsheets/pdf_di...  2018.06.18  2018.06.18   \n",
       "2  http://sharkattackfile.net/spreadsheets/pdf_di...  2018.06.09  2018.06.09   \n",
       "3  http://sharkattackfile.net/spreadsheets/pdf_di...  2018.06.08  2018.06.08   \n",
       "4  http://sharkattackfile.net/spreadsheets/pdf_di...  2018.06.04  2018.06.04   \n",
       "\n",
       "  original_order unnamed22 unnamed23       _original_date  \\\n",
       "0         6303.0   unknown   unknown  2018-06-25 00:00:00   \n",
       "1         6302.0   unknown   unknown  2018-06-18 00:00:00   \n",
       "2         6301.0   unknown   unknown  2018-06-09 00:00:00   \n",
       "3         6300.0   unknown   unknown  2018-06-08 00:00:00   \n",
       "4         6299.0   unknown   unknown  2018-06-04 00:00:00   \n",
       "\n",
       "  _original_date_pre_treated  \n",
       "0        2018-06-25 00:00:00  \n",
       "1        2018-06-18 00:00:00  \n",
       "2        2018-06-09 00:00:00  \n",
       "3        2018-06-08 00:00:00  \n",
       "4        2018-06-04 00:00:00  \n",
       "\n",
       "[5 rows x 26 columns]"
      ]
     },
     "execution_count": 15,
     "metadata": {},
     "output_type": "execute_result"
    }
   ],
   "source": [
    "#tachán! esto me crea dos columnas que luego puedo eliminar\n",
    "df.head()"
   ]
  },
  {
   "cell_type": "code",
   "execution_count": 16,
   "id": "collaborative-richmond",
   "metadata": {},
   "outputs": [],
   "source": [
    "df=df.drop('_original_date_pre_treated', axis=1)"
   ]
  },
  {
   "cell_type": "code",
   "execution_count": 17,
   "id": "looking-donor",
   "metadata": {},
   "outputs": [],
   "source": [
    "df=df.drop('_original_date', axis=1)"
   ]
  },
  {
   "cell_type": "code",
   "execution_count": 18,
   "id": "joined-possible",
   "metadata": {},
   "outputs": [],
   "source": [
    "df['Date'] = df['Date'].fillna('Unknown')"
   ]
  },
  {
   "cell_type": "code",
   "execution_count": 19,
   "id": "auburn-subsection",
   "metadata": {},
   "outputs": [
    {
     "data": {
      "text/plain": [
       "0       2018-06-25 00:00:00\n",
       "1       2018-06-18 00:00:00\n",
       "2       2018-06-09 00:00:00\n",
       "3       2018-06-08 00:00:00\n",
       "4       2018-06-04 00:00:00\n",
       "               ...         \n",
       "6297                Unknown\n",
       "6298                Unknown\n",
       "6299                Unknown\n",
       "6300                Unknown\n",
       "6301                Unknown\n",
       "Name: Date, Length: 6302, dtype: object"
      ]
     },
     "execution_count": 19,
     "metadata": {},
     "output_type": "execute_result"
    }
   ],
   "source": [
    "df.Date"
   ]
  },
  {
   "cell_type": "markdown",
   "id": "approved-dylan",
   "metadata": {},
   "source": [
    "# Columna year"
   ]
  },
  {
   "cell_type": "markdown",
   "id": "written-course",
   "metadata": {},
   "source": [
    "La columna year viene como float, en un primer momento lo pasé solo a int y ya, previamente cambiando los nulls por 0. Bajo mi criterio esto no es lo óptimo, ya que puede llevar a confusión y error cuando los analístas calculen medias y demás.\n",
    "\n",
    "Por ello, he optado por cambiarlo por un unknown, pero esto conlleva que quede como una string, después se ha quedado obviamente con fechas como 2018.0, y he hecho un strip."
   ]
  },
  {
   "cell_type": "code",
   "execution_count": 20,
   "id": "satisfactory-malaysia",
   "metadata": {},
   "outputs": [
    {
     "name": "stdout",
     "output_type": "stream",
     "text": [
      "<class 'pandas.core.frame.DataFrame'>\n",
      "Int64Index: 6302 entries, 0 to 6301\n",
      "Data columns (total 24 columns):\n",
      " #   Column          Non-Null Count  Dtype  \n",
      "---  ------          --------------  -----  \n",
      " 0   Case_number     6302 non-null   object \n",
      " 1   Date            6302 non-null   object \n",
      " 2   Year            6302 non-null   object \n",
      " 3   Type            6302 non-null   object \n",
      " 4   Country         6302 non-null   object \n",
      " 5   Area            6302 non-null   object \n",
      " 6   Location        6302 non-null   object \n",
      " 7   Activity        6302 non-null   object \n",
      " 8   Name            6302 non-null   object \n",
      " 9   Sex             6302 non-null   object \n",
      " 10  Age             6302 non-null   object \n",
      " 11  Injury          6302 non-null   object \n",
      " 12  Fatal           6302 non-null   object \n",
      " 13  Time            6302 non-null   object \n",
      " 14  Species         6302 non-null   object \n",
      " 15  Investigator    6302 non-null   object \n",
      " 16  pdf             6302 non-null   object \n",
      " 17  href_formula    6302 non-null   object \n",
      " 18  href            6302 non-null   object \n",
      " 19  Case_n1         6302 non-null   object \n",
      " 20  Case_n2         6302 non-null   object \n",
      " 21  original_order  6302 non-null   float64\n",
      " 22  unnamed22       6302 non-null   object \n",
      " 23  unnamed23       6302 non-null   object \n",
      "dtypes: float64(1), object(23)\n",
      "memory usage: 1.2+ MB\n"
     ]
    }
   ],
   "source": [
    "df.info()"
   ]
  },
  {
   "cell_type": "code",
   "execution_count": 21,
   "id": "mineral-athens",
   "metadata": {},
   "outputs": [],
   "source": [
    "df['Year'] = df['Year'].fillna('unknown')"
   ]
  },
  {
   "cell_type": "code",
   "execution_count": 22,
   "id": "representative-domestic",
   "metadata": {},
   "outputs": [],
   "source": [
    "df.Year=df.Year.astype(dtype='str')"
   ]
  },
  {
   "cell_type": "code",
   "execution_count": 23,
   "id": "loving-giving",
   "metadata": {},
   "outputs": [],
   "source": [
    "df['Year'] = df['Year'].str.rstrip('.0')\n"
   ]
  },
  {
   "cell_type": "markdown",
   "id": "known-adobe",
   "metadata": {},
   "source": [
    "# Columna type"
   ]
  },
  {
   "cell_type": "code",
   "execution_count": 24,
   "id": "composed-might",
   "metadata": {},
   "outputs": [
    {
     "data": {
      "text/plain": [
       "array(['Boating', 'Unprovoked', 'Invalid', 'Provoked', 'Questionable',\n",
       "       'Sea Disaster', 'Unknown', 'Boat'], dtype=object)"
      ]
     },
     "execution_count": 24,
     "metadata": {},
     "output_type": "execute_result"
    }
   ],
   "source": [
    "df.Type.unique()"
   ]
  },
  {
   "cell_type": "code",
   "execution_count": 25,
   "id": "industrial-contrast",
   "metadata": {},
   "outputs": [],
   "source": [
    "df['Type'] = df['Type'].fillna('Unknown')"
   ]
  },
  {
   "cell_type": "code",
   "execution_count": 26,
   "id": "described-oriental",
   "metadata": {},
   "outputs": [],
   "source": [
    "df.Type=df.Type.replace(to_replace =(\"Boatomg\"), value =\"Boat\")"
   ]
  },
  {
   "cell_type": "markdown",
   "id": "corporate-catholic",
   "metadata": {},
   "source": [
    "# Columna Country"
   ]
  },
  {
   "cell_type": "code",
   "execution_count": 27,
   "id": "august-level",
   "metadata": {},
   "outputs": [],
   "source": [
    "df['Country'] = df['Country'].str.capitalize()"
   ]
  },
  {
   "cell_type": "code",
   "execution_count": 28,
   "id": "fundamental-orleans",
   "metadata": {},
   "outputs": [],
   "source": [
    "df['Country'] = df['Country'].str.rstrip('?')"
   ]
  },
  {
   "cell_type": "code",
   "execution_count": 29,
   "id": "comprehensive-spending",
   "metadata": {},
   "outputs": [],
   "source": [
    "df['Country'] = df['Country'].fillna('Unknown')"
   ]
  },
  {
   "cell_type": "markdown",
   "id": "choice-prior",
   "metadata": {},
   "source": [
    "# Columna Area"
   ]
  },
  {
   "cell_type": "markdown",
   "id": "under-composition",
   "metadata": {},
   "source": [
    "En este caso lo que ocurre es que hay bastante basura en los datos, tener como área \"a 100km de Sri Lanka\" es mejor que nada, pero en análisis con muchos datos esto no es útil. Por ello creo que es mejor quitar todos datos dejandolos como unknown y apoyarnos en Country - location."
   ]
  },
  {
   "cell_type": "code",
   "execution_count": 30,
   "id": "absent-battery",
   "metadata": {},
   "outputs": [],
   "source": [
    "df['Area'] = df['Area'].fillna('Unknown')"
   ]
  },
  {
   "cell_type": "code",
   "execution_count": 31,
   "id": "removed-storm",
   "metadata": {},
   "outputs": [
    {
     "data": {
      "text/plain": [
       "0              California\n",
       "1                 Georgia\n",
       "2                  Hawaii\n",
       "3         New South Wales\n",
       "4                  Colima\n",
       "              ...        \n",
       "6297    Western Australia\n",
       "6298    Western Australia\n",
       "6299       North Carolina\n",
       "6300              Unknown\n",
       "6301     Eastern Province\n",
       "Name: Area, Length: 6302, dtype: object"
      ]
     },
     "execution_count": 31,
     "metadata": {},
     "output_type": "execute_result"
    }
   ],
   "source": [
    "df.Area.replace('numeric', 'unknown')"
   ]
  },
  {
   "cell_type": "markdown",
   "id": "irish-point",
   "metadata": {},
   "source": [
    "# Columna Location"
   ]
  },
  {
   "cell_type": "code",
   "execution_count": 32,
   "id": "unique-suspect",
   "metadata": {},
   "outputs": [
    {
     "data": {
      "text/plain": [
       "array(['Oceanside, San Diego County', 'St. Simon Island, Glynn County',\n",
       "       'Habush, Oahu', ..., 'Ocracoke Inlet', 'Panama Bay 8ºN, 79ºW',\n",
       "       'Below the English fort, Trincomalee'], dtype=object)"
      ]
     },
     "execution_count": 32,
     "metadata": {},
     "output_type": "execute_result"
    }
   ],
   "source": [
    "df.Location.unique()"
   ]
  },
  {
   "cell_type": "code",
   "execution_count": 33,
   "id": "affiliated-basis",
   "metadata": {},
   "outputs": [],
   "source": [
    "df['Location'] = df['Location'].fillna('Unknown')"
   ]
  },
  {
   "cell_type": "code",
   "execution_count": 34,
   "id": "extra-thermal",
   "metadata": {},
   "outputs": [],
   "source": [
    "df.Location=df.Location.astype(dtype='str')"
   ]
  },
  {
   "cell_type": "markdown",
   "id": "union-monkey",
   "metadata": {},
   "source": [
    "# Columna Activity"
   ]
  },
  {
   "cell_type": "code",
   "execution_count": 35,
   "id": "raised-boutique",
   "metadata": {},
   "outputs": [
    {
     "data": {
      "text/plain": [
       "array(['Unknown', 'Surfing', 'Diving', 'Swimming', 'Fishing'],\n",
       "      dtype=object)"
      ]
     },
     "execution_count": 35,
     "metadata": {},
     "output_type": "execute_result"
    }
   ],
   "source": [
    "df.Activity.unique()"
   ]
  },
  {
   "cell_type": "code",
   "execution_count": 36,
   "id": "outer-nickel",
   "metadata": {},
   "outputs": [],
   "source": [
    "df['Activity'] = df['Activity'].fillna('Unknown')"
   ]
  },
  {
   "cell_type": "code",
   "execution_count": 37,
   "id": "olympic-photographer",
   "metadata": {},
   "outputs": [],
   "source": [
    "df.loc[df['Activity'].str.contains('\\wwimming', regex=True, case=False), 'Activity'] = 'Swimming'"
   ]
  },
  {
   "cell_type": "code",
   "execution_count": 38,
   "id": "convinced-bleeding",
   "metadata": {},
   "outputs": [],
   "source": [
    "df.loc[df['Activity'].str.contains('\\wurf', regex=True, case=False), 'Activity'] = 'Surfing'"
   ]
  },
  {
   "cell_type": "code",
   "execution_count": 39,
   "id": "latest-complexity",
   "metadata": {},
   "outputs": [],
   "source": [
    "df.loc[df['Activity'].str.contains('\\wiv', regex=True, case=False), 'Activity'] = 'Diving'"
   ]
  },
  {
   "cell_type": "code",
   "execution_count": 40,
   "id": "signed-wonder",
   "metadata": {},
   "outputs": [],
   "source": [
    "df.loc[df['Activity'].str.contains('\\wish', regex=True, case=False), 'Activity'] = 'Fishing'"
   ]
  },
  {
   "cell_type": "code",
   "execution_count": 41,
   "id": "chinese-motel",
   "metadata": {},
   "outputs": [],
   "source": [
    "activity_lst = ['Swimming','Surfing', 'Diving', 'Fishing']"
   ]
  },
  {
   "cell_type": "code",
   "execution_count": 42,
   "id": "behind-offense",
   "metadata": {},
   "outputs": [],
   "source": [
    "df.Activity=df.Activity.apply(lambda x: 'Unknown' if x not in activity_lst else x)"
   ]
  },
  {
   "cell_type": "code",
   "execution_count": 43,
   "id": "twenty-recovery",
   "metadata": {},
   "outputs": [
    {
     "data": {
      "text/plain": [
       "Unknown     2184\n",
       "Surfing     1244\n",
       "Fishing     1134\n",
       "Swimming    1117\n",
       "Diving       623\n",
       "Name: Activity, dtype: int64"
      ]
     },
     "execution_count": 43,
     "metadata": {},
     "output_type": "execute_result"
    }
   ],
   "source": [
    "df.Activity.value_counts()"
   ]
  },
  {
   "cell_type": "markdown",
   "id": "satisfied-invention",
   "metadata": {},
   "source": [
    "# Columna name"
   ]
  },
  {
   "cell_type": "code",
   "execution_count": 44,
   "id": "lonely-timber",
   "metadata": {},
   "outputs": [],
   "source": [
    "df.Name=df.Name.replace(to_replace =[\"male\", \"female\"], value =\"Unknown\")"
   ]
  },
  {
   "cell_type": "code",
   "execution_count": 45,
   "id": "transparent-abuse",
   "metadata": {},
   "outputs": [],
   "source": [
    "df['Name'] = df['Name'].fillna('Unknown')"
   ]
  },
  {
   "cell_type": "markdown",
   "id": "placed-habitat",
   "metadata": {},
   "source": [
    "# Columna Sex"
   ]
  },
  {
   "cell_type": "code",
   "execution_count": 46,
   "id": "sublime-payday",
   "metadata": {},
   "outputs": [
    {
     "data": {
      "text/plain": [
       "array(['F', 'M', 'Unknown'], dtype=object)"
      ]
     },
     "execution_count": 46,
     "metadata": {},
     "output_type": "execute_result"
    }
   ],
   "source": [
    "df.Sex.unique()"
   ]
  },
  {
   "cell_type": "code",
   "execution_count": 47,
   "id": "outer-merit",
   "metadata": {},
   "outputs": [],
   "source": [
    "df['Sex'] = df['Sex'].fillna('Unknown')"
   ]
  },
  {
   "cell_type": "code",
   "execution_count": 48,
   "id": "hourly-database",
   "metadata": {},
   "outputs": [],
   "source": [
    "df.Sex=df.Sex.replace(to_replace =(\"M \"), value =\"M\")"
   ]
  },
  {
   "cell_type": "code",
   "execution_count": 49,
   "id": "level-sweden",
   "metadata": {},
   "outputs": [
    {
     "data": {
      "text/plain": [
       "array(['F', 'M', 'Unknown'], dtype=object)"
      ]
     },
     "execution_count": 49,
     "metadata": {},
     "output_type": "execute_result"
    }
   ],
   "source": [
    "df.Sex.unique()"
   ]
  },
  {
   "cell_type": "code",
   "execution_count": 50,
   "id": "fatty-beatles",
   "metadata": {},
   "outputs": [
    {
     "data": {
      "text/html": [
       "<div>\n",
       "<style scoped>\n",
       "    .dataframe tbody tr th:only-of-type {\n",
       "        vertical-align: middle;\n",
       "    }\n",
       "\n",
       "    .dataframe tbody tr th {\n",
       "        vertical-align: top;\n",
       "    }\n",
       "\n",
       "    .dataframe thead th {\n",
       "        text-align: right;\n",
       "    }\n",
       "</style>\n",
       "<table border=\"1\" class=\"dataframe\">\n",
       "  <thead>\n",
       "    <tr style=\"text-align: right;\">\n",
       "      <th></th>\n",
       "      <th>Case_number</th>\n",
       "      <th>Date</th>\n",
       "      <th>Year</th>\n",
       "      <th>Type</th>\n",
       "      <th>Country</th>\n",
       "      <th>Area</th>\n",
       "      <th>Location</th>\n",
       "      <th>Activity</th>\n",
       "      <th>Name</th>\n",
       "      <th>Sex</th>\n",
       "      <th>...</th>\n",
       "      <th>Species</th>\n",
       "      <th>Investigator</th>\n",
       "      <th>pdf</th>\n",
       "      <th>href_formula</th>\n",
       "      <th>href</th>\n",
       "      <th>Case_n1</th>\n",
       "      <th>Case_n2</th>\n",
       "      <th>original_order</th>\n",
       "      <th>unnamed22</th>\n",
       "      <th>unnamed23</th>\n",
       "    </tr>\n",
       "  </thead>\n",
       "  <tbody>\n",
       "  </tbody>\n",
       "</table>\n",
       "<p>0 rows × 24 columns</p>\n",
       "</div>"
      ],
      "text/plain": [
       "Empty DataFrame\n",
       "Columns: [Case_number, Date, Year, Type, Country, Area, Location, Activity, Name, Sex, Age, Injury, Fatal, Time, Species, Investigator, pdf, href_formula, href, Case_n1, Case_n2, original_order, unnamed22, unnamed23]\n",
       "Index: []\n",
       "\n",
       "[0 rows x 24 columns]"
      ]
     },
     "execution_count": 50,
     "metadata": {},
     "output_type": "execute_result"
    }
   ],
   "source": [
    "#Saco las rows con N para ver que ha pasado. La hipótesis de que la n está cerca de la m queda rechazada.\n",
    "df.loc[df['Sex'] == 'N']"
   ]
  },
  {
   "cell_type": "code",
   "execution_count": 51,
   "id": "restricted-omega",
   "metadata": {},
   "outputs": [],
   "source": [
    "#Los cambio por Males porque ambos casos contienen hombres\n",
    "df.Sex=df.Sex.replace(to_replace =(\"N\"), value =\"M\")"
   ]
  },
  {
   "cell_type": "code",
   "execution_count": 52,
   "id": "fallen-picnic",
   "metadata": {},
   "outputs": [
    {
     "data": {
      "text/plain": [
       "array(['F', 'M', 'Unknown'], dtype=object)"
      ]
     },
     "execution_count": 52,
     "metadata": {},
     "output_type": "execute_result"
    }
   ],
   "source": [
    "df.Sex.unique()"
   ]
  },
  {
   "cell_type": "code",
   "execution_count": 53,
   "id": "greek-still",
   "metadata": {},
   "outputs": [
    {
     "data": {
      "text/html": [
       "<div>\n",
       "<style scoped>\n",
       "    .dataframe tbody tr th:only-of-type {\n",
       "        vertical-align: middle;\n",
       "    }\n",
       "\n",
       "    .dataframe tbody tr th {\n",
       "        vertical-align: top;\n",
       "    }\n",
       "\n",
       "    .dataframe thead th {\n",
       "        text-align: right;\n",
       "    }\n",
       "</style>\n",
       "<table border=\"1\" class=\"dataframe\">\n",
       "  <thead>\n",
       "    <tr style=\"text-align: right;\">\n",
       "      <th></th>\n",
       "      <th>Case_number</th>\n",
       "      <th>Date</th>\n",
       "      <th>Year</th>\n",
       "      <th>Type</th>\n",
       "      <th>Country</th>\n",
       "      <th>Area</th>\n",
       "      <th>Location</th>\n",
       "      <th>Activity</th>\n",
       "      <th>Name</th>\n",
       "      <th>Sex</th>\n",
       "      <th>...</th>\n",
       "      <th>Species</th>\n",
       "      <th>Investigator</th>\n",
       "      <th>pdf</th>\n",
       "      <th>href_formula</th>\n",
       "      <th>href</th>\n",
       "      <th>Case_n1</th>\n",
       "      <th>Case_n2</th>\n",
       "      <th>original_order</th>\n",
       "      <th>unnamed22</th>\n",
       "      <th>unnamed23</th>\n",
       "    </tr>\n",
       "  </thead>\n",
       "  <tbody>\n",
       "  </tbody>\n",
       "</table>\n",
       "<p>0 rows × 24 columns</p>\n",
       "</div>"
      ],
      "text/plain": [
       "Empty DataFrame\n",
       "Columns: [Case_number, Date, Year, Type, Country, Area, Location, Activity, Name, Sex, Age, Injury, Fatal, Time, Species, Investigator, pdf, href_formula, href, Case_n1, Case_n2, original_order, unnamed22, unnamed23]\n",
       "Index: []\n",
       "\n",
       "[0 rows x 24 columns]"
      ]
     },
     "execution_count": 53,
     "metadata": {},
     "output_type": "execute_result"
    }
   ],
   "source": [
    "df.loc[df['Sex'] == 'lli']"
   ]
  },
  {
   "cell_type": "code",
   "execution_count": 54,
   "id": "killing-laptop",
   "metadata": {},
   "outputs": [],
   "source": [
    "df.Sex=df.Sex.replace(to_replace =(\"lli\"), value =\"M\")"
   ]
  },
  {
   "cell_type": "code",
   "execution_count": 55,
   "id": "declared-school",
   "metadata": {},
   "outputs": [
    {
     "data": {
      "text/html": [
       "<div>\n",
       "<style scoped>\n",
       "    .dataframe tbody tr th:only-of-type {\n",
       "        vertical-align: middle;\n",
       "    }\n",
       "\n",
       "    .dataframe tbody tr th {\n",
       "        vertical-align: top;\n",
       "    }\n",
       "\n",
       "    .dataframe thead th {\n",
       "        text-align: right;\n",
       "    }\n",
       "</style>\n",
       "<table border=\"1\" class=\"dataframe\">\n",
       "  <thead>\n",
       "    <tr style=\"text-align: right;\">\n",
       "      <th></th>\n",
       "      <th>Case_number</th>\n",
       "      <th>Date</th>\n",
       "      <th>Year</th>\n",
       "      <th>Type</th>\n",
       "      <th>Country</th>\n",
       "      <th>Area</th>\n",
       "      <th>Location</th>\n",
       "      <th>Activity</th>\n",
       "      <th>Name</th>\n",
       "      <th>Sex</th>\n",
       "      <th>...</th>\n",
       "      <th>Species</th>\n",
       "      <th>Investigator</th>\n",
       "      <th>pdf</th>\n",
       "      <th>href_formula</th>\n",
       "      <th>href</th>\n",
       "      <th>Case_n1</th>\n",
       "      <th>Case_n2</th>\n",
       "      <th>original_order</th>\n",
       "      <th>unnamed22</th>\n",
       "      <th>unnamed23</th>\n",
       "    </tr>\n",
       "  </thead>\n",
       "  <tbody>\n",
       "  </tbody>\n",
       "</table>\n",
       "<p>0 rows × 24 columns</p>\n",
       "</div>"
      ],
      "text/plain": [
       "Empty DataFrame\n",
       "Columns: [Case_number, Date, Year, Type, Country, Area, Location, Activity, Name, Sex, Age, Injury, Fatal, Time, Species, Investigator, pdf, href_formula, href, Case_n1, Case_n2, original_order, unnamed22, unnamed23]\n",
       "Index: []\n",
       "\n",
       "[0 rows x 24 columns]"
      ]
     },
     "execution_count": 55,
     "metadata": {},
     "output_type": "execute_result"
    }
   ],
   "source": [
    "df.loc[df['Sex'] == '.']"
   ]
  },
  {
   "cell_type": "code",
   "execution_count": 56,
   "id": "violent-afghanistan",
   "metadata": {},
   "outputs": [],
   "source": [
    "df.Sex=df.Sex.replace(to_replace =(\".\"), value =\"Unknown\")"
   ]
  },
  {
   "cell_type": "code",
   "execution_count": 57,
   "id": "national-domestic",
   "metadata": {},
   "outputs": [
    {
     "data": {
      "text/plain": [
       "array(['F', 'M', 'Unknown'], dtype=object)"
      ]
     },
     "execution_count": 57,
     "metadata": {},
     "output_type": "execute_result"
    }
   ],
   "source": [
    "df.Sex.unique()"
   ]
  },
  {
   "cell_type": "markdown",
   "id": "addressed-miller",
   "metadata": {},
   "source": [
    "# Columna Age"
   ]
  },
  {
   "cell_type": "code",
   "execution_count": 58,
   "id": "dependent-inside",
   "metadata": {},
   "outputs": [
    {
     "data": {
      "text/plain": [
       "array(['57', '11', '48', 'Unknown', '18', '52', '15', '12', '32', '10',\n",
       "       '21', '34', '30', '60', '33', '29', '54', '41', '37', '56', '19',\n",
       "       '25', '69', '38', '55', '35', '46', '45', '14', '40', '28', '20',\n",
       "       '24', '26', '49', '22', '7', '31', '17', '13', '42', '3', '8',\n",
       "       '50', '16', '82', '73', '68', '51', '39', '58', 'Teen', '47', '61',\n",
       "       '65', '36', '66', '43', '9', '72', '59', '6', '27', '64', '23',\n",
       "       '71', '44', '62', '63', '70', '18 month', '53', 'teen', '77', '74',\n",
       "       '28 & 26', '5', '86', '18 or 20', '12 or 13', '46 & 34',\n",
       "       '28, 23 & 30', '36 & 26', '8 or 10', '84', '\\xa0 ', ' ',\n",
       "       '30 or 36', '6½', '21 & ?', '75', '33 or 37', 'mid-30', '23 & 20',\n",
       "       ' 30', '7      &    31', ' 28', '20?', \"60'\", '32 & 30',\n",
       "       '16 to 18', '87', '67', 'Elderly', 'mid-20', 'Ca. 33', '74 ',\n",
       "       '45 ', '21 or 26', '20 ', '>50', '18 to 22', 'adult', '9 & 12',\n",
       "       '? & 19', '9 month', '25 to 35', '23 & 26', '1', '(adult)',\n",
       "       '33 & 37', '25 or 28', '37, 67, 35, 27,  ? & 27', '21, 34,24 & 35',\n",
       "       '30 & 32', '50 & 30', '17 & 35', 'X', '\"middle-age\"', '13 or 18',\n",
       "       '34 & 19', '33 & 26', '2 to 3 month', 'MAKE LINE GREEN', ' 43',\n",
       "       '81', '\"young\"', '7 or 8', '78', '17 & 16', 'F', 'Both 11',\n",
       "       '9 or 10', 'young', '36 & 23', '  ', 'A.M', '?    &   14',\n",
       "       '10 or 12', '31 or 33', '2½', '13 or 14'], dtype=object)"
      ]
     },
     "execution_count": 58,
     "metadata": {},
     "output_type": "execute_result"
    }
   ],
   "source": [
    "df.Age.unique()"
   ]
  },
  {
   "cell_type": "code",
   "execution_count": 59,
   "id": "recent-garden",
   "metadata": {},
   "outputs": [],
   "source": [
    "df['Age'] = df['Age'].fillna('Unknown')"
   ]
  },
  {
   "cell_type": "code",
   "execution_count": 60,
   "id": "republican-novelty",
   "metadata": {},
   "outputs": [],
   "source": [
    "for i in df.Age:\n",
    "    if i.endswith('s'):\n",
    "        df['Age'] = df['Age'].str.rstrip('.s')\n",
    "    else:\n",
    "        pass\n"
   ]
  },
  {
   "cell_type": "code",
   "execution_count": 61,
   "id": "alternative-backing",
   "metadata": {},
   "outputs": [],
   "source": [
    "df.loc[df['Age'].str.contains('\\[a-z]+', regex=True, case=False), 'Age'] = 'Unknown'\n",
    "\n"
   ]
  },
  {
   "cell_type": "markdown",
   "id": "athletic-double",
   "metadata": {},
   "source": [
    "# Columna injury"
   ]
  },
  {
   "cell_type": "markdown",
   "id": "blind-ghana",
   "metadata": {},
   "source": [
    "No es la sección de la que estoy mas orgulloso, he ido aprendiendo lo de starts with y contain mientras lo hacía y se nota. Es un poco desorganizado pero n general lo que hago es quitar duplicados y agrupar por las repeticiones que voy viendo"
   ]
  },
  {
   "cell_type": "code",
   "execution_count": 62,
   "id": "celtic-astrology",
   "metadata": {},
   "outputs": [],
   "source": [
    "df['Injury'] = df['Injury'].fillna('Unknown')"
   ]
  },
  {
   "cell_type": "code",
   "execution_count": 63,
   "id": "refined-proportion",
   "metadata": {},
   "outputs": [],
   "source": [
    "df.loc[df['Injury'].str.contains('\\wo injury', regex=True, case=False), 'Injury'] = 'No injury'"
   ]
  },
  {
   "cell_type": "code",
   "execution_count": 64,
   "id": "automotive-ownership",
   "metadata": {},
   "outputs": [],
   "source": [
    "df.Injury=df.Injury.apply(lambda x: 'FATAL' if x.startswith(('Death', 'Dead')) else x)"
   ]
  },
  {
   "cell_type": "code",
   "execution_count": 65,
   "id": "outside-attendance",
   "metadata": {},
   "outputs": [],
   "source": [
    "df.loc[df['Injury'].str.contains('\\wrm', regex=True, case=False), 'Injury'] = 'Arm injury'"
   ]
  },
  {
   "cell_type": "code",
   "execution_count": 66,
   "id": "considered-extension",
   "metadata": {},
   "outputs": [],
   "source": [
    "df.loc[df['Injury'].str.contains('\\woot', regex=True, case=False), 'Injury'] = 'Leg injury'"
   ]
  },
  {
   "cell_type": "code",
   "execution_count": 67,
   "id": "olympic-manufacturer",
   "metadata": {},
   "outputs": [],
   "source": [
    "df.loc[df['Injury'].str.contains('\\weg', regex=True, case=False), 'Injury'] = 'Leg injury'"
   ]
  },
  {
   "cell_type": "code",
   "execution_count": 68,
   "id": "incredible-growing",
   "metadata": {},
   "outputs": [],
   "source": [
    "df.loc[df['Injury'].str.contains('\\wand', regex=True, case=False), 'Injury'] = 'Arm injury'"
   ]
  },
  {
   "cell_type": "code",
   "execution_count": 69,
   "id": "imported-surveillance",
   "metadata": {},
   "outputs": [],
   "source": [
    "df.loc[df['Injury'].str.contains('\\watal', regex=True, case=False), 'Injury'] = 'FATAL'"
   ]
  },
  {
   "cell_type": "code",
   "execution_count": 70,
   "id": "japanese-valuation",
   "metadata": {},
   "outputs": [],
   "source": [
    "df.loc[df['Injury'].str.contains('\\wit', regex=True, case=False), 'Injury'] = 'Bitten'"
   ]
  },
  {
   "cell_type": "code",
   "execution_count": 71,
   "id": "alternate-medicine",
   "metadata": {},
   "outputs": [],
   "source": [
    "df.loc[df['Injury'].str.contains('\\wuncture', regex=True, case=False), 'Injury'] = 'Puncture'"
   ]
  },
  {
   "cell_type": "code",
   "execution_count": 72,
   "id": "alleged-sleeping",
   "metadata": {},
   "outputs": [],
   "source": [
    "df.loc[df['Injury'].str.contains('\\waceration', regex=True, case=False), 'Injury'] = 'Laceration'"
   ]
  },
  {
   "cell_type": "code",
   "execution_count": 73,
   "id": "derived-terrain",
   "metadata": {},
   "outputs": [],
   "source": [
    "df.loc[df['Injury'].str.contains('\\winor', regex=True, case=False), 'Injury'] = 'Minor Injuries'"
   ]
  },
  {
   "cell_type": "code",
   "execution_count": 74,
   "id": "dimensional-amsterdam",
   "metadata": {},
   "outputs": [],
   "source": [
    "injury_lst = ['Unknown', 'Arm injury', 'No injury', 'Leg injury', 'Laceration', 'Minor Injuries', 'Puncture', 'Bitten', 'FATAL']"
   ]
  },
  {
   "cell_type": "code",
   "execution_count": 75,
   "id": "whole-scholar",
   "metadata": {},
   "outputs": [],
   "source": [
    "df.Injury=df.Injury.apply(lambda x: 'Unknown' if x not in injury_lst else x)"
   ]
  },
  {
   "cell_type": "code",
   "execution_count": 76,
   "id": "afraid-croatia",
   "metadata": {},
   "outputs": [
    {
     "data": {
      "text/plain": [
       "Leg injury        1618\n",
       "FATAL             1127\n",
       "Arm injury        1009\n",
       "No injury          804\n",
       "Unknown            791\n",
       "Bitten             549\n",
       "Laceration         239\n",
       "Minor Injuries      90\n",
       "Puncture            75\n",
       "Name: Injury, dtype: int64"
      ]
     },
     "execution_count": 76,
     "metadata": {},
     "output_type": "execute_result"
    }
   ],
   "source": [
    "#He optado por no agrupar los PROVOKED INCIDENT, ya que no da info sobre el injury\n",
    "#Si nos interesa esa info, creamos una nueva columna con un booleano yes/no\n",
    "df.Injury.value_counts()"
   ]
  },
  {
   "cell_type": "markdown",
   "id": "opening-virginia",
   "metadata": {},
   "source": [
    "# Columna fatal"
   ]
  },
  {
   "cell_type": "code",
   "execution_count": 77,
   "id": "frank-hopkins",
   "metadata": {},
   "outputs": [
    {
     "data": {
      "text/plain": [
       "array(['N', 'Y', 'Unknown'], dtype=object)"
      ]
     },
     "execution_count": 77,
     "metadata": {},
     "output_type": "execute_result"
    }
   ],
   "source": [
    "df.Fatal.unique()"
   ]
  },
  {
   "cell_type": "code",
   "execution_count": 78,
   "id": "married-scale",
   "metadata": {},
   "outputs": [],
   "source": [
    "df['Fatal'] = df['Fatal'].fillna('Unknown')"
   ]
  },
  {
   "cell_type": "code",
   "execution_count": 79,
   "id": "ignored-police",
   "metadata": {},
   "outputs": [],
   "source": [
    "df.Fatal=df.Fatal.replace(to_replace =(\" N\"), value =\"N\")"
   ]
  },
  {
   "cell_type": "code",
   "execution_count": 80,
   "id": "beneficial-basics",
   "metadata": {},
   "outputs": [],
   "source": [
    "df.Fatal=df.Fatal.replace(to_replace =(\"N \"), value =\"N\")"
   ]
  },
  {
   "cell_type": "code",
   "execution_count": 81,
   "id": "maritime-computer",
   "metadata": {},
   "outputs": [],
   "source": [
    "df.Fatal=df.Fatal.replace(to_replace =(\"y\"), value =\"Y\")"
   ]
  },
  {
   "cell_type": "code",
   "execution_count": 82,
   "id": "virtual-european",
   "metadata": {},
   "outputs": [],
   "source": [
    "df.Fatal=df.Fatal.replace(to_replace =(\"UNKNOWN\"), value =\"Unknown\")"
   ]
  },
  {
   "cell_type": "code",
   "execution_count": 83,
   "id": "identical-appearance",
   "metadata": {},
   "outputs": [],
   "source": [
    "df.Fatal=df.Fatal.replace(to_replace =(\"M\"), value =\"Unknown\")"
   ]
  },
  {
   "cell_type": "code",
   "execution_count": 84,
   "id": "spectacular-massage",
   "metadata": {},
   "outputs": [],
   "source": [
    "df.Fatal=df.Fatal.replace(to_replace =(\"2017\"), value =\"Unknown\")"
   ]
  },
  {
   "cell_type": "code",
   "execution_count": 85,
   "id": "constant-milton",
   "metadata": {},
   "outputs": [
    {
     "data": {
      "text/plain": [
       "array(['N', 'Y', 'Unknown'], dtype=object)"
      ]
     },
     "execution_count": 85,
     "metadata": {},
     "output_type": "execute_result"
    }
   ],
   "source": [
    "df.Fatal.unique()"
   ]
  },
  {
   "cell_type": "markdown",
   "id": "laughing-minutes",
   "metadata": {},
   "source": [
    "# Columna time"
   ]
  },
  {
   "cell_type": "code",
   "execution_count": 86,
   "id": "dirty-inspiration",
   "metadata": {},
   "outputs": [],
   "source": [
    "df['Time'] = df['Time'].fillna('Unknown')"
   ]
  },
  {
   "cell_type": "code",
   "execution_count": 87,
   "id": "focused-command",
   "metadata": {},
   "outputs": [],
   "source": [
    "#Empaqueto las horas en Morning, Afternoon, evening y night "
   ]
  },
  {
   "cell_type": "code",
   "execution_count": 88,
   "id": "compound-profession",
   "metadata": {},
   "outputs": [],
   "source": [
    "df.Time=df.Time.apply(lambda x: 'Morning' if x.startswith('06') else x)"
   ]
  },
  {
   "cell_type": "code",
   "execution_count": 89,
   "id": "disabled-parts",
   "metadata": {},
   "outputs": [],
   "source": [
    "df.Time=df.Time.apply(lambda x: 'Morning' if x.startswith('07') else x)"
   ]
  },
  {
   "cell_type": "code",
   "execution_count": 90,
   "id": "vocal-causing",
   "metadata": {},
   "outputs": [],
   "source": [
    "df.Time=df.Time.apply(lambda x: 'Morning' if x.startswith('08') else x)"
   ]
  },
  {
   "cell_type": "code",
   "execution_count": 91,
   "id": "outer-rhythm",
   "metadata": {},
   "outputs": [],
   "source": [
    "df.Time=df.Time.apply(lambda x: 'Morning' if x.startswith('8') else x)"
   ]
  },
  {
   "cell_type": "code",
   "execution_count": 92,
   "id": "willing-memorial",
   "metadata": {},
   "outputs": [],
   "source": [
    "df.Time=df.Time.apply(lambda x: 'Morning' if x.startswith('09') else x)"
   ]
  },
  {
   "cell_type": "code",
   "execution_count": 93,
   "id": "automatic-hardware",
   "metadata": {},
   "outputs": [],
   "source": [
    "df.Time=df.Time.apply(lambda x: 'Morning' if x.startswith('10') else x)"
   ]
  },
  {
   "cell_type": "code",
   "execution_count": 94,
   "id": "corresponding-writing",
   "metadata": {},
   "outputs": [],
   "source": [
    "df.Time=df.Time.apply(lambda x: 'Morning' if x.startswith('11') else x)"
   ]
  },
  {
   "cell_type": "code",
   "execution_count": 95,
   "id": "funded-paraguay",
   "metadata": {},
   "outputs": [],
   "source": [
    "df.Time=df.Time.apply(lambda x: 'Morning' if x.startswith('12') else x)"
   ]
  },
  {
   "cell_type": "code",
   "execution_count": 96,
   "id": "incident-philosophy",
   "metadata": {},
   "outputs": [],
   "source": [
    "df.Time=df.Time.apply(lambda x: 'Afternoon' if x.startswith('13') else x)"
   ]
  },
  {
   "cell_type": "code",
   "execution_count": 97,
   "id": "current-extension",
   "metadata": {},
   "outputs": [],
   "source": [
    "df.Time=df.Time.apply(lambda x: 'Afternoon' if x.startswith('14') else x)"
   ]
  },
  {
   "cell_type": "code",
   "execution_count": 98,
   "id": "widespread-finland",
   "metadata": {},
   "outputs": [],
   "source": [
    "df.Time=df.Time.apply(lambda x: 'Afternoon' if x.startswith('15') else x)"
   ]
  },
  {
   "cell_type": "code",
   "execution_count": 99,
   "id": "killing-milan",
   "metadata": {},
   "outputs": [],
   "source": [
    "df.Time=df.Time.apply(lambda x: 'Afternoon' if x.startswith('16') else x)"
   ]
  },
  {
   "cell_type": "code",
   "execution_count": 100,
   "id": "multiple-veteran",
   "metadata": {},
   "outputs": [],
   "source": [
    "df.Time=df.Time.apply(lambda x: 'Afternoon' if x.startswith('17') else x)"
   ]
  },
  {
   "cell_type": "code",
   "execution_count": 101,
   "id": "difficult-jaguar",
   "metadata": {},
   "outputs": [],
   "source": [
    "df.Time=df.Time.apply(lambda x: 'Evening' if x.startswith('18') else x)"
   ]
  },
  {
   "cell_type": "code",
   "execution_count": 102,
   "id": "chemical-telling",
   "metadata": {},
   "outputs": [],
   "source": [
    "df.Time=df.Time.apply(lambda x: 'Evening' if x.startswith('19') else x)"
   ]
  },
  {
   "cell_type": "code",
   "execution_count": 103,
   "id": "blessed-religious",
   "metadata": {},
   "outputs": [],
   "source": [
    "df.Time=df.Time.apply(lambda x: 'Evening' if x.startswith('20') else x)"
   ]
  },
  {
   "cell_type": "code",
   "execution_count": 104,
   "id": "dying-princess",
   "metadata": {},
   "outputs": [],
   "source": [
    "df.Time=df.Time.apply(lambda x: 'Evening' if x.startswith('21') else x)"
   ]
  },
  {
   "cell_type": "code",
   "execution_count": 105,
   "id": "continuing-prophet",
   "metadata": {},
   "outputs": [],
   "source": [
    "df.Time=df.Time.apply(lambda x: 'Night' if x.startswith('22') else x)"
   ]
  },
  {
   "cell_type": "code",
   "execution_count": 106,
   "id": "welsh-academy",
   "metadata": {},
   "outputs": [],
   "source": [
    "df.Time=df.Time.apply(lambda x: 'Night' if x.startswith('23') else x)"
   ]
  },
  {
   "cell_type": "code",
   "execution_count": 107,
   "id": "amended-thesaurus",
   "metadata": {},
   "outputs": [],
   "source": [
    "df.Time=df.Time.apply(lambda x: 'Night' if x.startswith('0') else x)"
   ]
  },
  {
   "cell_type": "code",
   "execution_count": 108,
   "id": "mounted-latitude",
   "metadata": {},
   "outputs": [],
   "source": [
    "df.loc[df['Time'].str.contains('\\wrning', regex=True, case=False), 'Time'] = 'Morning'"
   ]
  },
  {
   "cell_type": "code",
   "execution_count": 109,
   "id": "otherwise-draft",
   "metadata": {},
   "outputs": [],
   "source": [
    "df.loc[df['Time'].str.contains('\\wfternoon', regex=True, case=False), 'Time'] = 'Afternoon'"
   ]
  },
  {
   "cell_type": "code",
   "execution_count": 110,
   "id": "coral-brave",
   "metadata": {},
   "outputs": [],
   "source": [
    "df.loc[df['Time'].str.contains('\\wvening', regex=True, case=False), 'Time'] = 'Evening'"
   ]
  },
  {
   "cell_type": "code",
   "execution_count": 111,
   "id": "protecting-satin",
   "metadata": {},
   "outputs": [],
   "source": [
    "df.loc[df['Time'].str.contains('\\wight', regex=True, case=False), 'Time'] = 'Night'"
   ]
  },
  {
   "cell_type": "code",
   "execution_count": 112,
   "id": "compound-million",
   "metadata": {},
   "outputs": [],
   "source": [
    "df.loc[df['Time'].str.contains('\\woon', regex=True, case=False), 'Time'] = 'Afternoon'"
   ]
  },
  {
   "cell_type": "code",
   "execution_count": 113,
   "id": "crude-shape",
   "metadata": {},
   "outputs": [],
   "source": [
    "df.Time=df.Time.apply(lambda x: 'Morning' if x.startswith('Early morning') else x)"
   ]
  },
  {
   "cell_type": "code",
   "execution_count": 114,
   "id": "integrated-convertible",
   "metadata": {},
   "outputs": [],
   "source": [
    "df.Time=df.Time.apply(lambda x: 'Afternoon' if x.startswith('Early afternoon') else x)"
   ]
  },
  {
   "cell_type": "code",
   "execution_count": 115,
   "id": "accepting-utilization",
   "metadata": {},
   "outputs": [
    {
     "data": {
      "text/plain": [
       "Unknown      3466\n",
       "Afternoon    1350\n",
       "Morning      1107\n",
       "Evening       255\n",
       "Night         124\n",
       "Name: Time, dtype: int64"
      ]
     },
     "execution_count": 115,
     "metadata": {},
     "output_type": "execute_result"
    }
   ],
   "source": [
    "df.Time.value_counts()"
   ]
  },
  {
   "cell_type": "code",
   "execution_count": 116,
   "id": "royal-catalyst",
   "metadata": {},
   "outputs": [],
   "source": [
    "day_lst = ['Morning', 'Afternoon', 'Evening', 'Night', 'Unknown']"
   ]
  },
  {
   "cell_type": "code",
   "execution_count": 117,
   "id": "assumed-appearance",
   "metadata": {},
   "outputs": [],
   "source": [
    "df.Time=df.Time.apply(lambda x: 'Unknown' if x not in day_lst else x)"
   ]
  },
  {
   "cell_type": "code",
   "execution_count": 118,
   "id": "instant-disease",
   "metadata": {},
   "outputs": [
    {
     "data": {
      "text/plain": [
       "Unknown      3466\n",
       "Afternoon    1350\n",
       "Morning      1107\n",
       "Evening       255\n",
       "Night         124\n",
       "Name: Time, dtype: int64"
      ]
     },
     "execution_count": 118,
     "metadata": {},
     "output_type": "execute_result"
    }
   ],
   "source": [
    "df.Time.value_counts()"
   ]
  },
  {
   "cell_type": "code",
   "execution_count": 119,
   "id": "entire-sender",
   "metadata": {},
   "outputs": [
    {
     "data": {
      "text/html": [
       "<div>\n",
       "<style scoped>\n",
       "    .dataframe tbody tr th:only-of-type {\n",
       "        vertical-align: middle;\n",
       "    }\n",
       "\n",
       "    .dataframe tbody tr th {\n",
       "        vertical-align: top;\n",
       "    }\n",
       "\n",
       "    .dataframe thead th {\n",
       "        text-align: right;\n",
       "    }\n",
       "</style>\n",
       "<table border=\"1\" class=\"dataframe\">\n",
       "  <thead>\n",
       "    <tr style=\"text-align: right;\">\n",
       "      <th></th>\n",
       "      <th>Case_number</th>\n",
       "      <th>Date</th>\n",
       "      <th>Year</th>\n",
       "      <th>Type</th>\n",
       "      <th>Country</th>\n",
       "      <th>Area</th>\n",
       "      <th>Location</th>\n",
       "      <th>Activity</th>\n",
       "      <th>Name</th>\n",
       "      <th>Sex</th>\n",
       "      <th>...</th>\n",
       "      <th>Species</th>\n",
       "      <th>Investigator</th>\n",
       "      <th>pdf</th>\n",
       "      <th>href_formula</th>\n",
       "      <th>href</th>\n",
       "      <th>Case_n1</th>\n",
       "      <th>Case_n2</th>\n",
       "      <th>original_order</th>\n",
       "      <th>unnamed22</th>\n",
       "      <th>unnamed23</th>\n",
       "    </tr>\n",
       "  </thead>\n",
       "  <tbody>\n",
       "    <tr>\n",
       "      <th>0</th>\n",
       "      <td>2018.06.25</td>\n",
       "      <td>2018-06-25 00:00:00</td>\n",
       "      <td>2018</td>\n",
       "      <td>Boating</td>\n",
       "      <td>Usa</td>\n",
       "      <td>California</td>\n",
       "      <td>Oceanside, San Diego County</td>\n",
       "      <td>Unknown</td>\n",
       "      <td>Julie Wolfe</td>\n",
       "      <td>F</td>\n",
       "      <td>...</td>\n",
       "      <td>White shark</td>\n",
       "      <td>R. Collier, GSAF</td>\n",
       "      <td>2018.06.25-Wolfe.pdf</td>\n",
       "      <td>http://sharkattackfile.net/spreadsheets/pdf_di...</td>\n",
       "      <td>http://sharkattackfile.net/spreadsheets/pdf_di...</td>\n",
       "      <td>2018.06.25</td>\n",
       "      <td>2018.06.25</td>\n",
       "      <td>6303.0</td>\n",
       "      <td>unknown</td>\n",
       "      <td>unknown</td>\n",
       "    </tr>\n",
       "    <tr>\n",
       "      <th>1</th>\n",
       "      <td>2018.06.18</td>\n",
       "      <td>2018-06-18 00:00:00</td>\n",
       "      <td>2018</td>\n",
       "      <td>Unprovoked</td>\n",
       "      <td>Usa</td>\n",
       "      <td>Georgia</td>\n",
       "      <td>St. Simon Island, Glynn County</td>\n",
       "      <td>Unknown</td>\n",
       "      <td>Adyson McNeely</td>\n",
       "      <td>F</td>\n",
       "      <td>...</td>\n",
       "      <td>Unknown</td>\n",
       "      <td>K.McMurray, TrackingSharks.com</td>\n",
       "      <td>2018.06.18-McNeely.pdf</td>\n",
       "      <td>http://sharkattackfile.net/spreadsheets/pdf_di...</td>\n",
       "      <td>http://sharkattackfile.net/spreadsheets/pdf_di...</td>\n",
       "      <td>2018.06.18</td>\n",
       "      <td>2018.06.18</td>\n",
       "      <td>6302.0</td>\n",
       "      <td>unknown</td>\n",
       "      <td>unknown</td>\n",
       "    </tr>\n",
       "    <tr>\n",
       "      <th>2</th>\n",
       "      <td>2018.06.09</td>\n",
       "      <td>2018-06-09 00:00:00</td>\n",
       "      <td>2018</td>\n",
       "      <td>Invalid</td>\n",
       "      <td>Usa</td>\n",
       "      <td>Hawaii</td>\n",
       "      <td>Habush, Oahu</td>\n",
       "      <td>Surfing</td>\n",
       "      <td>John Denges</td>\n",
       "      <td>M</td>\n",
       "      <td>...</td>\n",
       "      <td>Unknown</td>\n",
       "      <td>K.McMurray, TrackingSharks.com</td>\n",
       "      <td>2018.06.09-Denges.pdf</td>\n",
       "      <td>http://sharkattackfile.net/spreadsheets/pdf_di...</td>\n",
       "      <td>http://sharkattackfile.net/spreadsheets/pdf_di...</td>\n",
       "      <td>2018.06.09</td>\n",
       "      <td>2018.06.09</td>\n",
       "      <td>6301.0</td>\n",
       "      <td>unknown</td>\n",
       "      <td>unknown</td>\n",
       "    </tr>\n",
       "    <tr>\n",
       "      <th>3</th>\n",
       "      <td>2018.06.08</td>\n",
       "      <td>2018-06-08 00:00:00</td>\n",
       "      <td>2018</td>\n",
       "      <td>Unprovoked</td>\n",
       "      <td>Australia</td>\n",
       "      <td>New South Wales</td>\n",
       "      <td>Arrawarra Headland</td>\n",
       "      <td>Surfing</td>\n",
       "      <td>Unknown</td>\n",
       "      <td>M</td>\n",
       "      <td>...</td>\n",
       "      <td>Unknown</td>\n",
       "      <td>B. Myatt, GSAF</td>\n",
       "      <td>2018.06.08-Arrawarra.pdf</td>\n",
       "      <td>http://sharkattackfile.net/spreadsheets/pdf_di...</td>\n",
       "      <td>http://sharkattackfile.net/spreadsheets/pdf_di...</td>\n",
       "      <td>2018.06.08</td>\n",
       "      <td>2018.06.08</td>\n",
       "      <td>6300.0</td>\n",
       "      <td>unknown</td>\n",
       "      <td>unknown</td>\n",
       "    </tr>\n",
       "    <tr>\n",
       "      <th>4</th>\n",
       "      <td>2018.06.04</td>\n",
       "      <td>2018-06-04 00:00:00</td>\n",
       "      <td>2018</td>\n",
       "      <td>Provoked</td>\n",
       "      <td>Mexico</td>\n",
       "      <td>Colima</td>\n",
       "      <td>La Ticla</td>\n",
       "      <td>Diving</td>\n",
       "      <td>Gustavo Ramos</td>\n",
       "      <td>M</td>\n",
       "      <td>...</td>\n",
       "      <td>Unknown</td>\n",
       "      <td>A .Kipper</td>\n",
       "      <td>2018.06.04-Ramos.pdf</td>\n",
       "      <td>http://sharkattackfile.net/spreadsheets/pdf_di...</td>\n",
       "      <td>http://sharkattackfile.net/spreadsheets/pdf_di...</td>\n",
       "      <td>2018.06.04</td>\n",
       "      <td>2018.06.04</td>\n",
       "      <td>6299.0</td>\n",
       "      <td>unknown</td>\n",
       "      <td>unknown</td>\n",
       "    </tr>\n",
       "  </tbody>\n",
       "</table>\n",
       "<p>5 rows × 24 columns</p>\n",
       "</div>"
      ],
      "text/plain": [
       "  Case_number                 Date  Year        Type    Country  \\\n",
       "0  2018.06.25  2018-06-25 00:00:00  2018     Boating        Usa   \n",
       "1  2018.06.18  2018-06-18 00:00:00  2018  Unprovoked        Usa   \n",
       "2  2018.06.09  2018-06-09 00:00:00  2018     Invalid        Usa   \n",
       "3  2018.06.08  2018-06-08 00:00:00  2018  Unprovoked  Australia   \n",
       "4  2018.06.04  2018-06-04 00:00:00  2018    Provoked     Mexico   \n",
       "\n",
       "              Area                        Location Activity             Name  \\\n",
       "0       California     Oceanside, San Diego County  Unknown      Julie Wolfe   \n",
       "1          Georgia  St. Simon Island, Glynn County  Unknown  Adyson McNeely    \n",
       "2           Hawaii                    Habush, Oahu  Surfing      John Denges   \n",
       "3  New South Wales              Arrawarra Headland  Surfing          Unknown   \n",
       "4           Colima                        La Ticla   Diving   Gustavo Ramos    \n",
       "\n",
       "  Sex  ...      Species                    Investigator  \\\n",
       "0   F  ...  White shark                R. Collier, GSAF   \n",
       "1   F  ...      Unknown  K.McMurray, TrackingSharks.com   \n",
       "2   M  ...      Unknown  K.McMurray, TrackingSharks.com   \n",
       "3   M  ...      Unknown                  B. Myatt, GSAF   \n",
       "4   M  ...      Unknown                       A .Kipper   \n",
       "\n",
       "                        pdf  \\\n",
       "0      2018.06.25-Wolfe.pdf   \n",
       "1    2018.06.18-McNeely.pdf   \n",
       "2     2018.06.09-Denges.pdf   \n",
       "3  2018.06.08-Arrawarra.pdf   \n",
       "4      2018.06.04-Ramos.pdf   \n",
       "\n",
       "                                        href_formula  \\\n",
       "0  http://sharkattackfile.net/spreadsheets/pdf_di...   \n",
       "1  http://sharkattackfile.net/spreadsheets/pdf_di...   \n",
       "2  http://sharkattackfile.net/spreadsheets/pdf_di...   \n",
       "3  http://sharkattackfile.net/spreadsheets/pdf_di...   \n",
       "4  http://sharkattackfile.net/spreadsheets/pdf_di...   \n",
       "\n",
       "                                                href     Case_n1     Case_n2  \\\n",
       "0  http://sharkattackfile.net/spreadsheets/pdf_di...  2018.06.25  2018.06.25   \n",
       "1  http://sharkattackfile.net/spreadsheets/pdf_di...  2018.06.18  2018.06.18   \n",
       "2  http://sharkattackfile.net/spreadsheets/pdf_di...  2018.06.09  2018.06.09   \n",
       "3  http://sharkattackfile.net/spreadsheets/pdf_di...  2018.06.08  2018.06.08   \n",
       "4  http://sharkattackfile.net/spreadsheets/pdf_di...  2018.06.04  2018.06.04   \n",
       "\n",
       "  original_order unnamed22 unnamed23  \n",
       "0         6303.0   unknown   unknown  \n",
       "1         6302.0   unknown   unknown  \n",
       "2         6301.0   unknown   unknown  \n",
       "3         6300.0   unknown   unknown  \n",
       "4         6299.0   unknown   unknown  \n",
       "\n",
       "[5 rows x 24 columns]"
      ]
     },
     "execution_count": 119,
     "metadata": {},
     "output_type": "execute_result"
    }
   ],
   "source": [
    "df.head()"
   ]
  },
  {
   "cell_type": "markdown",
   "id": "elementary-banana",
   "metadata": {},
   "source": [
    "# Columna especies"
   ]
  },
  {
   "cell_type": "code",
   "execution_count": 120,
   "id": "cognitive-bailey",
   "metadata": {},
   "outputs": [
    {
     "data": {
      "text/plain": [
       "array(['White shark', 'Unknown', 'Tiger shark', 'Bull shark',\n",
       "       'Nurse shark', 'Undifined Small shark', 'Undifined Large shark'],\n",
       "      dtype=object)"
      ]
     },
     "execution_count": 120,
     "metadata": {},
     "output_type": "execute_result"
    }
   ],
   "source": [
    "df.Species.unique()"
   ]
  },
  {
   "cell_type": "code",
   "execution_count": 121,
   "id": "expanded-circular",
   "metadata": {},
   "outputs": [],
   "source": [
    "df['Species'] = df['Species'].fillna('Unknown')"
   ]
  },
  {
   "cell_type": "code",
   "execution_count": 122,
   "id": "chronic-classification",
   "metadata": {},
   "outputs": [],
   "source": [
    "###Primero separamos por razas principales"
   ]
  },
  {
   "cell_type": "code",
   "execution_count": 123,
   "id": "ultimate-strike",
   "metadata": {},
   "outputs": [],
   "source": [
    "df.loc[df['Species'].str.contains('\\white', regex=True, case=False), 'Species'] = 'White shark'"
   ]
  },
  {
   "cell_type": "code",
   "execution_count": 124,
   "id": "elementary-plymouth",
   "metadata": {},
   "outputs": [],
   "source": [
    "df.loc[df['Species'].str.contains('\\wull', regex=True, case=False), 'Species'] = 'Bull shark'"
   ]
  },
  {
   "cell_type": "code",
   "execution_count": 125,
   "id": "postal-biology",
   "metadata": {},
   "outputs": [],
   "source": [
    "df.loc[df['Species'].str.contains('\\witer', regex=True, case=False), 'Species'] = 'Tiger shark'"
   ]
  },
  {
   "cell_type": "code",
   "execution_count": 126,
   "id": "cultural-trinidad",
   "metadata": {},
   "outputs": [],
   "source": [
    "df.loc[df['Species'].str.contains('\\rey', regex=True, case=False), 'Species'] = 'Grey shark'"
   ]
  },
  {
   "cell_type": "code",
   "execution_count": 127,
   "id": "partial-bachelor",
   "metadata": {},
   "outputs": [],
   "source": [
    "df.loc[df['Species'].str.contains('\\wurse', regex=True, case=False), 'Species'] = 'Nurse shark'"
   ]
  },
  {
   "cell_type": "code",
   "execution_count": 128,
   "id": "exciting-movie",
   "metadata": {},
   "outputs": [],
   "source": [
    "###Si no sabemos raza, vamos por tamaño aunque sea indefinido el tipo de tiburón"
   ]
  },
  {
   "cell_type": "code",
   "execution_count": 129,
   "id": "exempt-classics",
   "metadata": {},
   "outputs": [],
   "source": [
    "df.loc[df['Species'].str.contains('\\warge', regex=True, case=False), 'Species'] = 'Undifined Large shark'"
   ]
  },
  {
   "cell_type": "code",
   "execution_count": 130,
   "id": "fatal-james",
   "metadata": {},
   "outputs": [],
   "source": [
    "df.loc[df['Species'].str.contains('\\wmall', regex=True, case=False), 'Species'] = 'Undifined Small shark'"
   ]
  },
  {
   "cell_type": "code",
   "execution_count": 131,
   "id": "direct-identifier",
   "metadata": {},
   "outputs": [],
   "source": [
    "shark_lst= ['White shark', 'Bull shark', 'Tiger shark', 'Grey shark', 'Nurse shark', 'Undifined Large shark', 'Undifined Small shark']"
   ]
  },
  {
   "cell_type": "code",
   "execution_count": 132,
   "id": "expired-assessment",
   "metadata": {},
   "outputs": [],
   "source": [
    "df.Species=df.Species.apply(lambda x: 'Unknown' if x not in shark_lst else x)"
   ]
  },
  {
   "cell_type": "code",
   "execution_count": 133,
   "id": "consolidated-subscription",
   "metadata": {},
   "outputs": [
    {
     "data": {
      "text/plain": [
       "Unknown                  5195\n",
       "White shark               667\n",
       "Bull shark                186\n",
       "Nurse shark                97\n",
       "Undifined Small shark      76\n",
       "Tiger shark                73\n",
       "Undifined Large shark       8\n",
       "Name: Species, dtype: int64"
      ]
     },
     "execution_count": 133,
     "metadata": {},
     "output_type": "execute_result"
    }
   ],
   "source": [
    "df.Species.value_counts()"
   ]
  },
  {
   "cell_type": "markdown",
   "id": "pressing-business",
   "metadata": {},
   "source": [
    "# Columna investigador"
   ]
  },
  {
   "cell_type": "code",
   "execution_count": 134,
   "id": "seventh-geneva",
   "metadata": {},
   "outputs": [
    {
     "data": {
      "text/plain": [
       "array(['R. Collier, GSAF', 'K.McMurray, TrackingSharks.com',\n",
       "       'B. Myatt, GSAF', ..., 'F. Schwartz, p.23; C. Creswell, GSAF',\n",
       "       'The Sun, 10/20/1938', 'S.W. Baker'], dtype=object)"
      ]
     },
     "execution_count": 134,
     "metadata": {},
     "output_type": "execute_result"
    }
   ],
   "source": [
    "df.Investigator.unique()"
   ]
  },
  {
   "cell_type": "code",
   "execution_count": 135,
   "id": "interracial-connectivity",
   "metadata": {},
   "outputs": [],
   "source": [
    "df['Investigator'] = df['Investigator'].fillna('Unknown')"
   ]
  },
  {
   "cell_type": "markdown",
   "id": "hollow-vintage",
   "metadata": {},
   "source": [
    "# Columnas PDF, Href1 y Href2"
   ]
  },
  {
   "cell_type": "code",
   "execution_count": 136,
   "id": "laughing-leone",
   "metadata": {},
   "outputs": [],
   "source": [
    "df['pdf'] = df['pdf'].fillna('No pdf')"
   ]
  },
  {
   "cell_type": "code",
   "execution_count": 137,
   "id": "ranking-victim",
   "metadata": {},
   "outputs": [],
   "source": [
    "df['href_formula'] = df['href_formula'].fillna('No link')"
   ]
  },
  {
   "cell_type": "code",
   "execution_count": 138,
   "id": "manufactured-prophet",
   "metadata": {},
   "outputs": [],
   "source": [
    "df['href'] = df['href'].fillna('No link')"
   ]
  },
  {
   "cell_type": "code",
   "execution_count": 139,
   "id": "vital-discharge",
   "metadata": {},
   "outputs": [
    {
     "data": {
      "text/plain": [
       "Series([], dtype: int64)"
      ]
     },
     "execution_count": 139,
     "metadata": {},
     "output_type": "execute_result"
    }
   ],
   "source": [
    "nan_cols=df.isna().sum()\n",
    "\n",
    "nan_cols[nan_cols>0]"
   ]
  },
  {
   "cell_type": "markdown",
   "id": "collective-deadline",
   "metadata": {},
   "source": [
    "# Columnas case_n1 y case_n2"
   ]
  },
  {
   "cell_type": "code",
   "execution_count": 140,
   "id": "intensive-regard",
   "metadata": {},
   "outputs": [
    {
     "data": {
      "text/plain": [
       "0       2018.06.25\n",
       "1       2018.06.18\n",
       "2       2018.06.09\n",
       "3       2018.06.08\n",
       "4       2018.06.04\n",
       "           ...    \n",
       "6297       ND.0005\n",
       "6298       ND.0004\n",
       "6299       ND.0003\n",
       "6300       ND.0002\n",
       "6301       ND.0001\n",
       "Name: Case_n1, Length: 6302, dtype: object"
      ]
     },
     "execution_count": 140,
     "metadata": {},
     "output_type": "execute_result"
    }
   ],
   "source": [
    "df.Case_n1"
   ]
  },
  {
   "cell_type": "code",
   "execution_count": 141,
   "id": "signal-murray",
   "metadata": {},
   "outputs": [],
   "source": [
    "for i in df.Case_n1:\n",
    "    if i.endswith('a'):\n",
    "        df['Case_n1'] = df['Case_n1'].str.rstrip('.a')\n",
    "    elif i.endswith('b'):\n",
    "        df['Case_n1'] = df['Case_n1'].str.rstrip('.b')\n",
    "    elif i.endswith('c'):\n",
    "        df['Case_n1'] = df['Case_n1'].str.rstrip('.c')\n",
    "    elif i.endswith('d'):\n",
    "        df['Case_n1'] = df['Case_n1'].str.rstrip('.d')\n",
    "    elif i.endswith('R'):\n",
    "        df['Case_n1'] = df['Case_n1'].str.rstrip('.R')\n",
    "    else:\n",
    "        pass"
   ]
  },
  {
   "cell_type": "code",
   "execution_count": 142,
   "id": "moved-contract",
   "metadata": {},
   "outputs": [],
   "source": [
    "for i in df.Case_n1:\n",
    "    if i.endswith('a'):\n",
    "        df['Case_n2'] = df['Case_n2'].str.rstrip('.a')\n",
    "    elif i.endswith('b'):\n",
    "        df['Case_n2'] = df['Case_n2'].str.rstrip('.b')\n",
    "    elif i.endswith('c'):\n",
    "        df['Case_n2'] = df['Case_n2'].str.rstrip('.c')\n",
    "    elif i.endswith('d'):\n",
    "        df['Case_n2'] = df['Case_n2'].str.rstrip('.d')\n",
    "    elif i.endswith('R'):\n",
    "        df['Case_n2'] = df['Case_n2'].str.rstrip('.R')\n",
    "    else:\n",
    "        pass"
   ]
  },
  {
   "cell_type": "markdown",
   "id": "fitted-layout",
   "metadata": {},
   "source": [
    "# Columnas unamed, Case_number y original order\n"
   ]
  },
  {
   "cell_type": "code",
   "execution_count": 143,
   "id": "unique-grounds",
   "metadata": {},
   "outputs": [],
   "source": [
    "df['unnamed22'] = df['unnamed22'].fillna('unknown')"
   ]
  },
  {
   "cell_type": "code",
   "execution_count": 144,
   "id": "loaded-prevention",
   "metadata": {},
   "outputs": [],
   "source": [
    "df['unnamed23'] = df['unnamed23'].fillna('unknown')"
   ]
  },
  {
   "cell_type": "code",
   "execution_count": 145,
   "id": "cheap-heritage",
   "metadata": {},
   "outputs": [],
   "source": [
    "df['Case_number'] = df['Case_number'].fillna('unknown')"
   ]
  },
  {
   "cell_type": "code",
   "execution_count": 146,
   "id": "caring-discharge",
   "metadata": {},
   "outputs": [],
   "source": [
    "df.original_order=df.original_order.astype(dtype='str')"
   ]
  },
  {
   "cell_type": "code",
   "execution_count": 147,
   "id": "determined-stamp",
   "metadata": {},
   "outputs": [],
   "source": [
    "df['original_order'] = df['original_order'].str.rstrip('.0')"
   ]
  },
  {
   "cell_type": "code",
   "execution_count": 148,
   "id": "dressed-warren",
   "metadata": {},
   "outputs": [
    {
     "data": {
      "text/html": [
       "<div>\n",
       "<style scoped>\n",
       "    .dataframe tbody tr th:only-of-type {\n",
       "        vertical-align: middle;\n",
       "    }\n",
       "\n",
       "    .dataframe tbody tr th {\n",
       "        vertical-align: top;\n",
       "    }\n",
       "\n",
       "    .dataframe thead th {\n",
       "        text-align: right;\n",
       "    }\n",
       "</style>\n",
       "<table border=\"1\" class=\"dataframe\">\n",
       "  <thead>\n",
       "    <tr style=\"text-align: right;\">\n",
       "      <th></th>\n",
       "      <th>Case_number</th>\n",
       "      <th>Date</th>\n",
       "      <th>Year</th>\n",
       "      <th>Type</th>\n",
       "      <th>Country</th>\n",
       "      <th>Area</th>\n",
       "      <th>Location</th>\n",
       "      <th>Activity</th>\n",
       "      <th>Name</th>\n",
       "      <th>Sex</th>\n",
       "      <th>...</th>\n",
       "      <th>Species</th>\n",
       "      <th>Investigator</th>\n",
       "      <th>pdf</th>\n",
       "      <th>href_formula</th>\n",
       "      <th>href</th>\n",
       "      <th>Case_n1</th>\n",
       "      <th>Case_n2</th>\n",
       "      <th>original_order</th>\n",
       "      <th>unnamed22</th>\n",
       "      <th>unnamed23</th>\n",
       "    </tr>\n",
       "  </thead>\n",
       "  <tbody>\n",
       "    <tr>\n",
       "      <th>0</th>\n",
       "      <td>2018.06.25</td>\n",
       "      <td>2018-06-25 00:00:00</td>\n",
       "      <td>2018</td>\n",
       "      <td>Boating</td>\n",
       "      <td>Usa</td>\n",
       "      <td>California</td>\n",
       "      <td>Oceanside, San Diego County</td>\n",
       "      <td>Unknown</td>\n",
       "      <td>Julie Wolfe</td>\n",
       "      <td>F</td>\n",
       "      <td>...</td>\n",
       "      <td>White shark</td>\n",
       "      <td>R. Collier, GSAF</td>\n",
       "      <td>2018.06.25-Wolfe.pdf</td>\n",
       "      <td>http://sharkattackfile.net/spreadsheets/pdf_di...</td>\n",
       "      <td>http://sharkattackfile.net/spreadsheets/pdf_di...</td>\n",
       "      <td>2018.06.25</td>\n",
       "      <td>2018.06.25</td>\n",
       "      <td>6303</td>\n",
       "      <td>unknown</td>\n",
       "      <td>unknown</td>\n",
       "    </tr>\n",
       "    <tr>\n",
       "      <th>1</th>\n",
       "      <td>2018.06.18</td>\n",
       "      <td>2018-06-18 00:00:00</td>\n",
       "      <td>2018</td>\n",
       "      <td>Unprovoked</td>\n",
       "      <td>Usa</td>\n",
       "      <td>Georgia</td>\n",
       "      <td>St. Simon Island, Glynn County</td>\n",
       "      <td>Unknown</td>\n",
       "      <td>Adyson McNeely</td>\n",
       "      <td>F</td>\n",
       "      <td>...</td>\n",
       "      <td>Unknown</td>\n",
       "      <td>K.McMurray, TrackingSharks.com</td>\n",
       "      <td>2018.06.18-McNeely.pdf</td>\n",
       "      <td>http://sharkattackfile.net/spreadsheets/pdf_di...</td>\n",
       "      <td>http://sharkattackfile.net/spreadsheets/pdf_di...</td>\n",
       "      <td>2018.06.18</td>\n",
       "      <td>2018.06.18</td>\n",
       "      <td>6302</td>\n",
       "      <td>unknown</td>\n",
       "      <td>unknown</td>\n",
       "    </tr>\n",
       "    <tr>\n",
       "      <th>2</th>\n",
       "      <td>2018.06.09</td>\n",
       "      <td>2018-06-09 00:00:00</td>\n",
       "      <td>2018</td>\n",
       "      <td>Invalid</td>\n",
       "      <td>Usa</td>\n",
       "      <td>Hawaii</td>\n",
       "      <td>Habush, Oahu</td>\n",
       "      <td>Surfing</td>\n",
       "      <td>John Denges</td>\n",
       "      <td>M</td>\n",
       "      <td>...</td>\n",
       "      <td>Unknown</td>\n",
       "      <td>K.McMurray, TrackingSharks.com</td>\n",
       "      <td>2018.06.09-Denges.pdf</td>\n",
       "      <td>http://sharkattackfile.net/spreadsheets/pdf_di...</td>\n",
       "      <td>http://sharkattackfile.net/spreadsheets/pdf_di...</td>\n",
       "      <td>2018.06.09</td>\n",
       "      <td>2018.06.09</td>\n",
       "      <td>6301</td>\n",
       "      <td>unknown</td>\n",
       "      <td>unknown</td>\n",
       "    </tr>\n",
       "    <tr>\n",
       "      <th>3</th>\n",
       "      <td>2018.06.08</td>\n",
       "      <td>2018-06-08 00:00:00</td>\n",
       "      <td>2018</td>\n",
       "      <td>Unprovoked</td>\n",
       "      <td>Australia</td>\n",
       "      <td>New South Wales</td>\n",
       "      <td>Arrawarra Headland</td>\n",
       "      <td>Surfing</td>\n",
       "      <td>Unknown</td>\n",
       "      <td>M</td>\n",
       "      <td>...</td>\n",
       "      <td>Unknown</td>\n",
       "      <td>B. Myatt, GSAF</td>\n",
       "      <td>2018.06.08-Arrawarra.pdf</td>\n",
       "      <td>http://sharkattackfile.net/spreadsheets/pdf_di...</td>\n",
       "      <td>http://sharkattackfile.net/spreadsheets/pdf_di...</td>\n",
       "      <td>2018.06.08</td>\n",
       "      <td>2018.06.08</td>\n",
       "      <td>63</td>\n",
       "      <td>unknown</td>\n",
       "      <td>unknown</td>\n",
       "    </tr>\n",
       "    <tr>\n",
       "      <th>4</th>\n",
       "      <td>2018.06.04</td>\n",
       "      <td>2018-06-04 00:00:00</td>\n",
       "      <td>2018</td>\n",
       "      <td>Provoked</td>\n",
       "      <td>Mexico</td>\n",
       "      <td>Colima</td>\n",
       "      <td>La Ticla</td>\n",
       "      <td>Diving</td>\n",
       "      <td>Gustavo Ramos</td>\n",
       "      <td>M</td>\n",
       "      <td>...</td>\n",
       "      <td>Unknown</td>\n",
       "      <td>A .Kipper</td>\n",
       "      <td>2018.06.04-Ramos.pdf</td>\n",
       "      <td>http://sharkattackfile.net/spreadsheets/pdf_di...</td>\n",
       "      <td>http://sharkattackfile.net/spreadsheets/pdf_di...</td>\n",
       "      <td>2018.06.04</td>\n",
       "      <td>2018.06.04</td>\n",
       "      <td>6299</td>\n",
       "      <td>unknown</td>\n",
       "      <td>unknown</td>\n",
       "    </tr>\n",
       "  </tbody>\n",
       "</table>\n",
       "<p>5 rows × 24 columns</p>\n",
       "</div>"
      ],
      "text/plain": [
       "  Case_number                 Date  Year        Type    Country  \\\n",
       "0  2018.06.25  2018-06-25 00:00:00  2018     Boating        Usa   \n",
       "1  2018.06.18  2018-06-18 00:00:00  2018  Unprovoked        Usa   \n",
       "2  2018.06.09  2018-06-09 00:00:00  2018     Invalid        Usa   \n",
       "3  2018.06.08  2018-06-08 00:00:00  2018  Unprovoked  Australia   \n",
       "4  2018.06.04  2018-06-04 00:00:00  2018    Provoked     Mexico   \n",
       "\n",
       "              Area                        Location Activity             Name  \\\n",
       "0       California     Oceanside, San Diego County  Unknown      Julie Wolfe   \n",
       "1          Georgia  St. Simon Island, Glynn County  Unknown  Adyson McNeely    \n",
       "2           Hawaii                    Habush, Oahu  Surfing      John Denges   \n",
       "3  New South Wales              Arrawarra Headland  Surfing          Unknown   \n",
       "4           Colima                        La Ticla   Diving   Gustavo Ramos    \n",
       "\n",
       "  Sex  ...      Species                    Investigator  \\\n",
       "0   F  ...  White shark                R. Collier, GSAF   \n",
       "1   F  ...      Unknown  K.McMurray, TrackingSharks.com   \n",
       "2   M  ...      Unknown  K.McMurray, TrackingSharks.com   \n",
       "3   M  ...      Unknown                  B. Myatt, GSAF   \n",
       "4   M  ...      Unknown                       A .Kipper   \n",
       "\n",
       "                        pdf  \\\n",
       "0      2018.06.25-Wolfe.pdf   \n",
       "1    2018.06.18-McNeely.pdf   \n",
       "2     2018.06.09-Denges.pdf   \n",
       "3  2018.06.08-Arrawarra.pdf   \n",
       "4      2018.06.04-Ramos.pdf   \n",
       "\n",
       "                                        href_formula  \\\n",
       "0  http://sharkattackfile.net/spreadsheets/pdf_di...   \n",
       "1  http://sharkattackfile.net/spreadsheets/pdf_di...   \n",
       "2  http://sharkattackfile.net/spreadsheets/pdf_di...   \n",
       "3  http://sharkattackfile.net/spreadsheets/pdf_di...   \n",
       "4  http://sharkattackfile.net/spreadsheets/pdf_di...   \n",
       "\n",
       "                                                href     Case_n1     Case_n2  \\\n",
       "0  http://sharkattackfile.net/spreadsheets/pdf_di...  2018.06.25  2018.06.25   \n",
       "1  http://sharkattackfile.net/spreadsheets/pdf_di...  2018.06.18  2018.06.18   \n",
       "2  http://sharkattackfile.net/spreadsheets/pdf_di...  2018.06.09  2018.06.09   \n",
       "3  http://sharkattackfile.net/spreadsheets/pdf_di...  2018.06.08  2018.06.08   \n",
       "4  http://sharkattackfile.net/spreadsheets/pdf_di...  2018.06.04  2018.06.04   \n",
       "\n",
       "  original_order unnamed22 unnamed23  \n",
       "0           6303   unknown   unknown  \n",
       "1           6302   unknown   unknown  \n",
       "2           6301   unknown   unknown  \n",
       "3             63   unknown   unknown  \n",
       "4           6299   unknown   unknown  \n",
       "\n",
       "[5 rows x 24 columns]"
      ]
     },
     "execution_count": 148,
     "metadata": {},
     "output_type": "execute_result"
    }
   ],
   "source": [
    "df.head()"
   ]
  },
  {
   "cell_type": "markdown",
   "id": "comprehensive-welding",
   "metadata": {},
   "source": [
    "# Las check"
   ]
  },
  {
   "cell_type": "code",
   "execution_count": 149,
   "id": "constant-lambda",
   "metadata": {},
   "outputs": [
    {
     "data": {
      "text/plain": [
       "Series([], dtype: int64)"
      ]
     },
     "execution_count": 149,
     "metadata": {},
     "output_type": "execute_result"
    }
   ],
   "source": [
    "nan_cols=df.isna().sum()\n",
    "\n",
    "nan_cols[nan_cols>0]"
   ]
  },
  {
   "cell_type": "code",
   "execution_count": 150,
   "id": "painted-radius",
   "metadata": {},
   "outputs": [
    {
     "data": {
      "text/plain": [
       "<bound method DataFrame.info of      Case_number                 Date     Year        Type  \\\n",
       "0     2018.06.25  2018-06-25 00:00:00     2018     Boating   \n",
       "1     2018.06.18  2018-06-18 00:00:00     2018  Unprovoked   \n",
       "2     2018.06.09  2018-06-09 00:00:00     2018     Invalid   \n",
       "3     2018.06.08  2018-06-08 00:00:00     2018  Unprovoked   \n",
       "4     2018.06.04  2018-06-04 00:00:00     2018    Provoked   \n",
       "...          ...                  ...      ...         ...   \n",
       "6297     ND.0005              Unknown  Unknown  Unprovoked   \n",
       "6298     ND.0004              Unknown  Unknown  Unprovoked   \n",
       "6299     ND.0003              Unknown  Unknown  Unprovoked   \n",
       "6300     ND.0002              Unknown  Unknown  Unprovoked   \n",
       "6301     ND.0001              Unknown  Unknown  Unprovoked   \n",
       "\n",
       "                 Country               Area  \\\n",
       "0                    Usa         California   \n",
       "1                    Usa            Georgia   \n",
       "2                    Usa             Hawaii   \n",
       "3              Australia    New South Wales   \n",
       "4                 Mexico             Colima   \n",
       "...                  ...                ...   \n",
       "6297           Australia  Western Australia   \n",
       "6298           Australia  Western Australia   \n",
       "6299                 Usa     North Carolina   \n",
       "6300              Panama            Unknown   \n",
       "6301  Ceylon (sri lanka)   Eastern Province   \n",
       "\n",
       "                                 Location  Activity                   Name  \\\n",
       "0             Oceanside, San Diego County   Unknown            Julie Wolfe   \n",
       "1          St. Simon Island, Glynn County   Unknown        Adyson McNeely    \n",
       "2                            Habush, Oahu   Surfing            John Denges   \n",
       "3                      Arrawarra Headland   Surfing                Unknown   \n",
       "4                                La Ticla    Diving         Gustavo Ramos    \n",
       "...                                   ...       ...                    ...   \n",
       "6297                          Roebuck Bay    Diving                Unknown   \n",
       "6298                              Unknown    Diving                  Ahmun   \n",
       "6299                       Ocracoke Inlet  Swimming  Coast Guard personnel   \n",
       "6300                 Panama Bay 8ºN, 79ºW   Unknown        Jules Patterson   \n",
       "6301  Below the English fort, Trincomalee  Swimming                Unknown   \n",
       "\n",
       "     Sex  ...      Species                           Investigator  \\\n",
       "0      F  ...  White shark                       R. Collier, GSAF   \n",
       "1      F  ...      Unknown         K.McMurray, TrackingSharks.com   \n",
       "2      M  ...      Unknown         K.McMurray, TrackingSharks.com   \n",
       "3      M  ...      Unknown                         B. Myatt, GSAF   \n",
       "4      M  ...      Unknown                              A .Kipper   \n",
       "...   ..  ...          ...                                    ...   \n",
       "6297   M  ...      Unknown       H. Taunton; N. Bartlett,  p. 234   \n",
       "6298   M  ...      Unknown  H. Taunton; N. Bartlett,  pp. 233-234   \n",
       "6299   M  ...      Unknown   F. Schwartz, p.23; C. Creswell, GSAF   \n",
       "6300   M  ...      Unknown                    The Sun, 10/20/1938   \n",
       "6301   M  ...      Unknown                             S.W. Baker   \n",
       "\n",
       "                                 pdf  \\\n",
       "0               2018.06.25-Wolfe.pdf   \n",
       "1             2018.06.18-McNeely.pdf   \n",
       "2              2018.06.09-Denges.pdf   \n",
       "3           2018.06.08-Arrawarra.pdf   \n",
       "4               2018.06.04-Ramos.pdf   \n",
       "...                              ...   \n",
       "6297          ND-0005-RoebuckBay.pdf   \n",
       "6298               ND-0004-Ahmun.pdf   \n",
       "6299  ND-0003-Ocracoke_1900-1905.pdf   \n",
       "6300      ND-0002-JulesPatterson.pdf   \n",
       "6301              ND-0001-Ceylon.pdf   \n",
       "\n",
       "                                           href_formula  \\\n",
       "0     http://sharkattackfile.net/spreadsheets/pdf_di...   \n",
       "1     http://sharkattackfile.net/spreadsheets/pdf_di...   \n",
       "2     http://sharkattackfile.net/spreadsheets/pdf_di...   \n",
       "3     http://sharkattackfile.net/spreadsheets/pdf_di...   \n",
       "4     http://sharkattackfile.net/spreadsheets/pdf_di...   \n",
       "...                                                 ...   \n",
       "6297  http://sharkattackfile.net/spreadsheets/pdf_di...   \n",
       "6298  http://sharkattackfile.net/spreadsheets/pdf_di...   \n",
       "6299  http://sharkattackfile.net/spreadsheets/pdf_di...   \n",
       "6300  http://sharkattackfile.net/spreadsheets/pdf_di...   \n",
       "6301  http://sharkattackfile.net/spreadsheets/pdf_di...   \n",
       "\n",
       "                                                   href     Case_n1  \\\n",
       "0     http://sharkattackfile.net/spreadsheets/pdf_di...  2018.06.25   \n",
       "1     http://sharkattackfile.net/spreadsheets/pdf_di...  2018.06.18   \n",
       "2     http://sharkattackfile.net/spreadsheets/pdf_di...  2018.06.09   \n",
       "3     http://sharkattackfile.net/spreadsheets/pdf_di...  2018.06.08   \n",
       "4     http://sharkattackfile.net/spreadsheets/pdf_di...  2018.06.04   \n",
       "...                                                 ...         ...   \n",
       "6297  http://sharkattackfile.net/spreadsheets/pdf_di...     ND.0005   \n",
       "6298  http://sharkattackfile.net/spreadsheets/pdf_di...     ND.0004   \n",
       "6299  http://sharkattackfile.net/spreadsheets/pdf_di...     ND.0003   \n",
       "6300  http://sharkattackfile.net/spreadsheets/pdf_di...     ND.0002   \n",
       "6301  http://sharkattackfile.net/spreadsheets/pdf_di...     ND.0001   \n",
       "\n",
       "         Case_n2 original_order unnamed22 unnamed23  \n",
       "0     2018.06.25           6303   unknown   unknown  \n",
       "1     2018.06.18           6302   unknown   unknown  \n",
       "2     2018.06.09           6301   unknown   unknown  \n",
       "3     2018.06.08             63   unknown   unknown  \n",
       "4     2018.06.04           6299   unknown   unknown  \n",
       "...          ...            ...       ...       ...  \n",
       "6297     ND.0005              6   unknown   unknown  \n",
       "6298     ND.0004              5   unknown   unknown  \n",
       "6299     ND.0003              4   unknown   unknown  \n",
       "6300     ND.0002              3   unknown   unknown  \n",
       "6301     ND.0001              2   unknown   unknown  \n",
       "\n",
       "[6302 rows x 24 columns]>"
      ]
     },
     "execution_count": 150,
     "metadata": {},
     "output_type": "execute_result"
    }
   ],
   "source": [
    "df.info"
   ]
  },
  {
   "cell_type": "code",
   "execution_count": 151,
   "id": "pressed-billion",
   "metadata": {},
   "outputs": [],
   "source": [
    "# Export comma-separated variable file\n",
    "df.to_csv('/Users/mikel/Documents/week2/Proyecto_TL/attacks.csv', index=False, encoding = \"latin1\")"
   ]
  },
  {
   "cell_type": "code",
   "execution_count": 152,
   "id": "native-mileage",
   "metadata": {},
   "outputs": [
    {
     "data": {
      "text/html": [
       "<div>\n",
       "<style scoped>\n",
       "    .dataframe tbody tr th:only-of-type {\n",
       "        vertical-align: middle;\n",
       "    }\n",
       "\n",
       "    .dataframe tbody tr th {\n",
       "        vertical-align: top;\n",
       "    }\n",
       "\n",
       "    .dataframe thead th {\n",
       "        text-align: right;\n",
       "    }\n",
       "</style>\n",
       "<table border=\"1\" class=\"dataframe\">\n",
       "  <thead>\n",
       "    <tr style=\"text-align: right;\">\n",
       "      <th></th>\n",
       "      <th>Case_number</th>\n",
       "      <th>Date</th>\n",
       "      <th>Year</th>\n",
       "      <th>Type</th>\n",
       "      <th>Country</th>\n",
       "      <th>Area</th>\n",
       "      <th>Location</th>\n",
       "      <th>Activity</th>\n",
       "      <th>Name</th>\n",
       "      <th>Sex</th>\n",
       "      <th>...</th>\n",
       "      <th>Species</th>\n",
       "      <th>Investigator</th>\n",
       "      <th>pdf</th>\n",
       "      <th>href_formula</th>\n",
       "      <th>href</th>\n",
       "      <th>Case_n1</th>\n",
       "      <th>Case_n2</th>\n",
       "      <th>original_order</th>\n",
       "      <th>unnamed22</th>\n",
       "      <th>unnamed23</th>\n",
       "    </tr>\n",
       "  </thead>\n",
       "  <tbody>\n",
       "    <tr>\n",
       "      <th>0</th>\n",
       "      <td>2018.06.25</td>\n",
       "      <td>2018-06-25 00:00:00</td>\n",
       "      <td>2018</td>\n",
       "      <td>Boating</td>\n",
       "      <td>Usa</td>\n",
       "      <td>California</td>\n",
       "      <td>Oceanside, San Diego County</td>\n",
       "      <td>Unknown</td>\n",
       "      <td>Julie Wolfe</td>\n",
       "      <td>F</td>\n",
       "      <td>...</td>\n",
       "      <td>White shark</td>\n",
       "      <td>R. Collier, GSAF</td>\n",
       "      <td>2018.06.25-Wolfe.pdf</td>\n",
       "      <td>http://sharkattackfile.net/spreadsheets/pdf_di...</td>\n",
       "      <td>http://sharkattackfile.net/spreadsheets/pdf_di...</td>\n",
       "      <td>2018.06.25</td>\n",
       "      <td>2018.06.25</td>\n",
       "      <td>6303</td>\n",
       "      <td>unknown</td>\n",
       "      <td>unknown</td>\n",
       "    </tr>\n",
       "    <tr>\n",
       "      <th>1</th>\n",
       "      <td>2018.06.18</td>\n",
       "      <td>2018-06-18 00:00:00</td>\n",
       "      <td>2018</td>\n",
       "      <td>Unprovoked</td>\n",
       "      <td>Usa</td>\n",
       "      <td>Georgia</td>\n",
       "      <td>St. Simon Island, Glynn County</td>\n",
       "      <td>Unknown</td>\n",
       "      <td>Adyson McNeely</td>\n",
       "      <td>F</td>\n",
       "      <td>...</td>\n",
       "      <td>Unknown</td>\n",
       "      <td>K.McMurray, TrackingSharks.com</td>\n",
       "      <td>2018.06.18-McNeely.pdf</td>\n",
       "      <td>http://sharkattackfile.net/spreadsheets/pdf_di...</td>\n",
       "      <td>http://sharkattackfile.net/spreadsheets/pdf_di...</td>\n",
       "      <td>2018.06.18</td>\n",
       "      <td>2018.06.18</td>\n",
       "      <td>6302</td>\n",
       "      <td>unknown</td>\n",
       "      <td>unknown</td>\n",
       "    </tr>\n",
       "    <tr>\n",
       "      <th>2</th>\n",
       "      <td>2018.06.09</td>\n",
       "      <td>2018-06-09 00:00:00</td>\n",
       "      <td>2018</td>\n",
       "      <td>Invalid</td>\n",
       "      <td>Usa</td>\n",
       "      <td>Hawaii</td>\n",
       "      <td>Habush, Oahu</td>\n",
       "      <td>Surfing</td>\n",
       "      <td>John Denges</td>\n",
       "      <td>M</td>\n",
       "      <td>...</td>\n",
       "      <td>Unknown</td>\n",
       "      <td>K.McMurray, TrackingSharks.com</td>\n",
       "      <td>2018.06.09-Denges.pdf</td>\n",
       "      <td>http://sharkattackfile.net/spreadsheets/pdf_di...</td>\n",
       "      <td>http://sharkattackfile.net/spreadsheets/pdf_di...</td>\n",
       "      <td>2018.06.09</td>\n",
       "      <td>2018.06.09</td>\n",
       "      <td>6301</td>\n",
       "      <td>unknown</td>\n",
       "      <td>unknown</td>\n",
       "    </tr>\n",
       "    <tr>\n",
       "      <th>3</th>\n",
       "      <td>2018.06.08</td>\n",
       "      <td>2018-06-08 00:00:00</td>\n",
       "      <td>2018</td>\n",
       "      <td>Unprovoked</td>\n",
       "      <td>Australia</td>\n",
       "      <td>New South Wales</td>\n",
       "      <td>Arrawarra Headland</td>\n",
       "      <td>Surfing</td>\n",
       "      <td>Unknown</td>\n",
       "      <td>M</td>\n",
       "      <td>...</td>\n",
       "      <td>Unknown</td>\n",
       "      <td>B. Myatt, GSAF</td>\n",
       "      <td>2018.06.08-Arrawarra.pdf</td>\n",
       "      <td>http://sharkattackfile.net/spreadsheets/pdf_di...</td>\n",
       "      <td>http://sharkattackfile.net/spreadsheets/pdf_di...</td>\n",
       "      <td>2018.06.08</td>\n",
       "      <td>2018.06.08</td>\n",
       "      <td>63</td>\n",
       "      <td>unknown</td>\n",
       "      <td>unknown</td>\n",
       "    </tr>\n",
       "    <tr>\n",
       "      <th>4</th>\n",
       "      <td>2018.06.04</td>\n",
       "      <td>2018-06-04 00:00:00</td>\n",
       "      <td>2018</td>\n",
       "      <td>Provoked</td>\n",
       "      <td>Mexico</td>\n",
       "      <td>Colima</td>\n",
       "      <td>La Ticla</td>\n",
       "      <td>Diving</td>\n",
       "      <td>Gustavo Ramos</td>\n",
       "      <td>M</td>\n",
       "      <td>...</td>\n",
       "      <td>Unknown</td>\n",
       "      <td>A .Kipper</td>\n",
       "      <td>2018.06.04-Ramos.pdf</td>\n",
       "      <td>http://sharkattackfile.net/spreadsheets/pdf_di...</td>\n",
       "      <td>http://sharkattackfile.net/spreadsheets/pdf_di...</td>\n",
       "      <td>2018.06.04</td>\n",
       "      <td>2018.06.04</td>\n",
       "      <td>6299</td>\n",
       "      <td>unknown</td>\n",
       "      <td>unknown</td>\n",
       "    </tr>\n",
       "    <tr>\n",
       "      <th>...</th>\n",
       "      <td>...</td>\n",
       "      <td>...</td>\n",
       "      <td>...</td>\n",
       "      <td>...</td>\n",
       "      <td>...</td>\n",
       "      <td>...</td>\n",
       "      <td>...</td>\n",
       "      <td>...</td>\n",
       "      <td>...</td>\n",
       "      <td>...</td>\n",
       "      <td>...</td>\n",
       "      <td>...</td>\n",
       "      <td>...</td>\n",
       "      <td>...</td>\n",
       "      <td>...</td>\n",
       "      <td>...</td>\n",
       "      <td>...</td>\n",
       "      <td>...</td>\n",
       "      <td>...</td>\n",
       "      <td>...</td>\n",
       "      <td>...</td>\n",
       "    </tr>\n",
       "    <tr>\n",
       "      <th>6297</th>\n",
       "      <td>ND.0005</td>\n",
       "      <td>Unknown</td>\n",
       "      <td>Unknown</td>\n",
       "      <td>Unprovoked</td>\n",
       "      <td>Australia</td>\n",
       "      <td>Western Australia</td>\n",
       "      <td>Roebuck Bay</td>\n",
       "      <td>Diving</td>\n",
       "      <td>Unknown</td>\n",
       "      <td>M</td>\n",
       "      <td>...</td>\n",
       "      <td>Unknown</td>\n",
       "      <td>H. Taunton; N. Bartlett,  p. 234</td>\n",
       "      <td>ND-0005-RoebuckBay.pdf</td>\n",
       "      <td>http://sharkattackfile.net/spreadsheets/pdf_di...</td>\n",
       "      <td>http://sharkattackfile.net/spreadsheets/pdf_di...</td>\n",
       "      <td>ND.0005</td>\n",
       "      <td>ND.0005</td>\n",
       "      <td>6</td>\n",
       "      <td>unknown</td>\n",
       "      <td>unknown</td>\n",
       "    </tr>\n",
       "    <tr>\n",
       "      <th>6298</th>\n",
       "      <td>ND.0004</td>\n",
       "      <td>Unknown</td>\n",
       "      <td>Unknown</td>\n",
       "      <td>Unprovoked</td>\n",
       "      <td>Australia</td>\n",
       "      <td>Western Australia</td>\n",
       "      <td>Unknown</td>\n",
       "      <td>Diving</td>\n",
       "      <td>Ahmun</td>\n",
       "      <td>M</td>\n",
       "      <td>...</td>\n",
       "      <td>Unknown</td>\n",
       "      <td>H. Taunton; N. Bartlett,  pp. 233-234</td>\n",
       "      <td>ND-0004-Ahmun.pdf</td>\n",
       "      <td>http://sharkattackfile.net/spreadsheets/pdf_di...</td>\n",
       "      <td>http://sharkattackfile.net/spreadsheets/pdf_di...</td>\n",
       "      <td>ND.0004</td>\n",
       "      <td>ND.0004</td>\n",
       "      <td>5</td>\n",
       "      <td>unknown</td>\n",
       "      <td>unknown</td>\n",
       "    </tr>\n",
       "    <tr>\n",
       "      <th>6299</th>\n",
       "      <td>ND.0003</td>\n",
       "      <td>Unknown</td>\n",
       "      <td>Unknown</td>\n",
       "      <td>Unprovoked</td>\n",
       "      <td>Usa</td>\n",
       "      <td>North Carolina</td>\n",
       "      <td>Ocracoke Inlet</td>\n",
       "      <td>Swimming</td>\n",
       "      <td>Coast Guard personnel</td>\n",
       "      <td>M</td>\n",
       "      <td>...</td>\n",
       "      <td>Unknown</td>\n",
       "      <td>F. Schwartz, p.23; C. Creswell, GSAF</td>\n",
       "      <td>ND-0003-Ocracoke_1900-1905.pdf</td>\n",
       "      <td>http://sharkattackfile.net/spreadsheets/pdf_di...</td>\n",
       "      <td>http://sharkattackfile.net/spreadsheets/pdf_di...</td>\n",
       "      <td>ND.0003</td>\n",
       "      <td>ND.0003</td>\n",
       "      <td>4</td>\n",
       "      <td>unknown</td>\n",
       "      <td>unknown</td>\n",
       "    </tr>\n",
       "    <tr>\n",
       "      <th>6300</th>\n",
       "      <td>ND.0002</td>\n",
       "      <td>Unknown</td>\n",
       "      <td>Unknown</td>\n",
       "      <td>Unprovoked</td>\n",
       "      <td>Panama</td>\n",
       "      <td>Unknown</td>\n",
       "      <td>Panama Bay 8ºN, 79ºW</td>\n",
       "      <td>Unknown</td>\n",
       "      <td>Jules Patterson</td>\n",
       "      <td>M</td>\n",
       "      <td>...</td>\n",
       "      <td>Unknown</td>\n",
       "      <td>The Sun, 10/20/1938</td>\n",
       "      <td>ND-0002-JulesPatterson.pdf</td>\n",
       "      <td>http://sharkattackfile.net/spreadsheets/pdf_di...</td>\n",
       "      <td>http://sharkattackfile.net/spreadsheets/pdf_di...</td>\n",
       "      <td>ND.0002</td>\n",
       "      <td>ND.0002</td>\n",
       "      <td>3</td>\n",
       "      <td>unknown</td>\n",
       "      <td>unknown</td>\n",
       "    </tr>\n",
       "    <tr>\n",
       "      <th>6301</th>\n",
       "      <td>ND.0001</td>\n",
       "      <td>Unknown</td>\n",
       "      <td>Unknown</td>\n",
       "      <td>Unprovoked</td>\n",
       "      <td>Ceylon (sri lanka)</td>\n",
       "      <td>Eastern Province</td>\n",
       "      <td>Below the English fort, Trincomalee</td>\n",
       "      <td>Swimming</td>\n",
       "      <td>Unknown</td>\n",
       "      <td>M</td>\n",
       "      <td>...</td>\n",
       "      <td>Unknown</td>\n",
       "      <td>S.W. Baker</td>\n",
       "      <td>ND-0001-Ceylon.pdf</td>\n",
       "      <td>http://sharkattackfile.net/spreadsheets/pdf_di...</td>\n",
       "      <td>http://sharkattackfile.net/spreadsheets/pdf_di...</td>\n",
       "      <td>ND.0001</td>\n",
       "      <td>ND.0001</td>\n",
       "      <td>2</td>\n",
       "      <td>unknown</td>\n",
       "      <td>unknown</td>\n",
       "    </tr>\n",
       "  </tbody>\n",
       "</table>\n",
       "<p>6302 rows × 24 columns</p>\n",
       "</div>"
      ],
      "text/plain": [
       "     Case_number                 Date     Year        Type  \\\n",
       "0     2018.06.25  2018-06-25 00:00:00     2018     Boating   \n",
       "1     2018.06.18  2018-06-18 00:00:00     2018  Unprovoked   \n",
       "2     2018.06.09  2018-06-09 00:00:00     2018     Invalid   \n",
       "3     2018.06.08  2018-06-08 00:00:00     2018  Unprovoked   \n",
       "4     2018.06.04  2018-06-04 00:00:00     2018    Provoked   \n",
       "...          ...                  ...      ...         ...   \n",
       "6297     ND.0005              Unknown  Unknown  Unprovoked   \n",
       "6298     ND.0004              Unknown  Unknown  Unprovoked   \n",
       "6299     ND.0003              Unknown  Unknown  Unprovoked   \n",
       "6300     ND.0002              Unknown  Unknown  Unprovoked   \n",
       "6301     ND.0001              Unknown  Unknown  Unprovoked   \n",
       "\n",
       "                 Country               Area  \\\n",
       "0                    Usa         California   \n",
       "1                    Usa            Georgia   \n",
       "2                    Usa             Hawaii   \n",
       "3              Australia    New South Wales   \n",
       "4                 Mexico             Colima   \n",
       "...                  ...                ...   \n",
       "6297           Australia  Western Australia   \n",
       "6298           Australia  Western Australia   \n",
       "6299                 Usa     North Carolina   \n",
       "6300              Panama            Unknown   \n",
       "6301  Ceylon (sri lanka)   Eastern Province   \n",
       "\n",
       "                                 Location  Activity                   Name  \\\n",
       "0             Oceanside, San Diego County   Unknown            Julie Wolfe   \n",
       "1          St. Simon Island, Glynn County   Unknown        Adyson McNeely    \n",
       "2                            Habush, Oahu   Surfing            John Denges   \n",
       "3                      Arrawarra Headland   Surfing                Unknown   \n",
       "4                                La Ticla    Diving         Gustavo Ramos    \n",
       "...                                   ...       ...                    ...   \n",
       "6297                          Roebuck Bay    Diving                Unknown   \n",
       "6298                              Unknown    Diving                  Ahmun   \n",
       "6299                       Ocracoke Inlet  Swimming  Coast Guard personnel   \n",
       "6300                 Panama Bay 8ºN, 79ºW   Unknown        Jules Patterson   \n",
       "6301  Below the English fort, Trincomalee  Swimming                Unknown   \n",
       "\n",
       "     Sex  ...      Species                           Investigator  \\\n",
       "0      F  ...  White shark                       R. Collier, GSAF   \n",
       "1      F  ...      Unknown         K.McMurray, TrackingSharks.com   \n",
       "2      M  ...      Unknown         K.McMurray, TrackingSharks.com   \n",
       "3      M  ...      Unknown                         B. Myatt, GSAF   \n",
       "4      M  ...      Unknown                              A .Kipper   \n",
       "...   ..  ...          ...                                    ...   \n",
       "6297   M  ...      Unknown       H. Taunton; N. Bartlett,  p. 234   \n",
       "6298   M  ...      Unknown  H. Taunton; N. Bartlett,  pp. 233-234   \n",
       "6299   M  ...      Unknown   F. Schwartz, p.23; C. Creswell, GSAF   \n",
       "6300   M  ...      Unknown                    The Sun, 10/20/1938   \n",
       "6301   M  ...      Unknown                             S.W. Baker   \n",
       "\n",
       "                                 pdf  \\\n",
       "0               2018.06.25-Wolfe.pdf   \n",
       "1             2018.06.18-McNeely.pdf   \n",
       "2              2018.06.09-Denges.pdf   \n",
       "3           2018.06.08-Arrawarra.pdf   \n",
       "4               2018.06.04-Ramos.pdf   \n",
       "...                              ...   \n",
       "6297          ND-0005-RoebuckBay.pdf   \n",
       "6298               ND-0004-Ahmun.pdf   \n",
       "6299  ND-0003-Ocracoke_1900-1905.pdf   \n",
       "6300      ND-0002-JulesPatterson.pdf   \n",
       "6301              ND-0001-Ceylon.pdf   \n",
       "\n",
       "                                           href_formula  \\\n",
       "0     http://sharkattackfile.net/spreadsheets/pdf_di...   \n",
       "1     http://sharkattackfile.net/spreadsheets/pdf_di...   \n",
       "2     http://sharkattackfile.net/spreadsheets/pdf_di...   \n",
       "3     http://sharkattackfile.net/spreadsheets/pdf_di...   \n",
       "4     http://sharkattackfile.net/spreadsheets/pdf_di...   \n",
       "...                                                 ...   \n",
       "6297  http://sharkattackfile.net/spreadsheets/pdf_di...   \n",
       "6298  http://sharkattackfile.net/spreadsheets/pdf_di...   \n",
       "6299  http://sharkattackfile.net/spreadsheets/pdf_di...   \n",
       "6300  http://sharkattackfile.net/spreadsheets/pdf_di...   \n",
       "6301  http://sharkattackfile.net/spreadsheets/pdf_di...   \n",
       "\n",
       "                                                   href     Case_n1  \\\n",
       "0     http://sharkattackfile.net/spreadsheets/pdf_di...  2018.06.25   \n",
       "1     http://sharkattackfile.net/spreadsheets/pdf_di...  2018.06.18   \n",
       "2     http://sharkattackfile.net/spreadsheets/pdf_di...  2018.06.09   \n",
       "3     http://sharkattackfile.net/spreadsheets/pdf_di...  2018.06.08   \n",
       "4     http://sharkattackfile.net/spreadsheets/pdf_di...  2018.06.04   \n",
       "...                                                 ...         ...   \n",
       "6297  http://sharkattackfile.net/spreadsheets/pdf_di...     ND.0005   \n",
       "6298  http://sharkattackfile.net/spreadsheets/pdf_di...     ND.0004   \n",
       "6299  http://sharkattackfile.net/spreadsheets/pdf_di...     ND.0003   \n",
       "6300  http://sharkattackfile.net/spreadsheets/pdf_di...     ND.0002   \n",
       "6301  http://sharkattackfile.net/spreadsheets/pdf_di...     ND.0001   \n",
       "\n",
       "         Case_n2 original_order unnamed22 unnamed23  \n",
       "0     2018.06.25           6303   unknown   unknown  \n",
       "1     2018.06.18           6302   unknown   unknown  \n",
       "2     2018.06.09           6301   unknown   unknown  \n",
       "3     2018.06.08             63   unknown   unknown  \n",
       "4     2018.06.04           6299   unknown   unknown  \n",
       "...          ...            ...       ...       ...  \n",
       "6297     ND.0005              6   unknown   unknown  \n",
       "6298     ND.0004              5   unknown   unknown  \n",
       "6299     ND.0003              4   unknown   unknown  \n",
       "6300     ND.0002              3   unknown   unknown  \n",
       "6301     ND.0001              2   unknown   unknown  \n",
       "\n",
       "[6302 rows x 24 columns]"
      ]
     },
     "execution_count": 152,
     "metadata": {},
     "output_type": "execute_result"
    }
   ],
   "source": [
    "df"
   ]
  },
  {
   "cell_type": "code",
   "execution_count": null,
   "id": "celtic-setting",
   "metadata": {},
   "outputs": [],
   "source": []
  }
 ],
 "metadata": {
  "kernelspec": {
   "display_name": "virtual",
   "language": "python",
   "name": "virtual"
  },
  "language_info": {
   "codemirror_mode": {
    "name": "ipython",
    "version": 3
   },
   "file_extension": ".py",
   "mimetype": "text/x-python",
   "name": "python",
   "nbconvert_exporter": "python",
   "pygments_lexer": "ipython3",
   "version": "3.8.5"
  }
 },
 "nbformat": 4,
 "nbformat_minor": 5
}
