{
 "cells": [
  {
   "cell_type": "code",
   "execution_count": 28,
   "metadata": {},
   "outputs": [],
   "source": [
    "import pandas as pd\n",
    "import os\n",
    "import numpy as np\n",
    "import matplotlib.pyplot as plt\n",
    "import matplotlib.style\n",
    "import matplotlib as mpl\n",
    "import seaborn as sns\n",
    "import re as re"
   ]
  },
  {
   "cell_type": "markdown",
   "metadata": {},
   "source": [
    "CARGO EL DATASET"
   ]
  },
  {
   "cell_type": "code",
   "execution_count": 2,
   "metadata": {},
   "outputs": [
    {
     "data": {
      "text/html": [
       "<div>\n",
       "<style scoped>\n",
       "    .dataframe tbody tr th:only-of-type {\n",
       "        vertical-align: middle;\n",
       "    }\n",
       "\n",
       "    .dataframe tbody tr th {\n",
       "        vertical-align: top;\n",
       "    }\n",
       "\n",
       "    .dataframe thead th {\n",
       "        text-align: right;\n",
       "    }\n",
       "</style>\n",
       "<table border=\"1\" class=\"dataframe\">\n",
       "  <thead>\n",
       "    <tr style=\"text-align: right;\">\n",
       "      <th></th>\n",
       "      <th>Case Number</th>\n",
       "      <th>Date</th>\n",
       "      <th>Year</th>\n",
       "      <th>Type</th>\n",
       "      <th>Country</th>\n",
       "      <th>Area</th>\n",
       "      <th>Location</th>\n",
       "      <th>Activity</th>\n",
       "      <th>Name</th>\n",
       "      <th>Sex</th>\n",
       "      <th>Age</th>\n",
       "      <th>Injury</th>\n",
       "      <th>Fatal (Y/N)</th>\n",
       "      <th>Time</th>\n",
       "      <th>Species</th>\n",
       "      <th>Investigator or Source</th>\n",
       "      <th>pdf</th>\n",
       "      <th>href formula</th>\n",
       "      <th>href</th>\n",
       "      <th>Case Number.1</th>\n",
       "      <th>Case Number.2</th>\n",
       "      <th>original order</th>\n",
       "      <th>Unnamed: 22</th>\n",
       "      <th>Unnamed: 23</th>\n",
       "    </tr>\n",
       "  </thead>\n",
       "  <tbody>\n",
       "    <tr>\n",
       "      <th>0</th>\n",
       "      <td>2018.06.25</td>\n",
       "      <td>25-Jun-2018</td>\n",
       "      <td>2018</td>\n",
       "      <td>Boating</td>\n",
       "      <td>USA</td>\n",
       "      <td>California</td>\n",
       "      <td>Oceanside, San Diego County</td>\n",
       "      <td>Paddling</td>\n",
       "      <td>Julie Wolfe</td>\n",
       "      <td>F</td>\n",
       "      <td>57</td>\n",
       "      <td>No injury to occupant, outrigger canoe and pad...</td>\n",
       "      <td>N</td>\n",
       "      <td>18h00</td>\n",
       "      <td>White shark</td>\n",
       "      <td>R. Collier, GSAF</td>\n",
       "      <td>2018.06.25-Wolfe.pdf</td>\n",
       "      <td>http://sharkattackfile.net/spreadsheets/pdf_di...</td>\n",
       "      <td>http://sharkattackfile.net/spreadsheets/pdf_di...</td>\n",
       "      <td>2018.06.25</td>\n",
       "      <td>2018.06.25</td>\n",
       "      <td>6303</td>\n",
       "      <td>NaN</td>\n",
       "      <td>NaN</td>\n",
       "    </tr>\n",
       "    <tr>\n",
       "      <th>1</th>\n",
       "      <td>2018.06.18</td>\n",
       "      <td>18-Jun-2018</td>\n",
       "      <td>2018</td>\n",
       "      <td>Unprovoked</td>\n",
       "      <td>USA</td>\n",
       "      <td>Georgia</td>\n",
       "      <td>St. Simon Island, Glynn County</td>\n",
       "      <td>Standing</td>\n",
       "      <td>Adyson McNeely</td>\n",
       "      <td>F</td>\n",
       "      <td>11</td>\n",
       "      <td>Minor injury to left thigh</td>\n",
       "      <td>N</td>\n",
       "      <td>14h00  -15h00</td>\n",
       "      <td>NaN</td>\n",
       "      <td>K.McMurray, TrackingSharks.com</td>\n",
       "      <td>2018.06.18-McNeely.pdf</td>\n",
       "      <td>http://sharkattackfile.net/spreadsheets/pdf_di...</td>\n",
       "      <td>http://sharkattackfile.net/spreadsheets/pdf_di...</td>\n",
       "      <td>2018.06.18</td>\n",
       "      <td>2018.06.18</td>\n",
       "      <td>6302</td>\n",
       "      <td>NaN</td>\n",
       "      <td>NaN</td>\n",
       "    </tr>\n",
       "    <tr>\n",
       "      <th>2</th>\n",
       "      <td>2018.06.09</td>\n",
       "      <td>09-Jun-2018</td>\n",
       "      <td>2018</td>\n",
       "      <td>Invalid</td>\n",
       "      <td>USA</td>\n",
       "      <td>Hawaii</td>\n",
       "      <td>Habush, Oahu</td>\n",
       "      <td>Surfing</td>\n",
       "      <td>John Denges</td>\n",
       "      <td>M</td>\n",
       "      <td>48</td>\n",
       "      <td>Injury to left lower leg from surfboard skeg</td>\n",
       "      <td>N</td>\n",
       "      <td>07h45</td>\n",
       "      <td>NaN</td>\n",
       "      <td>K.McMurray, TrackingSharks.com</td>\n",
       "      <td>2018.06.09-Denges.pdf</td>\n",
       "      <td>http://sharkattackfile.net/spreadsheets/pdf_di...</td>\n",
       "      <td>http://sharkattackfile.net/spreadsheets/pdf_di...</td>\n",
       "      <td>2018.06.09</td>\n",
       "      <td>2018.06.09</td>\n",
       "      <td>6301</td>\n",
       "      <td>NaN</td>\n",
       "      <td>NaN</td>\n",
       "    </tr>\n",
       "    <tr>\n",
       "      <th>3</th>\n",
       "      <td>2018.06.08</td>\n",
       "      <td>08-Jun-2018</td>\n",
       "      <td>2018</td>\n",
       "      <td>Unprovoked</td>\n",
       "      <td>AUSTRALIA</td>\n",
       "      <td>New South Wales</td>\n",
       "      <td>Arrawarra Headland</td>\n",
       "      <td>Surfing</td>\n",
       "      <td>male</td>\n",
       "      <td>M</td>\n",
       "      <td>NaN</td>\n",
       "      <td>Minor injury to lower leg</td>\n",
       "      <td>N</td>\n",
       "      <td>NaN</td>\n",
       "      <td>2 m shark</td>\n",
       "      <td>B. Myatt, GSAF</td>\n",
       "      <td>2018.06.08-Arrawarra.pdf</td>\n",
       "      <td>http://sharkattackfile.net/spreadsheets/pdf_di...</td>\n",
       "      <td>http://sharkattackfile.net/spreadsheets/pdf_di...</td>\n",
       "      <td>2018.06.08</td>\n",
       "      <td>2018.06.08</td>\n",
       "      <td>6300</td>\n",
       "      <td>NaN</td>\n",
       "      <td>NaN</td>\n",
       "    </tr>\n",
       "    <tr>\n",
       "      <th>4</th>\n",
       "      <td>2018.06.04</td>\n",
       "      <td>04-Jun-2018</td>\n",
       "      <td>2018</td>\n",
       "      <td>Provoked</td>\n",
       "      <td>MEXICO</td>\n",
       "      <td>Colima</td>\n",
       "      <td>La Ticla</td>\n",
       "      <td>Free diving</td>\n",
       "      <td>Gustavo Ramos</td>\n",
       "      <td>M</td>\n",
       "      <td>NaN</td>\n",
       "      <td>Lacerations to leg &amp; hand shark PROVOKED INCIDENT</td>\n",
       "      <td>N</td>\n",
       "      <td>NaN</td>\n",
       "      <td>Tiger shark, 3m</td>\n",
       "      <td>A .Kipper</td>\n",
       "      <td>2018.06.04-Ramos.pdf</td>\n",
       "      <td>http://sharkattackfile.net/spreadsheets/pdf_di...</td>\n",
       "      <td>http://sharkattackfile.net/spreadsheets/pdf_di...</td>\n",
       "      <td>2018.06.04</td>\n",
       "      <td>2018.06.04</td>\n",
       "      <td>6299</td>\n",
       "      <td>NaN</td>\n",
       "      <td>NaN</td>\n",
       "    </tr>\n",
       "  </tbody>\n",
       "</table>\n",
       "</div>"
      ],
      "text/plain": [
       "  Case Number         Date  Year        Type    Country             Area  \\\n",
       "0  2018.06.25  25-Jun-2018  2018     Boating        USA       California   \n",
       "1  2018.06.18  18-Jun-2018  2018  Unprovoked        USA          Georgia   \n",
       "2  2018.06.09  09-Jun-2018  2018     Invalid        USA           Hawaii   \n",
       "3  2018.06.08  08-Jun-2018  2018  Unprovoked  AUSTRALIA  New South Wales   \n",
       "4  2018.06.04  04-Jun-2018  2018    Provoked     MEXICO           Colima   \n",
       "\n",
       "                         Location     Activity             Name Sex  Age  \\\n",
       "0     Oceanside, San Diego County     Paddling      Julie Wolfe   F   57   \n",
       "1  St. Simon Island, Glynn County     Standing  Adyson McNeely    F   11   \n",
       "2                    Habush, Oahu      Surfing      John Denges   M   48   \n",
       "3              Arrawarra Headland      Surfing             male   M  NaN   \n",
       "4                        La Ticla  Free diving   Gustavo Ramos    M  NaN   \n",
       "\n",
       "                                              Injury Fatal (Y/N)  \\\n",
       "0  No injury to occupant, outrigger canoe and pad...           N   \n",
       "1                         Minor injury to left thigh           N   \n",
       "2       Injury to left lower leg from surfboard skeg           N   \n",
       "3                          Minor injury to lower leg           N   \n",
       "4  Lacerations to leg & hand shark PROVOKED INCIDENT           N   \n",
       "\n",
       "            Time          Species          Investigator or Source  \\\n",
       "0          18h00      White shark                R. Collier, GSAF   \n",
       "1  14h00  -15h00              NaN  K.McMurray, TrackingSharks.com   \n",
       "2          07h45              NaN  K.McMurray, TrackingSharks.com   \n",
       "3            NaN        2 m shark                  B. Myatt, GSAF   \n",
       "4            NaN  Tiger shark, 3m                       A .Kipper   \n",
       "\n",
       "                        pdf  \\\n",
       "0      2018.06.25-Wolfe.pdf   \n",
       "1    2018.06.18-McNeely.pdf   \n",
       "2     2018.06.09-Denges.pdf   \n",
       "3  2018.06.08-Arrawarra.pdf   \n",
       "4      2018.06.04-Ramos.pdf   \n",
       "\n",
       "                                        href formula  \\\n",
       "0  http://sharkattackfile.net/spreadsheets/pdf_di...   \n",
       "1  http://sharkattackfile.net/spreadsheets/pdf_di...   \n",
       "2  http://sharkattackfile.net/spreadsheets/pdf_di...   \n",
       "3  http://sharkattackfile.net/spreadsheets/pdf_di...   \n",
       "4  http://sharkattackfile.net/spreadsheets/pdf_di...   \n",
       "\n",
       "                                                href Case Number.1  \\\n",
       "0  http://sharkattackfile.net/spreadsheets/pdf_di...    2018.06.25   \n",
       "1  http://sharkattackfile.net/spreadsheets/pdf_di...    2018.06.18   \n",
       "2  http://sharkattackfile.net/spreadsheets/pdf_di...    2018.06.09   \n",
       "3  http://sharkattackfile.net/spreadsheets/pdf_di...    2018.06.08   \n",
       "4  http://sharkattackfile.net/spreadsheets/pdf_di...    2018.06.04   \n",
       "\n",
       "  Case Number.2 original order Unnamed: 22 Unnamed: 23  \n",
       "0    2018.06.25           6303         NaN         NaN  \n",
       "1    2018.06.18           6302         NaN         NaN  \n",
       "2    2018.06.09           6301         NaN         NaN  \n",
       "3    2018.06.08           6300         NaN         NaN  \n",
       "4    2018.06.04           6299         NaN         NaN  "
      ]
     },
     "execution_count": 2,
     "metadata": {},
     "output_type": "execute_result"
    }
   ],
   "source": [
    "dframe = pd.read_csv('attacks.csv',encoding=\"'ISO-8859-1'\", dtype=str) \n",
    "dframe.columns = dframe.columns.str.rstrip() #Quito el espacio entre las columnas\n",
    "dframe.head() #Muestra el encabezado del DF\n",
    "pd.set_option('display.max_columns', None)\n",
    "dframe.head()\n"
   ]
  },
  {
   "cell_type": "code",
   "execution_count": 1,
   "metadata": {},
   "outputs": [],
   "source": [
    "#Muestra los datos duplicados"
   ]
  },
  {
   "cell_type": "code",
   "execution_count": 5,
   "metadata": {},
   "outputs": [
    {
     "data": {
      "text/plain": [
       "0        False\n",
       "1        False\n",
       "2        False\n",
       "3        False\n",
       "4        False\n",
       "         ...  \n",
       "25718     True\n",
       "25719     True\n",
       "25720     True\n",
       "25721     True\n",
       "25722    False\n",
       "Length: 25723, dtype: bool"
      ]
     },
     "execution_count": 5,
     "metadata": {},
     "output_type": "execute_result"
    }
   ],
   "source": [
    "dframe.duplicated()"
   ]
  },
  {
   "cell_type": "code",
   "execution_count": 6,
   "metadata": {},
   "outputs": [],
   "source": [
    "#Para saber cuantos datos tengo duplicados"
   ]
  },
  {
   "cell_type": "code",
   "execution_count": 7,
   "metadata": {},
   "outputs": [
    {
     "data": {
      "text/plain": [
       "19411"
      ]
     },
     "execution_count": 7,
     "metadata": {},
     "output_type": "execute_result"
    }
   ],
   "source": [
    "dframe.duplicated().sum() # Muestra la suma de todos los registros duplicados"
   ]
  },
  {
   "cell_type": "code",
   "execution_count": 8,
   "metadata": {},
   "outputs": [],
   "source": [
    "#Evaluar la validez de los datos sumar datos en columnas nulas\n",
    "#En este caso el Data Frame tendría muchos elementos nulos, por lo que la fiabilidad disminuye"
   ]
  },
  {
   "cell_type": "code",
   "execution_count": 9,
   "metadata": {},
   "outputs": [
    {
     "data": {
      "text/plain": [
       "Case Number               17021\n",
       "Date                      19421\n",
       "Year                      19423\n",
       "Type                      19425\n",
       "Country                   19471\n",
       "Area                      19876\n",
       "Location                  19961\n",
       "Activity                  19965\n",
       "Name                      19631\n",
       "Sex                       19986\n",
       "Age                       22252\n",
       "Injury                    19449\n",
       "Fatal (Y/N)               19960\n",
       "Time                      22775\n",
       "Species                   22259\n",
       "Investigator or Source    19438\n",
       "pdf                       19421\n",
       "href formula              19422\n",
       "href                      19421\n",
       "Case Number.1             19421\n",
       "Case Number.2             19421\n",
       "original order            19414\n",
       "Unnamed: 22               25722\n",
       "Unnamed: 23               25721\n",
       "dtype: int64"
      ]
     },
     "execution_count": 9,
     "metadata": {},
     "output_type": "execute_result"
    }
   ],
   "source": [
    "null_cols = dframe.isnull().sum()\n",
    "null_cols"
   ]
  },
  {
   "cell_type": "code",
   "execution_count": 10,
   "metadata": {},
   "outputs": [],
   "source": [
    "#Data Perdida"
   ]
  },
  {
   "cell_type": "code",
   "execution_count": 11,
   "metadata": {},
   "outputs": [
    {
     "name": "stdout",
     "output_type": "stream",
     "text": [
      "Case Number - 66%\n",
      "Date - 76%\n",
      "Year - 76%\n",
      "Type - 76%\n",
      "Country - 76%\n",
      "Area - 77%\n",
      "Location - 78%\n",
      "Activity - 78%\n",
      "Name - 76%\n",
      "Sex - 78%\n",
      "Age - 87%\n",
      "Injury - 76%\n",
      "Fatal (Y/N) - 78%\n",
      "Time - 89%\n",
      "Species - 87%\n",
      "Investigator or Source - 76%\n",
      "pdf - 76%\n",
      "href formula - 76%\n",
      "href - 76%\n",
      "Case Number.1 - 76%\n",
      "Case Number.2 - 76%\n",
      "original order - 75%\n",
      "Unnamed: 22 - 100%\n",
      "Unnamed: 23 - 100%\n"
     ]
    }
   ],
   "source": [
    "for col in dframe.columns:\n",
    "    pct_missing = np.mean(dframe[col].isnull())\n",
    "    print('{} - {}%'.format(col, round(pct_missing*100)))"
   ]
  },
  {
   "cell_type": "code",
   "execution_count": 12,
   "metadata": {},
   "outputs": [],
   "source": [
    "#Muestra el DF\n",
    "#Quita los espacios\n",
    "#Hace un replace\n",
    "#Sustituye por el valor \"Unknown\""
   ]
  },
  {
   "cell_type": "code",
   "execution_count": 13,
   "metadata": {},
   "outputs": [
    {
     "data": {
      "text/plain": [
       "{'.', 'F', 'M', 'M ', 'N', 'lli', nan}"
      ]
     },
     "execution_count": 13,
     "metadata": {},
     "output_type": "execute_result"
    }
   ],
   "source": [
    "set(dframe[(\"Sex\")])"
   ]
  },
  {
   "cell_type": "markdown",
   "metadata": {},
   "source": [
    "COLUMNA SEX"
   ]
  },
  {
   "cell_type": "code",
   "execution_count": 14,
   "metadata": {
    "scrolled": false
   },
   "outputs": [
    {
     "data": {
      "text/plain": [
       "Unknown    19988\n",
       "M           5098\n",
       "F            637\n",
       "Name: Sex, dtype: int64"
      ]
     },
     "execution_count": 14,
     "metadata": {},
     "output_type": "execute_result"
    }
   ],
   "source": [
    "set(dframe['Sex'])\n",
    "dframe.columns = dframe.columns.str.strip()\n",
    "dframe['Sex'] = dframe['Sex'].str.replace('N', 'M')\n",
    "dframe['Sex'] = dframe['Sex'].str.strip()\n",
    "dframe['Sex'] = dframe['Sex'].fillna('Unknown')\n",
    "dframe['Sex'] = dframe['Sex'].str.replace('lli', 'Unknown')\n",
    "dframe['Sex'] = dframe['Sex'].str.replace('.', 'Unknown')\n",
    "set (dframe['Sex'])\n",
    "dframe['Sex'].value_counts(dropna=True)"
   ]
  },
  {
   "cell_type": "markdown",
   "metadata": {},
   "source": [
    "COLUMNA AGE"
   ]
  },
  {
   "cell_type": "code",
   "execution_count": 15,
   "metadata": {},
   "outputs": [
    {
     "data": {
      "text/plain": [
       "0     22252\n",
       "17      156\n",
       "18      153\n",
       "20      151\n",
       "19      143\n",
       "      ...  \n",
       "86        1\n",
       "87        1\n",
       "67        1\n",
       "84        1\n",
       "82        1\n",
       "Name: Age, Length: 83, dtype: int64"
      ]
     },
     "execution_count": 15,
     "metadata": {},
     "output_type": "execute_result"
    }
   ],
   "source": [
    "set(dframe['Age'])\n",
    "dframe.Age=dframe['Age'].fillna('0')\n",
    "lst = []\n",
    "patron = '\\d+'\n",
    "for e in dframe.Age:\n",
    "    try:\n",
    "        lst.append(re.findall(patron,e)[0])\n",
    "    except:\n",
    "        lst.append(0)\n",
    "dframe.Age=lst\n",
    "\n",
    "dframe.Age.value_counts()"
   ]
  },
  {
   "cell_type": "markdown",
   "metadata": {},
   "source": [
    "COLUMNA YEAR"
   ]
  },
  {
   "cell_type": "code",
   "execution_count": 16,
   "metadata": {},
   "outputs": [
    {
     "data": {
      "text/plain": [
       "0           2018\n",
       "1           2018\n",
       "2           2018\n",
       "3           2018\n",
       "4           2018\n",
       "          ...   \n",
       "25718    Unknown\n",
       "25719    Unknown\n",
       "25720    Unknown\n",
       "25721    Unknown\n",
       "25722    Unknown\n",
       "Name: Year, Length: 25723, dtype: object"
      ]
     },
     "execution_count": 16,
     "metadata": {},
     "output_type": "execute_result"
    }
   ],
   "source": [
    "dframe['Year'].fillna('Unknown')"
   ]
  },
  {
   "cell_type": "markdown",
   "metadata": {},
   "source": [
    "COLUMNA TYPE"
   ]
  },
  {
   "cell_type": "code",
   "execution_count": 17,
   "metadata": {
    "scrolled": false
   },
   "outputs": [
    {
     "name": "stdout",
     "output_type": "stream",
     "text": [
      "0        Sea Disaster\n",
      "1          Unprovoked\n",
      "2             Unknown\n",
      "3          Unprovoked\n",
      "4            Provoked\n",
      "             ...     \n",
      "25718         Unknown\n",
      "25719         Unknown\n",
      "25720         Unknown\n",
      "25721         Unknown\n",
      "25722         Unknown\n",
      "Name: Type, Length: 25723, dtype: object\n"
     ]
    }
   ],
   "source": [
    "dframe.Type = dframe.Type.fillna(\"Unknown\")\n",
    "dframe.Type[dframe.Type.str.contains(\"Boating\")] = 'Sea Disaster'\n",
    "dframe.Type[dframe.Type.str.contains(\"Boatomg\")] = 'Sea Disaster'\n",
    "dframe.Type[dframe.Type.str.contains(\"Boat\")] = 'Sea Disaster'\n",
    "dframe.Type[dframe.Type.str.contains(\"Invalid\")] = 'Unknown'\n",
    "dframe.Type[dframe.Type.str.contains(\"Boatomg\")] = 'Boat'\n",
    "\n",
    "print(dframe.Type)\n"
   ]
  },
  {
   "cell_type": "markdown",
   "metadata": {},
   "source": [
    "COLUMNA COUNTRY"
   ]
  },
  {
   "cell_type": "code",
   "execution_count": 18,
   "metadata": {},
   "outputs": [
    {
     "name": "stdout",
     "output_type": "stream",
     "text": [
      "0              USA\n",
      "1              USA\n",
      "2              USA\n",
      "3        AUSTRALIA\n",
      "4           MEXICO\n",
      "           ...    \n",
      "25718      UNKNOWN\n",
      "25719      UNKNOWN\n",
      "25720      UNKNOWN\n",
      "25721      UNKNOWN\n",
      "25722      UNKNOWN\n",
      "Name: Country, Length: 25723, dtype: object\n"
     ]
    }
   ],
   "source": [
    "dframe.Country = dframe.Country.fillna(\"UNKNOWN\")\n",
    "dframe.Country[dframe.Country.str.contains('EGYPT')] = 'EGYPT'\n",
    "dframe.Country[dframe.Country.str.contains('ST HELENA, British overseas territory')] = 'ST HELENA'\n",
    "dframe.Country[dframe.Country.str.contains('nan}')] = 'UNKNOWN'\n",
    "dframe.Country[dframe.Country.str.contains('SOUTH ATLANTIC OCEAN')] = 'OTHERS'\n",
    "dframe.Country[dframe.Country.str.contains('ANDAMAN / NICOBAR ISLANDAS')] = 'OTHERS'\n",
    "dframe.Country[dframe.Country.str.contains('EGYPT / ISRAEL')] = 'OTHERS'\n",
    "dframe.Country[dframe.Country.str.contains('SOLOMON ISLANDS / VANUATU')] = 'OTHERS'\n",
    "dframe.Country[dframe.Country.str.contains('ATLANTIC OCEAN')] = 'OTHERS'\n",
    "\n",
    "print(dframe.Country)"
   ]
  },
  {
   "cell_type": "markdown",
   "metadata": {},
   "source": [
    "COLUMNA FATAL"
   ]
  },
  {
   "cell_type": "code",
   "execution_count": 19,
   "metadata": {
    "scrolled": false
   },
   "outputs": [
    {
     "data": {
      "text/plain": [
       "UNKNOWN    20033\n",
       "N           4301\n",
       "Y           1389\n",
       "Name: Fatal (Y/N), dtype: int64"
      ]
     },
     "execution_count": 19,
     "metadata": {},
     "output_type": "execute_result"
    }
   ],
   "source": [
    "set (dframe[(\"Fatal (Y/N)\")])\n",
    "\n",
    "dframe['Fatal (Y/N)'] = dframe['Fatal (Y/N)'].str.replace('2017', 'UNKNOWN')      \n",
    "dframe['Fatal (Y/N)'] = dframe['Fatal (Y/N)'].str.strip()\n",
    "dframe['Fatal (Y/N)'] = dframe['Fatal (Y/N)'].fillna('UNKNOWN')\n",
    "dframe['Fatal (Y/N)'] = dframe['Fatal (Y/N)'].str.replace('y', 'Y')\n",
    "dframe['Fatal (Y/N)'] = dframe['Fatal (Y/N)'].str.replace('M', 'UNKNOWN')\n",
    "\n",
    "set(dframe['Fatal (Y/N)'])\n",
    "dframe['Fatal (Y/N)'].value_counts(dropna=True)"
   ]
  },
  {
   "cell_type": "markdown",
   "metadata": {},
   "source": [
    "COLUMNA MONTH"
   ]
  },
  {
   "cell_type": "code",
   "execution_count": 20,
   "metadata": {},
   "outputs": [
    {
     "data": {
      "text/plain": [
       "0    25-Jun-2018\n",
       "1    18-Jun-2018\n",
       "2    09-Jun-2018\n",
       "3    08-Jun-2018\n",
       "4    04-Jun-2018\n",
       "Name: Date, dtype: object"
      ]
     },
     "execution_count": 20,
     "metadata": {},
     "output_type": "execute_result"
    }
   ],
   "source": [
    "dframe['Date']=dframe['Date'].apply(str)\n",
    "month_lst = []\n",
    "for row in dframe['Date']:\n",
    "    month_row = ''.join(re.findall('\\-[A-Za-z]{3}\\-',row)).lower()\n",
    "    month_row = re.sub('\\-','',month_row)\n",
    "               \n",
    "    if month_row == '':\n",
    "        month_row = np.nan\n",
    "\n",
    "    month_lst.append(month_row)\n",
    "\n",
    "dframe['month'] = month_lst\n",
    "\n",
    "dframe.Date.head()\n",
    "\n",
    "\n",
    "\n"
   ]
  },
  {
   "cell_type": "markdown",
   "metadata": {},
   "source": [
    "COLUMNA CLEAN HOURS"
   ]
  },
  {
   "cell_type": "code",
   "execution_count": 21,
   "metadata": {},
   "outputs": [
    {
     "data": {
      "text/plain": [
       "11.0    259\n",
       "16.0    240\n",
       "15.0    238\n",
       "14.0    237\n",
       "12.0    204\n",
       "13.0    200\n",
       "17.0    199\n",
       "10.0    181\n",
       "18.0    131\n",
       "9.0     124\n",
       "8.0      93\n",
       "7.0      83\n",
       "19.0     53\n",
       "6.0      39\n",
       "20.0     30\n",
       "5.0      11\n",
       "3.0      10\n",
       "2.0       9\n",
       "23.0      8\n",
       "1.0       6\n",
       "4.0       6\n",
       "22.0      5\n",
       "21.0      5\n",
       "0.0       1\n",
       "Name: Clean_Hours, dtype: int64"
      ]
     },
     "execution_count": 21,
     "metadata": {},
     "output_type": "execute_result"
    }
   ],
   "source": [
    "dframe.drop(dframe[dframe['Time'] == 'NaN'].index, inplace = True)\n",
    "dframe.Time.value_counts()\n",
    "dframe['Clean_Hours'] = dframe['Time'].str.extract(\"([0-9]+)\", expand=False).dropna().astype(int)\n",
    "dframe['Clean_Hours']= dframe[dframe['Clean_Hours']<25]['Clean_Hours']\n",
    "dframe.drop(dframe[dframe['Clean_Hours'] == 'NaN'].index, inplace = True)\n",
    "dframe['Clean_Hours'].value_counts(dropna=True)"
   ]
  },
  {
   "cell_type": "code",
   "execution_count": 22,
   "metadata": {},
   "outputs": [],
   "source": [
    "import warnings # Importamos esta libraria para evitar el warning\n",
    "warnings.simplefilter('ignore')"
   ]
  },
  {
   "cell_type": "code",
   "execution_count": 23,
   "metadata": {},
   "outputs": [],
   "source": [
    "\n",
    "dframe['Injury'] = dframe['Injury'].fillna('Unknown')\n",
    "\n",
    "dframe.Injury[dframe.Injury.str.contains('fatal')]='FATAL'\n",
    "dframe.Injury[dframe.Injury.str.contains('FATAL')]='FATAL'\n",
    "dframe.Injury[dframe.Injury.str.contains('fa')]='FATAL'\n",
    "dframe.Injury[dframe.Injury.str.contains('Fa')]='FATAL'\n",
    "dframe.Injury[dframe.Injury.str.contains('hark')]='FATAL'\n",
    "dframe.Injury[dframe.Injury.str.contains('ultiples')]='FATAL'\n",
    "dframe.Injury[dframe.Injury.str.contains('ajor')]='FATAL'\n",
    "dframe.Injury[dframe.Injury.str.contains('Sur')]='Survived'\n",
    "dframe.Injury[dframe.Injury.str.contains('vived')]='Survived'\n",
    "dframe.Injury[dframe.Injury.str.contains('Survived')]='Survived'\n",
    "dframe.Injury[dframe.Injury.str.contains('survived')]='Survived'\n",
    "dframe.Injury[dframe.Injury.str.contains('Foot')]='Foot bitten'\n",
    "dframe.Injury[dframe.Injury.str.contains('itten')]='Foot bitten'\n",
    "dframe.Injury[dframe.Injury.str.contains('oot')]='Foot bitten'\n",
    "dframe.Injury[dframe.Injury.str.contains('eg')]='Foot bitten'\n",
    "dframe.Injury[dframe.Injury.str.contains('ot')]='Foot bitten'\n",
    "dframe.Injury[dframe.Injury.str.contains('nee')]='Foot bitten'\n",
    "dframe.Injury[dframe.Injury.str.contains('3')]='Foot bitten'\n",
    "dframe.Injury[dframe.Injury.str.contains('eet')]='Foot bitten'\n",
    "dframe.Injury[dframe.Injury.str.contains('NO')]='No injury'\n",
    "dframe.Injury[dframe.Injury.str.contains('no jury')]='No injury'\n",
    "dframe.Injury[dframe.Injury.str.contains('no In')]='No injury'\n",
    "dframe.Injury[dframe.Injury.str.contains('no jury')]='No injury'\n",
    "dframe.Injury[dframe.Injury.str.contains('no Injury')]='No injury'\n",
    "dframe.Injury[dframe.Injury.str.contains('no jury')]='No injury'\n",
    "dframe.Injury[dframe.Injury.str.contains('No injury ')]='No injury'\n",
    "dframe.Injury[dframe.Injury.str.contains('No Injury ')]='No injury'\n",
    "dframe.Injury[dframe.Injury.str.contains('\"')]='No injury'\n",
    "dframe.Injury[dframe.Injury.str.contains(',')]='No injury'\n",
    "dframe.Injury[dframe.Injury.str.contains('aceration')]='Laceration'\n",
    "dframe.Injury[dframe.Injury.str.contains('rated')]='Laceration'\n",
    "dframe.Injury[dframe.Injury.str.contains('arm')]='Laceration'\n",
    "dframe.Injury[dframe.Injury.str.contains('humb')]='Laceration'\n",
    "dframe.Injury[dframe.Injury.str.contains('Left')]='Arm bitten'\n",
    "dframe.Injury[dframe.Injury.str.contains('rated')]='Arm bitten'\n",
    "dframe.Injury[dframe.Injury.str.contains('arm')]='Arm bitten'\n",
    "dframe.Injury[dframe.Injury.str.contains('humb')]='Arm bitten'\n",
    "dframe.Injury[dframe.Injury.str.contains('arm')]='Arm bitten'\n",
    "dframe.Injury[dframe.Injury.str.contains('humb')]='Arm bitten'\n",
    "dframe.Injury[dframe.Injury.str.contains('Hand')]='Arm bitten'\n",
    "dframe.Injury[dframe.Injury.str.contains('hand')]='Arm bitten'\n",
    "dframe.Injury[dframe.Injury.str.contains('2')]='Abrasion'\n",
    "dframe.Injury[dframe.Injury.str.contains('3')]='Abrasion'\n",
    "dframe.Injury[dframe.Injury.str.contains('Ab')]='Abrasion'\n",
    "dframe.Injury[dframe.Injury.str.contains('AB')]='Abrasion'\n",
    "dframe.Injury[dframe.Injury.str.contains('abrasion')]='Abrasion'\n",
    "dframe.Injury[dframe.Injury.str.contains('sion')]='Abrasion'\n"
   ]
  },
  {
   "cell_type": "code",
   "execution_count": 24,
   "metadata": {},
   "outputs": [],
   "source": [
    "dframe.to_csv('/Users/usuario/Desktop/Ironhack/Semana2/Proyecto_TL/attack_clean.csv', index=False)"
   ]
  },
  {
   "cell_type": "code",
   "execution_count": 25,
   "metadata": {},
   "outputs": [],
   "source": [
    "ignore_encoding = lambda s: s.decode('utf8', 'ignore')"
   ]
  }
 ],
 "metadata": {
  "kernelspec": {
   "display_name": "Python 3",
   "language": "python",
   "name": "python3"
  },
  "language_info": {
   "codemirror_mode": {
    "name": "ipython",
    "version": 3
   },
   "file_extension": ".py",
   "mimetype": "text/x-python",
   "name": "python",
   "nbconvert_exporter": "python",
   "pygments_lexer": "ipython3",
   "version": "3.8.5"
  }
 },
 "nbformat": 4,
 "nbformat_minor": 4
}
